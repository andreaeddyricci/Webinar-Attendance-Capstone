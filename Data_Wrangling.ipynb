{
  "cells": [
    {
      "cell_type": "markdown",
      "metadata": {
        "id": "view-in-github",
        "colab_type": "text"
      },
      "source": [
        "<a href=\"https://colab.research.google.com/github/andreaeddyricci/Webinar-Attendance-Capstone/blob/main/Data_Wrangling.ipynb\" target=\"_parent\"><img src=\"https://colab.research.google.com/assets/colab-badge.svg\" alt=\"Open In Colab\"/></a>"
      ]
    },
    {
      "cell_type": "markdown",
      "source": [
        "#Imports"
      ],
      "metadata": {
        "id": "t6tB2xyyyVyU"
      }
    },
    {
      "cell_type": "code",
      "execution_count": null,
      "metadata": {
        "id": "pjto5iRGE-JV"
      },
      "outputs": [],
      "source": [
        "from google.colab import drive"
      ]
    },
    {
      "cell_type": "code",
      "execution_count": null,
      "metadata": {
        "id": "AoTfoW8nCVbj"
      },
      "outputs": [],
      "source": [
        "import pandas as pd\n",
        "import string\n",
        "import numpy as np\n",
        "import os\n",
        "import matplotlib.pyplot as plt"
      ]
    },
    {
      "cell_type": "code",
      "source": [
        "!pip install fuzzywuzzy"
      ],
      "metadata": {
        "colab": {
          "base_uri": "https://localhost:8080/"
        },
        "id": "-Q67SfdIzBt2",
        "outputId": "4f5aae8d-dc68-4bff-ba07-485f96b00bc8"
      },
      "execution_count": null,
      "outputs": [
        {
          "output_type": "stream",
          "name": "stdout",
          "text": [
            "Looking in indexes: https://pypi.org/simple, https://us-python.pkg.dev/colab-wheels/public/simple/\n",
            "Collecting fuzzywuzzy\n",
            "  Downloading fuzzywuzzy-0.18.0-py2.py3-none-any.whl (18 kB)\n",
            "Installing collected packages: fuzzywuzzy\n",
            "Successfully installed fuzzywuzzy-0.18.0\n"
          ]
        }
      ]
    },
    {
      "cell_type": "code",
      "source": [
        "from fuzzywuzzy import process, fuzz"
      ],
      "metadata": {
        "id": "yZe0qIRXzC4n",
        "colab": {
          "base_uri": "https://localhost:8080/"
        },
        "outputId": "333f3fdf-91aa-4a84-8a56-50db5e5ab67d"
      },
      "execution_count": null,
      "outputs": [
        {
          "output_type": "stream",
          "name": "stderr",
          "text": [
            "/usr/local/lib/python3.9/dist-packages/fuzzywuzzy/fuzz.py:11: UserWarning: Using slow pure-python SequenceMatcher. Install python-Levenshtein to remove this warning\n",
            "  warnings.warn('Using slow pure-python SequenceMatcher. Install python-Levenshtein to remove this warning')\n"
          ]
        }
      ]
    },
    {
      "cell_type": "markdown",
      "source": [
        "#Loading and Combining the Data"
      ],
      "metadata": {
        "id": "i7CK5WL8XCKt"
      }
    },
    {
      "cell_type": "code",
      "execution_count": null,
      "metadata": {
        "colab": {
          "base_uri": "https://localhost:8080/"
        },
        "id": "ChLSPzmGFC2V",
        "outputId": "99bb165e-1fbc-4486-e403-5fa67262e2c4"
      },
      "outputs": [
        {
          "output_type": "stream",
          "name": "stdout",
          "text": [
            "Mounted at /content/gdrive\n"
          ]
        }
      ],
      "source": [
        "drive.mount('/content/gdrive')"
      ]
    },
    {
      "cell_type": "code",
      "execution_count": null,
      "metadata": {
        "colab": {
          "base_uri": "https://localhost:8080/"
        },
        "id": "2dbch2cFL6VD",
        "outputId": "2a151ace-b243-4525-eea9-004e46c4c82f"
      },
      "outputs": [
        {
          "output_type": "stream",
          "name": "stdout",
          "text": [
            "<class 'pandas.core.frame.DataFrame'>\n",
            "RangeIndex: 254 entries, 0 to 253\n",
            "Data columns (total 24 columns):\n",
            " #   Column                                                                                                                                                 Non-Null Count  Dtype         \n",
            "---  ------                                                                                                                                                 --------------  -----         \n",
            " 0   Attended                                                                                                                                               254 non-null    object        \n",
            " 1   User Name (Original Name)                                                                                                                              253 non-null    object        \n",
            " 2   First Name                                                                                                                                             253 non-null    object        \n",
            " 3   Last Name                                                                                                                                              251 non-null    object        \n",
            " 4   Email                                                                                                                                                  253 non-null    object        \n",
            " 5   City                                                                                                                                                   220 non-null    object        \n",
            " 6   Country/Region                                                                                                                                         215 non-null    object        \n",
            " 7   Zip/Postal Code                                                                                                                                        153 non-null    object        \n",
            " 8   State/Province                                                                                                                                         215 non-null    object        \n",
            " 9   Industry                                                                                                                                               215 non-null    object        \n",
            " 10  Organization                                                                                                                                           213 non-null    object        \n",
            " 11  Job Title                                                                                                                                              124 non-null    object        \n",
            " 12  Questions & Comments                                                                                                                                   2 non-null      object        \n",
            " 13  Registration Time                                                                                                                                      215 non-null    datetime64[ns]\n",
            " 14  Approval Status                                                                                                                                        215 non-null    object        \n",
            " 15  Join Time                                                                                                                                              248 non-null    object        \n",
            " 16  Leave Time                                                                                                                                             248 non-null    object        \n",
            " 17  Time in Session (minutes)                                                                                                                              248 non-null    object        \n",
            " 18  Is Guest                                                                                                                                               248 non-null    object        \n",
            " 19  I agree that I may be video recorded and acknowledge that I am aware that the recording will be available to the public.                               215 non-null    object        \n",
            " 20  I agree that 3DHEALS can share my information with this event's sponsor and partners (who made this event Free to me.) I can unsubscribe at any time.  215 non-null    object        \n",
            " 21  Linkedin Link                                                                                                                                          34 non-null     object        \n",
            " 22  Country/Region Name                                                                                                                                    246 non-null    object        \n",
            " 23  Source Name                                                                                                                                            193 non-null    object        \n",
            "dtypes: datetime64[ns](1), object(23)\n",
            "memory usage: 47.8+ KB\n"
          ]
        }
      ],
      "source": [
        "path = '/content/gdrive/MyDrive/Springboard/3D_Heals_Project/Riipen_Springboard/Zoom_audience_report/2022_Season_3/Biomaterials/Biomaterials_ Attendee_Report.xlsx'\n",
        "df_biomaterials = pd.read_excel(path, skiprows=18) #doesn't need index_col=False because it is an excel file\n",
        "df_biomaterials.info()"
      ]
    },
    {
      "cell_type": "code",
      "execution_count": null,
      "metadata": {
        "id": "fCjI3UKoOpSc"
      },
      "outputs": [],
      "source": [
        "path2 = '/content/gdrive/MyDrive/Springboard/3D_Heals_Project/Riipen_Springboard/Zoom_audience_report/2022_Season_3/Indian_Ecosystem/83184516965_Attendee_Report.csv'\n",
        "df_indian_eco = pd.read_csv(path2, skiprows=19, index_col=False)"
      ]
    },
    {
      "cell_type": "code",
      "execution_count": null,
      "metadata": {
        "id": "shA1Gr8t10FL"
      },
      "outputs": [],
      "source": [
        "path3 = '/content/gdrive/MyDrive/Springboard/3D_Heals_Project/Riipen_Springboard/Zoom_audience_report/2022_Season_3/Metal_3D_Printing/Metal_3D_Printing/Metal3D_Attendee_Report.csv'\n",
        "df_metal = pd.read_csv(path3, skiprows=17, index_col=False)"
      ]
    },
    {
      "cell_type": "code",
      "execution_count": null,
      "metadata": {
        "id": "sG3vQfMxkC1E"
      },
      "outputs": [],
      "source": [
        "path4 = '/content/gdrive/MyDrive/Springboard/3D_Heals_Project/Riipen_Springboard/Zoom_audience_report/2022_Season_3/Post_Processing/89197257067 - Attendee Report.csv'\n",
        "df_preprocessing = pd.read_csv(path4, skiprows=15, index_col=False)\n"
      ]
    },
    {
      "cell_type": "code",
      "execution_count": null,
      "metadata": {
        "colab": {
          "base_uri": "https://localhost:8080/"
        },
        "id": "vWCVSMGeRsFh",
        "outputId": "44037b1c-b707-45bb-cacc-4e5c85459823"
      },
      "outputs": [
        {
          "output_type": "stream",
          "name": "stdout",
          "text": [
            "Biomaterials has 24 columns.\n",
            "Indian Eco has 23 columns.\n",
            "3D metals has 23 columns.\n",
            "Preprocessing has 25 columns.\n"
          ]
        }
      ],
      "source": [
        "print(\"Biomaterials has \" + str(len(df_biomaterials.columns)) + \" columns.\")\n",
        "print(\"Indian Eco has \" + str(len(df_indian_eco.columns)) + \" columns.\")\n",
        "print(\"3D metals has \" + str(len(df_metal.columns)) + \" columns.\")\n",
        "print(\"Preprocessing has \" + str(len(df_preprocessing.columns)) + \" columns.\")"
      ]
    },
    {
      "cell_type": "code",
      "execution_count": null,
      "metadata": {
        "colab": {
          "base_uri": "https://localhost:8080/"
        },
        "id": "ARgocVwnRseH",
        "outputId": "e8998ce9-d8d4-41d1-8831-b870a6e4beef"
      },
      "outputs": [
        {
          "output_type": "execute_result",
          "data": {
            "text/plain": [
              "{'Linkedin Link'}"
            ]
          },
          "metadata": {},
          "execution_count": 11
        }
      ],
      "source": [
        "set(df_biomaterials.columns) - set(df_indian_eco.columns)"
      ]
    },
    {
      "cell_type": "code",
      "execution_count": null,
      "metadata": {
        "colab": {
          "base_uri": "https://localhost:8080/"
        },
        "id": "uLubU5qCS6Cf",
        "outputId": "0a0c029b-d6f1-4366-f9bf-8a4c1f9fc693"
      },
      "outputs": [
        {
          "output_type": "execute_result",
          "data": {
            "text/plain": [
              "{'Address', 'Phone'}"
            ]
          },
          "metadata": {},
          "execution_count": 12
        }
      ],
      "source": [
        "set(df_preprocessing.columns) - set(df_indian_eco.columns)"
      ]
    },
    {
      "cell_type": "code",
      "execution_count": null,
      "metadata": {
        "id": "lFx6LMyQmwlh"
      },
      "outputs": [],
      "source": [
        "#remove columns that are not in common\n",
        "df_preprocessing.drop({'Address', 'Phone'}, axis=1, inplace=True)\n",
        "df_biomaterials.drop('Linkedin Link', axis=1, inplace=True)"
      ]
    },
    {
      "cell_type": "code",
      "execution_count": null,
      "metadata": {
        "colab": {
          "base_uri": "https://localhost:8080/"
        },
        "id": "znpEEu-gTU2Q",
        "outputId": "6b5d0157-dbcb-4d72-bac4-e23df5beb7f6"
      },
      "outputs": [
        {
          "output_type": "execute_result",
          "data": {
            "text/plain": [
              "array([ True,  True,  True,  True,  True,  True,  True,  True,  True,\n",
              "        True,  True,  True,  True,  True,  True,  True,  True,  True,\n",
              "        True,  True,  True,  True,  True])"
            ]
          },
          "metadata": {},
          "execution_count": 14
        }
      ],
      "source": [
        "#check all column names\n",
        "df_preprocessing.columns == df_indian_eco.columns"
      ]
    },
    {
      "cell_type": "code",
      "execution_count": null,
      "metadata": {
        "colab": {
          "base_uri": "https://localhost:8080/"
        },
        "id": "1mizSWVHRkhH",
        "outputId": "fa123b9a-9a0a-4147-e4b1-677ddda907f4"
      },
      "outputs": [
        {
          "output_type": "execute_result",
          "data": {
            "text/plain": [
              "array([ True,  True,  True,  True,  True,  True,  True,  True,  True,\n",
              "        True,  True,  True,  True,  True,  True,  True,  True,  True,\n",
              "        True,  True,  True,  True,  True])"
            ]
          },
          "metadata": {},
          "execution_count": 15
        }
      ],
      "source": [
        "df_indian_eco.columns == df_metal.columns"
      ]
    },
    {
      "cell_type": "code",
      "execution_count": null,
      "metadata": {
        "colab": {
          "base_uri": "https://localhost:8080/"
        },
        "id": "BuOjmKG1Tq1j",
        "outputId": "7002cfed-ab49-4276-f8a7-998a3e3adbeb"
      },
      "outputs": [
        {
          "output_type": "execute_result",
          "data": {
            "text/plain": [
              "array([ True,  True,  True,  True,  True,  True,  True,  True,  True,\n",
              "        True,  True,  True,  True,  True,  True,  True,  True,  True,\n",
              "        True,  True,  True,  True,  True])"
            ]
          },
          "metadata": {},
          "execution_count": 16
        }
      ],
      "source": [
        "df_biomaterials.columns == df_metal.columns"
      ]
    },
    {
      "cell_type": "code",
      "execution_count": null,
      "metadata": {
        "id": "nOSGzTFRsV-D"
      },
      "outputs": [],
      "source": [
        "#include title of each webinar\n",
        "df_biomaterials['webinar_name'] = 'Biomaterials'\n",
        "df_indian_eco['webinar_name'] = 'Indian Ecosystem'\n",
        "df_metal['webinar_name'] = '3D Metal'\n",
        "df_preprocessing['webinar_name'] = 'Preprocessing'"
      ]
    },
    {
      "cell_type": "code",
      "execution_count": null,
      "metadata": {
        "id": "Spn_WPGDl0TE"
      },
      "outputs": [],
      "source": [
        "all_dfs = (df_biomaterials, df_indian_eco, df_metal, df_preprocessing)"
      ]
    },
    {
      "cell_type": "markdown",
      "source": [
        "#Viewing the Data"
      ],
      "metadata": {
        "id": "rRuPwVFxXX_L"
      }
    },
    {
      "cell_type": "code",
      "execution_count": null,
      "metadata": {
        "colab": {
          "base_uri": "https://localhost:8080/"
        },
        "id": "DCG8mLnxl9zF",
        "outputId": "b7e420c7-2965-466c-8635-ea71c55d1db3"
      },
      "outputs": [
        {
          "output_type": "stream",
          "name": "stdout",
          "text": [
            "<class 'pandas.core.frame.DataFrame'>\n",
            "Int64Index: 845 entries, 0 to 175\n",
            "Data columns (total 24 columns):\n",
            " #   Column                                                                                                                                                 Non-Null Count  Dtype \n",
            "---  ------                                                                                                                                                 --------------  ----- \n",
            " 0   Attended                                                                                                                                               845 non-null    object\n",
            " 1   User Name (Original Name)                                                                                                                              841 non-null    object\n",
            " 2   First Name                                                                                                                                             841 non-null    object\n",
            " 3   Last Name                                                                                                                                              835 non-null    object\n",
            " 4   Email                                                                                                                                                  841 non-null    object\n",
            " 5   City                                                                                                                                                   698 non-null    object\n",
            " 6   Country/Region                                                                                                                                         689 non-null    object\n",
            " 7   Zip/Postal Code                                                                                                                                        522 non-null    object\n",
            " 8   State/Province                                                                                                                                         689 non-null    object\n",
            " 9   Industry                                                                                                                                               689 non-null    object\n",
            " 10  Organization                                                                                                                                           683 non-null    object\n",
            " 11  Job Title                                                                                                                                              465 non-null    object\n",
            " 12  Questions & Comments                                                                                                                                   15 non-null     object\n",
            " 13  Registration Time                                                                                                                                      689 non-null    object\n",
            " 14  Approval Status                                                                                                                                        689 non-null    object\n",
            " 15  Join Time                                                                                                                                              830 non-null    object\n",
            " 16  Leave Time                                                                                                                                             830 non-null    object\n",
            " 17  Time in Session (minutes)                                                                                                                              830 non-null    object\n",
            " 18  Is Guest                                                                                                                                               830 non-null    object\n",
            " 19  I agree that I may be video recorded and acknowledge that I am aware that the recording will be available to the public.                               689 non-null    object\n",
            " 20  I agree that 3DHEALS can share my information with this event's sponsor and partners (who made this event Free to me.) I can unsubscribe at any time.  689 non-null    object\n",
            " 21  Country/Region Name                                                                                                                                    827 non-null    object\n",
            " 22  Source Name                                                                                                                                            660 non-null    object\n",
            " 23  webinar_name                                                                                                                                           845 non-null    object\n",
            "dtypes: object(24)\n",
            "memory usage: 165.0+ KB\n"
          ]
        }
      ],
      "source": [
        "#put all the data together\n",
        "df = pd.concat(all_dfs)\n",
        "df.info()"
      ]
    },
    {
      "cell_type": "code",
      "execution_count": null,
      "metadata": {
        "colab": {
          "base_uri": "https://localhost:8080/"
        },
        "id": "0atXHk-JuRdj",
        "outputId": "9c36a4a6-c46e-4d99-b287-69743eefe4db"
      },
      "outputs": [
        {
          "output_type": "execute_result",
          "data": {
            "text/plain": [
              "Attended                                                                                                                                                   0\n",
              "User Name (Original Name)                                                                                                                                  4\n",
              "First Name                                                                                                                                                 4\n",
              "Last Name                                                                                                                                                 10\n",
              "Email                                                                                                                                                      4\n",
              "City                                                                                                                                                     147\n",
              "Country/Region                                                                                                                                           156\n",
              "Zip/Postal Code                                                                                                                                          323\n",
              "State/Province                                                                                                                                           156\n",
              "Industry                                                                                                                                                 156\n",
              "Organization                                                                                                                                             162\n",
              "Job Title                                                                                                                                                380\n",
              "Questions & Comments                                                                                                                                     830\n",
              "Registration Time                                                                                                                                        156\n",
              "Approval Status                                                                                                                                          156\n",
              "Join Time                                                                                                                                                 15\n",
              "Leave Time                                                                                                                                                15\n",
              "Time in Session (minutes)                                                                                                                                 15\n",
              "Is Guest                                                                                                                                                  15\n",
              "I agree that I may be video recorded and acknowledge that I am aware that the recording will be available to the public.                                 156\n",
              "I agree that 3DHEALS can share my information with this event's sponsor and partners (who made this event Free to me.) I can unsubscribe at any time.    156\n",
              "Country/Region Name                                                                                                                                       18\n",
              "Source Name                                                                                                                                              185\n",
              "webinar_name                                                                                                                                               0\n",
              "dtype: int64"
            ]
          },
          "metadata": {},
          "execution_count": 20
        }
      ],
      "source": [
        "#check out how many missing values we have\n",
        "df.isna().sum()"
      ]
    },
    {
      "cell_type": "code",
      "execution_count": null,
      "metadata": {
        "colab": {
          "base_uri": "https://localhost:8080/"
        },
        "id": "AcIODe45yB14",
        "outputId": "2dccf852-7e44-4a08-d289-8f2a02942367"
      },
      "outputs": [
        {
          "output_type": "execute_result",
          "data": {
            "text/plain": [
              "Index(['Attended', 'User Name (Original Name)', 'First Name', 'Last Name',\n",
              "       'Email', 'City', 'Country/Region', 'Zip/Postal Code', 'State/Province',\n",
              "       'Industry', 'Organization', 'Job Title', 'Questions & Comments',\n",
              "       'Registration Time', 'Approval Status', 'Join Time', 'Leave Time',\n",
              "       'Time in Session (minutes)', 'Is Guest',\n",
              "       'I agree that I may be video recorded and acknowledge that I am aware that the recording will be available to the public.',\n",
              "       'I agree that 3DHEALS can share my information with this event's sponsor and partners (who made this event Free to me.) I can unsubscribe at any time.',\n",
              "       'Country/Region Name', 'Source Name', 'webinar_name'],\n",
              "      dtype='object')"
            ]
          },
          "metadata": {},
          "execution_count": 21
        }
      ],
      "source": [
        "df.columns"
      ]
    },
    {
      "cell_type": "code",
      "execution_count": null,
      "metadata": {
        "id": "-5_YkT5TuXkz"
      },
      "outputs": [],
      "source": [
        "#dropping columns we don't need\n",
        "df.drop(labels=['First Name','Last Name', 'User Name (Original Name)','Zip/Postal Code','Is Guest','Approval Status', \n",
        "                'I agree that I may be video recorded and acknowledge that I am aware that the recording will be available to the public.', \n",
        "                \"I agree that 3DHEALS can share my information with this event's sponsor and partners (who made this event Free to me.) I can unsubscribe at any time.\"\n",
        "                ],axis=1, inplace=True)"
      ]
    },
    {
      "cell_type": "code",
      "execution_count": null,
      "metadata": {
        "colab": {
          "base_uri": "https://localhost:8080/",
          "height": 461
        },
        "id": "vtVgefLAwEMI",
        "outputId": "2d4c1662-a4b4-4812-e427-596b1353f14f"
      },
      "outputs": [
        {
          "output_type": "execute_result",
          "data": {
            "text/plain": [
              "  Attended       City Country/Region State/Province  \\\n",
              "0       No     Ankara             TR          Other   \n",
              "1      Yes  Abu Dhabi             AE          Other   \n",
              "2      Yes        NaN            NaN            NaN   \n",
              "3      Yes        NaN            NaN            NaN   \n",
              "4      Yes        NaN            NaN            NaN   \n",
              "\n",
              "                            Industry Organization Job Title  \\\n",
              "0                      Manufacturing         none       NaN   \n",
              "1  Hospital,  Clinic,  Doctor Office         Self       NaN   \n",
              "2                                NaN          NaN       NaN   \n",
              "3                                NaN          NaN       NaN   \n",
              "4                                NaN          NaN       NaN   \n",
              "\n",
              "  Questions & Comments    Registration Time            Join Time  \\\n",
              "0                  NaN  2022-09-01 09:31:37                   --   \n",
              "1                  NaN  2022-09-01 10:07:48  2022-09-15 08:03:24   \n",
              "2                  NaN                  NaT  2022-09-15 08:24:20   \n",
              "3                  NaN                  NaT  2022-09-15 09:33:47   \n",
              "4                  NaN                  NaT  2022-09-15 09:36:10   \n",
              "\n",
              "            Leave Time Time in Session (minutes)   Country/Region Name  \\\n",
              "0                   --                        --                Turkey   \n",
              "1  2022-09-15 08:23:06                        20  United Arab Emirates   \n",
              "2  2022-09-15 09:31:11                        67        United Kingdom   \n",
              "3  2022-09-15 09:35:53                         3        United Kingdom   \n",
              "4  2022-09-15 09:41:31                         6        United Kingdom   \n",
              "\n",
              "  Source Name  webinar_name  \n",
              "0     website  Biomaterials  \n",
              "1   mailchimp  Biomaterials  \n",
              "2         NaN  Biomaterials  \n",
              "3         NaN  Biomaterials  \n",
              "4         NaN  Biomaterials  "
            ],
            "text/html": [
              "\n",
              "  <div id=\"df-aed9cbd9-0b40-4840-a0a6-56187eba6d6c\">\n",
              "    <div class=\"colab-df-container\">\n",
              "      <div>\n",
              "<style scoped>\n",
              "    .dataframe tbody tr th:only-of-type {\n",
              "        vertical-align: middle;\n",
              "    }\n",
              "\n",
              "    .dataframe tbody tr th {\n",
              "        vertical-align: top;\n",
              "    }\n",
              "\n",
              "    .dataframe thead th {\n",
              "        text-align: right;\n",
              "    }\n",
              "</style>\n",
              "<table border=\"1\" class=\"dataframe\">\n",
              "  <thead>\n",
              "    <tr style=\"text-align: right;\">\n",
              "      <th></th>\n",
              "      <th>Attended</th>\n",
              "      <th>City</th>\n",
              "      <th>Country/Region</th>\n",
              "      <th>State/Province</th>\n",
              "      <th>Industry</th>\n",
              "      <th>Organization</th>\n",
              "      <th>Job Title</th>\n",
              "      <th>Questions &amp; Comments</th>\n",
              "      <th>Registration Time</th>\n",
              "      <th>Join Time</th>\n",
              "      <th>Leave Time</th>\n",
              "      <th>Time in Session (minutes)</th>\n",
              "      <th>Country/Region Name</th>\n",
              "      <th>Source Name</th>\n",
              "      <th>webinar_name</th>\n",
              "    </tr>\n",
              "  </thead>\n",
              "  <tbody>\n",
              "    <tr>\n",
              "      <th>0</th>\n",
              "      <td>No</td>\n",
              "      <td>Ankara</td>\n",
              "      <td>TR</td>\n",
              "      <td>Other</td>\n",
              "      <td>Manufacturing</td>\n",
              "      <td>none</td>\n",
              "      <td>NaN</td>\n",
              "      <td>NaN</td>\n",
              "      <td>2022-09-01 09:31:37</td>\n",
              "      <td>--</td>\n",
              "      <td>--</td>\n",
              "      <td>--</td>\n",
              "      <td>Turkey</td>\n",
              "      <td>website</td>\n",
              "      <td>Biomaterials</td>\n",
              "    </tr>\n",
              "    <tr>\n",
              "      <th>1</th>\n",
              "      <td>Yes</td>\n",
              "      <td>Abu Dhabi</td>\n",
              "      <td>AE</td>\n",
              "      <td>Other</td>\n",
              "      <td>Hospital,  Clinic,  Doctor Office</td>\n",
              "      <td>Self</td>\n",
              "      <td>NaN</td>\n",
              "      <td>NaN</td>\n",
              "      <td>2022-09-01 10:07:48</td>\n",
              "      <td>2022-09-15 08:03:24</td>\n",
              "      <td>2022-09-15 08:23:06</td>\n",
              "      <td>20</td>\n",
              "      <td>United Arab Emirates</td>\n",
              "      <td>mailchimp</td>\n",
              "      <td>Biomaterials</td>\n",
              "    </tr>\n",
              "    <tr>\n",
              "      <th>2</th>\n",
              "      <td>Yes</td>\n",
              "      <td>NaN</td>\n",
              "      <td>NaN</td>\n",
              "      <td>NaN</td>\n",
              "      <td>NaN</td>\n",
              "      <td>NaN</td>\n",
              "      <td>NaN</td>\n",
              "      <td>NaN</td>\n",
              "      <td>NaT</td>\n",
              "      <td>2022-09-15 08:24:20</td>\n",
              "      <td>2022-09-15 09:31:11</td>\n",
              "      <td>67</td>\n",
              "      <td>United Kingdom</td>\n",
              "      <td>NaN</td>\n",
              "      <td>Biomaterials</td>\n",
              "    </tr>\n",
              "    <tr>\n",
              "      <th>3</th>\n",
              "      <td>Yes</td>\n",
              "      <td>NaN</td>\n",
              "      <td>NaN</td>\n",
              "      <td>NaN</td>\n",
              "      <td>NaN</td>\n",
              "      <td>NaN</td>\n",
              "      <td>NaN</td>\n",
              "      <td>NaN</td>\n",
              "      <td>NaT</td>\n",
              "      <td>2022-09-15 09:33:47</td>\n",
              "      <td>2022-09-15 09:35:53</td>\n",
              "      <td>3</td>\n",
              "      <td>United Kingdom</td>\n",
              "      <td>NaN</td>\n",
              "      <td>Biomaterials</td>\n",
              "    </tr>\n",
              "    <tr>\n",
              "      <th>4</th>\n",
              "      <td>Yes</td>\n",
              "      <td>NaN</td>\n",
              "      <td>NaN</td>\n",
              "      <td>NaN</td>\n",
              "      <td>NaN</td>\n",
              "      <td>NaN</td>\n",
              "      <td>NaN</td>\n",
              "      <td>NaN</td>\n",
              "      <td>NaT</td>\n",
              "      <td>2022-09-15 09:36:10</td>\n",
              "      <td>2022-09-15 09:41:31</td>\n",
              "      <td>6</td>\n",
              "      <td>United Kingdom</td>\n",
              "      <td>NaN</td>\n",
              "      <td>Biomaterials</td>\n",
              "    </tr>\n",
              "  </tbody>\n",
              "</table>\n",
              "</div>\n",
              "      <button class=\"colab-df-convert\" onclick=\"convertToInteractive('df-aed9cbd9-0b40-4840-a0a6-56187eba6d6c')\"\n",
              "              title=\"Convert this dataframe to an interactive table.\"\n",
              "              style=\"display:none;\">\n",
              "        \n",
              "  <svg xmlns=\"http://www.w3.org/2000/svg\" height=\"24px\"viewBox=\"0 0 24 24\"\n",
              "       width=\"24px\">\n",
              "    <path d=\"M0 0h24v24H0V0z\" fill=\"none\"/>\n",
              "    <path d=\"M18.56 5.44l.94 2.06.94-2.06 2.06-.94-2.06-.94-.94-2.06-.94 2.06-2.06.94zm-11 1L8.5 8.5l.94-2.06 2.06-.94-2.06-.94L8.5 2.5l-.94 2.06-2.06.94zm10 10l.94 2.06.94-2.06 2.06-.94-2.06-.94-.94-2.06-.94 2.06-2.06.94z\"/><path d=\"M17.41 7.96l-1.37-1.37c-.4-.4-.92-.59-1.43-.59-.52 0-1.04.2-1.43.59L10.3 9.45l-7.72 7.72c-.78.78-.78 2.05 0 2.83L4 21.41c.39.39.9.59 1.41.59.51 0 1.02-.2 1.41-.59l7.78-7.78 2.81-2.81c.8-.78.8-2.07 0-2.86zM5.41 20L4 18.59l7.72-7.72 1.47 1.35L5.41 20z\"/>\n",
              "  </svg>\n",
              "      </button>\n",
              "      \n",
              "  <style>\n",
              "    .colab-df-container {\n",
              "      display:flex;\n",
              "      flex-wrap:wrap;\n",
              "      gap: 12px;\n",
              "    }\n",
              "\n",
              "    .colab-df-convert {\n",
              "      background-color: #E8F0FE;\n",
              "      border: none;\n",
              "      border-radius: 50%;\n",
              "      cursor: pointer;\n",
              "      display: none;\n",
              "      fill: #1967D2;\n",
              "      height: 32px;\n",
              "      padding: 0 0 0 0;\n",
              "      width: 32px;\n",
              "    }\n",
              "\n",
              "    .colab-df-convert:hover {\n",
              "      background-color: #E2EBFA;\n",
              "      box-shadow: 0px 1px 2px rgba(60, 64, 67, 0.3), 0px 1px 3px 1px rgba(60, 64, 67, 0.15);\n",
              "      fill: #174EA6;\n",
              "    }\n",
              "\n",
              "    [theme=dark] .colab-df-convert {\n",
              "      background-color: #3B4455;\n",
              "      fill: #D2E3FC;\n",
              "    }\n",
              "\n",
              "    [theme=dark] .colab-df-convert:hover {\n",
              "      background-color: #434B5C;\n",
              "      box-shadow: 0px 1px 3px 1px rgba(0, 0, 0, 0.15);\n",
              "      filter: drop-shadow(0px 1px 2px rgba(0, 0, 0, 0.3));\n",
              "      fill: #FFFFFF;\n",
              "    }\n",
              "  </style>\n",
              "\n",
              "      <script>\n",
              "        const buttonEl =\n",
              "          document.querySelector('#df-aed9cbd9-0b40-4840-a0a6-56187eba6d6c button.colab-df-convert');\n",
              "        buttonEl.style.display =\n",
              "          google.colab.kernel.accessAllowed ? 'block' : 'none';\n",
              "\n",
              "        async function convertToInteractive(key) {\n",
              "          const element = document.querySelector('#df-aed9cbd9-0b40-4840-a0a6-56187eba6d6c');\n",
              "          const dataTable =\n",
              "            await google.colab.kernel.invokeFunction('convertToInteractive',\n",
              "                                                     [key], {});\n",
              "          if (!dataTable) return;\n",
              "\n",
              "          const docLinkHtml = 'Like what you see? Visit the ' +\n",
              "            '<a target=\"_blank\" href=https://colab.research.google.com/notebooks/data_table.ipynb>data table notebook</a>'\n",
              "            + ' to learn more about interactive tables.';\n",
              "          element.innerHTML = '';\n",
              "          dataTable['output_type'] = 'display_data';\n",
              "          await google.colab.output.renderOutput(dataTable, element);\n",
              "          const docLink = document.createElement('div');\n",
              "          docLink.innerHTML = docLinkHtml;\n",
              "          element.appendChild(docLink);\n",
              "        }\n",
              "      </script>\n",
              "    </div>\n",
              "  </div>\n",
              "  "
            ]
          },
          "metadata": {},
          "execution_count": 23
        }
      ],
      "source": [
        "#not sharing email for privacy\n",
        "df.drop(labels='Email', axis=1).head()"
      ]
    },
    {
      "cell_type": "code",
      "execution_count": null,
      "metadata": {
        "colab": {
          "base_uri": "https://localhost:8080/"
        },
        "id": "FHoDDl3zl9-p",
        "outputId": "5ce9a238-fa17-4409-ab4f-575fda87c35f"
      },
      "outputs": [
        {
          "output_type": "execute_result",
          "data": {
            "text/plain": [
              "webinar_name\n",
              "Indian Ecosystem    166\n",
              "Preprocessing       175\n",
              "3D Metal            247\n",
              "Biomaterials        253\n",
              "Name: Email, dtype: int64"
            ]
          },
          "metadata": {},
          "execution_count": 24
        }
      ],
      "source": [
        "df.groupby('webinar_name')['Email'].count().sort_values()"
      ]
    },
    {
      "cell_type": "code",
      "execution_count": null,
      "metadata": {
        "colab": {
          "base_uri": "https://localhost:8080/"
        },
        "id": "ZRzLs1Q9NcZY",
        "outputId": "2947f641-5575-42ea-999a-fbc6376ca5fb"
      },
      "outputs": [
        {
          "output_type": "stream",
          "name": "stdout",
          "text": [
            "<class 'pandas.core.frame.DataFrame'>\n",
            "Int64Index: 845 entries, 0 to 175\n",
            "Data columns (total 16 columns):\n",
            " #   Column                     Non-Null Count  Dtype \n",
            "---  ------                     --------------  ----- \n",
            " 0   Attended                   845 non-null    object\n",
            " 1   Email                      841 non-null    object\n",
            " 2   City                       698 non-null    object\n",
            " 3   Country/Region             689 non-null    object\n",
            " 4   State/Province             689 non-null    object\n",
            " 5   Industry                   689 non-null    object\n",
            " 6   Organization               683 non-null    object\n",
            " 7   Job Title                  465 non-null    object\n",
            " 8   Questions & Comments       15 non-null     object\n",
            " 9   Registration Time          689 non-null    object\n",
            " 10  Join Time                  830 non-null    object\n",
            " 11  Leave Time                 830 non-null    object\n",
            " 12  Time in Session (minutes)  830 non-null    object\n",
            " 13  Country/Region Name        827 non-null    object\n",
            " 14  Source Name                660 non-null    object\n",
            " 15  webinar_name               845 non-null    object\n",
            "dtypes: object(16)\n",
            "memory usage: 112.2+ KB\n"
          ]
        }
      ],
      "source": [
        "df.info()"
      ]
    },
    {
      "cell_type": "code",
      "execution_count": null,
      "metadata": {
        "id": "eyNKu-2GOI65"
      },
      "outputs": [],
      "source": [
        "#making time the correct type\n",
        "df['Join Time'] = pd.to_datetime(df['Join Time'], errors='coerce') \n",
        "df['Leave Time'] = pd.to_datetime(df['Leave Time'], errors='coerce')\n",
        "df['Registration Time'] = pd.to_datetime(df['Registration Time'], errors='coerce')"
      ]
    },
    {
      "cell_type": "code",
      "execution_count": null,
      "metadata": {
        "colab": {
          "base_uri": "https://localhost:8080/",
          "height": 731
        },
        "id": "SY5r_VJzypVh",
        "outputId": "1530d155-d2ab-4b5a-8680-83aa1138582c"
      },
      "outputs": [
        {
          "output_type": "execute_result",
          "data": {
            "text/plain": [
              "           Attended                 City Country/Region State/Province  \\\n",
              "0                No               Ankara             TR          Other   \n",
              "5                No               Agadir             MA          Other   \n",
              "6                No           Gothenburg             SE          Other   \n",
              "7                No            Amsterdam             NL          Other   \n",
              "8                No             Melville             US             NY   \n",
              "..              ...                  ...            ...            ...   \n",
              "159              No             Montmelo             ES          Other   \n",
              "171              No  São Julião do Tojal             PT          Outra   \n",
              "173  Other Attended                  NaN            NaN            NaN   \n",
              "174       User Name                  NaN            NaN            NaN   \n",
              "175     15184664566                  NaN            NaN            NaN   \n",
              "\n",
              "                       Industry                   Organization  \\\n",
              "0                 Manufacturing                           none   \n",
              "5    Medical,  Pharma,  Biotech                            Uhp   \n",
              "6    Medical,  Pharma,  Biotech                        Cellink   \n",
              "7                 Manufacturing            Photosynthetic B.V.   \n",
              "8                         Legal  Carter,  DeLuca & Farrell LLP   \n",
              "..                          ...                            ...   \n",
              "159               Manufacturing                       Lubrizol   \n",
              "171                       Other                     bioceramed   \n",
              "173                         NaN                            NaN   \n",
              "174                         NaN                            NaN   \n",
              "175                         NaN                            NaN   \n",
              "\n",
              "                      Job Title Questions & Comments   Registration Time  \\\n",
              "0                           NaN                  NaN 2022-09-01 09:31:37   \n",
              "5                           Phd                  NaN 2022-09-02 05:24:55   \n",
              "6        Global Product Manager                  NaN 2022-09-06 04:31:38   \n",
              "7                           NaN                  NaN 2022-09-06 04:31:43   \n",
              "8                       Partner                  NaN 2022-09-06 04:32:12   \n",
              "..                          ...                  ...                 ...   \n",
              "159  Global 3DP Commercial Lead                  NaN 2022-10-06 08:01:59   \n",
              "171                  RA Manager                  NaN 2022-10-06 08:43:30   \n",
              "173                         NaN                  NaN                 NaT   \n",
              "174                         NaN                  NaN                 NaT   \n",
              "175                         NaN                  NaN                 NaT   \n",
              "\n",
              "    Join Time Leave Time Time in Session (minutes) Country/Region Name  \\\n",
              "0         NaT        NaT                        --              Turkey   \n",
              "5         NaT        NaT                        --             Morocco   \n",
              "6         NaT        NaT                        --              Sweden   \n",
              "7         NaT        NaT                        --         Netherlands   \n",
              "8         NaT        NaT                        --       United States   \n",
              "..        ...        ...                       ...                 ...   \n",
              "159       NaT        NaT                        --               Spain   \n",
              "171       NaT        NaT                        --            Portugal   \n",
              "173       NaT        NaT                       NaN                 NaN   \n",
              "174       NaT        NaT                       NaN                 NaN   \n",
              "175       NaT        NaT                       NaN                 NaN   \n",
              "\n",
              "    Source Name   webinar_name  \n",
              "0       website   Biomaterials  \n",
              "5     mailchimp   Biomaterials  \n",
              "6     mailchimp   Biomaterials  \n",
              "7     mailchimp   Biomaterials  \n",
              "8     mailchimp   Biomaterials  \n",
              "..          ...            ...  \n",
              "159    LinkedIn  Preprocessing  \n",
              "171    LinkedIn  Preprocessing  \n",
              "173         NaN  Preprocessing  \n",
              "174         NaN  Preprocessing  \n",
              "175         NaN  Preprocessing  \n",
              "\n",
              "[395 rows x 15 columns]"
            ],
            "text/html": [
              "\n",
              "  <div id=\"df-32e43a2c-b605-4503-8182-846876dacc9a\">\n",
              "    <div class=\"colab-df-container\">\n",
              "      <div>\n",
              "<style scoped>\n",
              "    .dataframe tbody tr th:only-of-type {\n",
              "        vertical-align: middle;\n",
              "    }\n",
              "\n",
              "    .dataframe tbody tr th {\n",
              "        vertical-align: top;\n",
              "    }\n",
              "\n",
              "    .dataframe thead th {\n",
              "        text-align: right;\n",
              "    }\n",
              "</style>\n",
              "<table border=\"1\" class=\"dataframe\">\n",
              "  <thead>\n",
              "    <tr style=\"text-align: right;\">\n",
              "      <th></th>\n",
              "      <th>Attended</th>\n",
              "      <th>City</th>\n",
              "      <th>Country/Region</th>\n",
              "      <th>State/Province</th>\n",
              "      <th>Industry</th>\n",
              "      <th>Organization</th>\n",
              "      <th>Job Title</th>\n",
              "      <th>Questions &amp; Comments</th>\n",
              "      <th>Registration Time</th>\n",
              "      <th>Join Time</th>\n",
              "      <th>Leave Time</th>\n",
              "      <th>Time in Session (minutes)</th>\n",
              "      <th>Country/Region Name</th>\n",
              "      <th>Source Name</th>\n",
              "      <th>webinar_name</th>\n",
              "    </tr>\n",
              "  </thead>\n",
              "  <tbody>\n",
              "    <tr>\n",
              "      <th>0</th>\n",
              "      <td>No</td>\n",
              "      <td>Ankara</td>\n",
              "      <td>TR</td>\n",
              "      <td>Other</td>\n",
              "      <td>Manufacturing</td>\n",
              "      <td>none</td>\n",
              "      <td>NaN</td>\n",
              "      <td>NaN</td>\n",
              "      <td>2022-09-01 09:31:37</td>\n",
              "      <td>NaT</td>\n",
              "      <td>NaT</td>\n",
              "      <td>--</td>\n",
              "      <td>Turkey</td>\n",
              "      <td>website</td>\n",
              "      <td>Biomaterials</td>\n",
              "    </tr>\n",
              "    <tr>\n",
              "      <th>5</th>\n",
              "      <td>No</td>\n",
              "      <td>Agadir</td>\n",
              "      <td>MA</td>\n",
              "      <td>Other</td>\n",
              "      <td>Medical,  Pharma,  Biotech</td>\n",
              "      <td>Uhp</td>\n",
              "      <td>Phd</td>\n",
              "      <td>NaN</td>\n",
              "      <td>2022-09-02 05:24:55</td>\n",
              "      <td>NaT</td>\n",
              "      <td>NaT</td>\n",
              "      <td>--</td>\n",
              "      <td>Morocco</td>\n",
              "      <td>mailchimp</td>\n",
              "      <td>Biomaterials</td>\n",
              "    </tr>\n",
              "    <tr>\n",
              "      <th>6</th>\n",
              "      <td>No</td>\n",
              "      <td>Gothenburg</td>\n",
              "      <td>SE</td>\n",
              "      <td>Other</td>\n",
              "      <td>Medical,  Pharma,  Biotech</td>\n",
              "      <td>Cellink</td>\n",
              "      <td>Global Product Manager</td>\n",
              "      <td>NaN</td>\n",
              "      <td>2022-09-06 04:31:38</td>\n",
              "      <td>NaT</td>\n",
              "      <td>NaT</td>\n",
              "      <td>--</td>\n",
              "      <td>Sweden</td>\n",
              "      <td>mailchimp</td>\n",
              "      <td>Biomaterials</td>\n",
              "    </tr>\n",
              "    <tr>\n",
              "      <th>7</th>\n",
              "      <td>No</td>\n",
              "      <td>Amsterdam</td>\n",
              "      <td>NL</td>\n",
              "      <td>Other</td>\n",
              "      <td>Manufacturing</td>\n",
              "      <td>Photosynthetic B.V.</td>\n",
              "      <td>NaN</td>\n",
              "      <td>NaN</td>\n",
              "      <td>2022-09-06 04:31:43</td>\n",
              "      <td>NaT</td>\n",
              "      <td>NaT</td>\n",
              "      <td>--</td>\n",
              "      <td>Netherlands</td>\n",
              "      <td>mailchimp</td>\n",
              "      <td>Biomaterials</td>\n",
              "    </tr>\n",
              "    <tr>\n",
              "      <th>8</th>\n",
              "      <td>No</td>\n",
              "      <td>Melville</td>\n",
              "      <td>US</td>\n",
              "      <td>NY</td>\n",
              "      <td>Legal</td>\n",
              "      <td>Carter,  DeLuca &amp; Farrell LLP</td>\n",
              "      <td>Partner</td>\n",
              "      <td>NaN</td>\n",
              "      <td>2022-09-06 04:32:12</td>\n",
              "      <td>NaT</td>\n",
              "      <td>NaT</td>\n",
              "      <td>--</td>\n",
              "      <td>United States</td>\n",
              "      <td>mailchimp</td>\n",
              "      <td>Biomaterials</td>\n",
              "    </tr>\n",
              "    <tr>\n",
              "      <th>...</th>\n",
              "      <td>...</td>\n",
              "      <td>...</td>\n",
              "      <td>...</td>\n",
              "      <td>...</td>\n",
              "      <td>...</td>\n",
              "      <td>...</td>\n",
              "      <td>...</td>\n",
              "      <td>...</td>\n",
              "      <td>...</td>\n",
              "      <td>...</td>\n",
              "      <td>...</td>\n",
              "      <td>...</td>\n",
              "      <td>...</td>\n",
              "      <td>...</td>\n",
              "      <td>...</td>\n",
              "    </tr>\n",
              "    <tr>\n",
              "      <th>159</th>\n",
              "      <td>No</td>\n",
              "      <td>Montmelo</td>\n",
              "      <td>ES</td>\n",
              "      <td>Other</td>\n",
              "      <td>Manufacturing</td>\n",
              "      <td>Lubrizol</td>\n",
              "      <td>Global 3DP Commercial Lead</td>\n",
              "      <td>NaN</td>\n",
              "      <td>2022-10-06 08:01:59</td>\n",
              "      <td>NaT</td>\n",
              "      <td>NaT</td>\n",
              "      <td>--</td>\n",
              "      <td>Spain</td>\n",
              "      <td>LinkedIn</td>\n",
              "      <td>Preprocessing</td>\n",
              "    </tr>\n",
              "    <tr>\n",
              "      <th>171</th>\n",
              "      <td>No</td>\n",
              "      <td>São Julião do Tojal</td>\n",
              "      <td>PT</td>\n",
              "      <td>Outra</td>\n",
              "      <td>Other</td>\n",
              "      <td>bioceramed</td>\n",
              "      <td>RA Manager</td>\n",
              "      <td>NaN</td>\n",
              "      <td>2022-10-06 08:43:30</td>\n",
              "      <td>NaT</td>\n",
              "      <td>NaT</td>\n",
              "      <td>--</td>\n",
              "      <td>Portugal</td>\n",
              "      <td>LinkedIn</td>\n",
              "      <td>Preprocessing</td>\n",
              "    </tr>\n",
              "    <tr>\n",
              "      <th>173</th>\n",
              "      <td>Other Attended</td>\n",
              "      <td>NaN</td>\n",
              "      <td>NaN</td>\n",
              "      <td>NaN</td>\n",
              "      <td>NaN</td>\n",
              "      <td>NaN</td>\n",
              "      <td>NaN</td>\n",
              "      <td>NaN</td>\n",
              "      <td>NaT</td>\n",
              "      <td>NaT</td>\n",
              "      <td>NaT</td>\n",
              "      <td>NaN</td>\n",
              "      <td>NaN</td>\n",
              "      <td>NaN</td>\n",
              "      <td>Preprocessing</td>\n",
              "    </tr>\n",
              "    <tr>\n",
              "      <th>174</th>\n",
              "      <td>User Name</td>\n",
              "      <td>NaN</td>\n",
              "      <td>NaN</td>\n",
              "      <td>NaN</td>\n",
              "      <td>NaN</td>\n",
              "      <td>NaN</td>\n",
              "      <td>NaN</td>\n",
              "      <td>NaN</td>\n",
              "      <td>NaT</td>\n",
              "      <td>NaT</td>\n",
              "      <td>NaT</td>\n",
              "      <td>NaN</td>\n",
              "      <td>NaN</td>\n",
              "      <td>NaN</td>\n",
              "      <td>Preprocessing</td>\n",
              "    </tr>\n",
              "    <tr>\n",
              "      <th>175</th>\n",
              "      <td>15184664566</td>\n",
              "      <td>NaN</td>\n",
              "      <td>NaN</td>\n",
              "      <td>NaN</td>\n",
              "      <td>NaN</td>\n",
              "      <td>NaN</td>\n",
              "      <td>NaN</td>\n",
              "      <td>NaN</td>\n",
              "      <td>NaT</td>\n",
              "      <td>NaT</td>\n",
              "      <td>NaT</td>\n",
              "      <td>NaN</td>\n",
              "      <td>NaN</td>\n",
              "      <td>NaN</td>\n",
              "      <td>Preprocessing</td>\n",
              "    </tr>\n",
              "  </tbody>\n",
              "</table>\n",
              "<p>395 rows × 15 columns</p>\n",
              "</div>\n",
              "      <button class=\"colab-df-convert\" onclick=\"convertToInteractive('df-32e43a2c-b605-4503-8182-846876dacc9a')\"\n",
              "              title=\"Convert this dataframe to an interactive table.\"\n",
              "              style=\"display:none;\">\n",
              "        \n",
              "  <svg xmlns=\"http://www.w3.org/2000/svg\" height=\"24px\"viewBox=\"0 0 24 24\"\n",
              "       width=\"24px\">\n",
              "    <path d=\"M0 0h24v24H0V0z\" fill=\"none\"/>\n",
              "    <path d=\"M18.56 5.44l.94 2.06.94-2.06 2.06-.94-2.06-.94-.94-2.06-.94 2.06-2.06.94zm-11 1L8.5 8.5l.94-2.06 2.06-.94-2.06-.94L8.5 2.5l-.94 2.06-2.06.94zm10 10l.94 2.06.94-2.06 2.06-.94-2.06-.94-.94-2.06-.94 2.06-2.06.94z\"/><path d=\"M17.41 7.96l-1.37-1.37c-.4-.4-.92-.59-1.43-.59-.52 0-1.04.2-1.43.59L10.3 9.45l-7.72 7.72c-.78.78-.78 2.05 0 2.83L4 21.41c.39.39.9.59 1.41.59.51 0 1.02-.2 1.41-.59l7.78-7.78 2.81-2.81c.8-.78.8-2.07 0-2.86zM5.41 20L4 18.59l7.72-7.72 1.47 1.35L5.41 20z\"/>\n",
              "  </svg>\n",
              "      </button>\n",
              "      \n",
              "  <style>\n",
              "    .colab-df-container {\n",
              "      display:flex;\n",
              "      flex-wrap:wrap;\n",
              "      gap: 12px;\n",
              "    }\n",
              "\n",
              "    .colab-df-convert {\n",
              "      background-color: #E8F0FE;\n",
              "      border: none;\n",
              "      border-radius: 50%;\n",
              "      cursor: pointer;\n",
              "      display: none;\n",
              "      fill: #1967D2;\n",
              "      height: 32px;\n",
              "      padding: 0 0 0 0;\n",
              "      width: 32px;\n",
              "    }\n",
              "\n",
              "    .colab-df-convert:hover {\n",
              "      background-color: #E2EBFA;\n",
              "      box-shadow: 0px 1px 2px rgba(60, 64, 67, 0.3), 0px 1px 3px 1px rgba(60, 64, 67, 0.15);\n",
              "      fill: #174EA6;\n",
              "    }\n",
              "\n",
              "    [theme=dark] .colab-df-convert {\n",
              "      background-color: #3B4455;\n",
              "      fill: #D2E3FC;\n",
              "    }\n",
              "\n",
              "    [theme=dark] .colab-df-convert:hover {\n",
              "      background-color: #434B5C;\n",
              "      box-shadow: 0px 1px 3px 1px rgba(0, 0, 0, 0.15);\n",
              "      filter: drop-shadow(0px 1px 2px rgba(0, 0, 0, 0.3));\n",
              "      fill: #FFFFFF;\n",
              "    }\n",
              "  </style>\n",
              "\n",
              "      <script>\n",
              "        const buttonEl =\n",
              "          document.querySelector('#df-32e43a2c-b605-4503-8182-846876dacc9a button.colab-df-convert');\n",
              "        buttonEl.style.display =\n",
              "          google.colab.kernel.accessAllowed ? 'block' : 'none';\n",
              "\n",
              "        async function convertToInteractive(key) {\n",
              "          const element = document.querySelector('#df-32e43a2c-b605-4503-8182-846876dacc9a');\n",
              "          const dataTable =\n",
              "            await google.colab.kernel.invokeFunction('convertToInteractive',\n",
              "                                                     [key], {});\n",
              "          if (!dataTable) return;\n",
              "\n",
              "          const docLinkHtml = 'Like what you see? Visit the ' +\n",
              "            '<a target=\"_blank\" href=https://colab.research.google.com/notebooks/data_table.ipynb>data table notebook</a>'\n",
              "            + ' to learn more about interactive tables.';\n",
              "          element.innerHTML = '';\n",
              "          dataTable['output_type'] = 'display_data';\n",
              "          await google.colab.output.renderOutput(dataTable, element);\n",
              "          const docLink = document.createElement('div');\n",
              "          docLink.innerHTML = docLinkHtml;\n",
              "          element.appendChild(docLink);\n",
              "        }\n",
              "      </script>\n",
              "    </div>\n",
              "  </div>\n",
              "  "
            ]
          },
          "metadata": {},
          "execution_count": 27
        }
      ],
      "source": [
        "df[(df['Time in Session (minutes)'].isna()) | (df['Time in Session (minutes)'] == '--')].drop(labels='Email', axis=1)"
      ]
    },
    {
      "cell_type": "code",
      "execution_count": null,
      "metadata": {
        "colab": {
          "base_uri": "https://localhost:8080/"
        },
        "id": "ZSdZV3AWGdWv",
        "outputId": "0c79a1f4-5872-42ed-86f5-ec2dc1715d23"
      },
      "outputs": [
        {
          "output_type": "execute_result",
          "data": {
            "text/plain": [
              "array(['--'], dtype=object)"
            ]
          },
          "metadata": {},
          "execution_count": 28
        }
      ],
      "source": [
        "df[(df['Attended'] == 'No')]['Time in Session (minutes)'].unique()"
      ]
    },
    {
      "cell_type": "code",
      "execution_count": null,
      "metadata": {
        "id": "NcTt0owuG4tJ"
      },
      "outputs": [],
      "source": [
        "#For those who didn't attend, their time in session should be 0 (instead of --)\n",
        "df.loc[(df['Attended'] == 'No'),'Time in Session (minutes)'] = 0"
      ]
    },
    {
      "cell_type": "code",
      "source": [
        "#missing times will be given 0 minutes\n",
        "df['Time in Session (minutes)'] = df['Time in Session (minutes)'].fillna(0)"
      ],
      "metadata": {
        "id": "eXJTPiOMArgQ"
      },
      "execution_count": null,
      "outputs": []
    },
    {
      "cell_type": "code",
      "execution_count": null,
      "metadata": {
        "id": "6himmXcXIVbx"
      },
      "outputs": [],
      "source": [
        "df['Time in Session (minutes)'] = df['Time in Session (minutes)'].astype('int')"
      ]
    },
    {
      "cell_type": "code",
      "execution_count": null,
      "metadata": {
        "colab": {
          "base_uri": "https://localhost:8080/"
        },
        "id": "LiWkoAWMOLLa",
        "outputId": "032ec16d-ff27-4464-ab6c-71541900f74b"
      },
      "outputs": [
        {
          "output_type": "stream",
          "name": "stdout",
          "text": [
            "<class 'pandas.core.frame.DataFrame'>\n",
            "Int64Index: 845 entries, 0 to 175\n",
            "Data columns (total 16 columns):\n",
            " #   Column                     Non-Null Count  Dtype         \n",
            "---  ------                     --------------  -----         \n",
            " 0   Attended                   845 non-null    object        \n",
            " 1   Email                      841 non-null    object        \n",
            " 2   City                       698 non-null    object        \n",
            " 3   Country/Region             689 non-null    object        \n",
            " 4   State/Province             689 non-null    object        \n",
            " 5   Industry                   689 non-null    object        \n",
            " 6   Organization               683 non-null    object        \n",
            " 7   Job Title                  465 non-null    object        \n",
            " 8   Questions & Comments       15 non-null     object        \n",
            " 9   Registration Time          689 non-null    datetime64[ns]\n",
            " 10  Join Time                  450 non-null    datetime64[ns]\n",
            " 11  Leave Time                 450 non-null    datetime64[ns]\n",
            " 12  Time in Session (minutes)  845 non-null    int64         \n",
            " 13  Country/Region Name        827 non-null    object        \n",
            " 14  Source Name                660 non-null    object        \n",
            " 15  webinar_name               845 non-null    object        \n",
            "dtypes: datetime64[ns](3), int64(1), object(12)\n",
            "memory usage: 112.2+ KB\n"
          ]
        }
      ],
      "source": [
        "df.info()"
      ]
    },
    {
      "cell_type": "code",
      "execution_count": null,
      "metadata": {
        "colab": {
          "base_uri": "https://localhost:8080/"
        },
        "id": "EWpFDymVOKaE",
        "outputId": "70f62a50-ba80-4554-d432-2500f18cd0b7"
      },
      "outputs": [
        {
          "output_type": "execute_result",
          "data": {
            "text/plain": [
              "Index(['Attended', 'Email', 'City', 'Country/Region', 'State/Province',\n",
              "       'Industry', 'Organization', 'Job Title', 'Questions & Comments',\n",
              "       'Registration Time', 'Join Time', 'Leave Time',\n",
              "       'Time in Session (minutes)', 'Country/Region Name', 'Source Name',\n",
              "       'webinar_name'],\n",
              "      dtype='object')"
            ]
          },
          "metadata": {},
          "execution_count": 33
        }
      ],
      "source": [
        "df.columns"
      ]
    },
    {
      "cell_type": "code",
      "execution_count": null,
      "metadata": {
        "colab": {
          "base_uri": "https://localhost:8080/",
          "height": 300
        },
        "id": "QQ6q2tIby1k5",
        "outputId": "aeeafdc9-c062-4163-e8a8-05c4181815bf"
      },
      "outputs": [
        {
          "output_type": "execute_result",
          "data": {
            "text/plain": [
              "       Time in Session (minutes)\n",
              "count                 845.000000\n",
              "mean                   23.857988\n",
              "std                    35.087483\n",
              "min                     0.000000\n",
              "25%                     0.000000\n",
              "50%                     2.000000\n",
              "75%                    43.000000\n",
              "max                   129.000000"
            ],
            "text/html": [
              "\n",
              "  <div id=\"df-a9d4ac50-c340-4410-aeb8-01486a74bf42\">\n",
              "    <div class=\"colab-df-container\">\n",
              "      <div>\n",
              "<style scoped>\n",
              "    .dataframe tbody tr th:only-of-type {\n",
              "        vertical-align: middle;\n",
              "    }\n",
              "\n",
              "    .dataframe tbody tr th {\n",
              "        vertical-align: top;\n",
              "    }\n",
              "\n",
              "    .dataframe thead th {\n",
              "        text-align: right;\n",
              "    }\n",
              "</style>\n",
              "<table border=\"1\" class=\"dataframe\">\n",
              "  <thead>\n",
              "    <tr style=\"text-align: right;\">\n",
              "      <th></th>\n",
              "      <th>Time in Session (minutes)</th>\n",
              "    </tr>\n",
              "  </thead>\n",
              "  <tbody>\n",
              "    <tr>\n",
              "      <th>count</th>\n",
              "      <td>845.000000</td>\n",
              "    </tr>\n",
              "    <tr>\n",
              "      <th>mean</th>\n",
              "      <td>23.857988</td>\n",
              "    </tr>\n",
              "    <tr>\n",
              "      <th>std</th>\n",
              "      <td>35.087483</td>\n",
              "    </tr>\n",
              "    <tr>\n",
              "      <th>min</th>\n",
              "      <td>0.000000</td>\n",
              "    </tr>\n",
              "    <tr>\n",
              "      <th>25%</th>\n",
              "      <td>0.000000</td>\n",
              "    </tr>\n",
              "    <tr>\n",
              "      <th>50%</th>\n",
              "      <td>2.000000</td>\n",
              "    </tr>\n",
              "    <tr>\n",
              "      <th>75%</th>\n",
              "      <td>43.000000</td>\n",
              "    </tr>\n",
              "    <tr>\n",
              "      <th>max</th>\n",
              "      <td>129.000000</td>\n",
              "    </tr>\n",
              "  </tbody>\n",
              "</table>\n",
              "</div>\n",
              "      <button class=\"colab-df-convert\" onclick=\"convertToInteractive('df-a9d4ac50-c340-4410-aeb8-01486a74bf42')\"\n",
              "              title=\"Convert this dataframe to an interactive table.\"\n",
              "              style=\"display:none;\">\n",
              "        \n",
              "  <svg xmlns=\"http://www.w3.org/2000/svg\" height=\"24px\"viewBox=\"0 0 24 24\"\n",
              "       width=\"24px\">\n",
              "    <path d=\"M0 0h24v24H0V0z\" fill=\"none\"/>\n",
              "    <path d=\"M18.56 5.44l.94 2.06.94-2.06 2.06-.94-2.06-.94-.94-2.06-.94 2.06-2.06.94zm-11 1L8.5 8.5l.94-2.06 2.06-.94-2.06-.94L8.5 2.5l-.94 2.06-2.06.94zm10 10l.94 2.06.94-2.06 2.06-.94-2.06-.94-.94-2.06-.94 2.06-2.06.94z\"/><path d=\"M17.41 7.96l-1.37-1.37c-.4-.4-.92-.59-1.43-.59-.52 0-1.04.2-1.43.59L10.3 9.45l-7.72 7.72c-.78.78-.78 2.05 0 2.83L4 21.41c.39.39.9.59 1.41.59.51 0 1.02-.2 1.41-.59l7.78-7.78 2.81-2.81c.8-.78.8-2.07 0-2.86zM5.41 20L4 18.59l7.72-7.72 1.47 1.35L5.41 20z\"/>\n",
              "  </svg>\n",
              "      </button>\n",
              "      \n",
              "  <style>\n",
              "    .colab-df-container {\n",
              "      display:flex;\n",
              "      flex-wrap:wrap;\n",
              "      gap: 12px;\n",
              "    }\n",
              "\n",
              "    .colab-df-convert {\n",
              "      background-color: #E8F0FE;\n",
              "      border: none;\n",
              "      border-radius: 50%;\n",
              "      cursor: pointer;\n",
              "      display: none;\n",
              "      fill: #1967D2;\n",
              "      height: 32px;\n",
              "      padding: 0 0 0 0;\n",
              "      width: 32px;\n",
              "    }\n",
              "\n",
              "    .colab-df-convert:hover {\n",
              "      background-color: #E2EBFA;\n",
              "      box-shadow: 0px 1px 2px rgba(60, 64, 67, 0.3), 0px 1px 3px 1px rgba(60, 64, 67, 0.15);\n",
              "      fill: #174EA6;\n",
              "    }\n",
              "\n",
              "    [theme=dark] .colab-df-convert {\n",
              "      background-color: #3B4455;\n",
              "      fill: #D2E3FC;\n",
              "    }\n",
              "\n",
              "    [theme=dark] .colab-df-convert:hover {\n",
              "      background-color: #434B5C;\n",
              "      box-shadow: 0px 1px 3px 1px rgba(0, 0, 0, 0.15);\n",
              "      filter: drop-shadow(0px 1px 2px rgba(0, 0, 0, 0.3));\n",
              "      fill: #FFFFFF;\n",
              "    }\n",
              "  </style>\n",
              "\n",
              "      <script>\n",
              "        const buttonEl =\n",
              "          document.querySelector('#df-a9d4ac50-c340-4410-aeb8-01486a74bf42 button.colab-df-convert');\n",
              "        buttonEl.style.display =\n",
              "          google.colab.kernel.accessAllowed ? 'block' : 'none';\n",
              "\n",
              "        async function convertToInteractive(key) {\n",
              "          const element = document.querySelector('#df-a9d4ac50-c340-4410-aeb8-01486a74bf42');\n",
              "          const dataTable =\n",
              "            await google.colab.kernel.invokeFunction('convertToInteractive',\n",
              "                                                     [key], {});\n",
              "          if (!dataTable) return;\n",
              "\n",
              "          const docLinkHtml = 'Like what you see? Visit the ' +\n",
              "            '<a target=\"_blank\" href=https://colab.research.google.com/notebooks/data_table.ipynb>data table notebook</a>'\n",
              "            + ' to learn more about interactive tables.';\n",
              "          element.innerHTML = '';\n",
              "          dataTable['output_type'] = 'display_data';\n",
              "          await google.colab.output.renderOutput(dataTable, element);\n",
              "          const docLink = document.createElement('div');\n",
              "          docLink.innerHTML = docLinkHtml;\n",
              "          element.appendChild(docLink);\n",
              "        }\n",
              "      </script>\n",
              "    </div>\n",
              "  </div>\n",
              "  "
            ]
          },
          "metadata": {},
          "execution_count": 34
        }
      ],
      "source": [
        "df.describe()"
      ]
    },
    {
      "cell_type": "code",
      "execution_count": null,
      "metadata": {
        "colab": {
          "base_uri": "https://localhost:8080/"
        },
        "id": "2O-ARFuRNrrl",
        "outputId": "8eb4d4c9-66fc-491f-e3ec-c81d225cc4c8"
      },
      "outputs": [
        {
          "output_type": "execute_result",
          "data": {
            "text/plain": [
              "array(['No', 'Yes', 'Other Attended', 'User Name', 19176429644,\n",
              "       12022514648, 14123599627, 18322983212, '0114915776295912',\n",
              "       '17142381131', '15184664566'], dtype=object)"
            ]
          },
          "metadata": {},
          "execution_count": 35
        }
      ],
      "source": [
        "df['Attended'].unique()"
      ]
    },
    {
      "cell_type": "markdown",
      "source": [
        "#Cleaning the Job Titles\n",
        "\n",
        "Job titles were typed in manually by the user.  I am going to group these into approximately 10 job titles.\n",
        "\n"
      ],
      "metadata": {
        "id": "r8zdjDiTXqkd"
      }
    },
    {
      "cell_type": "code",
      "execution_count": null,
      "metadata": {
        "id": "hidFLCSj6J9u"
      },
      "outputs": [],
      "source": [
        "#replace missing job titles with \"Not Given\"\n",
        "df['Job Title'].fillna(value = \"Not Given\",inplace=True)"
      ]
    },
    {
      "cell_type": "code",
      "source": [
        "#lowercase all the job titles\n",
        "df['Job Title']=df['Job Title'].apply(str.lower)"
      ],
      "metadata": {
        "id": "tJHycV4XZ-y5"
      },
      "execution_count": null,
      "outputs": []
    },
    {
      "cell_type": "code",
      "source": [
        "#remove punctuation\n",
        "df['Job Title'] = df['Job Title'].str.replace('[^\\w\\s]','')"
      ],
      "metadata": {
        "colab": {
          "base_uri": "https://localhost:8080/"
        },
        "id": "Rm4tZL1cxiNM",
        "outputId": "a1357910-5675-47ed-a22a-4037455cea6d"
      },
      "execution_count": null,
      "outputs": [
        {
          "output_type": "stream",
          "name": "stderr",
          "text": [
            "<ipython-input-38-4ffb9b2f9e06>:2: FutureWarning: The default value of regex will change from True to False in a future version.\n",
            "  df['Job Title'] = df['Job Title'].str.replace('[^\\w\\s]','')\n"
          ]
        }
      ]
    },
    {
      "cell_type": "code",
      "execution_count": null,
      "metadata": {
        "id": "mauOauaXNusk"
      },
      "outputs": [],
      "source": [
        "unique_job_titles = df['Job Title'].unique().tolist()"
      ]
    },
    {
      "cell_type": "code",
      "execution_count": null,
      "metadata": {
        "colab": {
          "base_uri": "https://localhost:8080/"
        },
        "id": "JpdYqWZ1g33Y",
        "outputId": "3075bb81-9b9d-49f6-b9fe-2629c21eabaf"
      },
      "outputs": [
        {
          "output_type": "stream",
          "name": "stdout",
          "text": [
            "We have 259 unique job titles\n"
          ]
        }
      ],
      "source": [
        "print(\"We have \" + str(len(unique_job_titles)) + \" unique job titles\")"
      ]
    },
    {
      "cell_type": "code",
      "execution_count": null,
      "metadata": {
        "colab": {
          "base_uri": "https://localhost:8080/",
          "height": 206
        },
        "id": "54Tc3jGFgzqW",
        "outputId": "d57a33c1-47f0-4b85-8878-0d8be59a6fbf"
      },
      "outputs": [
        {
          "output_type": "execute_result",
          "data": {
            "text/plain": [
              "                    Title\n",
              "0               not given\n",
              "1                     phd\n",
              "2  global product manager\n",
              "3                 partner\n",
              "4               professor"
            ],
            "text/html": [
              "\n",
              "  <div id=\"df-a90f0b72-6384-479c-8922-4ab49b407177\">\n",
              "    <div class=\"colab-df-container\">\n",
              "      <div>\n",
              "<style scoped>\n",
              "    .dataframe tbody tr th:only-of-type {\n",
              "        vertical-align: middle;\n",
              "    }\n",
              "\n",
              "    .dataframe tbody tr th {\n",
              "        vertical-align: top;\n",
              "    }\n",
              "\n",
              "    .dataframe thead th {\n",
              "        text-align: right;\n",
              "    }\n",
              "</style>\n",
              "<table border=\"1\" class=\"dataframe\">\n",
              "  <thead>\n",
              "    <tr style=\"text-align: right;\">\n",
              "      <th></th>\n",
              "      <th>Title</th>\n",
              "    </tr>\n",
              "  </thead>\n",
              "  <tbody>\n",
              "    <tr>\n",
              "      <th>0</th>\n",
              "      <td>not given</td>\n",
              "    </tr>\n",
              "    <tr>\n",
              "      <th>1</th>\n",
              "      <td>phd</td>\n",
              "    </tr>\n",
              "    <tr>\n",
              "      <th>2</th>\n",
              "      <td>global product manager</td>\n",
              "    </tr>\n",
              "    <tr>\n",
              "      <th>3</th>\n",
              "      <td>partner</td>\n",
              "    </tr>\n",
              "    <tr>\n",
              "      <th>4</th>\n",
              "      <td>professor</td>\n",
              "    </tr>\n",
              "  </tbody>\n",
              "</table>\n",
              "</div>\n",
              "      <button class=\"colab-df-convert\" onclick=\"convertToInteractive('df-a90f0b72-6384-479c-8922-4ab49b407177')\"\n",
              "              title=\"Convert this dataframe to an interactive table.\"\n",
              "              style=\"display:none;\">\n",
              "        \n",
              "  <svg xmlns=\"http://www.w3.org/2000/svg\" height=\"24px\"viewBox=\"0 0 24 24\"\n",
              "       width=\"24px\">\n",
              "    <path d=\"M0 0h24v24H0V0z\" fill=\"none\"/>\n",
              "    <path d=\"M18.56 5.44l.94 2.06.94-2.06 2.06-.94-2.06-.94-.94-2.06-.94 2.06-2.06.94zm-11 1L8.5 8.5l.94-2.06 2.06-.94-2.06-.94L8.5 2.5l-.94 2.06-2.06.94zm10 10l.94 2.06.94-2.06 2.06-.94-2.06-.94-.94-2.06-.94 2.06-2.06.94z\"/><path d=\"M17.41 7.96l-1.37-1.37c-.4-.4-.92-.59-1.43-.59-.52 0-1.04.2-1.43.59L10.3 9.45l-7.72 7.72c-.78.78-.78 2.05 0 2.83L4 21.41c.39.39.9.59 1.41.59.51 0 1.02-.2 1.41-.59l7.78-7.78 2.81-2.81c.8-.78.8-2.07 0-2.86zM5.41 20L4 18.59l7.72-7.72 1.47 1.35L5.41 20z\"/>\n",
              "  </svg>\n",
              "      </button>\n",
              "      \n",
              "  <style>\n",
              "    .colab-df-container {\n",
              "      display:flex;\n",
              "      flex-wrap:wrap;\n",
              "      gap: 12px;\n",
              "    }\n",
              "\n",
              "    .colab-df-convert {\n",
              "      background-color: #E8F0FE;\n",
              "      border: none;\n",
              "      border-radius: 50%;\n",
              "      cursor: pointer;\n",
              "      display: none;\n",
              "      fill: #1967D2;\n",
              "      height: 32px;\n",
              "      padding: 0 0 0 0;\n",
              "      width: 32px;\n",
              "    }\n",
              "\n",
              "    .colab-df-convert:hover {\n",
              "      background-color: #E2EBFA;\n",
              "      box-shadow: 0px 1px 2px rgba(60, 64, 67, 0.3), 0px 1px 3px 1px rgba(60, 64, 67, 0.15);\n",
              "      fill: #174EA6;\n",
              "    }\n",
              "\n",
              "    [theme=dark] .colab-df-convert {\n",
              "      background-color: #3B4455;\n",
              "      fill: #D2E3FC;\n",
              "    }\n",
              "\n",
              "    [theme=dark] .colab-df-convert:hover {\n",
              "      background-color: #434B5C;\n",
              "      box-shadow: 0px 1px 3px 1px rgba(0, 0, 0, 0.15);\n",
              "      filter: drop-shadow(0px 1px 2px rgba(0, 0, 0, 0.3));\n",
              "      fill: #FFFFFF;\n",
              "    }\n",
              "  </style>\n",
              "\n",
              "      <script>\n",
              "        const buttonEl =\n",
              "          document.querySelector('#df-a90f0b72-6384-479c-8922-4ab49b407177 button.colab-df-convert');\n",
              "        buttonEl.style.display =\n",
              "          google.colab.kernel.accessAllowed ? 'block' : 'none';\n",
              "\n",
              "        async function convertToInteractive(key) {\n",
              "          const element = document.querySelector('#df-a90f0b72-6384-479c-8922-4ab49b407177');\n",
              "          const dataTable =\n",
              "            await google.colab.kernel.invokeFunction('convertToInteractive',\n",
              "                                                     [key], {});\n",
              "          if (!dataTable) return;\n",
              "\n",
              "          const docLinkHtml = 'Like what you see? Visit the ' +\n",
              "            '<a target=\"_blank\" href=https://colab.research.google.com/notebooks/data_table.ipynb>data table notebook</a>'\n",
              "            + ' to learn more about interactive tables.';\n",
              "          element.innerHTML = '';\n",
              "          dataTable['output_type'] = 'display_data';\n",
              "          await google.colab.output.renderOutput(dataTable, element);\n",
              "          const docLink = document.createElement('div');\n",
              "          docLink.innerHTML = docLinkHtml;\n",
              "          element.appendChild(docLink);\n",
              "        }\n",
              "      </script>\n",
              "    </div>\n",
              "  </div>\n",
              "  "
            ]
          },
          "metadata": {},
          "execution_count": 41
        }
      ],
      "source": [
        "#convert the list to a dataframe\n",
        "df_unique_job_titles = pd.DataFrame(unique_job_titles, columns=[\"Title\"])\n",
        "df_unique_job_titles.head()"
      ]
    },
    {
      "cell_type": "code",
      "source": [
        "#currently there are no job titles called \"C-suite\"\n",
        "len(df[df['Job Title'] == \"C-suite\"])"
      ],
      "metadata": {
        "colab": {
          "base_uri": "https://localhost:8080/"
        },
        "id": "nAeLBboNPLjc",
        "outputId": "4fff29b8-2f04-4e8f-ad41-529a691530cd"
      },
      "execution_count": null,
      "outputs": [
        {
          "output_type": "execute_result",
          "data": {
            "text/plain": [
              "0"
            ]
          },
          "metadata": {},
          "execution_count": 42
        }
      ]
    },
    {
      "cell_type": "code",
      "execution_count": null,
      "metadata": {
        "colab": {
          "base_uri": "https://localhost:8080/"
        },
        "id": "Aw1U-CVHKyVz",
        "outputId": "9391c608-d08a-47b2-fbcc-42081071ffa2"
      },
      "outputs": [
        {
          "output_type": "execute_result",
          "data": {
            "text/plain": [
              "[('ceo', 100),\n",
              " ('coo', 67),\n",
              " ('cto', 67),\n",
              " ('cso', 67),\n",
              " ('coa', 67),\n",
              " ('cfo', 67),\n",
              " ('cpo', 67),\n",
              " ('cmo', 67),\n",
              " ('ceofounder', 46),\n",
              " ('fellow', 44)]"
            ]
          },
          "metadata": {},
          "execution_count": 43
        }
      ],
      "source": [
        "#The token sort ratio scorer tokenizes the strings and cleans them by returning these strings to lower cases, removing punctuations, and then sorting them alphabetically. \n",
        "#After that, it finds the Levenshtein distance and returns the similarity percentage.\n",
        "#https://towardsdatascience.com/fuzzywuzzy-find-similar-strings-within-one-column-in-a-pandas-data-frame-99f6c2a0c212\n",
        "process.extract('ceo', unique_job_titles, scorer=fuzz.token_sort_ratio, limit=10)"
      ]
    },
    {
      "cell_type": "markdown",
      "source": [
        "If we want to use thresholds instead of limits (less manual work, but more errors), we will use extractBests.  I have chosen  score cutoffs of 60-80 based on which cutoff gives the most accurate results.\n",
        "\n",
        "Also, the token set ratio is more flexible VS sort ratio.  So I will use that as well."
      ],
      "metadata": {
        "id": "7ywx4NdFPb4-"
      }
    },
    {
      "cell_type": "code",
      "source": [
        "#I grouped engineers\n",
        "engineer_matches = process.extractBests('engineer', unique_job_titles, scorer=fuzz.token_set_ratio, score_cutoff=65, limit=None) + \\\n",
        "                  process.extractBests('eng', unique_job_titles, scorer=fuzz.token_set_ratio, score_cutoff=65, limit=None) + \\\n",
        "                  process.extractBests('ingeniero', unique_job_titles, scorer=fuzz.token_set_ratio, score_cutoff=65, limit=None)\n",
        "\n",
        "\n",
        "engineer_matches"
      ],
      "metadata": {
        "colab": {
          "base_uri": "https://localhost:8080/"
        },
        "id": "yP5f6iiaODS3",
        "outputId": "bad3358c-0720-4ea5-f443-40fda645c4ab"
      },
      "execution_count": null,
      "outputs": [
        {
          "output_type": "execute_result",
          "data": {
            "text/plain": [
              "[('research engineer consultant', 100),\n",
              " ('applications engineer', 100),\n",
              " ('biomedical engineer', 100),\n",
              " ('product development engineer', 100),\n",
              " ('principal engineer', 100),\n",
              " ('engineer  rd', 100),\n",
              " ('healthcare applications engineer', 100),\n",
              " ('operation engineer ', 100),\n",
              " ('senior design engineer', 100),\n",
              " ('fpga engineer', 100),\n",
              " ('biomedical design engineer', 100),\n",
              " ('rd mechanical engineer', 100),\n",
              " ('senior dev engineer', 100),\n",
              " ('design engineer', 100),\n",
              " ('senior engineer', 100),\n",
              " ('rd engineer', 100),\n",
              " ('application engineer', 100),\n",
              " ('quality assurance engineer', 100),\n",
              " ('medical device engineer', 100),\n",
              " ('biomechanical engineer', 100),\n",
              " ('research engineer', 100),\n",
              " ('cad cam engineer', 100),\n",
              " ('mechanical engineer', 100),\n",
              " ('sr engineer', 100),\n",
              " ('systems engineer', 100),\n",
              " ('development engineer', 100),\n",
              " ('staff engineer ', 100),\n",
              " ('application engineer manager', 100),\n",
              " ('manufacturing engineer', 100),\n",
              " ('rd engineer and owner of mr wus 3d printer corner', 100),\n",
              " ('manufacturing  process development engineer', 100),\n",
              " ('application engineer team lead', 100),\n",
              " ('manufacturing and process development engineer', 100),\n",
              " ('technical sales engineer', 100),\n",
              " ('engineer', 100),\n",
              " ('bioengineer', 84),\n",
              " ('msc bioengineer', 70),\n",
              " ('dir eng', 100),\n",
              " ('application eng', 100),\n",
              " ('eng', 100),\n",
              " ('ingeniero de diseño', 100),\n",
              " ('ingeniero biomedico', 100)]"
            ]
          },
          "metadata": {},
          "execution_count": 44
        }
      ]
    },
    {
      "cell_type": "code",
      "source": [
        "#I grouped c-suite titles, president, owner, and founders together\n",
        "CEO_matches = process.extractBests('ceo', unique_job_titles, scorer=fuzz.token_set_ratio, score_cutoff=65, limit=None) +\\\n",
        "          process.extractBests('chief', unique_job_titles, scorer=fuzz.token_set_ratio, score_cutoff=65, limit=None) + \\\n",
        "          process.extractBests('president', unique_job_titles, scorer=fuzz.token_set_ratio, score_cutoff=65, limit=None) + \\\n",
        "          process.extractBests('founder', unique_job_titles, scorer=fuzz.token_set_ratio, score_cutoff=65, limit=None) + \\\n",
        "          process.extractBests('owner', unique_job_titles, scorer=fuzz.token_set_ratio, score_cutoff=80, limit=None)\n",
        "CEO_matches"
      ],
      "metadata": {
        "colab": {
          "base_uri": "https://localhost:8080/"
        },
        "id": "pp1tdBxRueW3",
        "outputId": "55566f22-eec1-46e5-aeaf-5921c086cf85"
      },
      "execution_count": null,
      "outputs": [
        {
          "output_type": "execute_result",
          "data": {
            "text/plain": [
              "[('ceo', 100),\n",
              " ('president  ceo', 100),\n",
              " ('founder and ceo', 100),\n",
              " ('coo', 67),\n",
              " ('cto', 67),\n",
              " ('cso', 67),\n",
              " ('coa', 67),\n",
              " ('cfo', 67),\n",
              " ('cpo', 67),\n",
              " ('cmo', 67),\n",
              " ('chief researcher', 100),\n",
              " ('chief executive officer', 100),\n",
              " ('chief of operations', 100),\n",
              " ('president', 100),\n",
              " ('president  ceo', 100),\n",
              " ('presidente', 95),\n",
              " ('founder and managing member', 100),\n",
              " ('founder', 100),\n",
              " ('founder ', 100),\n",
              " ('founder and ceo', 100),\n",
              " ('founder  executive director', 100),\n",
              " ('cofounder', 88),\n",
              " ('ceofounder', 82),\n",
              " ('coo cofounder', 70),\n",
              " ('owner', 67),\n",
              " ('owner', 100),\n",
              " ('rd engineer and owner of mr wus 3d printer corner', 100),\n",
              " ('coowner', 83),\n",
              " ('owern', 80)]"
            ]
          },
          "metadata": {},
          "execution_count": 45
        }
      ]
    },
    {
      "cell_type": "code",
      "source": [
        "#I grouped student, phd, professor, teacher, lecturer, postdoc, and educator\n",
        "academic_matches = process.extractBests('professor', unique_job_titles, scorer=fuzz.token_set_ratio, score_cutoff=65, limit=None) + \\\n",
        "                    process.extractBests('teacher', unique_job_titles, scorer=fuzz.token_set_ratio, score_cutoff=80, limit=None) + \\\n",
        "                    process.extractBests('lecturer', unique_job_titles, scorer=fuzz.token_set_ratio, score_cutoff=65, limit=None) + \\\n",
        "                    process.extractBests('educator', unique_job_titles, scorer=fuzz.token_set_ratio, score_cutoff=80, limit=None) + \\\n",
        "                    process.extractBests('prof', unique_job_titles, scorer=fuzz.token_set_ratio, score_cutoff=80, limit=None) +\\\n",
        "                    process.extractBests('postdoctoral', unique_job_titles, scorer=fuzz.token_set_ratio, score_cutoff=70, limit=None) + \\\n",
        "                    process.extractBests('student', unique_job_titles, scorer=fuzz.token_set_ratio, score_cutoff=65, limit=None) + \\\n",
        "                    process.extractBests('phd', unique_job_titles, scorer=fuzz.token_set_ratio, score_cutoff=65, limit=None) \n",
        "academic_matches"
      ],
      "metadata": {
        "colab": {
          "base_uri": "https://localhost:8080/"
        },
        "id": "HRKlBvFxjz3i",
        "outputId": "f8c78c84-5df8-40aa-e8b0-e7b542bd4f27"
      },
      "execution_count": null,
      "outputs": [
        {
          "output_type": "execute_result",
          "data": {
            "text/plain": [
              "[('professor', 100),\n",
              " ('associate professor', 100),\n",
              " ('assistant professor of mechanical and biomedical engineering', 100),\n",
              " ('assistant professor', 100),\n",
              " ('professor  pesquisador', 100),\n",
              " ('assistant professor ', 100),\n",
              " ('assistant professor in the department of mechanical engineering', 100),\n",
              " ('porfessor', 89),\n",
              " ('teacher', 100),\n",
              " ('lecturer', 100),\n",
              " ('leiter', 71),\n",
              " ('educator', 100),\n",
              " ('asst prof', 100),\n",
              " ('aprof', 89),\n",
              " ('postdoctoral researcher', 100),\n",
              " ('postdoctoral fellow', 100),\n",
              " ('postdoctoral research associate', 100),\n",
              " ('postdoc', 74),\n",
              " ('phd student', 100),\n",
              " ('student', 100),\n",
              " ('undergraduate student', 100),\n",
              " ('bsc student', 100),\n",
              " ('graduate student', 100),\n",
              " ('graduate student researcher', 100),\n",
              " ('student learning assistant', 100),\n",
              " ('student researcher', 100),\n",
              " ('medical student', 100),\n",
              " ('biomedical engineering student', 100),\n",
              " ('grad student', 100),\n",
              " ('raphd student', 100),\n",
              " ('phd studend', 67),\n",
              " ('phd', 100),\n",
              " ('phd student', 100),\n",
              " ('phd scholar', 100),\n",
              " ('phd studend', 100),\n",
              " ('phd research scholar', 100),\n",
              " ('phd candidate', 100),\n",
              " ('md phd', 100),\n",
              " ('phd graduate', 100)]"
            ]
          },
          "metadata": {},
          "execution_count": 46
        }
      ]
    },
    {
      "cell_type": "code",
      "source": [
        "#I grouped manager and director\n",
        "manager_matches = process.extractBests('manager', unique_job_titles, scorer=fuzz.token_set_ratio, score_cutoff=63, limit=None) +\\\n",
        "                  process.extractBests('director', unique_job_titles, scorer=fuzz.token_set_ratio, score_cutoff=80, limit=None)\n",
        "manager_matches"
      ],
      "metadata": {
        "colab": {
          "base_uri": "https://localhost:8080/"
        },
        "id": "AJ0-IV2ukjPM",
        "outputId": "0cd05a87-2b0c-41a2-dba2-42a847e80979"
      },
      "execution_count": null,
      "outputs": [
        {
          "output_type": "execute_result",
          "data": {
            "text/plain": [
              "[('global product manager', 100),\n",
              " ('project manager', 100),\n",
              " ('business manager', 100),\n",
              " ('senior engineering manager', 100),\n",
              " ('3d engineerprogram manager', 100),\n",
              " ('3d printing manager', 100),\n",
              " ('application manager', 100),\n",
              " ('client engagement manager', 100),\n",
              " ('business development manager', 100),\n",
              " ('engineering manager', 100),\n",
              " ('manager', 100),\n",
              " ('rd manager', 100),\n",
              " ('global marketing manager', 100),\n",
              " ('healthcare product manager', 100),\n",
              " ('clinical manager', 100),\n",
              " ('application engineer manager', 100),\n",
              " ('sales manager', 100),\n",
              " ('quality manager', 100),\n",
              " ('sales ops manager', 100),\n",
              " ('manager  sales and bd', 100),\n",
              " ('general manager', 100),\n",
              " ('ra manager', 100),\n",
              " ('plant manger', 63),\n",
              " ('plant manger ', 63),\n",
              " ('director of product', 100),\n",
              " ('director', 100),\n",
              " ('managing director', 100),\n",
              " ('strategy director', 100),\n",
              " ('3d lab program director', 100),\n",
              " ('director of preclinical research', 100),\n",
              " ('rd director', 100),\n",
              " ('director ingenieria  operaciones', 100),\n",
              " ('program director 3dlab', 100),\n",
              " ('qara director', 100),\n",
              " ('director of product  medical solutions', 100),\n",
              " ('director  operations additive manufacturing', 100),\n",
              " ('director of preclinical studies', 100),\n",
              " ('director of production', 100),\n",
              " ('founder  executive director', 100),\n",
              " ('director of product development', 100),\n",
              " ('diretor', 93)]"
            ]
          },
          "metadata": {},
          "execution_count": 47
        }
      ]
    },
    {
      "cell_type": "code",
      "source": [
        "not_given_matches = process.extractBests('not', unique_job_titles, scorer=fuzz.token_set_ratio, score_cutoff=57, limit=None)\n",
        "not_given_matches"
      ],
      "metadata": {
        "colab": {
          "base_uri": "https://localhost:8080/"
        },
        "id": "X2iB6-HYP7iC",
        "outputId": "32dd0a65-ab48-4da3-a146-ebb826f5b0ad"
      },
      "execution_count": null,
      "outputs": [
        {
          "output_type": "execute_result",
          "data": {
            "text/plain": [
              "[('not given', 100), ('no', 80), ('none', 57)]"
            ]
          },
          "metadata": {},
          "execution_count": 48
        }
      ]
    },
    {
      "cell_type": "code",
      "source": [
        "#I grouped researcher, chemist and scientist\n",
        "researcher_matches = process.extractBests('chemist', unique_job_titles, scorer=fuzz.token_set_ratio, score_cutoff=62, limit=None) +\\\n",
        "                      process.extractBests('scientist', unique_job_titles, scorer=fuzz.token_set_ratio, score_cutoff=62, limit=None) +\\\n",
        "                      process.extractBests('research', unique_job_titles, scorer=fuzz.token_set_ratio, score_cutoff=62, limit=None) + \\\n",
        "                    process.extractBests('fellow', unique_job_titles, scorer=fuzz.token_set_ratio, score_cutoff=65, limit=None) + \\\n",
        "                    process.extractBests('rd', unique_job_titles, scorer=fuzz.token_sort_ratio, score_cutoff=65, limit=None)\n",
        "                      \n",
        "researcher_matches"
      ],
      "metadata": {
        "colab": {
          "base_uri": "https://localhost:8080/"
        },
        "outputId": "97e7acec-818d-48a2-cf84-cd9eb2966eca",
        "id": "i9eJr41NP7-P"
      },
      "execution_count": null,
      "outputs": [
        {
          "output_type": "execute_result",
          "data": {
            "text/plain": [
              "[('organic chemist synthesis department leader', 100),\n",
              " ('chemist', 100),\n",
              " ('scientist', 62),\n",
              " ('srrd scientist', 100),\n",
              " ('rd scientist', 100),\n",
              " ('sr principal scientist', 100),\n",
              " ('research scientist', 100),\n",
              " ('sr rd scientist', 100),\n",
              " ('scientist', 100),\n",
              " ('biomaterials research scientist', 100),\n",
              " ('specialist', 63),\n",
              " ('chemist', 62),\n",
              " ('research engineer consultant', 100),\n",
              " ('research scholar', 100),\n",
              " ('research fellow', 100),\n",
              " ('phd research scholar', 100),\n",
              " ('junior research fellow', 100),\n",
              " ('research associate', 100),\n",
              " ('research assistant', 100),\n",
              " ('research scientist', 100),\n",
              " ('senior research fellow ji', 100),\n",
              " ('postdoctoral research associate', 100),\n",
              " ('director of preclinical research', 100),\n",
              " ('research intern', 100),\n",
              " ('assistant research fellow', 100),\n",
              " ('research specialist', 100),\n",
              " ('senior research fellow', 100),\n",
              " ('research engineer', 100),\n",
              " ('biomaterials research scientist', 100),\n",
              " ('researcher', 89),\n",
              " ('resercher', 82),\n",
              " ('chief researcher', 67),\n",
              " ('senior researcher', 64),\n",
              " ('student researcher', 62),\n",
              " ('research fellow', 100),\n",
              " ('junior research fellow', 100),\n",
              " ('postdoctoral fellow', 100),\n",
              " ('fellow', 100),\n",
              " ('senior research fellow ji', 100),\n",
              " ('assistant research fellow', 100),\n",
              " ('senior research fellow', 100),\n",
              " ('rd', 100)]"
            ]
          },
          "metadata": {},
          "execution_count": 49
        }
      ]
    },
    {
      "cell_type": "code",
      "source": [
        "#I grouped doctor, md, surgeon, orthodontist, veterinarian, and radiology\n",
        "medicine_matches = process.extractBests('medicine', unique_job_titles, scorer=fuzz.token_set_ratio, score_cutoff=65, limit=None) + \\\n",
        "  process.extractBests('md', unique_job_titles, scorer=fuzz.token_set_ratio, score_cutoff=65, limit=None) + \\\n",
        "  process.extractBests('doctor', unique_job_titles, scorer=fuzz.token_set_ratio, score_cutoff=80, limit=None) + \\\n",
        "  process.extractBests('dr', unique_job_titles, scorer=fuzz.token_set_ratio, score_cutoff=80, limit=None) + \\\n",
        "  process.extractBests('radiology', unique_job_titles, scorer=fuzz.token_set_ratio, score_cutoff=65, limit=None) +\\\n",
        "  process.extractBests('surgeon', unique_job_titles, scorer=fuzz.token_set_ratio, score_cutoff=65, limit=None) +\\\n",
        "  process.extractBests('surgery', unique_job_titles, scorer=fuzz.token_set_ratio, score_cutoff=65, limit=None) +\\\n",
        "  process.extractBests('orthodontist', unique_job_titles, scorer=fuzz.token_set_ratio, score_cutoff=65, limit=None) +\\\n",
        "  process.extractBests('veterinarian', unique_job_titles, scorer=fuzz.token_set_ratio, score_cutoff=65, limit=None)\n",
        "  \n",
        "medicine_matches"
      ],
      "metadata": {
        "colab": {
          "base_uri": "https://localhost:8080/"
        },
        "id": "wgJ9nP4R_SWX",
        "outputId": "20e97fbb-0e40-4c65-d7b5-5ce164b20e88"
      },
      "execution_count": null,
      "outputs": [
        {
          "output_type": "execute_result",
          "data": {
            "text/plain": [
              "[('head of aesthetic medicine and exploratory products', 100),\n",
              " ('medicine', 100),\n",
              " ('doctor of medicine', 100),\n",
              " ('md phd', 100),\n",
              " ('md', 100),\n",
              " ('doctor of medicine', 100),\n",
              " ('doctor', 100),\n",
              " ('dr', 100),\n",
              " ('radiología', 89),\n",
              " ('radiologist', 80),\n",
              " ('craniofacialplastic surgeon', 100),\n",
              " ('endoscopic spine surgery specialist', 100),\n",
              " ('orthodontist', 100),\n",
              " ('veterinarian ', 100)]"
            ]
          },
          "metadata": {},
          "execution_count": 50
        }
      ]
    },
    {
      "cell_type": "code",
      "source": [
        "#I grouped marketing, ae, and sales\n",
        "marketing_matches = process.extractBests('marketing', unique_job_titles, scorer=fuzz.token_set_ratio, score_cutoff=65, limit=None) + \\\n",
        "                    process.extractBests('sales', unique_job_titles, scorer=fuzz.token_set_ratio, score_cutoff=65, limit=None) + \\\n",
        "                    process.extractBests('ae', unique_job_titles, scorer=fuzz.token_set_ratio, score_cutoff=65, limit=None)\n",
        "marketing_matches"
      ],
      "metadata": {
        "colab": {
          "base_uri": "https://localhost:8080/"
        },
        "id": "y30CwnlLAoSh",
        "outputId": "6466dfd0-db62-47e3-d36b-d22c6690c47d"
      },
      "execution_count": null,
      "outputs": [
        {
          "output_type": "execute_result",
          "data": {
            "text/plain": [
              "[('marketing and strategy', 100),\n",
              " ('global marketing manager', 100),\n",
              " ('svp  marketing', 100),\n",
              " ('content  marketing specialist', 100),\n",
              " ('global marketing', 100),\n",
              " ('marketing', 100),\n",
              " ('sales executive', 100),\n",
              " ('sales manager', 100),\n",
              " ('sales', 100),\n",
              " ('technical sales engineer', 100),\n",
              " ('sales ops manager', 100),\n",
              " ('manager  sales and bd', 100),\n",
              " ('ae', 100)]"
            ]
          },
          "metadata": {},
          "execution_count": 51
        }
      ]
    },
    {
      "cell_type": "code",
      "source": [
        "designer_matches = process.extractBests('design', unique_job_titles, scorer=fuzz.token_set_ratio, score_cutoff=65, limit=None) + \\\n",
        "                  process.extractBests('designer', unique_job_titles, scorer=fuzz.token_set_ratio, score_cutoff=65, limit=None)\n",
        "designer_matches"
      ],
      "metadata": {
        "colab": {
          "base_uri": "https://localhost:8080/"
        },
        "id": "FM7lSCgzCY7u",
        "outputId": "bd0777b9-e82a-4380-b495-0f89fd38b3ca"
      },
      "execution_count": null,
      "outputs": [
        {
          "output_type": "execute_result",
          "data": {
            "text/plain": [
              "[('senior design engineer', 100),\n",
              " ('biomedical design engineer', 100),\n",
              " ('production  design lead', 100),\n",
              " ('design engineer', 100),\n",
              " ('production  design', 100),\n",
              " ('designer', 86),\n",
              " ('3d designer', 71),\n",
              " ('cad designer', 67),\n",
              " ('product designer', 100),\n",
              " ('3d designer', 100),\n",
              " ('cad designer', 100),\n",
              " ('designer', 100),\n",
              " ('design engineer', 70)]"
            ]
          },
          "metadata": {},
          "execution_count": 52
        }
      ]
    },
    {
      "cell_type": "code",
      "source": [
        "#I add a consultant/freelancer category\n",
        "consultant_matches = process.extractBests('consultant', unique_job_titles, scorer=fuzz.token_set_ratio, score_cutoff=65, limit=None) +\\\n",
        "                      process.extractBests('free lance', unique_job_titles, scorer=fuzz.token_set_ratio, score_cutoff=65, limit=None)\n",
        "consultant_matches"
      ],
      "metadata": {
        "colab": {
          "base_uri": "https://localhost:8080/"
        },
        "id": "ALRWKdepM4Vx",
        "outputId": "fd0c1fd9-0c60-4764-fc29-ce785e638790"
      },
      "execution_count": null,
      "outputs": [
        {
          "output_type": "execute_result",
          "data": {
            "text/plain": [
              "[('research engineer consultant', 100),\n",
              " ('principal consultant', 100),\n",
              " ('consultant', 100),\n",
              " ('consultant ', 100),\n",
              " ('freelancer', 90)]"
            ]
          },
          "metadata": {},
          "execution_count": 53
        }
      ]
    },
    {
      "cell_type": "code",
      "source": [
        "investor_matches = process.extractBests('investor', unique_job_titles, scorer=fuzz.token_set_ratio, score_cutoff=65, limit=None)\n",
        "investor_matches"
      ],
      "metadata": {
        "colab": {
          "base_uri": "https://localhost:8080/"
        },
        "id": "o1NPudChFIKs",
        "outputId": "77c873b0-747d-4f4d-fd28-886105be79b2"
      },
      "execution_count": null,
      "outputs": [
        {
          "output_type": "execute_result",
          "data": {
            "text/plain": [
              "[('diretor', 67)]"
            ]
          },
          "metadata": {},
          "execution_count": 54
        }
      ]
    },
    {
      "cell_type": "code",
      "source": [
        "# I added an operator category\n",
        "operator_matches = process.extractBests('operator', unique_job_titles, scorer=fuzz.token_set_ratio, score_cutoff=65, limit=None)\n",
        "operator_matches"
      ],
      "metadata": {
        "colab": {
          "base_uri": "https://localhost:8080/"
        },
        "id": "ATGGdWwBFSHF",
        "outputId": "3d888ea2-6bef-4510-a037-a719ebacdfd9"
      },
      "execution_count": null,
      "outputs": [
        {
          "output_type": "execute_result",
          "data": {
            "text/plain": [
              "[('operator', 100), ('operations', 78)]"
            ]
          },
          "metadata": {},
          "execution_count": 55
        }
      ]
    },
    {
      "cell_type": "code",
      "source": [
        "# I added a business developer category\n",
        "business_matches = process.extractBests('business develop', unique_job_titles, scorer=fuzz.token_set_ratio, score_cutoff=70, limit=None)\n",
        "business_matches"
      ],
      "metadata": {
        "colab": {
          "base_uri": "https://localhost:8080/"
        },
        "id": "UVPC5TSlFZUl",
        "outputId": "7d4d53f2-a5bf-429e-a37a-aca0dd90b3cd"
      },
      "execution_count": null,
      "outputs": [
        {
          "output_type": "execute_result",
          "data": {
            "text/plain": [
              "[('business development', 89),\n",
              " ('new business development', 80),\n",
              " ('business development lead', 78),\n",
              " ('business development manager', 73),\n",
              " ('new business development mgr', 73)]"
            ]
          },
          "metadata": {},
          "execution_count": 56
        }
      ]
    },
    {
      "cell_type": "code",
      "source": [
        "#assign all the matches to a Job Title Category\n",
        "df.loc[(df['Job Title'].isin(list(zip(*CEO_matches))[0])),'Job Title Category'] = 'C-Suite'\n",
        "df.loc[(df['Job Title'].isin(list(zip(*engineer_matches))[0])),'Job Title Category'] = 'Engineer'\n",
        "df.loc[(df['Job Title'].isin(list(zip(*academic_matches))[0])),'Job Title Category'] = 'Academic'\n",
        "df.loc[(df['Job Title'].isin(list(zip(*manager_matches))[0])),'Job Title Category'] = 'Manager, Director'\n",
        "df.loc[(df['Job Title'].isin(list(zip(*researcher_matches))[0])),'Job Title Category'] = 'Researcher'\n",
        "df.loc[(df['Job Title'].isin(list(zip(*not_given_matches))[0])),'Job Title Category'] = 'None'\n",
        "df.loc[(df['Job Title'].isin(list(zip(*medicine_matches))[0])),'Job Title Category'] = 'Clinician'\n",
        "df.loc[(df['Job Title'].isin(list(zip(*marketing_matches))[0])),'Job Title Category'] = 'Marketer, Salesperson'\n",
        "df.loc[(df['Job Title'].isin(list(zip(*designer_matches))[0])),'Job Title Category'] = 'Designer'\n",
        "df.loc[(df['Job Title'].isin(list(zip(*consultant_matches))[0])),'Job Title Category'] = 'Consultant'\n",
        "df.loc[(df['Job Title'].isin(list(zip(*operator_matches))[0])),'Job Title Category'] = 'Operator'\n",
        "df.loc[(df['Job Title'].isin(list(zip(*business_matches))[0])),'Job Title Category'] = 'Business Developer'"
      ],
      "metadata": {
        "id": "1U7vOYNsTnM5"
      },
      "execution_count": null,
      "outputs": []
    },
    {
      "cell_type": "code",
      "source": [
        "#how many job titles in each category\n",
        "df['Job Title Category'].value_counts()"
      ],
      "metadata": {
        "colab": {
          "base_uri": "https://localhost:8080/"
        },
        "id": "e503D7OQCrkB",
        "outputId": "4e69f95b-4e14-4c7b-f623-8366d7c8c4c5"
      },
      "execution_count": null,
      "outputs": [
        {
          "output_type": "execute_result",
          "data": {
            "text/plain": [
              "None                     382\n",
              "Academic                  93\n",
              "C-Suite                   68\n",
              "Researcher                62\n",
              "Manager, Director         57\n",
              "Engineer                  49\n",
              "Clinician                 22\n",
              "Marketer, Salesperson     16\n",
              "Designer                  12\n",
              "Business Developer        11\n",
              "Consultant                 9\n",
              "Operator                   2\n",
              "Name: Job Title Category, dtype: int64"
            ]
          },
          "metadata": {},
          "execution_count": 58
        }
      ]
    },
    {
      "cell_type": "code",
      "source": [
        "#the total number of job titles with a category\n",
        "df['Job Title Category'].value_counts().sum()"
      ],
      "metadata": {
        "colab": {
          "base_uri": "https://localhost:8080/"
        },
        "id": "HoQJSNnzCyoN",
        "outputId": "769c135e-d09e-4a68-9331-aa55729f5e72"
      },
      "execution_count": null,
      "outputs": [
        {
          "output_type": "execute_result",
          "data": {
            "text/plain": [
              "783"
            ]
          },
          "metadata": {},
          "execution_count": 59
        }
      ]
    },
    {
      "cell_type": "code",
      "source": [
        "#the percentage of job titles with a category\n",
        "df['Job Title Category'].value_counts().sum()/df['Job Title'].value_counts().sum()"
      ],
      "metadata": {
        "colab": {
          "base_uri": "https://localhost:8080/"
        },
        "id": "BBmay4f8DByp",
        "outputId": "94d4a59f-c1b4-4638-9915-5b3ca1c7ef79"
      },
      "execution_count": null,
      "outputs": [
        {
          "output_type": "execute_result",
          "data": {
            "text/plain": [
              "0.9266272189349113"
            ]
          },
          "metadata": {},
          "execution_count": 60
        }
      ]
    },
    {
      "cell_type": "markdown",
      "source": [
        "Questions to consider:\n",
        "\n",
        "\n",
        "*   Are these appropriate categories?\n",
        "*   Are they too overlapping?\n",
        "*   What else should be added?\n",
        "*   Can any be combined?\n",
        "*   What about all the 'None'?\n",
        "*   What categories are most important? (Should trump the others - IE engineer and founder will only be labeled as whatever category is run most recently)\n",
        "\n",
        "\n",
        "\n"
      ],
      "metadata": {
        "id": "mKHEkMudjDmu"
      }
    },
    {
      "cell_type": "code",
      "source": [
        "#original data now with an additional column called \"Job Title Category\"\n",
        "df.drop(labels='Email', axis=1).head(20)"
      ],
      "metadata": {
        "colab": {
          "base_uri": "https://localhost:8080/",
          "height": 1000
        },
        "id": "jTFZhJM-RNUd",
        "outputId": "61b4064a-bb1e-4d08-cdc8-d1c79c1bfed9"
      },
      "execution_count": null,
      "outputs": [
        {
          "output_type": "execute_result",
          "data": {
            "text/plain": [
              "   Attended          City Country/Region State/Province  \\\n",
              "0        No        Ankara             TR          Other   \n",
              "1       Yes     Abu Dhabi             AE          Other   \n",
              "2       Yes           NaN            NaN            NaN   \n",
              "3       Yes           NaN            NaN            NaN   \n",
              "4       Yes           NaN            NaN            NaN   \n",
              "5        No        Agadir             MA          Other   \n",
              "6        No    Gothenburg             SE          Other   \n",
              "7        No     Amsterdam             NL          Other   \n",
              "8        No      Melville             US             NY   \n",
              "9        No        Szeged             HU          Other   \n",
              "10      Yes        Jeddah             SA          Other   \n",
              "11      Yes      Garching             DE          Other   \n",
              "12       No       Dresden             DE          Other   \n",
              "13       No         Minna             NG          Other   \n",
              "14      Yes     Santpedor             ES           Otro   \n",
              "15       No       Vellore             IN          Other   \n",
              "16      Yes      Fairborn             US             OH   \n",
              "17       No       Vellore             IN          Other   \n",
              "18      Yes         Odesa             UA         Другое   \n",
              "19       No  Thessaloniki             GR          Other   \n",
              "\n",
              "                             Industry  \\\n",
              "0                       Manufacturing   \n",
              "1   Hospital,  Clinic,  Doctor Office   \n",
              "2                                 NaN   \n",
              "3                                 NaN   \n",
              "4                                 NaN   \n",
              "5          Medical,  Pharma,  Biotech   \n",
              "6          Medical,  Pharma,  Biotech   \n",
              "7                       Manufacturing   \n",
              "8                               Legal   \n",
              "9                           Education   \n",
              "10                          Education   \n",
              "11                              Other   \n",
              "12                      Manufacturing   \n",
              "13                          Education   \n",
              "14         Medical,  Pharma,  Biotech   \n",
              "15                          Education   \n",
              "16                      Manufacturing   \n",
              "17                          Education   \n",
              "18         Medical,  Pharma,  Biotech   \n",
              "19                          Education   \n",
              "\n",
              "                                Organization               Job Title  \\\n",
              "0                                       none               not given   \n",
              "1                                       Self               not given   \n",
              "2                                        NaN               not given   \n",
              "3                                        NaN               not given   \n",
              "4                                        NaN               not given   \n",
              "5                                        Uhp                     phd   \n",
              "6                                    Cellink  global product manager   \n",
              "7                        Photosynthetic B.V.               not given   \n",
              "8              Carter,  DeLuca & Farrell LLP                 partner   \n",
              "9                       University of Szeged               not given   \n",
              "10                                       KAU               not given   \n",
              "11            Technical University of Munich               professor   \n",
              "12                            Fraunhofer IWS               not given   \n",
              "13  Federal University of Technology,  Minna              researcher   \n",
              "14                                   Avinent                      rd   \n",
              "15                                       VIT               not given   \n",
              "16                        Tangible Solutions                     coo   \n",
              "17     Vellore Institute of Technology (VIT)     associate professor   \n",
              "18                             A.D.A.M. Inc.                     cto   \n",
              "19                                       ihu             phd student   \n",
              "\n",
              "   Questions & Comments   Registration Time           Join Time  \\\n",
              "0                   NaN 2022-09-01 09:31:37                 NaT   \n",
              "1                   NaN 2022-09-01 10:07:48 2022-09-15 08:03:24   \n",
              "2                   NaN                 NaT 2022-09-15 08:24:20   \n",
              "3                   NaN                 NaT 2022-09-15 09:33:47   \n",
              "4                   NaN                 NaT 2022-09-15 09:36:10   \n",
              "5                   NaN 2022-09-02 05:24:55                 NaT   \n",
              "6                   NaN 2022-09-06 04:31:38                 NaT   \n",
              "7                   NaN 2022-09-06 04:31:43                 NaT   \n",
              "8                   NaN 2022-09-06 04:32:12                 NaT   \n",
              "9                   NaN 2022-09-06 04:32:56                 NaT   \n",
              "10                  NaN 2022-09-06 04:35:33 2022-09-15 08:00:34   \n",
              "11                  NaN 2022-09-06 04:35:44 2022-09-15 08:00:48   \n",
              "12                  NaN 2022-09-06 04:37:33                 NaT   \n",
              "13                 None 2022-09-06 04:45:11                 NaT   \n",
              "14                  NaN 2022-09-06 04:47:13 2022-09-15 08:00:29   \n",
              "15                  NaN 2022-09-06 04:53:59                 NaT   \n",
              "16                  NaN 2022-09-06 04:57:23 2022-09-15 09:17:07   \n",
              "17                  NaN 2022-09-06 05:03:50                 NaT   \n",
              "18                  NaN 2022-09-06 05:05:43 2022-09-15 08:38:52   \n",
              "19                  NaN 2022-09-06 05:08:55                 NaT   \n",
              "\n",
              "            Leave Time  Time in Session (minutes)   Country/Region Name  \\\n",
              "0                  NaT                          0                Turkey   \n",
              "1  2022-09-15 08:23:06                         20  United Arab Emirates   \n",
              "2  2022-09-15 09:31:11                         67        United Kingdom   \n",
              "3  2022-09-15 09:35:53                          3        United Kingdom   \n",
              "4  2022-09-15 09:41:31                          6        United Kingdom   \n",
              "5                  NaT                          0               Morocco   \n",
              "6                  NaT                          0                Sweden   \n",
              "7                  NaT                          0           Netherlands   \n",
              "8                  NaT                          0         United States   \n",
              "9                  NaT                          0               Hungary   \n",
              "10 2022-09-15 09:41:30                        101          Saudi Arabia   \n",
              "11 2022-09-15 08:52:57                         53               Germany   \n",
              "12                 NaT                          0               Germany   \n",
              "13                 NaT                          0               Nigeria   \n",
              "14 2022-09-15 09:12:47                         73                 Spain   \n",
              "15                 NaT                          0                 India   \n",
              "16 2022-09-15 09:40:56                         24         United States   \n",
              "17                 NaT                          0                 India   \n",
              "18 2022-09-15 09:41:30                         63               Ukraine   \n",
              "19                 NaT                          0                Greece   \n",
              "\n",
              "   Source Name  webinar_name Job Title Category  \n",
              "0      website  Biomaterials               None  \n",
              "1    mailchimp  Biomaterials               None  \n",
              "2          NaN  Biomaterials               None  \n",
              "3          NaN  Biomaterials               None  \n",
              "4          NaN  Biomaterials               None  \n",
              "5    mailchimp  Biomaterials           Academic  \n",
              "6    mailchimp  Biomaterials  Manager, Director  \n",
              "7    mailchimp  Biomaterials               None  \n",
              "8    mailchimp  Biomaterials                NaN  \n",
              "9    mailchimp  Biomaterials               None  \n",
              "10   mailchimp  Biomaterials               None  \n",
              "11   mailchimp  Biomaterials           Academic  \n",
              "12     website  Biomaterials               None  \n",
              "13   mailchimp  Biomaterials         Researcher  \n",
              "14   mailchimp  Biomaterials         Researcher  \n",
              "15   mailchimp  Biomaterials               None  \n",
              "16   mailchimp  Biomaterials            C-Suite  \n",
              "17   mailchimp  Biomaterials           Academic  \n",
              "18   mailchimp  Biomaterials            C-Suite  \n",
              "19   mailchimp  Biomaterials           Academic  "
            ],
            "text/html": [
              "\n",
              "  <div id=\"df-111470f8-b74b-413f-8617-ab0bde10ee04\">\n",
              "    <div class=\"colab-df-container\">\n",
              "      <div>\n",
              "<style scoped>\n",
              "    .dataframe tbody tr th:only-of-type {\n",
              "        vertical-align: middle;\n",
              "    }\n",
              "\n",
              "    .dataframe tbody tr th {\n",
              "        vertical-align: top;\n",
              "    }\n",
              "\n",
              "    .dataframe thead th {\n",
              "        text-align: right;\n",
              "    }\n",
              "</style>\n",
              "<table border=\"1\" class=\"dataframe\">\n",
              "  <thead>\n",
              "    <tr style=\"text-align: right;\">\n",
              "      <th></th>\n",
              "      <th>Attended</th>\n",
              "      <th>City</th>\n",
              "      <th>Country/Region</th>\n",
              "      <th>State/Province</th>\n",
              "      <th>Industry</th>\n",
              "      <th>Organization</th>\n",
              "      <th>Job Title</th>\n",
              "      <th>Questions &amp; Comments</th>\n",
              "      <th>Registration Time</th>\n",
              "      <th>Join Time</th>\n",
              "      <th>Leave Time</th>\n",
              "      <th>Time in Session (minutes)</th>\n",
              "      <th>Country/Region Name</th>\n",
              "      <th>Source Name</th>\n",
              "      <th>webinar_name</th>\n",
              "      <th>Job Title Category</th>\n",
              "    </tr>\n",
              "  </thead>\n",
              "  <tbody>\n",
              "    <tr>\n",
              "      <th>0</th>\n",
              "      <td>No</td>\n",
              "      <td>Ankara</td>\n",
              "      <td>TR</td>\n",
              "      <td>Other</td>\n",
              "      <td>Manufacturing</td>\n",
              "      <td>none</td>\n",
              "      <td>not given</td>\n",
              "      <td>NaN</td>\n",
              "      <td>2022-09-01 09:31:37</td>\n",
              "      <td>NaT</td>\n",
              "      <td>NaT</td>\n",
              "      <td>0</td>\n",
              "      <td>Turkey</td>\n",
              "      <td>website</td>\n",
              "      <td>Biomaterials</td>\n",
              "      <td>None</td>\n",
              "    </tr>\n",
              "    <tr>\n",
              "      <th>1</th>\n",
              "      <td>Yes</td>\n",
              "      <td>Abu Dhabi</td>\n",
              "      <td>AE</td>\n",
              "      <td>Other</td>\n",
              "      <td>Hospital,  Clinic,  Doctor Office</td>\n",
              "      <td>Self</td>\n",
              "      <td>not given</td>\n",
              "      <td>NaN</td>\n",
              "      <td>2022-09-01 10:07:48</td>\n",
              "      <td>2022-09-15 08:03:24</td>\n",
              "      <td>2022-09-15 08:23:06</td>\n",
              "      <td>20</td>\n",
              "      <td>United Arab Emirates</td>\n",
              "      <td>mailchimp</td>\n",
              "      <td>Biomaterials</td>\n",
              "      <td>None</td>\n",
              "    </tr>\n",
              "    <tr>\n",
              "      <th>2</th>\n",
              "      <td>Yes</td>\n",
              "      <td>NaN</td>\n",
              "      <td>NaN</td>\n",
              "      <td>NaN</td>\n",
              "      <td>NaN</td>\n",
              "      <td>NaN</td>\n",
              "      <td>not given</td>\n",
              "      <td>NaN</td>\n",
              "      <td>NaT</td>\n",
              "      <td>2022-09-15 08:24:20</td>\n",
              "      <td>2022-09-15 09:31:11</td>\n",
              "      <td>67</td>\n",
              "      <td>United Kingdom</td>\n",
              "      <td>NaN</td>\n",
              "      <td>Biomaterials</td>\n",
              "      <td>None</td>\n",
              "    </tr>\n",
              "    <tr>\n",
              "      <th>3</th>\n",
              "      <td>Yes</td>\n",
              "      <td>NaN</td>\n",
              "      <td>NaN</td>\n",
              "      <td>NaN</td>\n",
              "      <td>NaN</td>\n",
              "      <td>NaN</td>\n",
              "      <td>not given</td>\n",
              "      <td>NaN</td>\n",
              "      <td>NaT</td>\n",
              "      <td>2022-09-15 09:33:47</td>\n",
              "      <td>2022-09-15 09:35:53</td>\n",
              "      <td>3</td>\n",
              "      <td>United Kingdom</td>\n",
              "      <td>NaN</td>\n",
              "      <td>Biomaterials</td>\n",
              "      <td>None</td>\n",
              "    </tr>\n",
              "    <tr>\n",
              "      <th>4</th>\n",
              "      <td>Yes</td>\n",
              "      <td>NaN</td>\n",
              "      <td>NaN</td>\n",
              "      <td>NaN</td>\n",
              "      <td>NaN</td>\n",
              "      <td>NaN</td>\n",
              "      <td>not given</td>\n",
              "      <td>NaN</td>\n",
              "      <td>NaT</td>\n",
              "      <td>2022-09-15 09:36:10</td>\n",
              "      <td>2022-09-15 09:41:31</td>\n",
              "      <td>6</td>\n",
              "      <td>United Kingdom</td>\n",
              "      <td>NaN</td>\n",
              "      <td>Biomaterials</td>\n",
              "      <td>None</td>\n",
              "    </tr>\n",
              "    <tr>\n",
              "      <th>5</th>\n",
              "      <td>No</td>\n",
              "      <td>Agadir</td>\n",
              "      <td>MA</td>\n",
              "      <td>Other</td>\n",
              "      <td>Medical,  Pharma,  Biotech</td>\n",
              "      <td>Uhp</td>\n",
              "      <td>phd</td>\n",
              "      <td>NaN</td>\n",
              "      <td>2022-09-02 05:24:55</td>\n",
              "      <td>NaT</td>\n",
              "      <td>NaT</td>\n",
              "      <td>0</td>\n",
              "      <td>Morocco</td>\n",
              "      <td>mailchimp</td>\n",
              "      <td>Biomaterials</td>\n",
              "      <td>Academic</td>\n",
              "    </tr>\n",
              "    <tr>\n",
              "      <th>6</th>\n",
              "      <td>No</td>\n",
              "      <td>Gothenburg</td>\n",
              "      <td>SE</td>\n",
              "      <td>Other</td>\n",
              "      <td>Medical,  Pharma,  Biotech</td>\n",
              "      <td>Cellink</td>\n",
              "      <td>global product manager</td>\n",
              "      <td>NaN</td>\n",
              "      <td>2022-09-06 04:31:38</td>\n",
              "      <td>NaT</td>\n",
              "      <td>NaT</td>\n",
              "      <td>0</td>\n",
              "      <td>Sweden</td>\n",
              "      <td>mailchimp</td>\n",
              "      <td>Biomaterials</td>\n",
              "      <td>Manager, Director</td>\n",
              "    </tr>\n",
              "    <tr>\n",
              "      <th>7</th>\n",
              "      <td>No</td>\n",
              "      <td>Amsterdam</td>\n",
              "      <td>NL</td>\n",
              "      <td>Other</td>\n",
              "      <td>Manufacturing</td>\n",
              "      <td>Photosynthetic B.V.</td>\n",
              "      <td>not given</td>\n",
              "      <td>NaN</td>\n",
              "      <td>2022-09-06 04:31:43</td>\n",
              "      <td>NaT</td>\n",
              "      <td>NaT</td>\n",
              "      <td>0</td>\n",
              "      <td>Netherlands</td>\n",
              "      <td>mailchimp</td>\n",
              "      <td>Biomaterials</td>\n",
              "      <td>None</td>\n",
              "    </tr>\n",
              "    <tr>\n",
              "      <th>8</th>\n",
              "      <td>No</td>\n",
              "      <td>Melville</td>\n",
              "      <td>US</td>\n",
              "      <td>NY</td>\n",
              "      <td>Legal</td>\n",
              "      <td>Carter,  DeLuca &amp; Farrell LLP</td>\n",
              "      <td>partner</td>\n",
              "      <td>NaN</td>\n",
              "      <td>2022-09-06 04:32:12</td>\n",
              "      <td>NaT</td>\n",
              "      <td>NaT</td>\n",
              "      <td>0</td>\n",
              "      <td>United States</td>\n",
              "      <td>mailchimp</td>\n",
              "      <td>Biomaterials</td>\n",
              "      <td>NaN</td>\n",
              "    </tr>\n",
              "    <tr>\n",
              "      <th>9</th>\n",
              "      <td>No</td>\n",
              "      <td>Szeged</td>\n",
              "      <td>HU</td>\n",
              "      <td>Other</td>\n",
              "      <td>Education</td>\n",
              "      <td>University of Szeged</td>\n",
              "      <td>not given</td>\n",
              "      <td>NaN</td>\n",
              "      <td>2022-09-06 04:32:56</td>\n",
              "      <td>NaT</td>\n",
              "      <td>NaT</td>\n",
              "      <td>0</td>\n",
              "      <td>Hungary</td>\n",
              "      <td>mailchimp</td>\n",
              "      <td>Biomaterials</td>\n",
              "      <td>None</td>\n",
              "    </tr>\n",
              "    <tr>\n",
              "      <th>10</th>\n",
              "      <td>Yes</td>\n",
              "      <td>Jeddah</td>\n",
              "      <td>SA</td>\n",
              "      <td>Other</td>\n",
              "      <td>Education</td>\n",
              "      <td>KAU</td>\n",
              "      <td>not given</td>\n",
              "      <td>NaN</td>\n",
              "      <td>2022-09-06 04:35:33</td>\n",
              "      <td>2022-09-15 08:00:34</td>\n",
              "      <td>2022-09-15 09:41:30</td>\n",
              "      <td>101</td>\n",
              "      <td>Saudi Arabia</td>\n",
              "      <td>mailchimp</td>\n",
              "      <td>Biomaterials</td>\n",
              "      <td>None</td>\n",
              "    </tr>\n",
              "    <tr>\n",
              "      <th>11</th>\n",
              "      <td>Yes</td>\n",
              "      <td>Garching</td>\n",
              "      <td>DE</td>\n",
              "      <td>Other</td>\n",
              "      <td>Other</td>\n",
              "      <td>Technical University of Munich</td>\n",
              "      <td>professor</td>\n",
              "      <td>NaN</td>\n",
              "      <td>2022-09-06 04:35:44</td>\n",
              "      <td>2022-09-15 08:00:48</td>\n",
              "      <td>2022-09-15 08:52:57</td>\n",
              "      <td>53</td>\n",
              "      <td>Germany</td>\n",
              "      <td>mailchimp</td>\n",
              "      <td>Biomaterials</td>\n",
              "      <td>Academic</td>\n",
              "    </tr>\n",
              "    <tr>\n",
              "      <th>12</th>\n",
              "      <td>No</td>\n",
              "      <td>Dresden</td>\n",
              "      <td>DE</td>\n",
              "      <td>Other</td>\n",
              "      <td>Manufacturing</td>\n",
              "      <td>Fraunhofer IWS</td>\n",
              "      <td>not given</td>\n",
              "      <td>NaN</td>\n",
              "      <td>2022-09-06 04:37:33</td>\n",
              "      <td>NaT</td>\n",
              "      <td>NaT</td>\n",
              "      <td>0</td>\n",
              "      <td>Germany</td>\n",
              "      <td>website</td>\n",
              "      <td>Biomaterials</td>\n",
              "      <td>None</td>\n",
              "    </tr>\n",
              "    <tr>\n",
              "      <th>13</th>\n",
              "      <td>No</td>\n",
              "      <td>Minna</td>\n",
              "      <td>NG</td>\n",
              "      <td>Other</td>\n",
              "      <td>Education</td>\n",
              "      <td>Federal University of Technology,  Minna</td>\n",
              "      <td>researcher</td>\n",
              "      <td>None</td>\n",
              "      <td>2022-09-06 04:45:11</td>\n",
              "      <td>NaT</td>\n",
              "      <td>NaT</td>\n",
              "      <td>0</td>\n",
              "      <td>Nigeria</td>\n",
              "      <td>mailchimp</td>\n",
              "      <td>Biomaterials</td>\n",
              "      <td>Researcher</td>\n",
              "    </tr>\n",
              "    <tr>\n",
              "      <th>14</th>\n",
              "      <td>Yes</td>\n",
              "      <td>Santpedor</td>\n",
              "      <td>ES</td>\n",
              "      <td>Otro</td>\n",
              "      <td>Medical,  Pharma,  Biotech</td>\n",
              "      <td>Avinent</td>\n",
              "      <td>rd</td>\n",
              "      <td>NaN</td>\n",
              "      <td>2022-09-06 04:47:13</td>\n",
              "      <td>2022-09-15 08:00:29</td>\n",
              "      <td>2022-09-15 09:12:47</td>\n",
              "      <td>73</td>\n",
              "      <td>Spain</td>\n",
              "      <td>mailchimp</td>\n",
              "      <td>Biomaterials</td>\n",
              "      <td>Researcher</td>\n",
              "    </tr>\n",
              "    <tr>\n",
              "      <th>15</th>\n",
              "      <td>No</td>\n",
              "      <td>Vellore</td>\n",
              "      <td>IN</td>\n",
              "      <td>Other</td>\n",
              "      <td>Education</td>\n",
              "      <td>VIT</td>\n",
              "      <td>not given</td>\n",
              "      <td>NaN</td>\n",
              "      <td>2022-09-06 04:53:59</td>\n",
              "      <td>NaT</td>\n",
              "      <td>NaT</td>\n",
              "      <td>0</td>\n",
              "      <td>India</td>\n",
              "      <td>mailchimp</td>\n",
              "      <td>Biomaterials</td>\n",
              "      <td>None</td>\n",
              "    </tr>\n",
              "    <tr>\n",
              "      <th>16</th>\n",
              "      <td>Yes</td>\n",
              "      <td>Fairborn</td>\n",
              "      <td>US</td>\n",
              "      <td>OH</td>\n",
              "      <td>Manufacturing</td>\n",
              "      <td>Tangible Solutions</td>\n",
              "      <td>coo</td>\n",
              "      <td>NaN</td>\n",
              "      <td>2022-09-06 04:57:23</td>\n",
              "      <td>2022-09-15 09:17:07</td>\n",
              "      <td>2022-09-15 09:40:56</td>\n",
              "      <td>24</td>\n",
              "      <td>United States</td>\n",
              "      <td>mailchimp</td>\n",
              "      <td>Biomaterials</td>\n",
              "      <td>C-Suite</td>\n",
              "    </tr>\n",
              "    <tr>\n",
              "      <th>17</th>\n",
              "      <td>No</td>\n",
              "      <td>Vellore</td>\n",
              "      <td>IN</td>\n",
              "      <td>Other</td>\n",
              "      <td>Education</td>\n",
              "      <td>Vellore Institute of Technology (VIT)</td>\n",
              "      <td>associate professor</td>\n",
              "      <td>NaN</td>\n",
              "      <td>2022-09-06 05:03:50</td>\n",
              "      <td>NaT</td>\n",
              "      <td>NaT</td>\n",
              "      <td>0</td>\n",
              "      <td>India</td>\n",
              "      <td>mailchimp</td>\n",
              "      <td>Biomaterials</td>\n",
              "      <td>Academic</td>\n",
              "    </tr>\n",
              "    <tr>\n",
              "      <th>18</th>\n",
              "      <td>Yes</td>\n",
              "      <td>Odesa</td>\n",
              "      <td>UA</td>\n",
              "      <td>Другое</td>\n",
              "      <td>Medical,  Pharma,  Biotech</td>\n",
              "      <td>A.D.A.M. Inc.</td>\n",
              "      <td>cto</td>\n",
              "      <td>NaN</td>\n",
              "      <td>2022-09-06 05:05:43</td>\n",
              "      <td>2022-09-15 08:38:52</td>\n",
              "      <td>2022-09-15 09:41:30</td>\n",
              "      <td>63</td>\n",
              "      <td>Ukraine</td>\n",
              "      <td>mailchimp</td>\n",
              "      <td>Biomaterials</td>\n",
              "      <td>C-Suite</td>\n",
              "    </tr>\n",
              "    <tr>\n",
              "      <th>19</th>\n",
              "      <td>No</td>\n",
              "      <td>Thessaloniki</td>\n",
              "      <td>GR</td>\n",
              "      <td>Other</td>\n",
              "      <td>Education</td>\n",
              "      <td>ihu</td>\n",
              "      <td>phd student</td>\n",
              "      <td>NaN</td>\n",
              "      <td>2022-09-06 05:08:55</td>\n",
              "      <td>NaT</td>\n",
              "      <td>NaT</td>\n",
              "      <td>0</td>\n",
              "      <td>Greece</td>\n",
              "      <td>mailchimp</td>\n",
              "      <td>Biomaterials</td>\n",
              "      <td>Academic</td>\n",
              "    </tr>\n",
              "  </tbody>\n",
              "</table>\n",
              "</div>\n",
              "      <button class=\"colab-df-convert\" onclick=\"convertToInteractive('df-111470f8-b74b-413f-8617-ab0bde10ee04')\"\n",
              "              title=\"Convert this dataframe to an interactive table.\"\n",
              "              style=\"display:none;\">\n",
              "        \n",
              "  <svg xmlns=\"http://www.w3.org/2000/svg\" height=\"24px\"viewBox=\"0 0 24 24\"\n",
              "       width=\"24px\">\n",
              "    <path d=\"M0 0h24v24H0V0z\" fill=\"none\"/>\n",
              "    <path d=\"M18.56 5.44l.94 2.06.94-2.06 2.06-.94-2.06-.94-.94-2.06-.94 2.06-2.06.94zm-11 1L8.5 8.5l.94-2.06 2.06-.94-2.06-.94L8.5 2.5l-.94 2.06-2.06.94zm10 10l.94 2.06.94-2.06 2.06-.94-2.06-.94-.94-2.06-.94 2.06-2.06.94z\"/><path d=\"M17.41 7.96l-1.37-1.37c-.4-.4-.92-.59-1.43-.59-.52 0-1.04.2-1.43.59L10.3 9.45l-7.72 7.72c-.78.78-.78 2.05 0 2.83L4 21.41c.39.39.9.59 1.41.59.51 0 1.02-.2 1.41-.59l7.78-7.78 2.81-2.81c.8-.78.8-2.07 0-2.86zM5.41 20L4 18.59l7.72-7.72 1.47 1.35L5.41 20z\"/>\n",
              "  </svg>\n",
              "      </button>\n",
              "      \n",
              "  <style>\n",
              "    .colab-df-container {\n",
              "      display:flex;\n",
              "      flex-wrap:wrap;\n",
              "      gap: 12px;\n",
              "    }\n",
              "\n",
              "    .colab-df-convert {\n",
              "      background-color: #E8F0FE;\n",
              "      border: none;\n",
              "      border-radius: 50%;\n",
              "      cursor: pointer;\n",
              "      display: none;\n",
              "      fill: #1967D2;\n",
              "      height: 32px;\n",
              "      padding: 0 0 0 0;\n",
              "      width: 32px;\n",
              "    }\n",
              "\n",
              "    .colab-df-convert:hover {\n",
              "      background-color: #E2EBFA;\n",
              "      box-shadow: 0px 1px 2px rgba(60, 64, 67, 0.3), 0px 1px 3px 1px rgba(60, 64, 67, 0.15);\n",
              "      fill: #174EA6;\n",
              "    }\n",
              "\n",
              "    [theme=dark] .colab-df-convert {\n",
              "      background-color: #3B4455;\n",
              "      fill: #D2E3FC;\n",
              "    }\n",
              "\n",
              "    [theme=dark] .colab-df-convert:hover {\n",
              "      background-color: #434B5C;\n",
              "      box-shadow: 0px 1px 3px 1px rgba(0, 0, 0, 0.15);\n",
              "      filter: drop-shadow(0px 1px 2px rgba(0, 0, 0, 0.3));\n",
              "      fill: #FFFFFF;\n",
              "    }\n",
              "  </style>\n",
              "\n",
              "      <script>\n",
              "        const buttonEl =\n",
              "          document.querySelector('#df-111470f8-b74b-413f-8617-ab0bde10ee04 button.colab-df-convert');\n",
              "        buttonEl.style.display =\n",
              "          google.colab.kernel.accessAllowed ? 'block' : 'none';\n",
              "\n",
              "        async function convertToInteractive(key) {\n",
              "          const element = document.querySelector('#df-111470f8-b74b-413f-8617-ab0bde10ee04');\n",
              "          const dataTable =\n",
              "            await google.colab.kernel.invokeFunction('convertToInteractive',\n",
              "                                                     [key], {});\n",
              "          if (!dataTable) return;\n",
              "\n",
              "          const docLinkHtml = 'Like what you see? Visit the ' +\n",
              "            '<a target=\"_blank\" href=https://colab.research.google.com/notebooks/data_table.ipynb>data table notebook</a>'\n",
              "            + ' to learn more about interactive tables.';\n",
              "          element.innerHTML = '';\n",
              "          dataTable['output_type'] = 'display_data';\n",
              "          await google.colab.output.renderOutput(dataTable, element);\n",
              "          const docLink = document.createElement('div');\n",
              "          docLink.innerHTML = docLinkHtml;\n",
              "          element.appendChild(docLink);\n",
              "        }\n",
              "      </script>\n",
              "    </div>\n",
              "  </div>\n",
              "  "
            ]
          },
          "metadata": {},
          "execution_count": 61
        }
      ]
    },
    {
      "cell_type": "code",
      "source": [
        "#Who is left without a category?\n",
        "jobs_without_category = df[df['Job Title Category'].isna()]['Job Title'].tolist()\n",
        "jobs_without_category"
      ],
      "metadata": {
        "colab": {
          "base_uri": "https://localhost:8080/"
        },
        "id": "lZT3Uk17J6Fy",
        "outputId": "0328423a-3731-47bf-cd12-7f1967c9fd40"
      },
      "execution_count": null,
      "outputs": [
        {
          "output_type": "execute_result",
          "data": {
            "text/plain": [
              "['partner',\n",
              " 'dental techichan',\n",
              " 'develer',\n",
              " 'rd engineering associate',\n",
              " 'sr dir clin ops',\n",
              " 'vp  technology  innovation ',\n",
              " 'partner',\n",
              " 'analista de produto',\n",
              " 'bme',\n",
              " 'dvsc',\n",
              " 'öğrenci',\n",
              " 'head of materials development 3d printing',\n",
              " 'business analyst',\n",
              " 'vp of biomaterials and innovation',\n",
              " 'sr',\n",
              " 'educador y coach',\n",
              " 'bdm',\n",
              " 'partner',\n",
              " 'simulation technology technician',\n",
              " 'product management',\n",
              " 'hp mjf 3d print services ',\n",
              " 'intern',\n",
              " 'global dental lead',\n",
              " 'associate',\n",
              " 'hr head',\n",
              " 'partner',\n",
              " 'arketing  strategy',\n",
              " '3d incubation ',\n",
              " 'private',\n",
              " 'developer',\n",
              " 'orthotistprosthetist',\n",
              " 'plant head',\n",
              " 'vp quality and regulatory',\n",
              " 'impresión 3d',\n",
              " 'lisans öğrencisi',\n",
              " '3d uygulama mühendisi',\n",
              " 'managing partner',\n",
              " 'coordinador general',\n",
              " 'analista de projetos ',\n",
              " 'öğrenci',\n",
              " 'additive manufacturing coordinator',\n",
              " 'researchdevelopment leader',\n",
              " 'senior assessor',\n",
              " 'dvsc',\n",
              " 'öğrenci',\n",
              " 'client partner',\n",
              " 'employee',\n",
              " 'partner',\n",
              " 'coordinadora de diseño',\n",
              " 'retired',\n",
              " 'partner',\n",
              " 'fpm',\n",
              " 'dvm',\n",
              " 'biomédica',\n",
              " 'rd engineering associate',\n",
              " 'head of additive manufacturing',\n",
              " 'senior lecurer',\n",
              " 'gruppenleiter',\n",
              " 'engineering technician',\n",
              " 'tsid',\n",
              " 'retired',\n",
              " 'global 3dp commercial lead']"
            ]
          },
          "metadata": {},
          "execution_count": 62
        }
      ]
    },
    {
      "cell_type": "code",
      "source": [
        "len(jobs_without_category)"
      ],
      "metadata": {
        "colab": {
          "base_uri": "https://localhost:8080/"
        },
        "id": "0QYyOHf6I_bP",
        "outputId": "94b46ec1-25fb-4b28-f75b-28ad90b59ce1"
      },
      "execution_count": null,
      "outputs": [
        {
          "output_type": "execute_result",
          "data": {
            "text/plain": [
              "62"
            ]
          },
          "metadata": {},
          "execution_count": 63
        }
      ]
    },
    {
      "cell_type": "markdown",
      "source": [
        "## Save the data to a new csv"
      ],
      "metadata": {
        "id": "B-VrdoWE--Dl"
      }
    },
    {
      "cell_type": "code",
      "source": [
        "\n",
        "os.makedirs('/content/gdrive/MyDrive/Springboard/3D_Heals_Project/Riipen_Springboard/', exist_ok=True)  \n",
        "df.to_csv('/content/gdrive/MyDrive/Springboard/3D_Heals_Project/Riipen_Springboard/combined_webinars.csv')\n"
      ],
      "metadata": {
        "id": "MUyci0O5JDTW"
      },
      "execution_count": null,
      "outputs": []
    },
    {
      "cell_type": "markdown",
      "source": [
        "#Cleaning Duplicated Values"
      ],
      "metadata": {
        "id": "MiueSi-k3VTi"
      }
    },
    {
      "cell_type": "code",
      "source": [
        "df.isna().sum()"
      ],
      "metadata": {
        "colab": {
          "base_uri": "https://localhost:8080/"
        },
        "id": "lOG66W9g3-6B",
        "outputId": "9175c35b-a947-48de-feb7-7966905c8cfb"
      },
      "execution_count": null,
      "outputs": [
        {
          "output_type": "execute_result",
          "data": {
            "text/plain": [
              "Attended                       0\n",
              "Email                          4\n",
              "City                         147\n",
              "Country/Region               156\n",
              "State/Province               156\n",
              "Industry                     156\n",
              "Organization                 162\n",
              "Job Title                      0\n",
              "Questions & Comments         830\n",
              "Registration Time            156\n",
              "Join Time                    395\n",
              "Leave Time                   395\n",
              "Time in Session (minutes)      0\n",
              "Country/Region Name           18\n",
              "Source Name                  185\n",
              "webinar_name                   0\n",
              "Job Title Category            62\n",
              "dtype: int64"
            ]
          },
          "metadata": {},
          "execution_count": 65
        }
      ]
    },
    {
      "cell_type": "code",
      "source": [
        "df.isna().sum()"
      ],
      "metadata": {
        "colab": {
          "base_uri": "https://localhost:8080/"
        },
        "id": "nPjaBU2z4GwU",
        "outputId": "b947c6c6-93d4-41dd-c604-9de7f7a24e62"
      },
      "execution_count": null,
      "outputs": [
        {
          "output_type": "execute_result",
          "data": {
            "text/plain": [
              "Attended                       0\n",
              "Email                          4\n",
              "City                         147\n",
              "Country/Region               156\n",
              "State/Province               156\n",
              "Industry                     156\n",
              "Organization                 162\n",
              "Job Title                      0\n",
              "Questions & Comments         830\n",
              "Registration Time            156\n",
              "Join Time                    395\n",
              "Leave Time                   395\n",
              "Time in Session (minutes)      0\n",
              "Country/Region Name           18\n",
              "Source Name                  185\n",
              "webinar_name                   0\n",
              "Job Title Category            62\n",
              "dtype: int64"
            ]
          },
          "metadata": {},
          "execution_count": 66
        }
      ]
    },
    {
      "cell_type": "code",
      "execution_count": null,
      "metadata": {
        "colab": {
          "base_uri": "https://localhost:8080/"
        },
        "id": "OPCKUDXk6IsK",
        "outputId": "5707f67b-5e01-4e47-b1e3-8e9e6ebfe6e9"
      },
      "outputs": [
        {
          "output_type": "execute_result",
          "data": {
            "text/plain": [
              "0"
            ]
          },
          "metadata": {},
          "execution_count": 67
        }
      ],
      "source": [
        "df.duplicated().sum()"
      ]
    },
    {
      "cell_type": "code",
      "execution_count": null,
      "metadata": {
        "colab": {
          "base_uri": "https://localhost:8080/",
          "height": 809
        },
        "id": "sqhm9YE75FlB",
        "outputId": "6b472f35-7cac-49d0-c37b-85629dca7aa7"
      },
      "outputs": [
        {
          "output_type": "execute_result",
          "data": {
            "text/plain": [
              "    Attended City Country/Region State/Province Industry Organization  \\\n",
              "2        Yes  NaN            NaN            NaN      NaN          NaN   \n",
              "3        Yes  NaN            NaN            NaN      NaN          NaN   \n",
              "4        Yes  NaN            NaN            NaN      NaN          NaN   \n",
              "31       Yes  NaN            NaN            NaN      NaN          NaN   \n",
              "32       Yes  NaN            NaN            NaN      NaN          NaN   \n",
              "50       Yes  NaN            NaN            NaN      NaN          NaN   \n",
              "57       Yes  NaN            NaN            NaN      NaN          NaN   \n",
              "111      Yes  NaN            NaN            NaN      NaN          NaN   \n",
              "125      Yes  NaN            NaN            NaN      NaN          NaN   \n",
              "153      Yes  NaN            NaN            NaN      NaN          NaN   \n",
              "\n",
              "     Job Title Questions & Comments Registration Time           Join Time  \\\n",
              "2    not given                  NaN               NaT 2022-09-15 08:24:20   \n",
              "3    not given                  NaN               NaT 2022-09-15 09:33:47   \n",
              "4    not given                  NaN               NaT 2022-09-15 09:36:10   \n",
              "31   not given                  NaN               NaT 2022-09-15 08:40:15   \n",
              "32   not given                  NaN               NaT 2022-09-15 09:27:34   \n",
              "50   not given                  NaN               NaT 2022-09-15 09:12:04   \n",
              "57   not given                  NaN               NaT 2022-09-15 08:10:28   \n",
              "111  not given                  NaN               NaT 2022-09-15 08:25:24   \n",
              "125  not given                  NaN               NaT 2022-09-15 08:52:34   \n",
              "153  not given                  NaN               NaT 2022-09-15 08:46:15   \n",
              "\n",
              "             Leave Time  Time in Session (minutes) Country/Region Name  \\\n",
              "2   2022-09-15 09:31:11                         67      United Kingdom   \n",
              "3   2022-09-15 09:35:53                          3      United Kingdom   \n",
              "4   2022-09-15 09:41:31                          6      United Kingdom   \n",
              "31  2022-09-15 09:26:50                         47               India   \n",
              "32  2022-09-15 09:41:32                         14               India   \n",
              "50  2022-09-15 09:41:31                         30               India   \n",
              "57  2022-09-15 09:10:12                         60               India   \n",
              "111 2022-09-15 09:41:30                         77       United States   \n",
              "125 2022-09-15 09:19:26                         27              Israel   \n",
              "153 2022-09-15 09:23:28                         38       United States   \n",
              "\n",
              "    Source Name  webinar_name Job Title Category  \n",
              "2           NaN  Biomaterials               None  \n",
              "3           NaN  Biomaterials               None  \n",
              "4           NaN  Biomaterials               None  \n",
              "31          NaN  Biomaterials               None  \n",
              "32          NaN  Biomaterials               None  \n",
              "50          NaN  Biomaterials               None  \n",
              "57          NaN  Biomaterials               None  \n",
              "111         NaN  Biomaterials               None  \n",
              "125         NaN  Biomaterials               None  \n",
              "153         NaN  Biomaterials               None  "
            ],
            "text/html": [
              "\n",
              "  <div id=\"df-884c8e8a-84d3-431b-906d-e67cba1c63b6\">\n",
              "    <div class=\"colab-df-container\">\n",
              "      <div>\n",
              "<style scoped>\n",
              "    .dataframe tbody tr th:only-of-type {\n",
              "        vertical-align: middle;\n",
              "    }\n",
              "\n",
              "    .dataframe tbody tr th {\n",
              "        vertical-align: top;\n",
              "    }\n",
              "\n",
              "    .dataframe thead th {\n",
              "        text-align: right;\n",
              "    }\n",
              "</style>\n",
              "<table border=\"1\" class=\"dataframe\">\n",
              "  <thead>\n",
              "    <tr style=\"text-align: right;\">\n",
              "      <th></th>\n",
              "      <th>Attended</th>\n",
              "      <th>City</th>\n",
              "      <th>Country/Region</th>\n",
              "      <th>State/Province</th>\n",
              "      <th>Industry</th>\n",
              "      <th>Organization</th>\n",
              "      <th>Job Title</th>\n",
              "      <th>Questions &amp; Comments</th>\n",
              "      <th>Registration Time</th>\n",
              "      <th>Join Time</th>\n",
              "      <th>Leave Time</th>\n",
              "      <th>Time in Session (minutes)</th>\n",
              "      <th>Country/Region Name</th>\n",
              "      <th>Source Name</th>\n",
              "      <th>webinar_name</th>\n",
              "      <th>Job Title Category</th>\n",
              "    </tr>\n",
              "  </thead>\n",
              "  <tbody>\n",
              "    <tr>\n",
              "      <th>2</th>\n",
              "      <td>Yes</td>\n",
              "      <td>NaN</td>\n",
              "      <td>NaN</td>\n",
              "      <td>NaN</td>\n",
              "      <td>NaN</td>\n",
              "      <td>NaN</td>\n",
              "      <td>not given</td>\n",
              "      <td>NaN</td>\n",
              "      <td>NaT</td>\n",
              "      <td>2022-09-15 08:24:20</td>\n",
              "      <td>2022-09-15 09:31:11</td>\n",
              "      <td>67</td>\n",
              "      <td>United Kingdom</td>\n",
              "      <td>NaN</td>\n",
              "      <td>Biomaterials</td>\n",
              "      <td>None</td>\n",
              "    </tr>\n",
              "    <tr>\n",
              "      <th>3</th>\n",
              "      <td>Yes</td>\n",
              "      <td>NaN</td>\n",
              "      <td>NaN</td>\n",
              "      <td>NaN</td>\n",
              "      <td>NaN</td>\n",
              "      <td>NaN</td>\n",
              "      <td>not given</td>\n",
              "      <td>NaN</td>\n",
              "      <td>NaT</td>\n",
              "      <td>2022-09-15 09:33:47</td>\n",
              "      <td>2022-09-15 09:35:53</td>\n",
              "      <td>3</td>\n",
              "      <td>United Kingdom</td>\n",
              "      <td>NaN</td>\n",
              "      <td>Biomaterials</td>\n",
              "      <td>None</td>\n",
              "    </tr>\n",
              "    <tr>\n",
              "      <th>4</th>\n",
              "      <td>Yes</td>\n",
              "      <td>NaN</td>\n",
              "      <td>NaN</td>\n",
              "      <td>NaN</td>\n",
              "      <td>NaN</td>\n",
              "      <td>NaN</td>\n",
              "      <td>not given</td>\n",
              "      <td>NaN</td>\n",
              "      <td>NaT</td>\n",
              "      <td>2022-09-15 09:36:10</td>\n",
              "      <td>2022-09-15 09:41:31</td>\n",
              "      <td>6</td>\n",
              "      <td>United Kingdom</td>\n",
              "      <td>NaN</td>\n",
              "      <td>Biomaterials</td>\n",
              "      <td>None</td>\n",
              "    </tr>\n",
              "    <tr>\n",
              "      <th>31</th>\n",
              "      <td>Yes</td>\n",
              "      <td>NaN</td>\n",
              "      <td>NaN</td>\n",
              "      <td>NaN</td>\n",
              "      <td>NaN</td>\n",
              "      <td>NaN</td>\n",
              "      <td>not given</td>\n",
              "      <td>NaN</td>\n",
              "      <td>NaT</td>\n",
              "      <td>2022-09-15 08:40:15</td>\n",
              "      <td>2022-09-15 09:26:50</td>\n",
              "      <td>47</td>\n",
              "      <td>India</td>\n",
              "      <td>NaN</td>\n",
              "      <td>Biomaterials</td>\n",
              "      <td>None</td>\n",
              "    </tr>\n",
              "    <tr>\n",
              "      <th>32</th>\n",
              "      <td>Yes</td>\n",
              "      <td>NaN</td>\n",
              "      <td>NaN</td>\n",
              "      <td>NaN</td>\n",
              "      <td>NaN</td>\n",
              "      <td>NaN</td>\n",
              "      <td>not given</td>\n",
              "      <td>NaN</td>\n",
              "      <td>NaT</td>\n",
              "      <td>2022-09-15 09:27:34</td>\n",
              "      <td>2022-09-15 09:41:32</td>\n",
              "      <td>14</td>\n",
              "      <td>India</td>\n",
              "      <td>NaN</td>\n",
              "      <td>Biomaterials</td>\n",
              "      <td>None</td>\n",
              "    </tr>\n",
              "    <tr>\n",
              "      <th>50</th>\n",
              "      <td>Yes</td>\n",
              "      <td>NaN</td>\n",
              "      <td>NaN</td>\n",
              "      <td>NaN</td>\n",
              "      <td>NaN</td>\n",
              "      <td>NaN</td>\n",
              "      <td>not given</td>\n",
              "      <td>NaN</td>\n",
              "      <td>NaT</td>\n",
              "      <td>2022-09-15 09:12:04</td>\n",
              "      <td>2022-09-15 09:41:31</td>\n",
              "      <td>30</td>\n",
              "      <td>India</td>\n",
              "      <td>NaN</td>\n",
              "      <td>Biomaterials</td>\n",
              "      <td>None</td>\n",
              "    </tr>\n",
              "    <tr>\n",
              "      <th>57</th>\n",
              "      <td>Yes</td>\n",
              "      <td>NaN</td>\n",
              "      <td>NaN</td>\n",
              "      <td>NaN</td>\n",
              "      <td>NaN</td>\n",
              "      <td>NaN</td>\n",
              "      <td>not given</td>\n",
              "      <td>NaN</td>\n",
              "      <td>NaT</td>\n",
              "      <td>2022-09-15 08:10:28</td>\n",
              "      <td>2022-09-15 09:10:12</td>\n",
              "      <td>60</td>\n",
              "      <td>India</td>\n",
              "      <td>NaN</td>\n",
              "      <td>Biomaterials</td>\n",
              "      <td>None</td>\n",
              "    </tr>\n",
              "    <tr>\n",
              "      <th>111</th>\n",
              "      <td>Yes</td>\n",
              "      <td>NaN</td>\n",
              "      <td>NaN</td>\n",
              "      <td>NaN</td>\n",
              "      <td>NaN</td>\n",
              "      <td>NaN</td>\n",
              "      <td>not given</td>\n",
              "      <td>NaN</td>\n",
              "      <td>NaT</td>\n",
              "      <td>2022-09-15 08:25:24</td>\n",
              "      <td>2022-09-15 09:41:30</td>\n",
              "      <td>77</td>\n",
              "      <td>United States</td>\n",
              "      <td>NaN</td>\n",
              "      <td>Biomaterials</td>\n",
              "      <td>None</td>\n",
              "    </tr>\n",
              "    <tr>\n",
              "      <th>125</th>\n",
              "      <td>Yes</td>\n",
              "      <td>NaN</td>\n",
              "      <td>NaN</td>\n",
              "      <td>NaN</td>\n",
              "      <td>NaN</td>\n",
              "      <td>NaN</td>\n",
              "      <td>not given</td>\n",
              "      <td>NaN</td>\n",
              "      <td>NaT</td>\n",
              "      <td>2022-09-15 08:52:34</td>\n",
              "      <td>2022-09-15 09:19:26</td>\n",
              "      <td>27</td>\n",
              "      <td>Israel</td>\n",
              "      <td>NaN</td>\n",
              "      <td>Biomaterials</td>\n",
              "      <td>None</td>\n",
              "    </tr>\n",
              "    <tr>\n",
              "      <th>153</th>\n",
              "      <td>Yes</td>\n",
              "      <td>NaN</td>\n",
              "      <td>NaN</td>\n",
              "      <td>NaN</td>\n",
              "      <td>NaN</td>\n",
              "      <td>NaN</td>\n",
              "      <td>not given</td>\n",
              "      <td>NaN</td>\n",
              "      <td>NaT</td>\n",
              "      <td>2022-09-15 08:46:15</td>\n",
              "      <td>2022-09-15 09:23:28</td>\n",
              "      <td>38</td>\n",
              "      <td>United States</td>\n",
              "      <td>NaN</td>\n",
              "      <td>Biomaterials</td>\n",
              "      <td>None</td>\n",
              "    </tr>\n",
              "  </tbody>\n",
              "</table>\n",
              "</div>\n",
              "      <button class=\"colab-df-convert\" onclick=\"convertToInteractive('df-884c8e8a-84d3-431b-906d-e67cba1c63b6')\"\n",
              "              title=\"Convert this dataframe to an interactive table.\"\n",
              "              style=\"display:none;\">\n",
              "        \n",
              "  <svg xmlns=\"http://www.w3.org/2000/svg\" height=\"24px\"viewBox=\"0 0 24 24\"\n",
              "       width=\"24px\">\n",
              "    <path d=\"M0 0h24v24H0V0z\" fill=\"none\"/>\n",
              "    <path d=\"M18.56 5.44l.94 2.06.94-2.06 2.06-.94-2.06-.94-.94-2.06-.94 2.06-2.06.94zm-11 1L8.5 8.5l.94-2.06 2.06-.94-2.06-.94L8.5 2.5l-.94 2.06-2.06.94zm10 10l.94 2.06.94-2.06 2.06-.94-2.06-.94-.94-2.06-.94 2.06-2.06.94z\"/><path d=\"M17.41 7.96l-1.37-1.37c-.4-.4-.92-.59-1.43-.59-.52 0-1.04.2-1.43.59L10.3 9.45l-7.72 7.72c-.78.78-.78 2.05 0 2.83L4 21.41c.39.39.9.59 1.41.59.51 0 1.02-.2 1.41-.59l7.78-7.78 2.81-2.81c.8-.78.8-2.07 0-2.86zM5.41 20L4 18.59l7.72-7.72 1.47 1.35L5.41 20z\"/>\n",
              "  </svg>\n",
              "      </button>\n",
              "      \n",
              "  <style>\n",
              "    .colab-df-container {\n",
              "      display:flex;\n",
              "      flex-wrap:wrap;\n",
              "      gap: 12px;\n",
              "    }\n",
              "\n",
              "    .colab-df-convert {\n",
              "      background-color: #E8F0FE;\n",
              "      border: none;\n",
              "      border-radius: 50%;\n",
              "      cursor: pointer;\n",
              "      display: none;\n",
              "      fill: #1967D2;\n",
              "      height: 32px;\n",
              "      padding: 0 0 0 0;\n",
              "      width: 32px;\n",
              "    }\n",
              "\n",
              "    .colab-df-convert:hover {\n",
              "      background-color: #E2EBFA;\n",
              "      box-shadow: 0px 1px 2px rgba(60, 64, 67, 0.3), 0px 1px 3px 1px rgba(60, 64, 67, 0.15);\n",
              "      fill: #174EA6;\n",
              "    }\n",
              "\n",
              "    [theme=dark] .colab-df-convert {\n",
              "      background-color: #3B4455;\n",
              "      fill: #D2E3FC;\n",
              "    }\n",
              "\n",
              "    [theme=dark] .colab-df-convert:hover {\n",
              "      background-color: #434B5C;\n",
              "      box-shadow: 0px 1px 3px 1px rgba(0, 0, 0, 0.15);\n",
              "      filter: drop-shadow(0px 1px 2px rgba(0, 0, 0, 0.3));\n",
              "      fill: #FFFFFF;\n",
              "    }\n",
              "  </style>\n",
              "\n",
              "      <script>\n",
              "        const buttonEl =\n",
              "          document.querySelector('#df-884c8e8a-84d3-431b-906d-e67cba1c63b6 button.colab-df-convert');\n",
              "        buttonEl.style.display =\n",
              "          google.colab.kernel.accessAllowed ? 'block' : 'none';\n",
              "\n",
              "        async function convertToInteractive(key) {\n",
              "          const element = document.querySelector('#df-884c8e8a-84d3-431b-906d-e67cba1c63b6');\n",
              "          const dataTable =\n",
              "            await google.colab.kernel.invokeFunction('convertToInteractive',\n",
              "                                                     [key], {});\n",
              "          if (!dataTable) return;\n",
              "\n",
              "          const docLinkHtml = 'Like what you see? Visit the ' +\n",
              "            '<a target=\"_blank\" href=https://colab.research.google.com/notebooks/data_table.ipynb>data table notebook</a>'\n",
              "            + ' to learn more about interactive tables.';\n",
              "          element.innerHTML = '';\n",
              "          dataTable['output_type'] = 'display_data';\n",
              "          await google.colab.output.renderOutput(dataTable, element);\n",
              "          const docLink = document.createElement('div');\n",
              "          docLink.innerHTML = docLinkHtml;\n",
              "          element.appendChild(docLink);\n",
              "        }\n",
              "      </script>\n",
              "    </div>\n",
              "  </div>\n",
              "  "
            ]
          },
          "metadata": {},
          "execution_count": 68
        }
      ],
      "source": [
        "#all the duplicated rows based on email and webinar name\n",
        "df[df.duplicated(subset=['Email','webinar_name'])].drop(labels='Email', axis=1).head(10)"
      ]
    },
    {
      "cell_type": "code",
      "source": [
        "#list of duplicated email addresses\n",
        "multiple_logins = df[df.duplicated(subset=['Email','webinar_name'])]['Email'].tolist()"
      ],
      "metadata": {
        "id": "UY38QmKCIM_D"
      },
      "execution_count": null,
      "outputs": []
    },
    {
      "cell_type": "code",
      "source": [
        "#number of times an email address logged in AFTER the first attempt for all webinars\n",
        "dictionary_of_logins = {} \n",
        "for email in multiple_logins: \n",
        "    if email in dictionary_of_logins: \n",
        "         dictionary_of_logins[email] += 1 \n",
        "    else: \n",
        "         dictionary_of_logins[email] = 1\n",
        "plt.hist(dictionary_of_logins.values())\n",
        "plt.title('Number of times an email address logged in AFTER the first attempt for all webinars')\n",
        "plt.xlabel('Number of Logins')\n",
        "plt.ylabel('Frequency')"
      ],
      "metadata": {
        "colab": {
          "base_uri": "https://localhost:8080/",
          "height": 312
        },
        "id": "u5KwwATPKWFx",
        "outputId": "f80a89f0-16e5-4c0f-addd-5f9247279541"
      },
      "execution_count": null,
      "outputs": [
        {
          "output_type": "execute_result",
          "data": {
            "text/plain": [
              "Text(0, 0.5, 'Frequency')"
            ]
          },
          "metadata": {},
          "execution_count": 107
        },
        {
          "output_type": "display_data",
          "data": {
            "text/plain": [
              "<Figure size 432x288 with 1 Axes>"
            ],
            "image/png": "[encoded data removed]"
          },
          "metadata": {
            "needs_background": "light"
          }
        }
      ]
    },
    {
      "cell_type": "code",
      "source": [
        "#create a total time column\n",
        "df['Total_time'] = df.groupby(['Email','webinar_name'])['Time in Session (minutes)'].transform('sum')"
      ],
      "metadata": {
        "id": "OVFgeNYY6eqD"
      },
      "execution_count": null,
      "outputs": []
    },
    {
      "cell_type": "code",
      "source": [
        "#create a column for the number of times a participant logged in\n",
        "df['Number_of_Logins'] = df.groupby(['Email','webinar_name'])['Join Time'].transform('count')"
      ],
      "metadata": {
        "id": "YOc5FU8XylFr"
      },
      "execution_count": null,
      "outputs": []
    },
    {
      "cell_type": "code",
      "source": [
        "#Example of a participant that logged in multiple times\n",
        "#df[df['Email']=='']"
      ],
      "metadata": {
        "colab": {
          "base_uri": "https://localhost:8080/",
          "height": 489
        },
        "id": "8efGvLv095Mp",
        "outputId": "5d955ffc-70de-442c-b0ff-b10a04810484"
      },
      "execution_count": null,
      "outputs": [
        {
          "output_type": "execute_result",
          "data": {
            "text/plain": [
              "             Attended Email           City Country/Region State/Province  \\\n",
              "250       19176429644   Yes  United States            NaN            NaN   \n",
              "251       12022514648   Yes  United States            NaN            NaN   \n",
              "252       14123599627   Yes  United States            NaN            NaN   \n",
              "253       18322983212   Yes  United States            NaN            NaN   \n",
              "166  0114915776295912   Yes  United States            NaN            NaN   \n",
              "247       17142381131   Yes  United States            NaN            NaN   \n",
              "175       15184664566   Yes            NaN            NaN            NaN   \n",
              "\n",
              "    Industry Organization  Job Title Questions & Comments Registration Time  \\\n",
              "250      NaN          NaN  not given                  NaN               NaT   \n",
              "251      NaN          NaN  not given                  NaN               NaT   \n",
              "252      NaN          NaN  not given                  NaN               NaT   \n",
              "253      NaN          NaN  not given                  NaN               NaT   \n",
              "166      NaN          NaN  not given                  NaN               NaT   \n",
              "247      NaN          NaN  not given                  NaN               NaT   \n",
              "175      NaN          NaN  not given                  NaN               NaT   \n",
              "\n",
              "    Join Time Leave Time  Time in Session (minutes) Country/Region Name  \\\n",
              "250       NaT        NaT                          0                 NaN   \n",
              "251       NaT        NaT                          0                 NaN   \n",
              "252       NaT        NaT                          0                 NaN   \n",
              "253       NaT        NaT                          0                 NaN   \n",
              "166       NaT        NaT                          0                 NaN   \n",
              "247       NaT        NaT                          0                 NaN   \n",
              "175       NaT        NaT                          0                 NaN   \n",
              "\n",
              "    Source Name      webinar_name Job Title Category  Total_time  \\\n",
              "250         NaN      Biomaterials               None         0.0   \n",
              "251         NaN      Biomaterials               None         0.0   \n",
              "252         NaN      Biomaterials               None         0.0   \n",
              "253         NaN      Biomaterials               None         0.0   \n",
              "166         NaN  Indian Ecosystem               None         0.0   \n",
              "247         NaN          3D Metal               None         0.0   \n",
              "175         NaN     Preprocessing               None         0.0   \n",
              "\n",
              "     Number_of_Logins  \n",
              "250               0.0  \n",
              "251               0.0  \n",
              "252               0.0  \n",
              "253               0.0  \n",
              "166               0.0  \n",
              "247               0.0  \n",
              "175               0.0  "
            ],
            "text/html": [
              "\n",
              "  <div id=\"df-d3991ad4-e07f-4653-9449-cf8f52b6bde0\">\n",
              "    <div class=\"colab-df-container\">\n",
              "      <div>\n",
              "<style scoped>\n",
              "    .dataframe tbody tr th:only-of-type {\n",
              "        vertical-align: middle;\n",
              "    }\n",
              "\n",
              "    .dataframe tbody tr th {\n",
              "        vertical-align: top;\n",
              "    }\n",
              "\n",
              "    .dataframe thead th {\n",
              "        text-align: right;\n",
              "    }\n",
              "</style>\n",
              "<table border=\"1\" class=\"dataframe\">\n",
              "  <thead>\n",
              "    <tr style=\"text-align: right;\">\n",
              "      <th></th>\n",
              "      <th>Attended</th>\n",
              "      <th>Email</th>\n",
              "      <th>City</th>\n",
              "      <th>Country/Region</th>\n",
              "      <th>State/Province</th>\n",
              "      <th>Industry</th>\n",
              "      <th>Organization</th>\n",
              "      <th>Job Title</th>\n",
              "      <th>Questions &amp; Comments</th>\n",
              "      <th>Registration Time</th>\n",
              "      <th>Join Time</th>\n",
              "      <th>Leave Time</th>\n",
              "      <th>Time in Session (minutes)</th>\n",
              "      <th>Country/Region Name</th>\n",
              "      <th>Source Name</th>\n",
              "      <th>webinar_name</th>\n",
              "      <th>Job Title Category</th>\n",
              "      <th>Total_time</th>\n",
              "      <th>Number_of_Logins</th>\n",
              "    </tr>\n",
              "  </thead>\n",
              "  <tbody>\n",
              "    <tr>\n",
              "      <th>250</th>\n",
              "      <td>19176429644</td>\n",
              "      <td>Yes</td>\n",
              "      <td>United States</td>\n",
              "      <td>NaN</td>\n",
              "      <td>NaN</td>\n",
              "      <td>NaN</td>\n",
              "      <td>NaN</td>\n",
              "      <td>not given</td>\n",
              "      <td>NaN</td>\n",
              "      <td>NaT</td>\n",
              "      <td>NaT</td>\n",
              "      <td>NaT</td>\n",
              "      <td>0</td>\n",
              "      <td>NaN</td>\n",
              "      <td>NaN</td>\n",
              "      <td>Biomaterials</td>\n",
              "      <td>None</td>\n",
              "      <td>0.0</td>\n",
              "      <td>0.0</td>\n",
              "    </tr>\n",
              "    <tr>\n",
              "      <th>251</th>\n",
              "      <td>12022514648</td>\n",
              "      <td>Yes</td>\n",
              "      <td>United States</td>\n",
              "      <td>NaN</td>\n",
              "      <td>NaN</td>\n",
              "      <td>NaN</td>\n",
              "      <td>NaN</td>\n",
              "      <td>not given</td>\n",
              "      <td>NaN</td>\n",
              "      <td>NaT</td>\n",
              "      <td>NaT</td>\n",
              "      <td>NaT</td>\n",
              "      <td>0</td>\n",
              "      <td>NaN</td>\n",
              "      <td>NaN</td>\n",
              "      <td>Biomaterials</td>\n",
              "      <td>None</td>\n",
              "      <td>0.0</td>\n",
              "      <td>0.0</td>\n",
              "    </tr>\n",
              "    <tr>\n",
              "      <th>252</th>\n",
              "      <td>14123599627</td>\n",
              "      <td>Yes</td>\n",
              "      <td>United States</td>\n",
              "      <td>NaN</td>\n",
              "      <td>NaN</td>\n",
              "      <td>NaN</td>\n",
              "      <td>NaN</td>\n",
              "      <td>not given</td>\n",
              "      <td>NaN</td>\n",
              "      <td>NaT</td>\n",
              "      <td>NaT</td>\n",
              "      <td>NaT</td>\n",
              "      <td>0</td>\n",
              "      <td>NaN</td>\n",
              "      <td>NaN</td>\n",
              "      <td>Biomaterials</td>\n",
              "      <td>None</td>\n",
              "      <td>0.0</td>\n",
              "      <td>0.0</td>\n",
              "    </tr>\n",
              "    <tr>\n",
              "      <th>253</th>\n",
              "      <td>18322983212</td>\n",
              "      <td>Yes</td>\n",
              "      <td>United States</td>\n",
              "      <td>NaN</td>\n",
              "      <td>NaN</td>\n",
              "      <td>NaN</td>\n",
              "      <td>NaN</td>\n",
              "      <td>not given</td>\n",
              "      <td>NaN</td>\n",
              "      <td>NaT</td>\n",
              "      <td>NaT</td>\n",
              "      <td>NaT</td>\n",
              "      <td>0</td>\n",
              "      <td>NaN</td>\n",
              "      <td>NaN</td>\n",
              "      <td>Biomaterials</td>\n",
              "      <td>None</td>\n",
              "      <td>0.0</td>\n",
              "      <td>0.0</td>\n",
              "    </tr>\n",
              "    <tr>\n",
              "      <th>166</th>\n",
              "      <td>0114915776295912</td>\n",
              "      <td>Yes</td>\n",
              "      <td>United States</td>\n",
              "      <td>NaN</td>\n",
              "      <td>NaN</td>\n",
              "      <td>NaN</td>\n",
              "      <td>NaN</td>\n",
              "      <td>not given</td>\n",
              "      <td>NaN</td>\n",
              "      <td>NaT</td>\n",
              "      <td>NaT</td>\n",
              "      <td>NaT</td>\n",
              "      <td>0</td>\n",
              "      <td>NaN</td>\n",
              "      <td>NaN</td>\n",
              "      <td>Indian Ecosystem</td>\n",
              "      <td>None</td>\n",
              "      <td>0.0</td>\n",
              "      <td>0.0</td>\n",
              "    </tr>\n",
              "    <tr>\n",
              "      <th>247</th>\n",
              "      <td>17142381131</td>\n",
              "      <td>Yes</td>\n",
              "      <td>United States</td>\n",
              "      <td>NaN</td>\n",
              "      <td>NaN</td>\n",
              "      <td>NaN</td>\n",
              "      <td>NaN</td>\n",
              "      <td>not given</td>\n",
              "      <td>NaN</td>\n",
              "      <td>NaT</td>\n",
              "      <td>NaT</td>\n",
              "      <td>NaT</td>\n",
              "      <td>0</td>\n",
              "      <td>NaN</td>\n",
              "      <td>NaN</td>\n",
              "      <td>3D Metal</td>\n",
              "      <td>None</td>\n",
              "      <td>0.0</td>\n",
              "      <td>0.0</td>\n",
              "    </tr>\n",
              "    <tr>\n",
              "      <th>175</th>\n",
              "      <td>15184664566</td>\n",
              "      <td>Yes</td>\n",
              "      <td>NaN</td>\n",
              "      <td>NaN</td>\n",
              "      <td>NaN</td>\n",
              "      <td>NaN</td>\n",
              "      <td>NaN</td>\n",
              "      <td>not given</td>\n",
              "      <td>NaN</td>\n",
              "      <td>NaT</td>\n",
              "      <td>NaT</td>\n",
              "      <td>NaT</td>\n",
              "      <td>0</td>\n",
              "      <td>NaN</td>\n",
              "      <td>NaN</td>\n",
              "      <td>Preprocessing</td>\n",
              "      <td>None</td>\n",
              "      <td>0.0</td>\n",
              "      <td>0.0</td>\n",
              "    </tr>\n",
              "  </tbody>\n",
              "</table>\n",
              "</div>\n",
              "      <button class=\"colab-df-convert\" onclick=\"convertToInteractive('df-d3991ad4-e07f-4653-9449-cf8f52b6bde0')\"\n",
              "              title=\"Convert this dataframe to an interactive table.\"\n",
              "              style=\"display:none;\">\n",
              "        \n",
              "  <svg xmlns=\"http://www.w3.org/2000/svg\" height=\"24px\"viewBox=\"0 0 24 24\"\n",
              "       width=\"24px\">\n",
              "    <path d=\"M0 0h24v24H0V0z\" fill=\"none\"/>\n",
              "    <path d=\"M18.56 5.44l.94 2.06.94-2.06 2.06-.94-2.06-.94-.94-2.06-.94 2.06-2.06.94zm-11 1L8.5 8.5l.94-2.06 2.06-.94-2.06-.94L8.5 2.5l-.94 2.06-2.06.94zm10 10l.94 2.06.94-2.06 2.06-.94-2.06-.94-.94-2.06-.94 2.06-2.06.94z\"/><path d=\"M17.41 7.96l-1.37-1.37c-.4-.4-.92-.59-1.43-.59-.52 0-1.04.2-1.43.59L10.3 9.45l-7.72 7.72c-.78.78-.78 2.05 0 2.83L4 21.41c.39.39.9.59 1.41.59.51 0 1.02-.2 1.41-.59l7.78-7.78 2.81-2.81c.8-.78.8-2.07 0-2.86zM5.41 20L4 18.59l7.72-7.72 1.47 1.35L5.41 20z\"/>\n",
              "  </svg>\n",
              "      </button>\n",
              "      \n",
              "  <style>\n",
              "    .colab-df-container {\n",
              "      display:flex;\n",
              "      flex-wrap:wrap;\n",
              "      gap: 12px;\n",
              "    }\n",
              "\n",
              "    .colab-df-convert {\n",
              "      background-color: #E8F0FE;\n",
              "      border: none;\n",
              "      border-radius: 50%;\n",
              "      cursor: pointer;\n",
              "      display: none;\n",
              "      fill: #1967D2;\n",
              "      height: 32px;\n",
              "      padding: 0 0 0 0;\n",
              "      width: 32px;\n",
              "    }\n",
              "\n",
              "    .colab-df-convert:hover {\n",
              "      background-color: #E2EBFA;\n",
              "      box-shadow: 0px 1px 2px rgba(60, 64, 67, 0.3), 0px 1px 3px 1px rgba(60, 64, 67, 0.15);\n",
              "      fill: #174EA6;\n",
              "    }\n",
              "\n",
              "    [theme=dark] .colab-df-convert {\n",
              "      background-color: #3B4455;\n",
              "      fill: #D2E3FC;\n",
              "    }\n",
              "\n",
              "    [theme=dark] .colab-df-convert:hover {\n",
              "      background-color: #434B5C;\n",
              "      box-shadow: 0px 1px 3px 1px rgba(0, 0, 0, 0.15);\n",
              "      filter: drop-shadow(0px 1px 2px rgba(0, 0, 0, 0.3));\n",
              "      fill: #FFFFFF;\n",
              "    }\n",
              "  </style>\n",
              "\n",
              "      <script>\n",
              "        const buttonEl =\n",
              "          document.querySelector('#df-d3991ad4-e07f-4653-9449-cf8f52b6bde0 button.colab-df-convert');\n",
              "        buttonEl.style.display =\n",
              "          google.colab.kernel.accessAllowed ? 'block' : 'none';\n",
              "\n",
              "        async function convertToInteractive(key) {\n",
              "          const element = document.querySelector('#df-d3991ad4-e07f-4653-9449-cf8f52b6bde0');\n",
              "          const dataTable =\n",
              "            await google.colab.kernel.invokeFunction('convertToInteractive',\n",
              "                                                     [key], {});\n",
              "          if (!dataTable) return;\n",
              "\n",
              "          const docLinkHtml = 'Like what you see? Visit the ' +\n",
              "            '<a target=\"_blank\" href=https://colab.research.google.com/notebooks/data_table.ipynb>data table notebook</a>'\n",
              "            + ' to learn more about interactive tables.';\n",
              "          element.innerHTML = '';\n",
              "          dataTable['output_type'] = 'display_data';\n",
              "          await google.colab.output.renderOutput(dataTable, element);\n",
              "          const docLink = document.createElement('div');\n",
              "          docLink.innerHTML = docLinkHtml;\n",
              "          element.appendChild(docLink);\n",
              "        }\n",
              "      </script>\n",
              "    </div>\n",
              "  </div>\n",
              "  "
            ]
          },
          "metadata": {},
          "execution_count": 108
        }
      ]
    },
    {
      "cell_type": "code",
      "source": [
        "df.columns"
      ],
      "metadata": {
        "colab": {
          "base_uri": "https://localhost:8080/"
        },
        "id": "-yprn8yIHK-Y",
        "outputId": "cd4f7e0b-102f-4e17-a671-d1ef9d6fdceb"
      },
      "execution_count": null,
      "outputs": [
        {
          "output_type": "execute_result",
          "data": {
            "text/plain": [
              "Index(['Attended', 'Email', 'City', 'Country/Region', 'State/Province',\n",
              "       'Industry', 'Organization', 'Job Title', 'Questions & Comments',\n",
              "       'Registration Time', 'Join Time', 'Leave Time',\n",
              "       'Time in Session (minutes)', 'Country/Region Name', 'Source Name',\n",
              "       'webinar_name', 'Job Title Category', 'Total_time', 'Number_of_Logins'],\n",
              "      dtype='object')"
            ]
          },
          "metadata": {},
          "execution_count": 74
        }
      ]
    },
    {
      "cell_type": "code",
      "source": [
        "#define how to aggregate various fields\n",
        "#inspiration: https://www.statology.org/pandas-combine-rows-with-same-column-value/\n",
        "agg_functions = {\n",
        "              'Attended':'first', \n",
        "              'Email':'first', \n",
        "              'City':'first', \n",
        "              'Country/Region':'first',\n",
        "              'State/Province':'first', \n",
        "              'Industry':'first', \n",
        "              'Organization':'first', \n",
        "              'Job Title':'first',\n",
        "              'Questions & Comments':'first', \n",
        "              'Registration Time':'first', \n",
        "              'Join Time':'first', \n",
        "              'Leave Time':'last',\n",
        "              'Time in Session (minutes)':'sum', \n",
        "              'Country/Region Name':'first', \n",
        "              'Source Name':'first',\n",
        "              'webinar_name':'first', \n",
        "              'Job Title Category':'first', \n",
        "              'Total_time':'first',\n",
        "              'Number_of_Logins':'first'\n",
        "}\n",
        "\n",
        "#create new DataFrame by combining rows with same id values\n",
        "df_no_duplicates = df.groupby(['Email','webinar_name']).aggregate(agg_functions)"
      ],
      "metadata": {
        "id": "ApiSbZNOG1j0"
      },
      "execution_count": null,
      "outputs": []
    },
    {
      "cell_type": "code",
      "source": [
        "#df_no_duplicates.head(10)"
      ],
      "metadata": {
        "id": "zUbOpyxGIdtw"
      },
      "execution_count": null,
      "outputs": []
    },
    {
      "cell_type": "code",
      "source": [
        "df_no_duplicates = df_no_duplicates.set_index('Email').reset_index()"
      ],
      "metadata": {
        "id": "ZUhwuUOtv0MG"
      },
      "execution_count": null,
      "outputs": []
    },
    {
      "cell_type": "code",
      "source": [
        "df_no_duplicates.drop(labels='Email', axis=1).head()"
      ],
      "metadata": {
        "colab": {
          "base_uri": "https://localhost:8080/",
          "height": 438
        },
        "id": "0DpsZTTt0GTW",
        "outputId": "5c4f940d-7d4e-4ee4-bf22-be8d40f969b8"
      },
      "execution_count": null,
      "outputs": [
        {
          "output_type": "execute_result",
          "data": {
            "text/plain": [
              "   Attended     City Country/Region State/Province           Industry  \\\n",
              "0         0     Pune             IN          Other   Software - Other   \n",
              "1         0     Pune             IN          Other              Other   \n",
              "2         1   bazpur             IN          Other          Education   \n",
              "3         0  Kayseri             TR          Other  High Tech - Other   \n",
              "4         0  Nairobi             KE          Other  High Tech - Other   \n",
              "\n",
              "                Organization    Job Title Questions & Comments  \\\n",
              "0          Dassault Systemes    developer                    0   \n",
              "1                         Ds      develer                    0   \n",
              "2                   Employee    not given                    0   \n",
              "3  Abdullah Gül universitesi  phd student                    0   \n",
              "4                     Bymedi      founder                    0   \n",
              "\n",
              "    Registration Time           Join Time  ... Time in Session (minutes)  \\\n",
              "0 2022-08-29 12:32:37                 NaT  ...                         0   \n",
              "1 2022-09-06 12:48:32                 NaT  ...                         0   \n",
              "2 2022-08-22 23:43:21 2022-09-01 08:00:52  ...                       141   \n",
              "3 2022-09-06 22:29:58                 NaT  ...                         0   \n",
              "4 2022-09-29 01:19:43                 NaT  ...                         0   \n",
              "\n",
              "   Country/Region Name Source Name      webinar_name Job Title Category  \\\n",
              "0                India   mailchimp          3D Metal              Other   \n",
              "1                India   mailchimp      Biomaterials              Other   \n",
              "2                India   mailchimp  Indian Ecosystem               None   \n",
              "3               Turkey    linkedin      Biomaterials           Academic   \n",
              "4                Kenya     website     Preprocessing            C-Suite   \n",
              "\n",
              "  Total_time  Number_of_Logins  Registered_Webinars  Attended_Webinars  \\\n",
              "0        0.0               0.0                    3                  1   \n",
              "1        0.0               0.0                    3                  1   \n",
              "2      141.0               5.0                    3                  1   \n",
              "3        0.0               0.0                    1                  0   \n",
              "4        0.0               0.0                    1                  0   \n",
              "\n",
              "   Attended_Percent  \n",
              "0          0.333333  \n",
              "1          0.333333  \n",
              "2          0.333333  \n",
              "3          0.000000  \n",
              "4          0.000000  \n",
              "\n",
              "[5 rows x 21 columns]"
            ],
            "text/html": [
              "\n",
              "  <div id=\"df-c1927890-f9c4-4d1a-9e6d-af89d3bf35a7\">\n",
              "    <div class=\"colab-df-container\">\n",
              "      <div>\n",
              "<style scoped>\n",
              "    .dataframe tbody tr th:only-of-type {\n",
              "        vertical-align: middle;\n",
              "    }\n",
              "\n",
              "    .dataframe tbody tr th {\n",
              "        vertical-align: top;\n",
              "    }\n",
              "\n",
              "    .dataframe thead th {\n",
              "        text-align: right;\n",
              "    }\n",
              "</style>\n",
              "<table border=\"1\" class=\"dataframe\">\n",
              "  <thead>\n",
              "    <tr style=\"text-align: right;\">\n",
              "      <th></th>\n",
              "      <th>Attended</th>\n",
              "      <th>City</th>\n",
              "      <th>Country/Region</th>\n",
              "      <th>State/Province</th>\n",
              "      <th>Industry</th>\n",
              "      <th>Organization</th>\n",
              "      <th>Job Title</th>\n",
              "      <th>Questions &amp; Comments</th>\n",
              "      <th>Registration Time</th>\n",
              "      <th>Join Time</th>\n",
              "      <th>...</th>\n",
              "      <th>Time in Session (minutes)</th>\n",
              "      <th>Country/Region Name</th>\n",
              "      <th>Source Name</th>\n",
              "      <th>webinar_name</th>\n",
              "      <th>Job Title Category</th>\n",
              "      <th>Total_time</th>\n",
              "      <th>Number_of_Logins</th>\n",
              "      <th>Registered_Webinars</th>\n",
              "      <th>Attended_Webinars</th>\n",
              "      <th>Attended_Percent</th>\n",
              "    </tr>\n",
              "  </thead>\n",
              "  <tbody>\n",
              "    <tr>\n",
              "      <th>0</th>\n",
              "      <td>0</td>\n",
              "      <td>Pune</td>\n",
              "      <td>IN</td>\n",
              "      <td>Other</td>\n",
              "      <td>Software - Other</td>\n",
              "      <td>Dassault Systemes</td>\n",
              "      <td>developer</td>\n",
              "      <td>0</td>\n",
              "      <td>2022-08-29 12:32:37</td>\n",
              "      <td>NaT</td>\n",
              "      <td>...</td>\n",
              "      <td>0</td>\n",
              "      <td>India</td>\n",
              "      <td>mailchimp</td>\n",
              "      <td>3D Metal</td>\n",
              "      <td>Other</td>\n",
              "      <td>0.0</td>\n",
              "      <td>0.0</td>\n",
              "      <td>3</td>\n",
              "      <td>1</td>\n",
              "      <td>0.333333</td>\n",
              "    </tr>\n",
              "    <tr>\n",
              "      <th>1</th>\n",
              "      <td>0</td>\n",
              "      <td>Pune</td>\n",
              "      <td>IN</td>\n",
              "      <td>Other</td>\n",
              "      <td>Other</td>\n",
              "      <td>Ds</td>\n",
              "      <td>develer</td>\n",
              "      <td>0</td>\n",
              "      <td>2022-09-06 12:48:32</td>\n",
              "      <td>NaT</td>\n",
              "      <td>...</td>\n",
              "      <td>0</td>\n",
              "      <td>India</td>\n",
              "      <td>mailchimp</td>\n",
              "      <td>Biomaterials</td>\n",
              "      <td>Other</td>\n",
              "      <td>0.0</td>\n",
              "      <td>0.0</td>\n",
              "      <td>3</td>\n",
              "      <td>1</td>\n",
              "      <td>0.333333</td>\n",
              "    </tr>\n",
              "    <tr>\n",
              "      <th>2</th>\n",
              "      <td>1</td>\n",
              "      <td>bazpur</td>\n",
              "      <td>IN</td>\n",
              "      <td>Other</td>\n",
              "      <td>Education</td>\n",
              "      <td>Employee</td>\n",
              "      <td>not given</td>\n",
              "      <td>0</td>\n",
              "      <td>2022-08-22 23:43:21</td>\n",
              "      <td>2022-09-01 08:00:52</td>\n",
              "      <td>...</td>\n",
              "      <td>141</td>\n",
              "      <td>India</td>\n",
              "      <td>mailchimp</td>\n",
              "      <td>Indian Ecosystem</td>\n",
              "      <td>None</td>\n",
              "      <td>141.0</td>\n",
              "      <td>5.0</td>\n",
              "      <td>3</td>\n",
              "      <td>1</td>\n",
              "      <td>0.333333</td>\n",
              "    </tr>\n",
              "    <tr>\n",
              "      <th>3</th>\n",
              "      <td>0</td>\n",
              "      <td>Kayseri</td>\n",
              "      <td>TR</td>\n",
              "      <td>Other</td>\n",
              "      <td>High Tech - Other</td>\n",
              "      <td>Abdullah Gül universitesi</td>\n",
              "      <td>phd student</td>\n",
              "      <td>0</td>\n",
              "      <td>2022-09-06 22:29:58</td>\n",
              "      <td>NaT</td>\n",
              "      <td>...</td>\n",
              "      <td>0</td>\n",
              "      <td>Turkey</td>\n",
              "      <td>linkedin</td>\n",
              "      <td>Biomaterials</td>\n",
              "      <td>Academic</td>\n",
              "      <td>0.0</td>\n",
              "      <td>0.0</td>\n",
              "      <td>1</td>\n",
              "      <td>0</td>\n",
              "      <td>0.000000</td>\n",
              "    </tr>\n",
              "    <tr>\n",
              "      <th>4</th>\n",
              "      <td>0</td>\n",
              "      <td>Nairobi</td>\n",
              "      <td>KE</td>\n",
              "      <td>Other</td>\n",
              "      <td>High Tech - Other</td>\n",
              "      <td>Bymedi</td>\n",
              "      <td>founder</td>\n",
              "      <td>0</td>\n",
              "      <td>2022-09-29 01:19:43</td>\n",
              "      <td>NaT</td>\n",
              "      <td>...</td>\n",
              "      <td>0</td>\n",
              "      <td>Kenya</td>\n",
              "      <td>website</td>\n",
              "      <td>Preprocessing</td>\n",
              "      <td>C-Suite</td>\n",
              "      <td>0.0</td>\n",
              "      <td>0.0</td>\n",
              "      <td>1</td>\n",
              "      <td>0</td>\n",
              "      <td>0.000000</td>\n",
              "    </tr>\n",
              "  </tbody>\n",
              "</table>\n",
              "<p>5 rows × 21 columns</p>\n",
              "</div>\n",
              "      <button class=\"colab-df-convert\" onclick=\"convertToInteractive('df-c1927890-f9c4-4d1a-9e6d-af89d3bf35a7')\"\n",
              "              title=\"Convert this dataframe to an interactive table.\"\n",
              "              style=\"display:none;\">\n",
              "        \n",
              "  <svg xmlns=\"http://www.w3.org/2000/svg\" height=\"24px\"viewBox=\"0 0 24 24\"\n",
              "       width=\"24px\">\n",
              "    <path d=\"M0 0h24v24H0V0z\" fill=\"none\"/>\n",
              "    <path d=\"M18.56 5.44l.94 2.06.94-2.06 2.06-.94-2.06-.94-.94-2.06-.94 2.06-2.06.94zm-11 1L8.5 8.5l.94-2.06 2.06-.94-2.06-.94L8.5 2.5l-.94 2.06-2.06.94zm10 10l.94 2.06.94-2.06 2.06-.94-2.06-.94-.94-2.06-.94 2.06-2.06.94z\"/><path d=\"M17.41 7.96l-1.37-1.37c-.4-.4-.92-.59-1.43-.59-.52 0-1.04.2-1.43.59L10.3 9.45l-7.72 7.72c-.78.78-.78 2.05 0 2.83L4 21.41c.39.39.9.59 1.41.59.51 0 1.02-.2 1.41-.59l7.78-7.78 2.81-2.81c.8-.78.8-2.07 0-2.86zM5.41 20L4 18.59l7.72-7.72 1.47 1.35L5.41 20z\"/>\n",
              "  </svg>\n",
              "      </button>\n",
              "      \n",
              "  <style>\n",
              "    .colab-df-container {\n",
              "      display:flex;\n",
              "      flex-wrap:wrap;\n",
              "      gap: 12px;\n",
              "    }\n",
              "\n",
              "    .colab-df-convert {\n",
              "      background-color: #E8F0FE;\n",
              "      border: none;\n",
              "      border-radius: 50%;\n",
              "      cursor: pointer;\n",
              "      display: none;\n",
              "      fill: #1967D2;\n",
              "      height: 32px;\n",
              "      padding: 0 0 0 0;\n",
              "      width: 32px;\n",
              "    }\n",
              "\n",
              "    .colab-df-convert:hover {\n",
              "      background-color: #E2EBFA;\n",
              "      box-shadow: 0px 1px 2px rgba(60, 64, 67, 0.3), 0px 1px 3px 1px rgba(60, 64, 67, 0.15);\n",
              "      fill: #174EA6;\n",
              "    }\n",
              "\n",
              "    [theme=dark] .colab-df-convert {\n",
              "      background-color: #3B4455;\n",
              "      fill: #D2E3FC;\n",
              "    }\n",
              "\n",
              "    [theme=dark] .colab-df-convert:hover {\n",
              "      background-color: #434B5C;\n",
              "      box-shadow: 0px 1px 3px 1px rgba(0, 0, 0, 0.15);\n",
              "      filter: drop-shadow(0px 1px 2px rgba(0, 0, 0, 0.3));\n",
              "      fill: #FFFFFF;\n",
              "    }\n",
              "  </style>\n",
              "\n",
              "      <script>\n",
              "        const buttonEl =\n",
              "          document.querySelector('#df-c1927890-f9c4-4d1a-9e6d-af89d3bf35a7 button.colab-df-convert');\n",
              "        buttonEl.style.display =\n",
              "          google.colab.kernel.accessAllowed ? 'block' : 'none';\n",
              "\n",
              "        async function convertToInteractive(key) {\n",
              "          const element = document.querySelector('#df-c1927890-f9c4-4d1a-9e6d-af89d3bf35a7');\n",
              "          const dataTable =\n",
              "            await google.colab.kernel.invokeFunction('convertToInteractive',\n",
              "                                                     [key], {});\n",
              "          if (!dataTable) return;\n",
              "\n",
              "          const docLinkHtml = 'Like what you see? Visit the ' +\n",
              "            '<a target=\"_blank\" href=https://colab.research.google.com/notebooks/data_table.ipynb>data table notebook</a>'\n",
              "            + ' to learn more about interactive tables.';\n",
              "          element.innerHTML = '';\n",
              "          dataTable['output_type'] = 'display_data';\n",
              "          await google.colab.output.renderOutput(dataTable, element);\n",
              "          const docLink = document.createElement('div');\n",
              "          docLink.innerHTML = docLinkHtml;\n",
              "          element.appendChild(docLink);\n",
              "        }\n",
              "      </script>\n",
              "    </div>\n",
              "  </div>\n",
              "  "
            ]
          },
          "metadata": {},
          "execution_count": 109
        }
      ]
    },
    {
      "cell_type": "markdown",
      "source": [
        "#Cleaning Missing Values"
      ],
      "metadata": {
        "id": "fbggxfoi3a_D"
      }
    },
    {
      "cell_type": "code",
      "source": [
        "df_no_duplicates['Attended'].value_counts(normalize=True)"
      ],
      "metadata": {
        "colab": {
          "base_uri": "https://localhost:8080/"
        },
        "id": "Vq9XN9XSGVLz",
        "outputId": "f95b22e9-03ae-4733-f7d5-a11ae8b0d41a"
      },
      "execution_count": null,
      "outputs": [
        {
          "output_type": "execute_result",
          "data": {
            "text/plain": [
              "No                  0.545194\n",
              "Yes                 0.443329\n",
              "User Name           0.005739\n",
              "17142381131         0.001435\n",
              "19176429644         0.001435\n",
              "0114915776295912    0.001435\n",
              "15184664566         0.001435\n",
              "Name: Attended, dtype: float64"
            ]
          },
          "metadata": {},
          "execution_count": 79
        }
      ]
    },
    {
      "cell_type": "code",
      "source": [
        "df_no_duplicates.info()"
      ],
      "metadata": {
        "colab": {
          "base_uri": "https://localhost:8080/"
        },
        "id": "cdU3jrYKBGa4",
        "outputId": "8b9c981c-b36b-4ce4-eaea-f819aab06a96"
      },
      "execution_count": null,
      "outputs": [
        {
          "output_type": "stream",
          "name": "stdout",
          "text": [
            "<class 'pandas.core.frame.DataFrame'>\n",
            "RangeIndex: 697 entries, 0 to 696\n",
            "Data columns (total 19 columns):\n",
            " #   Column                     Non-Null Count  Dtype         \n",
            "---  ------                     --------------  -----         \n",
            " 0   Email                      697 non-null    object        \n",
            " 1   Attended                   697 non-null    object        \n",
            " 2   City                       695 non-null    object        \n",
            " 3   Country/Region             689 non-null    object        \n",
            " 4   State/Province             689 non-null    object        \n",
            " 5   Industry                   689 non-null    object        \n",
            " 6   Organization               683 non-null    object        \n",
            " 7   Job Title                  697 non-null    object        \n",
            " 8   Questions & Comments       15 non-null     object        \n",
            " 9   Registration Time          689 non-null    datetime64[ns]\n",
            " 10  Join Time                  309 non-null    datetime64[ns]\n",
            " 11  Leave Time                 309 non-null    datetime64[ns]\n",
            " 12  Time in Session (minutes)  697 non-null    int64         \n",
            " 13  Country/Region Name        687 non-null    object        \n",
            " 14  Source Name                660 non-null    object        \n",
            " 15  webinar_name               697 non-null    object        \n",
            " 16  Job Title Category         636 non-null    object        \n",
            " 17  Total_time                 697 non-null    float64       \n",
            " 18  Number_of_Logins           697 non-null    float64       \n",
            "dtypes: datetime64[ns](3), float64(2), int64(1), object(13)\n",
            "memory usage: 103.6+ KB\n"
          ]
        }
      ]
    },
    {
      "cell_type": "code",
      "source": [
        "df_no_duplicates.isna().sum()"
      ],
      "metadata": {
        "colab": {
          "base_uri": "https://localhost:8080/"
        },
        "id": "jwdKje_YbKjo",
        "outputId": "9534f250-b73c-4e69-b41c-b94fa93520ff"
      },
      "execution_count": null,
      "outputs": [
        {
          "output_type": "execute_result",
          "data": {
            "text/plain": [
              "Email                          0\n",
              "Attended                       0\n",
              "City                           2\n",
              "Country/Region                 8\n",
              "State/Province                 8\n",
              "Industry                       8\n",
              "Organization                  14\n",
              "Job Title                      0\n",
              "Questions & Comments         682\n",
              "Registration Time              8\n",
              "Join Time                    388\n",
              "Leave Time                   388\n",
              "Time in Session (minutes)      0\n",
              "Country/Region Name           10\n",
              "Source Name                   37\n",
              "webinar_name                   0\n",
              "Job Title Category            61\n",
              "Total_time                     0\n",
              "Number_of_Logins               0\n",
              "dtype: int64"
            ]
          },
          "metadata": {},
          "execution_count": 81
        }
      ]
    },
    {
      "cell_type": "code",
      "source": [
        "#drop rows if it does not have at least 50% values that are **not** NaN\n",
        "df_no_duplicates.dropna(thresh=.5*len(df_no_duplicates.columns),inplace=True)"
      ],
      "metadata": {
        "id": "EAuGz4Sb31Qy"
      },
      "execution_count": null,
      "outputs": []
    },
    {
      "cell_type": "code",
      "source": [
        "df_no_duplicates.isna().sum()"
      ],
      "metadata": {
        "colab": {
          "base_uri": "https://localhost:8080/"
        },
        "id": "TiTfzfq9__JN",
        "outputId": "1e0c5ca0-2c2b-4eaf-c0a5-6b129979f1cc"
      },
      "execution_count": null,
      "outputs": [
        {
          "output_type": "execute_result",
          "data": {
            "text/plain": [
              "Email                          0\n",
              "Attended                       0\n",
              "City                           0\n",
              "Country/Region                 0\n",
              "State/Province                 0\n",
              "Industry                       0\n",
              "Organization                   6\n",
              "Job Title                      0\n",
              "Questions & Comments         674\n",
              "Registration Time              0\n",
              "Join Time                    380\n",
              "Leave Time                   380\n",
              "Time in Session (minutes)      0\n",
              "Country/Region Name            2\n",
              "Source Name                   29\n",
              "webinar_name                   0\n",
              "Job Title Category            61\n",
              "Total_time                     0\n",
              "Number_of_Logins               0\n",
              "dtype: int64"
            ]
          },
          "metadata": {},
          "execution_count": 83
        }
      ]
    },
    {
      "cell_type": "code",
      "source": [
        "df_no_duplicates.info()"
      ],
      "metadata": {
        "colab": {
          "base_uri": "https://localhost:8080/"
        },
        "id": "PtM3vbSqcAZl",
        "outputId": "6a013d6a-26f2-4f0b-8118-4acb8f97051f"
      },
      "execution_count": null,
      "outputs": [
        {
          "output_type": "stream",
          "name": "stdout",
          "text": [
            "<class 'pandas.core.frame.DataFrame'>\n",
            "Int64Index: 689 entries, 0 to 696\n",
            "Data columns (total 19 columns):\n",
            " #   Column                     Non-Null Count  Dtype         \n",
            "---  ------                     --------------  -----         \n",
            " 0   Email                      689 non-null    object        \n",
            " 1   Attended                   689 non-null    object        \n",
            " 2   City                       689 non-null    object        \n",
            " 3   Country/Region             689 non-null    object        \n",
            " 4   State/Province             689 non-null    object        \n",
            " 5   Industry                   689 non-null    object        \n",
            " 6   Organization               683 non-null    object        \n",
            " 7   Job Title                  689 non-null    object        \n",
            " 8   Questions & Comments       15 non-null     object        \n",
            " 9   Registration Time          689 non-null    datetime64[ns]\n",
            " 10  Join Time                  309 non-null    datetime64[ns]\n",
            " 11  Leave Time                 309 non-null    datetime64[ns]\n",
            " 12  Time in Session (minutes)  689 non-null    int64         \n",
            " 13  Country/Region Name        687 non-null    object        \n",
            " 14  Source Name                660 non-null    object        \n",
            " 15  webinar_name               689 non-null    object        \n",
            " 16  Job Title Category         628 non-null    object        \n",
            " 17  Total_time                 689 non-null    float64       \n",
            " 18  Number_of_Logins           689 non-null    float64       \n",
            "dtypes: datetime64[ns](3), float64(2), int64(1), object(13)\n",
            "memory usage: 107.7+ KB\n"
          ]
        }
      ]
    },
    {
      "cell_type": "code",
      "source": [
        "# fill no questions with 0\n",
        "df_no_duplicates['Questions & Comments'] = df_no_duplicates['Questions & Comments'].fillna(0)"
      ],
      "metadata": {
        "id": "Yhd5oySv6m41"
      },
      "execution_count": null,
      "outputs": []
    },
    {
      "cell_type": "code",
      "source": [
        "# what questions/comments are left?\n",
        "comments = df_no_duplicates['Questions & Comments'].unique().tolist()\n",
        "comments"
      ],
      "metadata": {
        "colab": {
          "base_uri": "https://localhost:8080/"
        },
        "id": "zjVtqAa7ca8x",
        "outputId": "032ed2ec-8d38-496d-90b9-069116a18d39"
      },
      "execution_count": null,
      "outputs": [
        {
          "output_type": "execute_result",
          "data": {
            "text/plain": [
              "[0,\n",
              " 'No',\n",
              " '4D Printing applications in medical metal 3d printing?',\n",
              " 'What level of precision and tolerance do you achieve with your prints?  \\nWhat are the biggest technical challenges in achieving desired precision and tolerances? \\nWhat could be improved in the source segmentation software that would aid in printing desired quality and precision?\\nthank you!\\n',\n",
              " \"During that time I will take part in a conference in another city. I don't know the exact period of my presentation but I hope that it will not cross this presentation.\",\n",
              " 'None',\n",
              " 'no',\n",
              " 'Are there any volatile organic compounds (VOC) in post-processing?  What is the OSHA regulation regarding this? ',\n",
              " 'How do you see Binder Jet printing fitting in for medical solutions?',\n",
              " 'May I get the video of this event?',\n",
              " 'Not at this moment',\n",
              " 'Need info',\n",
              " 'No comments',\n",
              " 'In the \"Industry\" list,  I\\'m also wondering which category of Industry that I\\'ll select.']"
            ]
          },
          "metadata": {},
          "execution_count": 86
        }
      ]
    },
    {
      "cell_type": "code",
      "source": [
        "no_comment_matches = process.extractBests('no', comments, scorer=fuzz.token_set_ratio, score_cutoff=65, limit=None) +\\\n",
        "                      process.extractBests('not at this moment', comments, scorer=fuzz.token_sort_ratio, score_cutoff=65, limit=None)\n",
        "no_comment_matches"
      ],
      "metadata": {
        "colab": {
          "base_uri": "https://localhost:8080/"
        },
        "id": "lDXIOHms9ddy",
        "outputId": "49abf01f-846c-4f37-c74d-1b9790dc1986"
      },
      "execution_count": null,
      "outputs": [
        {
          "output_type": "execute_result",
          "data": {
            "text/plain": [
              "[('No', 100),\n",
              " ('no', 100),\n",
              " ('No comments', 100),\n",
              " ('None', 67),\n",
              " ('Not at this moment', 100)]"
            ]
          },
          "metadata": {},
          "execution_count": 87
        }
      ]
    },
    {
      "cell_type": "code",
      "source": [
        "# assign no comments to 0\n",
        "df_no_duplicates.loc[(df_no_duplicates['Questions & Comments'].isin(list(zip(*no_comment_matches))[0])),'Questions & Comments'] = 0"
      ],
      "metadata": {
        "id": "s855G5sY-ps8"
      },
      "execution_count": null,
      "outputs": []
    },
    {
      "cell_type": "code",
      "source": [
        "#assign comments to 1\n",
        "df_no_duplicates.loc[(df_no_duplicates['Questions & Comments'] != 0),'Questions & Comments'] = 1"
      ],
      "metadata": {
        "id": "s8wiaF4n_BYL"
      },
      "execution_count": null,
      "outputs": []
    },
    {
      "cell_type": "code",
      "source": [
        "df_no_duplicates['Questions & Comments'].value_counts()"
      ],
      "metadata": {
        "colab": {
          "base_uri": "https://localhost:8080/"
        },
        "id": "rSizAJIhACsG",
        "outputId": "ef27fd17-95b0-467d-ca8d-e5edf3118f2c"
      },
      "execution_count": null,
      "outputs": [
        {
          "output_type": "execute_result",
          "data": {
            "text/plain": [
              "0    681\n",
              "1      8\n",
              "Name: Questions & Comments, dtype: int64"
            ]
          },
          "metadata": {},
          "execution_count": 90
        }
      ]
    },
    {
      "cell_type": "code",
      "source": [
        "df_no_duplicates['Source Name'].value_counts(normalize=True)"
      ],
      "metadata": {
        "colab": {
          "base_uri": "https://localhost:8080/"
        },
        "id": "d9UR8LuieQpC",
        "outputId": "a75a3fd5-df93-450b-8eba-f3f93b829878"
      },
      "execution_count": null,
      "outputs": [
        {
          "output_type": "execute_result",
          "data": {
            "text/plain": [
              "mailchimp    0.421212\n",
              "Mailchimp    0.156061\n",
              "Linkedin     0.143939\n",
              "website      0.125758\n",
              "linkedin     0.065152\n",
              "LinkedIn     0.042424\n",
              "Website      0.039394\n",
              "Instagram    0.006061\n",
              "Name: Source Name, dtype: float64"
            ]
          },
          "metadata": {},
          "execution_count": 91
        }
      ]
    },
    {
      "cell_type": "code",
      "source": [
        "#Fill missing source name with the mode\n",
        "df_no_duplicates['Source Name'].fillna(df_no_duplicates['Source Name'].mode()[0], inplace=True)"
      ],
      "metadata": {
        "id": "ojJaAV_ND6jX"
      },
      "execution_count": null,
      "outputs": []
    },
    {
      "cell_type": "code",
      "source": [
        "#lowercase all the sources\n",
        "df_no_duplicates['Source Name']=df_no_duplicates['Source Name'].apply(str.lower)"
      ],
      "metadata": {
        "id": "0sxT4FG2c6qx"
      },
      "execution_count": null,
      "outputs": []
    },
    {
      "cell_type": "code",
      "source": [
        "#Fill missing job title category with 'Other'\n",
        "df_no_duplicates['Job Title Category'].fillna('Other', inplace=True)"
      ],
      "metadata": {
        "id": "zNiabA2PE070"
      },
      "execution_count": null,
      "outputs": []
    },
    {
      "cell_type": "code",
      "source": [
        "df_no_duplicates.isna().sum()"
      ],
      "metadata": {
        "colab": {
          "base_uri": "https://localhost:8080/"
        },
        "id": "J_HyWwYEEhqX",
        "outputId": "6807b75a-04ea-4d03-ecfe-c4e3c7f62a6c"
      },
      "execution_count": null,
      "outputs": [
        {
          "output_type": "execute_result",
          "data": {
            "text/plain": [
              "Email                          0\n",
              "Attended                       0\n",
              "City                           0\n",
              "Country/Region                 0\n",
              "State/Province                 0\n",
              "Industry                       0\n",
              "Organization                   6\n",
              "Job Title                      0\n",
              "Questions & Comments           0\n",
              "Registration Time              0\n",
              "Join Time                    380\n",
              "Leave Time                   380\n",
              "Time in Session (minutes)      0\n",
              "Country/Region Name            2\n",
              "Source Name                    0\n",
              "webinar_name                   0\n",
              "Job Title Category             0\n",
              "Total_time                     0\n",
              "Number_of_Logins               0\n",
              "dtype: int64"
            ]
          },
          "metadata": {},
          "execution_count": 95
        }
      ]
    },
    {
      "cell_type": "code",
      "source": [
        "df_no_duplicates[df_no_duplicates['Country/Region Name'].isna()].drop(labels='Email', axis=1)"
      ],
      "metadata": {
        "colab": {
          "base_uri": "https://localhost:8080/",
          "height": 263
        },
        "id": "bhKAhJpgECNb",
        "outputId": "3ac721b1-a10c-4ddc-a8f5-ef6114fed0c6"
      },
      "execution_count": null,
      "outputs": [
        {
          "output_type": "execute_result",
          "data": {
            "text/plain": [
              "    Attended    City Country/Region State/Province   Industry  \\\n",
              "562      Yes  Tehran          Other          Other      Other   \n",
              "622       No   Karaj          Other          Other  Education   \n",
              "\n",
              "                           Organization  Job Title Questions & Comments  \\\n",
              "562  Amirkabir University of Technology  not given                    0   \n",
              "622                                None       dvsc                    0   \n",
              "\n",
              "      Registration Time           Join Time          Leave Time  \\\n",
              "562 2022-09-15 08:08:11 2022-09-15 08:08:48 2022-09-15 08:44:12   \n",
              "622 2022-09-25 20:44:23                 NaT                 NaT   \n",
              "\n",
              "     Time in Session (minutes) Country/Region Name Source Name   webinar_name  \\\n",
              "562                         36                None    linkedin   Biomaterials   \n",
              "622                          0                None   instagram  Preprocessing   \n",
              "\n",
              "    Job Title Category  Total_time  Number_of_Logins  \n",
              "562               None        36.0               2.0  \n",
              "622              Other         0.0               0.0  "
            ],
            "text/html": [
              "\n",
              "  <div id=\"df-6648ec58-69f7-40ff-9821-5ebc2f41de7a\">\n",
              "    <div class=\"colab-df-container\">\n",
              "      <div>\n",
              "<style scoped>\n",
              "    .dataframe tbody tr th:only-of-type {\n",
              "        vertical-align: middle;\n",
              "    }\n",
              "\n",
              "    .dataframe tbody tr th {\n",
              "        vertical-align: top;\n",
              "    }\n",
              "\n",
              "    .dataframe thead th {\n",
              "        text-align: right;\n",
              "    }\n",
              "</style>\n",
              "<table border=\"1\" class=\"dataframe\">\n",
              "  <thead>\n",
              "    <tr style=\"text-align: right;\">\n",
              "      <th></th>\n",
              "      <th>Attended</th>\n",
              "      <th>City</th>\n",
              "      <th>Country/Region</th>\n",
              "      <th>State/Province</th>\n",
              "      <th>Industry</th>\n",
              "      <th>Organization</th>\n",
              "      <th>Job Title</th>\n",
              "      <th>Questions &amp; Comments</th>\n",
              "      <th>Registration Time</th>\n",
              "      <th>Join Time</th>\n",
              "      <th>Leave Time</th>\n",
              "      <th>Time in Session (minutes)</th>\n",
              "      <th>Country/Region Name</th>\n",
              "      <th>Source Name</th>\n",
              "      <th>webinar_name</th>\n",
              "      <th>Job Title Category</th>\n",
              "      <th>Total_time</th>\n",
              "      <th>Number_of_Logins</th>\n",
              "    </tr>\n",
              "  </thead>\n",
              "  <tbody>\n",
              "    <tr>\n",
              "      <th>562</th>\n",
              "      <td>Yes</td>\n",
              "      <td>Tehran</td>\n",
              "      <td>Other</td>\n",
              "      <td>Other</td>\n",
              "      <td>Other</td>\n",
              "      <td>Amirkabir University of Technology</td>\n",
              "      <td>not given</td>\n",
              "      <td>0</td>\n",
              "      <td>2022-09-15 08:08:11</td>\n",
              "      <td>2022-09-15 08:08:48</td>\n",
              "      <td>2022-09-15 08:44:12</td>\n",
              "      <td>36</td>\n",
              "      <td>None</td>\n",
              "      <td>linkedin</td>\n",
              "      <td>Biomaterials</td>\n",
              "      <td>None</td>\n",
              "      <td>36.0</td>\n",
              "      <td>2.0</td>\n",
              "    </tr>\n",
              "    <tr>\n",
              "      <th>622</th>\n",
              "      <td>No</td>\n",
              "      <td>Karaj</td>\n",
              "      <td>Other</td>\n",
              "      <td>Other</td>\n",
              "      <td>Education</td>\n",
              "      <td>None</td>\n",
              "      <td>dvsc</td>\n",
              "      <td>0</td>\n",
              "      <td>2022-09-25 20:44:23</td>\n",
              "      <td>NaT</td>\n",
              "      <td>NaT</td>\n",
              "      <td>0</td>\n",
              "      <td>None</td>\n",
              "      <td>instagram</td>\n",
              "      <td>Preprocessing</td>\n",
              "      <td>Other</td>\n",
              "      <td>0.0</td>\n",
              "      <td>0.0</td>\n",
              "    </tr>\n",
              "  </tbody>\n",
              "</table>\n",
              "</div>\n",
              "      <button class=\"colab-df-convert\" onclick=\"convertToInteractive('df-6648ec58-69f7-40ff-9821-5ebc2f41de7a')\"\n",
              "              title=\"Convert this dataframe to an interactive table.\"\n",
              "              style=\"display:none;\">\n",
              "        \n",
              "  <svg xmlns=\"http://www.w3.org/2000/svg\" height=\"24px\"viewBox=\"0 0 24 24\"\n",
              "       width=\"24px\">\n",
              "    <path d=\"M0 0h24v24H0V0z\" fill=\"none\"/>\n",
              "    <path d=\"M18.56 5.44l.94 2.06.94-2.06 2.06-.94-2.06-.94-.94-2.06-.94 2.06-2.06.94zm-11 1L8.5 8.5l.94-2.06 2.06-.94-2.06-.94L8.5 2.5l-.94 2.06-2.06.94zm10 10l.94 2.06.94-2.06 2.06-.94-2.06-.94-.94-2.06-.94 2.06-2.06.94z\"/><path d=\"M17.41 7.96l-1.37-1.37c-.4-.4-.92-.59-1.43-.59-.52 0-1.04.2-1.43.59L10.3 9.45l-7.72 7.72c-.78.78-.78 2.05 0 2.83L4 21.41c.39.39.9.59 1.41.59.51 0 1.02-.2 1.41-.59l7.78-7.78 2.81-2.81c.8-.78.8-2.07 0-2.86zM5.41 20L4 18.59l7.72-7.72 1.47 1.35L5.41 20z\"/>\n",
              "  </svg>\n",
              "      </button>\n",
              "      \n",
              "  <style>\n",
              "    .colab-df-container {\n",
              "      display:flex;\n",
              "      flex-wrap:wrap;\n",
              "      gap: 12px;\n",
              "    }\n",
              "\n",
              "    .colab-df-convert {\n",
              "      background-color: #E8F0FE;\n",
              "      border: none;\n",
              "      border-radius: 50%;\n",
              "      cursor: pointer;\n",
              "      display: none;\n",
              "      fill: #1967D2;\n",
              "      height: 32px;\n",
              "      padding: 0 0 0 0;\n",
              "      width: 32px;\n",
              "    }\n",
              "\n",
              "    .colab-df-convert:hover {\n",
              "      background-color: #E2EBFA;\n",
              "      box-shadow: 0px 1px 2px rgba(60, 64, 67, 0.3), 0px 1px 3px 1px rgba(60, 64, 67, 0.15);\n",
              "      fill: #174EA6;\n",
              "    }\n",
              "\n",
              "    [theme=dark] .colab-df-convert {\n",
              "      background-color: #3B4455;\n",
              "      fill: #D2E3FC;\n",
              "    }\n",
              "\n",
              "    [theme=dark] .colab-df-convert:hover {\n",
              "      background-color: #434B5C;\n",
              "      box-shadow: 0px 1px 3px 1px rgba(0, 0, 0, 0.15);\n",
              "      filter: drop-shadow(0px 1px 2px rgba(0, 0, 0, 0.3));\n",
              "      fill: #FFFFFF;\n",
              "    }\n",
              "  </style>\n",
              "\n",
              "      <script>\n",
              "        const buttonEl =\n",
              "          document.querySelector('#df-6648ec58-69f7-40ff-9821-5ebc2f41de7a button.colab-df-convert');\n",
              "        buttonEl.style.display =\n",
              "          google.colab.kernel.accessAllowed ? 'block' : 'none';\n",
              "\n",
              "        async function convertToInteractive(key) {\n",
              "          const element = document.querySelector('#df-6648ec58-69f7-40ff-9821-5ebc2f41de7a');\n",
              "          const dataTable =\n",
              "            await google.colab.kernel.invokeFunction('convertToInteractive',\n",
              "                                                     [key], {});\n",
              "          if (!dataTable) return;\n",
              "\n",
              "          const docLinkHtml = 'Like what you see? Visit the ' +\n",
              "            '<a target=\"_blank\" href=https://colab.research.google.com/notebooks/data_table.ipynb>data table notebook</a>'\n",
              "            + ' to learn more about interactive tables.';\n",
              "          element.innerHTML = '';\n",
              "          dataTable['output_type'] = 'display_data';\n",
              "          await google.colab.output.renderOutput(dataTable, element);\n",
              "          const docLink = document.createElement('div');\n",
              "          docLink.innerHTML = docLinkHtml;\n",
              "          element.appendChild(docLink);\n",
              "        }\n",
              "      </script>\n",
              "    </div>\n",
              "  </div>\n",
              "  "
            ]
          },
          "metadata": {},
          "execution_count": 96
        }
      ]
    },
    {
      "cell_type": "code",
      "source": [
        "# Fill missing Country/Region with 'Other'\n",
        "df_no_duplicates.loc[(df_no_duplicates['Country/Region Name'].isna()),'Country/Region Name'] = 'Other'"
      ],
      "metadata": {
        "id": "X4LOl_6AEUyR"
      },
      "execution_count": null,
      "outputs": []
    },
    {
      "cell_type": "code",
      "source": [
        "df_no_duplicates[df_no_duplicates['Organization'].isna()].drop(labels='Email', axis=1)"
      ],
      "metadata": {
        "colab": {
          "base_uri": "https://localhost:8080/",
          "height": 492
        },
        "id": "YsSKmnqFWRaS",
        "outputId": "6be69b07-8b23-4f93-c6af-98700d1ea98d"
      },
      "execution_count": null,
      "outputs": [
        {
          "output_type": "execute_result",
          "data": {
            "text/plain": [
              "    Attended           City Country/Region State/Province  \\\n",
              "167      Yes     Manchester             US             NH   \n",
              "429       No       Uluberia             IN          Other   \n",
              "497       No      Melbourne             AU            VIC   \n",
              "606       No      Fort Mill             US             SC   \n",
              "633      Yes  Richmond Hill             US             GA   \n",
              "672       No       Belgrade             RS          Other   \n",
              "\n",
              "                       Industry Organization           Job Title  \\\n",
              "167                  Accounting         None            director   \n",
              "429                       Other         None           not given   \n",
              "497                   Education         None        phd graduate   \n",
              "606               Manufacturing         None           not given   \n",
              "633  Medical,  Pharma,  Biotech         None       veterinarian    \n",
              "672  Medical,  Pharma,  Biotech         None  doctor of medicine   \n",
              "\n",
              "    Questions & Comments   Registration Time           Join Time  \\\n",
              "167                    0 2022-09-15 08:26:08 2022-09-15 08:26:14   \n",
              "429                    0 2022-09-26 04:46:05                 NaT   \n",
              "497                    0 2022-09-28 17:08:47                 NaT   \n",
              "606                    0 2022-09-14 12:45:23                 NaT   \n",
              "633                    0 2022-08-29 06:12:02 2022-09-08 08:04:29   \n",
              "672                    0 2022-09-26 05:04:54                 NaT   \n",
              "\n",
              "             Leave Time  Time in Session (minutes) Country/Region Name  \\\n",
              "167 2022-09-15 09:10:08                         44       United States   \n",
              "429                 NaT                          0               India   \n",
              "497                 NaT                          0           Australia   \n",
              "606                 NaT                          0       United States   \n",
              "633 2022-09-08 09:40:13                         96       United States   \n",
              "672                 NaT                          0              Serbia   \n",
              "\n",
              "    Source Name   webinar_name Job Title Category  Total_time  \\\n",
              "167   mailchimp   Biomaterials  Manager, Director        44.0   \n",
              "429   mailchimp  Preprocessing               None         0.0   \n",
              "497   mailchimp  Preprocessing           Academic         0.0   \n",
              "606    linkedin   Biomaterials               None         0.0   \n",
              "633   mailchimp       3D Metal          Clinician        96.0   \n",
              "672   mailchimp  Preprocessing          Clinician         0.0   \n",
              "\n",
              "     Number_of_Logins  \n",
              "167               1.0  \n",
              "429               0.0  \n",
              "497               0.0  \n",
              "606               0.0  \n",
              "633               1.0  \n",
              "672               0.0  "
            ],
            "text/html": [
              "\n",
              "  <div id=\"df-99ac8677-1180-4b77-91c1-0bd927b48913\">\n",
              "    <div class=\"colab-df-container\">\n",
              "      <div>\n",
              "<style scoped>\n",
              "    .dataframe tbody tr th:only-of-type {\n",
              "        vertical-align: middle;\n",
              "    }\n",
              "\n",
              "    .dataframe tbody tr th {\n",
              "        vertical-align: top;\n",
              "    }\n",
              "\n",
              "    .dataframe thead th {\n",
              "        text-align: right;\n",
              "    }\n",
              "</style>\n",
              "<table border=\"1\" class=\"dataframe\">\n",
              "  <thead>\n",
              "    <tr style=\"text-align: right;\">\n",
              "      <th></th>\n",
              "      <th>Attended</th>\n",
              "      <th>City</th>\n",
              "      <th>Country/Region</th>\n",
              "      <th>State/Province</th>\n",
              "      <th>Industry</th>\n",
              "      <th>Organization</th>\n",
              "      <th>Job Title</th>\n",
              "      <th>Questions &amp; Comments</th>\n",
              "      <th>Registration Time</th>\n",
              "      <th>Join Time</th>\n",
              "      <th>Leave Time</th>\n",
              "      <th>Time in Session (minutes)</th>\n",
              "      <th>Country/Region Name</th>\n",
              "      <th>Source Name</th>\n",
              "      <th>webinar_name</th>\n",
              "      <th>Job Title Category</th>\n",
              "      <th>Total_time</th>\n",
              "      <th>Number_of_Logins</th>\n",
              "    </tr>\n",
              "  </thead>\n",
              "  <tbody>\n",
              "    <tr>\n",
              "      <th>167</th>\n",
              "      <td>Yes</td>\n",
              "      <td>Manchester</td>\n",
              "      <td>US</td>\n",
              "      <td>NH</td>\n",
              "      <td>Accounting</td>\n",
              "      <td>None</td>\n",
              "      <td>director</td>\n",
              "      <td>0</td>\n",
              "      <td>2022-09-15 08:26:08</td>\n",
              "      <td>2022-09-15 08:26:14</td>\n",
              "      <td>2022-09-15 09:10:08</td>\n",
              "      <td>44</td>\n",
              "      <td>United States</td>\n",
              "      <td>mailchimp</td>\n",
              "      <td>Biomaterials</td>\n",
              "      <td>Manager, Director</td>\n",
              "      <td>44.0</td>\n",
              "      <td>1.0</td>\n",
              "    </tr>\n",
              "    <tr>\n",
              "      <th>429</th>\n",
              "      <td>No</td>\n",
              "      <td>Uluberia</td>\n",
              "      <td>IN</td>\n",
              "      <td>Other</td>\n",
              "      <td>Other</td>\n",
              "      <td>None</td>\n",
              "      <td>not given</td>\n",
              "      <td>0</td>\n",
              "      <td>2022-09-26 04:46:05</td>\n",
              "      <td>NaT</td>\n",
              "      <td>NaT</td>\n",
              "      <td>0</td>\n",
              "      <td>India</td>\n",
              "      <td>mailchimp</td>\n",
              "      <td>Preprocessing</td>\n",
              "      <td>None</td>\n",
              "      <td>0.0</td>\n",
              "      <td>0.0</td>\n",
              "    </tr>\n",
              "    <tr>\n",
              "      <th>497</th>\n",
              "      <td>No</td>\n",
              "      <td>Melbourne</td>\n",
              "      <td>AU</td>\n",
              "      <td>VIC</td>\n",
              "      <td>Education</td>\n",
              "      <td>None</td>\n",
              "      <td>phd graduate</td>\n",
              "      <td>0</td>\n",
              "      <td>2022-09-28 17:08:47</td>\n",
              "      <td>NaT</td>\n",
              "      <td>NaT</td>\n",
              "      <td>0</td>\n",
              "      <td>Australia</td>\n",
              "      <td>mailchimp</td>\n",
              "      <td>Preprocessing</td>\n",
              "      <td>Academic</td>\n",
              "      <td>0.0</td>\n",
              "      <td>0.0</td>\n",
              "    </tr>\n",
              "    <tr>\n",
              "      <th>606</th>\n",
              "      <td>No</td>\n",
              "      <td>Fort Mill</td>\n",
              "      <td>US</td>\n",
              "      <td>SC</td>\n",
              "      <td>Manufacturing</td>\n",
              "      <td>None</td>\n",
              "      <td>not given</td>\n",
              "      <td>0</td>\n",
              "      <td>2022-09-14 12:45:23</td>\n",
              "      <td>NaT</td>\n",
              "      <td>NaT</td>\n",
              "      <td>0</td>\n",
              "      <td>United States</td>\n",
              "      <td>linkedin</td>\n",
              "      <td>Biomaterials</td>\n",
              "      <td>None</td>\n",
              "      <td>0.0</td>\n",
              "      <td>0.0</td>\n",
              "    </tr>\n",
              "    <tr>\n",
              "      <th>633</th>\n",
              "      <td>Yes</td>\n",
              "      <td>Richmond Hill</td>\n",
              "      <td>US</td>\n",
              "      <td>GA</td>\n",
              "      <td>Medical,  Pharma,  Biotech</td>\n",
              "      <td>None</td>\n",
              "      <td>veterinarian</td>\n",
              "      <td>0</td>\n",
              "      <td>2022-08-29 06:12:02</td>\n",
              "      <td>2022-09-08 08:04:29</td>\n",
              "      <td>2022-09-08 09:40:13</td>\n",
              "      <td>96</td>\n",
              "      <td>United States</td>\n",
              "      <td>mailchimp</td>\n",
              "      <td>3D Metal</td>\n",
              "      <td>Clinician</td>\n",
              "      <td>96.0</td>\n",
              "      <td>1.0</td>\n",
              "    </tr>\n",
              "    <tr>\n",
              "      <th>672</th>\n",
              "      <td>No</td>\n",
              "      <td>Belgrade</td>\n",
              "      <td>RS</td>\n",
              "      <td>Other</td>\n",
              "      <td>Medical,  Pharma,  Biotech</td>\n",
              "      <td>None</td>\n",
              "      <td>doctor of medicine</td>\n",
              "      <td>0</td>\n",
              "      <td>2022-09-26 05:04:54</td>\n",
              "      <td>NaT</td>\n",
              "      <td>NaT</td>\n",
              "      <td>0</td>\n",
              "      <td>Serbia</td>\n",
              "      <td>mailchimp</td>\n",
              "      <td>Preprocessing</td>\n",
              "      <td>Clinician</td>\n",
              "      <td>0.0</td>\n",
              "      <td>0.0</td>\n",
              "    </tr>\n",
              "  </tbody>\n",
              "</table>\n",
              "</div>\n",
              "      <button class=\"colab-df-convert\" onclick=\"convertToInteractive('df-99ac8677-1180-4b77-91c1-0bd927b48913')\"\n",
              "              title=\"Convert this dataframe to an interactive table.\"\n",
              "              style=\"display:none;\">\n",
              "        \n",
              "  <svg xmlns=\"http://www.w3.org/2000/svg\" height=\"24px\"viewBox=\"0 0 24 24\"\n",
              "       width=\"24px\">\n",
              "    <path d=\"M0 0h24v24H0V0z\" fill=\"none\"/>\n",
              "    <path d=\"M18.56 5.44l.94 2.06.94-2.06 2.06-.94-2.06-.94-.94-2.06-.94 2.06-2.06.94zm-11 1L8.5 8.5l.94-2.06 2.06-.94-2.06-.94L8.5 2.5l-.94 2.06-2.06.94zm10 10l.94 2.06.94-2.06 2.06-.94-2.06-.94-.94-2.06-.94 2.06-2.06.94z\"/><path d=\"M17.41 7.96l-1.37-1.37c-.4-.4-.92-.59-1.43-.59-.52 0-1.04.2-1.43.59L10.3 9.45l-7.72 7.72c-.78.78-.78 2.05 0 2.83L4 21.41c.39.39.9.59 1.41.59.51 0 1.02-.2 1.41-.59l7.78-7.78 2.81-2.81c.8-.78.8-2.07 0-2.86zM5.41 20L4 18.59l7.72-7.72 1.47 1.35L5.41 20z\"/>\n",
              "  </svg>\n",
              "      </button>\n",
              "      \n",
              "  <style>\n",
              "    .colab-df-container {\n",
              "      display:flex;\n",
              "      flex-wrap:wrap;\n",
              "      gap: 12px;\n",
              "    }\n",
              "\n",
              "    .colab-df-convert {\n",
              "      background-color: #E8F0FE;\n",
              "      border: none;\n",
              "      border-radius: 50%;\n",
              "      cursor: pointer;\n",
              "      display: none;\n",
              "      fill: #1967D2;\n",
              "      height: 32px;\n",
              "      padding: 0 0 0 0;\n",
              "      width: 32px;\n",
              "    }\n",
              "\n",
              "    .colab-df-convert:hover {\n",
              "      background-color: #E2EBFA;\n",
              "      box-shadow: 0px 1px 2px rgba(60, 64, 67, 0.3), 0px 1px 3px 1px rgba(60, 64, 67, 0.15);\n",
              "      fill: #174EA6;\n",
              "    }\n",
              "\n",
              "    [theme=dark] .colab-df-convert {\n",
              "      background-color: #3B4455;\n",
              "      fill: #D2E3FC;\n",
              "    }\n",
              "\n",
              "    [theme=dark] .colab-df-convert:hover {\n",
              "      background-color: #434B5C;\n",
              "      box-shadow: 0px 1px 3px 1px rgba(0, 0, 0, 0.15);\n",
              "      filter: drop-shadow(0px 1px 2px rgba(0, 0, 0, 0.3));\n",
              "      fill: #FFFFFF;\n",
              "    }\n",
              "  </style>\n",
              "\n",
              "      <script>\n",
              "        const buttonEl =\n",
              "          document.querySelector('#df-99ac8677-1180-4b77-91c1-0bd927b48913 button.colab-df-convert');\n",
              "        buttonEl.style.display =\n",
              "          google.colab.kernel.accessAllowed ? 'block' : 'none';\n",
              "\n",
              "        async function convertToInteractive(key) {\n",
              "          const element = document.querySelector('#df-99ac8677-1180-4b77-91c1-0bd927b48913');\n",
              "          const dataTable =\n",
              "            await google.colab.kernel.invokeFunction('convertToInteractive',\n",
              "                                                     [key], {});\n",
              "          if (!dataTable) return;\n",
              "\n",
              "          const docLinkHtml = 'Like what you see? Visit the ' +\n",
              "            '<a target=\"_blank\" href=https://colab.research.google.com/notebooks/data_table.ipynb>data table notebook</a>'\n",
              "            + ' to learn more about interactive tables.';\n",
              "          element.innerHTML = '';\n",
              "          dataTable['output_type'] = 'display_data';\n",
              "          await google.colab.output.renderOutput(dataTable, element);\n",
              "          const docLink = document.createElement('div');\n",
              "          docLink.innerHTML = docLinkHtml;\n",
              "          element.appendChild(docLink);\n",
              "        }\n",
              "      </script>\n",
              "    </div>\n",
              "  </div>\n",
              "  "
            ]
          },
          "metadata": {},
          "execution_count": 98
        }
      ]
    },
    {
      "cell_type": "code",
      "source": [
        "#Fill missing Organization with 'Other'\n",
        "df_no_duplicates.loc[(df_no_duplicates['Organization'].isna()),'Organization'] = 'Other'"
      ],
      "metadata": {
        "id": "NFPGOYiMXIRo"
      },
      "execution_count": null,
      "outputs": []
    },
    {
      "cell_type": "code",
      "source": [
        "df_no_duplicates.isna().sum()"
      ],
      "metadata": {
        "colab": {
          "base_uri": "https://localhost:8080/"
        },
        "id": "kDs_D-dAE2if",
        "outputId": "d761fe3b-cdb9-495a-90bd-c7e6b6d0e253"
      },
      "execution_count": null,
      "outputs": [
        {
          "output_type": "execute_result",
          "data": {
            "text/plain": [
              "Email                          0\n",
              "Attended                       0\n",
              "City                           0\n",
              "Country/Region                 0\n",
              "State/Province                 0\n",
              "Industry                       0\n",
              "Organization                   0\n",
              "Job Title                      0\n",
              "Questions & Comments           0\n",
              "Registration Time              0\n",
              "Join Time                    380\n",
              "Leave Time                   380\n",
              "Time in Session (minutes)      0\n",
              "Country/Region Name            0\n",
              "Source Name                    0\n",
              "webinar_name                   0\n",
              "Job Title Category             0\n",
              "Total_time                     0\n",
              "Number_of_Logins               0\n",
              "dtype: int64"
            ]
          },
          "metadata": {},
          "execution_count": 100
        }
      ]
    },
    {
      "cell_type": "markdown",
      "source": [
        "#More Feature Engineering"
      ],
      "metadata": {
        "id": "EPtjAA4LCLWa"
      }
    },
    {
      "cell_type": "code",
      "source": [
        "#create a column for the number of webinars a participant registered for\n",
        "df_no_duplicates['Registered_Webinars'] = df_no_duplicates.groupby('Email')['webinar_name'].transform('count')"
      ],
      "metadata": {
        "id": "DQl5YiL75YUY"
      },
      "execution_count": null,
      "outputs": []
    },
    {
      "cell_type": "code",
      "source": [
        "#map Yes to 1 and No to 0 for the 'Attended' column\n",
        "df_no_duplicates['Attended'] = df_no_duplicates['Attended'].map(dict(Yes=1, No=0))"
      ],
      "metadata": {
        "id": "xLzAHSgu7FRt"
      },
      "execution_count": null,
      "outputs": []
    },
    {
      "cell_type": "code",
      "source": [
        "#create a column for the total number of webinars a participant attended\n",
        "df_no_duplicates['Attended_Webinars'] = df_no_duplicates.groupby('Email')['Attended'].transform('sum')"
      ],
      "metadata": {
        "id": "mqP2uC165I7l"
      },
      "execution_count": null,
      "outputs": []
    },
    {
      "cell_type": "code",
      "source": [
        "#create a column for the percentage of webinars a participant attended out of the number registered for\n",
        "df_no_duplicates['Attended_Percent'] = df_no_duplicates['Attended_Webinars'] / df_no_duplicates['Registered_Webinars']"
      ],
      "metadata": {
        "id": "-mCbgRm4Bhwb"
      },
      "execution_count": null,
      "outputs": []
    },
    {
      "cell_type": "code",
      "source": [
        "df_no_duplicates.drop(labels='Email', axis=1).head(10)"
      ],
      "metadata": {
        "colab": {
          "base_uri": "https://localhost:8080/",
          "height": 769
        },
        "id": "jnB89rCb8Hk6",
        "outputId": "fa9d3296-35e9-4791-81b1-adc2d571a6b2"
      },
      "execution_count": null,
      "outputs": [
        {
          "output_type": "execute_result",
          "data": {
            "text/plain": [
              "   Attended       City Country/Region State/Province  \\\n",
              "0         0       Pune             IN          Other   \n",
              "1         0       Pune             IN          Other   \n",
              "2         1     bazpur             IN          Other   \n",
              "3         0    Kayseri             TR          Other   \n",
              "4         0    Nairobi             KE          Other   \n",
              "5         0    Chciago             US             IL   \n",
              "6         0    Yonkers             US             NY   \n",
              "7         1       Omer             IL          Other   \n",
              "8         1  Littleton             US             CO   \n",
              "9         1     Riyadh             SA          Other   \n",
              "\n",
              "                            Industry                    Organization  \\\n",
              "0                   Software - Other               Dassault Systemes   \n",
              "1                              Other                              Ds   \n",
              "2                          Education                        Employee   \n",
              "3                  High Tech - Other       Abdullah Gül universitesi   \n",
              "4                  High Tech - Other                          Bymedi   \n",
              "5  Hospital,  Clinic,  Doctor Office  Rush University Medical Center   \n",
              "6                              Other      University of Pennsylvania   \n",
              "7         Medical,  Pharma,  Biotech                       Matricelf   \n",
              "8                      Manufacturing                      3D Systems   \n",
              "9                      Manufacturing                           HIKMA   \n",
              "\n",
              "                Job Title Questions & Comments   Registration Time  \\\n",
              "0               developer                    0 2022-08-29 12:32:37   \n",
              "1                 develer                    0 2022-09-06 12:48:32   \n",
              "2               not given                    0 2022-08-22 23:43:21   \n",
              "3             phd student                    0 2022-09-06 22:29:58   \n",
              "4                 founder                    0 2022-09-29 01:19:43   \n",
              "5     assistant professor                    0 2022-09-26 07:15:53   \n",
              "6   undergraduate student                    0 2022-09-06 11:04:45   \n",
              "7                     ceo                    0 2022-09-26 18:02:55   \n",
              "8  manufacturing engineer                    0 2022-09-29 10:18:27   \n",
              "9                      rd                    0 2022-09-15 08:58:22   \n",
              "\n",
              "            Join Time  ... Time in Session (minutes)  Country/Region Name  \\\n",
              "0                 NaT  ...                         0                India   \n",
              "1                 NaT  ...                         0                India   \n",
              "2 2022-09-01 08:00:52  ...                       141                India   \n",
              "3                 NaT  ...                         0               Turkey   \n",
              "4                 NaT  ...                         0                Kenya   \n",
              "5                 NaT  ...                         0        United States   \n",
              "6                 NaT  ...                         0        United States   \n",
              "7 2022-10-06 08:04:09  ...                        38               Israel   \n",
              "8 2022-10-06 08:03:49  ...                        66        United States   \n",
              "9 2022-09-15 09:10:16  ...                        32         Saudi Arabia   \n",
              "\n",
              "  Source Name      webinar_name Job Title Category Total_time  \\\n",
              "0   mailchimp          3D Metal              Other        0.0   \n",
              "1   mailchimp      Biomaterials              Other        0.0   \n",
              "2   mailchimp  Indian Ecosystem               None      141.0   \n",
              "3    linkedin      Biomaterials           Academic        0.0   \n",
              "4     website     Preprocessing            C-Suite        0.0   \n",
              "5   mailchimp     Preprocessing           Academic        0.0   \n",
              "6     website      Biomaterials           Academic        0.0   \n",
              "7   mailchimp     Preprocessing            C-Suite       38.0   \n",
              "8    linkedin     Preprocessing           Engineer       66.0   \n",
              "9    linkedin      Biomaterials         Researcher       32.0   \n",
              "\n",
              "   Number_of_Logins  Registered_Webinars  Attended_Webinars  Attended_Percent  \n",
              "0               0.0                    3                  1          0.333333  \n",
              "1               0.0                    3                  1          0.333333  \n",
              "2               5.0                    3                  1          0.333333  \n",
              "3               0.0                    1                  0          0.000000  \n",
              "4               0.0                    1                  0          0.000000  \n",
              "5               0.0                    1                  0          0.000000  \n",
              "6               0.0                    1                  0          0.000000  \n",
              "7               1.0                    1                  1          1.000000  \n",
              "8               1.0                    1                  1          1.000000  \n",
              "9               1.0                    1                  1          1.000000  \n",
              "\n",
              "[10 rows x 21 columns]"
            ],
            "text/html": [
              "\n",
              "  <div id=\"df-89cec4ef-047a-4de0-84c1-304f2efbe73e\">\n",
              "    <div class=\"colab-df-container\">\n",
              "      <div>\n",
              "<style scoped>\n",
              "    .dataframe tbody tr th:only-of-type {\n",
              "        vertical-align: middle;\n",
              "    }\n",
              "\n",
              "    .dataframe tbody tr th {\n",
              "        vertical-align: top;\n",
              "    }\n",
              "\n",
              "    .dataframe thead th {\n",
              "        text-align: right;\n",
              "    }\n",
              "</style>\n",
              "<table border=\"1\" class=\"dataframe\">\n",
              "  <thead>\n",
              "    <tr style=\"text-align: right;\">\n",
              "      <th></th>\n",
              "      <th>Attended</th>\n",
              "      <th>City</th>\n",
              "      <th>Country/Region</th>\n",
              "      <th>State/Province</th>\n",
              "      <th>Industry</th>\n",
              "      <th>Organization</th>\n",
              "      <th>Job Title</th>\n",
              "      <th>Questions &amp; Comments</th>\n",
              "      <th>Registration Time</th>\n",
              "      <th>Join Time</th>\n",
              "      <th>...</th>\n",
              "      <th>Time in Session (minutes)</th>\n",
              "      <th>Country/Region Name</th>\n",
              "      <th>Source Name</th>\n",
              "      <th>webinar_name</th>\n",
              "      <th>Job Title Category</th>\n",
              "      <th>Total_time</th>\n",
              "      <th>Number_of_Logins</th>\n",
              "      <th>Registered_Webinars</th>\n",
              "      <th>Attended_Webinars</th>\n",
              "      <th>Attended_Percent</th>\n",
              "    </tr>\n",
              "  </thead>\n",
              "  <tbody>\n",
              "    <tr>\n",
              "      <th>0</th>\n",
              "      <td>0</td>\n",
              "      <td>Pune</td>\n",
              "      <td>IN</td>\n",
              "      <td>Other</td>\n",
              "      <td>Software - Other</td>\n",
              "      <td>Dassault Systemes</td>\n",
              "      <td>developer</td>\n",
              "      <td>0</td>\n",
              "      <td>2022-08-29 12:32:37</td>\n",
              "      <td>NaT</td>\n",
              "      <td>...</td>\n",
              "      <td>0</td>\n",
              "      <td>India</td>\n",
              "      <td>mailchimp</td>\n",
              "      <td>3D Metal</td>\n",
              "      <td>Other</td>\n",
              "      <td>0.0</td>\n",
              "      <td>0.0</td>\n",
              "      <td>3</td>\n",
              "      <td>1</td>\n",
              "      <td>0.333333</td>\n",
              "    </tr>\n",
              "    <tr>\n",
              "      <th>1</th>\n",
              "      <td>0</td>\n",
              "      <td>Pune</td>\n",
              "      <td>IN</td>\n",
              "      <td>Other</td>\n",
              "      <td>Other</td>\n",
              "      <td>Ds</td>\n",
              "      <td>develer</td>\n",
              "      <td>0</td>\n",
              "      <td>2022-09-06 12:48:32</td>\n",
              "      <td>NaT</td>\n",
              "      <td>...</td>\n",
              "      <td>0</td>\n",
              "      <td>India</td>\n",
              "      <td>mailchimp</td>\n",
              "      <td>Biomaterials</td>\n",
              "      <td>Other</td>\n",
              "      <td>0.0</td>\n",
              "      <td>0.0</td>\n",
              "      <td>3</td>\n",
              "      <td>1</td>\n",
              "      <td>0.333333</td>\n",
              "    </tr>\n",
              "    <tr>\n",
              "      <th>2</th>\n",
              "      <td>1</td>\n",
              "      <td>bazpur</td>\n",
              "      <td>IN</td>\n",
              "      <td>Other</td>\n",
              "      <td>Education</td>\n",
              "      <td>Employee</td>\n",
              "      <td>not given</td>\n",
              "      <td>0</td>\n",
              "      <td>2022-08-22 23:43:21</td>\n",
              "      <td>2022-09-01 08:00:52</td>\n",
              "      <td>...</td>\n",
              "      <td>141</td>\n",
              "      <td>India</td>\n",
              "      <td>mailchimp</td>\n",
              "      <td>Indian Ecosystem</td>\n",
              "      <td>None</td>\n",
              "      <td>141.0</td>\n",
              "      <td>5.0</td>\n",
              "      <td>3</td>\n",
              "      <td>1</td>\n",
              "      <td>0.333333</td>\n",
              "    </tr>\n",
              "    <tr>\n",
              "      <th>3</th>\n",
              "      <td>0</td>\n",
              "      <td>Kayseri</td>\n",
              "      <td>TR</td>\n",
              "      <td>Other</td>\n",
              "      <td>High Tech - Other</td>\n",
              "      <td>Abdullah Gül universitesi</td>\n",
              "      <td>phd student</td>\n",
              "      <td>0</td>\n",
              "      <td>2022-09-06 22:29:58</td>\n",
              "      <td>NaT</td>\n",
              "      <td>...</td>\n",
              "      <td>0</td>\n",
              "      <td>Turkey</td>\n",
              "      <td>linkedin</td>\n",
              "      <td>Biomaterials</td>\n",
              "      <td>Academic</td>\n",
              "      <td>0.0</td>\n",
              "      <td>0.0</td>\n",
              "      <td>1</td>\n",
              "      <td>0</td>\n",
              "      <td>0.000000</td>\n",
              "    </tr>\n",
              "    <tr>\n",
              "      <th>4</th>\n",
              "      <td>0</td>\n",
              "      <td>Nairobi</td>\n",
              "      <td>KE</td>\n",
              "      <td>Other</td>\n",
              "      <td>High Tech - Other</td>\n",
              "      <td>Bymedi</td>\n",
              "      <td>founder</td>\n",
              "      <td>0</td>\n",
              "      <td>2022-09-29 01:19:43</td>\n",
              "      <td>NaT</td>\n",
              "      <td>...</td>\n",
              "      <td>0</td>\n",
              "      <td>Kenya</td>\n",
              "      <td>website</td>\n",
              "      <td>Preprocessing</td>\n",
              "      <td>C-Suite</td>\n",
              "      <td>0.0</td>\n",
              "      <td>0.0</td>\n",
              "      <td>1</td>\n",
              "      <td>0</td>\n",
              "      <td>0.000000</td>\n",
              "    </tr>\n",
              "    <tr>\n",
              "      <th>5</th>\n",
              "      <td>0</td>\n",
              "      <td>Chciago</td>\n",
              "      <td>US</td>\n",
              "      <td>IL</td>\n",
              "      <td>Hospital,  Clinic,  Doctor Office</td>\n",
              "      <td>Rush University Medical Center</td>\n",
              "      <td>assistant professor</td>\n",
              "      <td>0</td>\n",
              "      <td>2022-09-26 07:15:53</td>\n",
              "      <td>NaT</td>\n",
              "      <td>...</td>\n",
              "      <td>0</td>\n",
              "      <td>United States</td>\n",
              "      <td>mailchimp</td>\n",
              "      <td>Preprocessing</td>\n",
              "      <td>Academic</td>\n",
              "      <td>0.0</td>\n",
              "      <td>0.0</td>\n",
              "      <td>1</td>\n",
              "      <td>0</td>\n",
              "      <td>0.000000</td>\n",
              "    </tr>\n",
              "    <tr>\n",
              "      <th>6</th>\n",
              "      <td>0</td>\n",
              "      <td>Yonkers</td>\n",
              "      <td>US</td>\n",
              "      <td>NY</td>\n",
              "      <td>Other</td>\n",
              "      <td>University of Pennsylvania</td>\n",
              "      <td>undergraduate student</td>\n",
              "      <td>0</td>\n",
              "      <td>2022-09-06 11:04:45</td>\n",
              "      <td>NaT</td>\n",
              "      <td>...</td>\n",
              "      <td>0</td>\n",
              "      <td>United States</td>\n",
              "      <td>website</td>\n",
              "      <td>Biomaterials</td>\n",
              "      <td>Academic</td>\n",
              "      <td>0.0</td>\n",
              "      <td>0.0</td>\n",
              "      <td>1</td>\n",
              "      <td>0</td>\n",
              "      <td>0.000000</td>\n",
              "    </tr>\n",
              "    <tr>\n",
              "      <th>7</th>\n",
              "      <td>1</td>\n",
              "      <td>Omer</td>\n",
              "      <td>IL</td>\n",
              "      <td>Other</td>\n",
              "      <td>Medical,  Pharma,  Biotech</td>\n",
              "      <td>Matricelf</td>\n",
              "      <td>ceo</td>\n",
              "      <td>0</td>\n",
              "      <td>2022-09-26 18:02:55</td>\n",
              "      <td>2022-10-06 08:04:09</td>\n",
              "      <td>...</td>\n",
              "      <td>38</td>\n",
              "      <td>Israel</td>\n",
              "      <td>mailchimp</td>\n",
              "      <td>Preprocessing</td>\n",
              "      <td>C-Suite</td>\n",
              "      <td>38.0</td>\n",
              "      <td>1.0</td>\n",
              "      <td>1</td>\n",
              "      <td>1</td>\n",
              "      <td>1.000000</td>\n",
              "    </tr>\n",
              "    <tr>\n",
              "      <th>8</th>\n",
              "      <td>1</td>\n",
              "      <td>Littleton</td>\n",
              "      <td>US</td>\n",
              "      <td>CO</td>\n",
              "      <td>Manufacturing</td>\n",
              "      <td>3D Systems</td>\n",
              "      <td>manufacturing engineer</td>\n",
              "      <td>0</td>\n",
              "      <td>2022-09-29 10:18:27</td>\n",
              "      <td>2022-10-06 08:03:49</td>\n",
              "      <td>...</td>\n",
              "      <td>66</td>\n",
              "      <td>United States</td>\n",
              "      <td>linkedin</td>\n",
              "      <td>Preprocessing</td>\n",
              "      <td>Engineer</td>\n",
              "      <td>66.0</td>\n",
              "      <td>1.0</td>\n",
              "      <td>1</td>\n",
              "      <td>1</td>\n",
              "      <td>1.000000</td>\n",
              "    </tr>\n",
              "    <tr>\n",
              "      <th>9</th>\n",
              "      <td>1</td>\n",
              "      <td>Riyadh</td>\n",
              "      <td>SA</td>\n",
              "      <td>Other</td>\n",
              "      <td>Manufacturing</td>\n",
              "      <td>HIKMA</td>\n",
              "      <td>rd</td>\n",
              "      <td>0</td>\n",
              "      <td>2022-09-15 08:58:22</td>\n",
              "      <td>2022-09-15 09:10:16</td>\n",
              "      <td>...</td>\n",
              "      <td>32</td>\n",
              "      <td>Saudi Arabia</td>\n",
              "      <td>linkedin</td>\n",
              "      <td>Biomaterials</td>\n",
              "      <td>Researcher</td>\n",
              "      <td>32.0</td>\n",
              "      <td>1.0</td>\n",
              "      <td>1</td>\n",
              "      <td>1</td>\n",
              "      <td>1.000000</td>\n",
              "    </tr>\n",
              "  </tbody>\n",
              "</table>\n",
              "<p>10 rows × 21 columns</p>\n",
              "</div>\n",
              "      <button class=\"colab-df-convert\" onclick=\"convertToInteractive('df-89cec4ef-047a-4de0-84c1-304f2efbe73e')\"\n",
              "              title=\"Convert this dataframe to an interactive table.\"\n",
              "              style=\"display:none;\">\n",
              "        \n",
              "  <svg xmlns=\"http://www.w3.org/2000/svg\" height=\"24px\"viewBox=\"0 0 24 24\"\n",
              "       width=\"24px\">\n",
              "    <path d=\"M0 0h24v24H0V0z\" fill=\"none\"/>\n",
              "    <path d=\"M18.56 5.44l.94 2.06.94-2.06 2.06-.94-2.06-.94-.94-2.06-.94 2.06-2.06.94zm-11 1L8.5 8.5l.94-2.06 2.06-.94-2.06-.94L8.5 2.5l-.94 2.06-2.06.94zm10 10l.94 2.06.94-2.06 2.06-.94-2.06-.94-.94-2.06-.94 2.06-2.06.94z\"/><path d=\"M17.41 7.96l-1.37-1.37c-.4-.4-.92-.59-1.43-.59-.52 0-1.04.2-1.43.59L10.3 9.45l-7.72 7.72c-.78.78-.78 2.05 0 2.83L4 21.41c.39.39.9.59 1.41.59.51 0 1.02-.2 1.41-.59l7.78-7.78 2.81-2.81c.8-.78.8-2.07 0-2.86zM5.41 20L4 18.59l7.72-7.72 1.47 1.35L5.41 20z\"/>\n",
              "  </svg>\n",
              "      </button>\n",
              "      \n",
              "  <style>\n",
              "    .colab-df-container {\n",
              "      display:flex;\n",
              "      flex-wrap:wrap;\n",
              "      gap: 12px;\n",
              "    }\n",
              "\n",
              "    .colab-df-convert {\n",
              "      background-color: #E8F0FE;\n",
              "      border: none;\n",
              "      border-radius: 50%;\n",
              "      cursor: pointer;\n",
              "      display: none;\n",
              "      fill: #1967D2;\n",
              "      height: 32px;\n",
              "      padding: 0 0 0 0;\n",
              "      width: 32px;\n",
              "    }\n",
              "\n",
              "    .colab-df-convert:hover {\n",
              "      background-color: #E2EBFA;\n",
              "      box-shadow: 0px 1px 2px rgba(60, 64, 67, 0.3), 0px 1px 3px 1px rgba(60, 64, 67, 0.15);\n",
              "      fill: #174EA6;\n",
              "    }\n",
              "\n",
              "    [theme=dark] .colab-df-convert {\n",
              "      background-color: #3B4455;\n",
              "      fill: #D2E3FC;\n",
              "    }\n",
              "\n",
              "    [theme=dark] .colab-df-convert:hover {\n",
              "      background-color: #434B5C;\n",
              "      box-shadow: 0px 1px 3px 1px rgba(0, 0, 0, 0.15);\n",
              "      filter: drop-shadow(0px 1px 2px rgba(0, 0, 0, 0.3));\n",
              "      fill: #FFFFFF;\n",
              "    }\n",
              "  </style>\n",
              "\n",
              "      <script>\n",
              "        const buttonEl =\n",
              "          document.querySelector('#df-89cec4ef-047a-4de0-84c1-304f2efbe73e button.colab-df-convert');\n",
              "        buttonEl.style.display =\n",
              "          google.colab.kernel.accessAllowed ? 'block' : 'none';\n",
              "\n",
              "        async function convertToInteractive(key) {\n",
              "          const element = document.querySelector('#df-89cec4ef-047a-4de0-84c1-304f2efbe73e');\n",
              "          const dataTable =\n",
              "            await google.colab.kernel.invokeFunction('convertToInteractive',\n",
              "                                                     [key], {});\n",
              "          if (!dataTable) return;\n",
              "\n",
              "          const docLinkHtml = 'Like what you see? Visit the ' +\n",
              "            '<a target=\"_blank\" href=https://colab.research.google.com/notebooks/data_table.ipynb>data table notebook</a>'\n",
              "            + ' to learn more about interactive tables.';\n",
              "          element.innerHTML = '';\n",
              "          dataTable['output_type'] = 'display_data';\n",
              "          await google.colab.output.renderOutput(dataTable, element);\n",
              "          const docLink = document.createElement('div');\n",
              "          docLink.innerHTML = docLinkHtml;\n",
              "          element.appendChild(docLink);\n",
              "        }\n",
              "      </script>\n",
              "    </div>\n",
              "  </div>\n",
              "  "
            ]
          },
          "metadata": {},
          "execution_count": 105
        }
      ]
    },
    {
      "cell_type": "markdown",
      "source": [
        "#Save the data to a new csv"
      ],
      "metadata": {
        "id": "C9fN8_YC9sQM"
      }
    },
    {
      "cell_type": "code",
      "source": [
        "df_no_duplicates.to_csv('/content/gdrive/MyDrive/Springboard/3D_Heals_Project/Riipen_Springboard/combined_webinars_no_duplicates.csv')"
      ],
      "metadata": {
        "id": "iC0Bfsy162Ip"
      },
      "execution_count": null,
      "outputs": []
    }
  ],
  "metadata": {
    "colab": {
      "provenance": [],
      "toc_visible": true,
      "include_colab_link": true
    },
    "kernelspec": {
      "display_name": "Python 3",
      "name": "python3"
    },
    "language_info": {
      "name": "python"
    }
  },
  "nbformat": 4,
  "nbformat_minor": 0
}