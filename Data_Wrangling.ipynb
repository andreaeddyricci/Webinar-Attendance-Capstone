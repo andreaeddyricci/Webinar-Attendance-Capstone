{
  "cells": [
    {
      "cell_type": "markdown",
      "metadata": {
        "id": "view-in-github",
        "colab_type": "text"
      },
      "source": [
        "<a href=\"https://colab.research.google.com/github/andreaeddyricci/Webinar-Attendance-Capstone/blob/main/Data_Wrangling.ipynb\" target=\"_parent\"><img src=\"https://colab.research.google.com/assets/colab-badge.svg\" alt=\"Open In Colab\"/></a>"
      ]
    },
    {
      "cell_type": "markdown",
      "source": [
        "#Imports"
      ],
      "metadata": {
        "id": "t6tB2xyyyVyU"
      }
    },
    {
      "cell_type": "code",
      "execution_count": 1,
      "metadata": {
        "id": "pjto5iRGE-JV"
      },
      "outputs": [],
      "source": [
        "from google.colab import drive"
      ]
    },
    {
      "cell_type": "code",
      "execution_count": 2,
      "metadata": {
        "id": "AoTfoW8nCVbj"
      },
      "outputs": [],
      "source": [
        "import pandas as pd\n",
        "import string\n",
        "import numpy as np\n",
        "import os\n",
        "import matplotlib.pyplot as plt"
      ]
    },
    {
      "cell_type": "code",
      "source": [
        "!pip install fuzzywuzzy"
      ],
      "metadata": {
        "colab": {
          "base_uri": "https://localhost:8080/"
        },
        "id": "-Q67SfdIzBt2",
        "outputId": "ff167513-c8a3-4a9e-fbc6-9acfa0b3eeb9"
      },
      "execution_count": 3,
      "outputs": [
        {
          "output_type": "stream",
          "name": "stdout",
          "text": [
            "Looking in indexes: https://pypi.org/simple, https://us-python.pkg.dev/colab-wheels/public/simple/\n",
            "Collecting fuzzywuzzy\n",
            "  Downloading fuzzywuzzy-0.18.0-py2.py3-none-any.whl (18 kB)\n",
            "Installing collected packages: fuzzywuzzy\n",
            "Successfully installed fuzzywuzzy-0.18.0\n"
          ]
        }
      ]
    },
    {
      "cell_type": "code",
      "source": [
        "from fuzzywuzzy import process, fuzz"
      ],
      "metadata": {
        "id": "yZe0qIRXzC4n",
        "colab": {
          "base_uri": "https://localhost:8080/"
        },
        "outputId": "e5027c00-4ffe-4175-904a-d1e902f4baea"
      },
      "execution_count": 4,
      "outputs": [
        {
          "output_type": "stream",
          "name": "stderr",
          "text": [
            "/usr/local/lib/python3.9/dist-packages/fuzzywuzzy/fuzz.py:11: UserWarning: Using slow pure-python SequenceMatcher. Install python-Levenshtein to remove this warning\n",
            "  warnings.warn('Using slow pure-python SequenceMatcher. Install python-Levenshtein to remove this warning')\n"
          ]
        }
      ]
    },
    {
      "cell_type": "markdown",
      "source": [
        "#Loading and Combining the Data"
      ],
      "metadata": {
        "id": "i7CK5WL8XCKt"
      }
    },
    {
      "cell_type": "code",
      "execution_count": 5,
      "metadata": {
        "colab": {
          "base_uri": "https://localhost:8080/"
        },
        "id": "ChLSPzmGFC2V",
        "outputId": "f0a622fb-b0ab-496e-94b3-9dbd47192c97"
      },
      "outputs": [
        {
          "output_type": "stream",
          "name": "stdout",
          "text": [
            "Mounted at /content/gdrive\n"
          ]
        }
      ],
      "source": [
        "drive.mount('/content/gdrive')"
      ]
    },
    {
      "cell_type": "code",
      "execution_count": 6,
      "metadata": {
        "colab": {
          "base_uri": "https://localhost:8080/"
        },
        "id": "2dbch2cFL6VD",
        "outputId": "c5f0c485-26e9-4758-d1db-0bb341b9de65"
      },
      "outputs": [
        {
          "output_type": "stream",
          "name": "stdout",
          "text": [
            "<class 'pandas.core.frame.DataFrame'>\n",
            "RangeIndex: 254 entries, 0 to 253\n",
            "Data columns (total 24 columns):\n",
            " #   Column                                                                                                                                                 Non-Null Count  Dtype         \n",
            "---  ------                                                                                                                                                 --------------  -----         \n",
            " 0   Attended                                                                                                                                               254 non-null    object        \n",
            " 1   User Name (Original Name)                                                                                                                              253 non-null    object        \n",
            " 2   First Name                                                                                                                                             253 non-null    object        \n",
            " 3   Last Name                                                                                                                                              251 non-null    object        \n",
            " 4   Email                                                                                                                                                  253 non-null    object        \n",
            " 5   City                                                                                                                                                   220 non-null    object        \n",
            " 6   Country/Region                                                                                                                                         215 non-null    object        \n",
            " 7   Zip/Postal Code                                                                                                                                        153 non-null    object        \n",
            " 8   State/Province                                                                                                                                         215 non-null    object        \n",
            " 9   Industry                                                                                                                                               215 non-null    object        \n",
            " 10  Organization                                                                                                                                           213 non-null    object        \n",
            " 11  Job Title                                                                                                                                              124 non-null    object        \n",
            " 12  Questions & Comments                                                                                                                                   2 non-null      object        \n",
            " 13  Registration Time                                                                                                                                      215 non-null    datetime64[ns]\n",
            " 14  Approval Status                                                                                                                                        215 non-null    object        \n",
            " 15  Join Time                                                                                                                                              248 non-null    object        \n",
            " 16  Leave Time                                                                                                                                             248 non-null    object        \n",
            " 17  Time in Session (minutes)                                                                                                                              248 non-null    object        \n",
            " 18  Is Guest                                                                                                                                               248 non-null    object        \n",
            " 19  I agree that I may be video recorded and acknowledge that I am aware that the recording will be available to the public.                               215 non-null    object        \n",
            " 20  I agree that 3DHEALS can share my information with this event's sponsor and partners (who made this event Free to me.) I can unsubscribe at any time.  215 non-null    object        \n",
            " 21  Linkedin Link                                                                                                                                          34 non-null     object        \n",
            " 22  Country/Region Name                                                                                                                                    246 non-null    object        \n",
            " 23  Source Name                                                                                                                                            193 non-null    object        \n",
            "dtypes: datetime64[ns](1), object(23)\n",
            "memory usage: 47.8+ KB\n"
          ]
        }
      ],
      "source": [
        "path = '/content/gdrive/MyDrive/Springboard/3D_Heals_Project/Riipen_Springboard/Zoom_audience_report/2022_Season_3/Biomaterials/Biomaterials_ Attendee_Report.xlsx'\n",
        "df_biomaterials = pd.read_excel(path, skiprows=18) #doesn't need index_col=False because it is an excel file\n",
        "df_biomaterials.info()"
      ]
    },
    {
      "cell_type": "code",
      "execution_count": 7,
      "metadata": {
        "id": "fCjI3UKoOpSc"
      },
      "outputs": [],
      "source": [
        "path2 = '/content/gdrive/MyDrive/Springboard/3D_Heals_Project/Riipen_Springboard/Zoom_audience_report/2022_Season_3/Indian_Ecosystem/83184516965_Attendee_Report.csv'\n",
        "df_indian_eco = pd.read_csv(path2, skiprows=19, index_col=False)"
      ]
    },
    {
      "cell_type": "code",
      "execution_count": 8,
      "metadata": {
        "id": "shA1Gr8t10FL"
      },
      "outputs": [],
      "source": [
        "path3 = '/content/gdrive/MyDrive/Springboard/3D_Heals_Project/Riipen_Springboard/Zoom_audience_report/2022_Season_3/Metal_3D_Printing/Metal_3D_Printing/Metal3D_Attendee_Report.csv'\n",
        "df_metal = pd.read_csv(path3, skiprows=17, index_col=False)"
      ]
    },
    {
      "cell_type": "code",
      "execution_count": 9,
      "metadata": {
        "id": "sG3vQfMxkC1E"
      },
      "outputs": [],
      "source": [
        "path4 = '/content/gdrive/MyDrive/Springboard/3D_Heals_Project/Riipen_Springboard/Zoom_audience_report/2022_Season_3/Post_Processing/89197257067 - Attendee Report.csv'\n",
        "df_preprocessing = pd.read_csv(path4, skiprows=15, index_col=False)\n"
      ]
    },
    {
      "cell_type": "code",
      "execution_count": 10,
      "metadata": {
        "colab": {
          "base_uri": "https://localhost:8080/"
        },
        "id": "vWCVSMGeRsFh",
        "outputId": "584363a9-eec1-4662-8625-bf3f5e748a4d"
      },
      "outputs": [
        {
          "output_type": "stream",
          "name": "stdout",
          "text": [
            "Biomaterials has 24 columns.\n",
            "Indian Eco has 23 columns.\n",
            "3D metals has 23 columns.\n",
            "Preprocessing has 25 columns.\n"
          ]
        }
      ],
      "source": [
        "print(\"Biomaterials has \" + str(len(df_biomaterials.columns)) + \" columns.\")\n",
        "print(\"Indian Eco has \" + str(len(df_indian_eco.columns)) + \" columns.\")\n",
        "print(\"3D metals has \" + str(len(df_metal.columns)) + \" columns.\")\n",
        "print(\"Preprocessing has \" + str(len(df_preprocessing.columns)) + \" columns.\")"
      ]
    },
    {
      "cell_type": "code",
      "execution_count": 11,
      "metadata": {
        "colab": {
          "base_uri": "https://localhost:8080/"
        },
        "id": "ARgocVwnRseH",
        "outputId": "ea8036ab-c353-49d0-8ca7-cc9473e71288"
      },
      "outputs": [
        {
          "output_type": "execute_result",
          "data": {
            "text/plain": [
              "{'Linkedin Link'}"
            ]
          },
          "metadata": {},
          "execution_count": 11
        }
      ],
      "source": [
        "set(df_biomaterials.columns) - set(df_indian_eco.columns)"
      ]
    },
    {
      "cell_type": "code",
      "execution_count": 12,
      "metadata": {
        "colab": {
          "base_uri": "https://localhost:8080/"
        },
        "id": "uLubU5qCS6Cf",
        "outputId": "98569aef-14b5-49bb-cd88-23479371445c"
      },
      "outputs": [
        {
          "output_type": "execute_result",
          "data": {
            "text/plain": [
              "{'Address', 'Phone'}"
            ]
          },
          "metadata": {},
          "execution_count": 12
        }
      ],
      "source": [
        "set(df_preprocessing.columns) - set(df_indian_eco.columns)"
      ]
    },
    {
      "cell_type": "code",
      "execution_count": 13,
      "metadata": {
        "id": "lFx6LMyQmwlh"
      },
      "outputs": [],
      "source": [
        "#remove columns that are not in common\n",
        "df_preprocessing.drop({'Address', 'Phone'}, axis=1, inplace=True)\n",
        "df_biomaterials.drop('Linkedin Link', axis=1, inplace=True)"
      ]
    },
    {
      "cell_type": "code",
      "execution_count": 14,
      "metadata": {
        "colab": {
          "base_uri": "https://localhost:8080/"
        },
        "id": "znpEEu-gTU2Q",
        "outputId": "ae2521d4-cd82-4ff2-84a9-11138497e33b"
      },
      "outputs": [
        {
          "output_type": "execute_result",
          "data": {
            "text/plain": [
              "array([ True,  True,  True,  True,  True,  True,  True,  True,  True,\n",
              "        True,  True,  True,  True,  True,  True,  True,  True,  True,\n",
              "        True,  True,  True,  True,  True])"
            ]
          },
          "metadata": {},
          "execution_count": 14
        }
      ],
      "source": [
        "#check all column names\n",
        "df_preprocessing.columns == df_indian_eco.columns"
      ]
    },
    {
      "cell_type": "code",
      "execution_count": 15,
      "metadata": {
        "colab": {
          "base_uri": "https://localhost:8080/"
        },
        "id": "1mizSWVHRkhH",
        "outputId": "8aec3aa1-c5fa-4626-a95b-c0b273eb5455"
      },
      "outputs": [
        {
          "output_type": "execute_result",
          "data": {
            "text/plain": [
              "array([ True,  True,  True,  True,  True,  True,  True,  True,  True,\n",
              "        True,  True,  True,  True,  True,  True,  True,  True,  True,\n",
              "        True,  True,  True,  True,  True])"
            ]
          },
          "metadata": {},
          "execution_count": 15
        }
      ],
      "source": [
        "df_indian_eco.columns == df_metal.columns"
      ]
    },
    {
      "cell_type": "code",
      "execution_count": 16,
      "metadata": {
        "colab": {
          "base_uri": "https://localhost:8080/"
        },
        "id": "BuOjmKG1Tq1j",
        "outputId": "9e6a4f1d-8d09-4d71-cf28-49cf91326be4"
      },
      "outputs": [
        {
          "output_type": "execute_result",
          "data": {
            "text/plain": [
              "array([ True,  True,  True,  True,  True,  True,  True,  True,  True,\n",
              "        True,  True,  True,  True,  True,  True,  True,  True,  True,\n",
              "        True,  True,  True,  True,  True])"
            ]
          },
          "metadata": {},
          "execution_count": 16
        }
      ],
      "source": [
        "df_biomaterials.columns == df_metal.columns"
      ]
    },
    {
      "cell_type": "code",
      "execution_count": 17,
      "metadata": {
        "id": "nOSGzTFRsV-D"
      },
      "outputs": [],
      "source": [
        "#include title of each webinar\n",
        "df_biomaterials['webinar_name'] = 'Biomaterials'\n",
        "df_indian_eco['webinar_name'] = 'Indian Ecosystem'\n",
        "df_metal['webinar_name'] = '3D Metal'\n",
        "df_preprocessing['webinar_name'] = 'Preprocessing'"
      ]
    },
    {
      "cell_type": "code",
      "execution_count": 18,
      "metadata": {
        "id": "Spn_WPGDl0TE"
      },
      "outputs": [],
      "source": [
        "all_dfs = (df_biomaterials, df_indian_eco, df_metal, df_preprocessing)"
      ]
    },
    {
      "cell_type": "markdown",
      "source": [
        "#Viewing the Data"
      ],
      "metadata": {
        "id": "rRuPwVFxXX_L"
      }
    },
    {
      "cell_type": "code",
      "execution_count": 19,
      "metadata": {
        "colab": {
          "base_uri": "https://localhost:8080/"
        },
        "id": "DCG8mLnxl9zF",
        "outputId": "046fa6d9-45fa-4c59-ab8c-0cd374c4661d"
      },
      "outputs": [
        {
          "output_type": "stream",
          "name": "stdout",
          "text": [
            "<class 'pandas.core.frame.DataFrame'>\n",
            "Int64Index: 845 entries, 0 to 175\n",
            "Data columns (total 24 columns):\n",
            " #   Column                                                                                                                                                 Non-Null Count  Dtype \n",
            "---  ------                                                                                                                                                 --------------  ----- \n",
            " 0   Attended                                                                                                                                               845 non-null    object\n",
            " 1   User Name (Original Name)                                                                                                                              841 non-null    object\n",
            " 2   First Name                                                                                                                                             841 non-null    object\n",
            " 3   Last Name                                                                                                                                              835 non-null    object\n",
            " 4   Email                                                                                                                                                  841 non-null    object\n",
            " 5   City                                                                                                                                                   698 non-null    object\n",
            " 6   Country/Region                                                                                                                                         689 non-null    object\n",
            " 7   Zip/Postal Code                                                                                                                                        522 non-null    object\n",
            " 8   State/Province                                                                                                                                         689 non-null    object\n",
            " 9   Industry                                                                                                                                               689 non-null    object\n",
            " 10  Organization                                                                                                                                           683 non-null    object\n",
            " 11  Job Title                                                                                                                                              465 non-null    object\n",
            " 12  Questions & Comments                                                                                                                                   15 non-null     object\n",
            " 13  Registration Time                                                                                                                                      689 non-null    object\n",
            " 14  Approval Status                                                                                                                                        689 non-null    object\n",
            " 15  Join Time                                                                                                                                              830 non-null    object\n",
            " 16  Leave Time                                                                                                                                             830 non-null    object\n",
            " 17  Time in Session (minutes)                                                                                                                              830 non-null    object\n",
            " 18  Is Guest                                                                                                                                               830 non-null    object\n",
            " 19  I agree that I may be video recorded and acknowledge that I am aware that the recording will be available to the public.                               689 non-null    object\n",
            " 20  I agree that 3DHEALS can share my information with this event's sponsor and partners (who made this event Free to me.) I can unsubscribe at any time.  689 non-null    object\n",
            " 21  Country/Region Name                                                                                                                                    827 non-null    object\n",
            " 22  Source Name                                                                                                                                            660 non-null    object\n",
            " 23  webinar_name                                                                                                                                           845 non-null    object\n",
            "dtypes: object(24)\n",
            "memory usage: 165.0+ KB\n"
          ]
        }
      ],
      "source": [
        "#put all the data together\n",
        "df = pd.concat(all_dfs)\n",
        "df.info()"
      ]
    },
    {
      "cell_type": "code",
      "execution_count": 20,
      "metadata": {
        "colab": {
          "base_uri": "https://localhost:8080/"
        },
        "id": "0atXHk-JuRdj",
        "outputId": "c196633d-cffe-43d3-9ad6-f913809e5bda"
      },
      "outputs": [
        {
          "output_type": "execute_result",
          "data": {
            "text/plain": [
              "Attended                                                                                                                                                   0\n",
              "User Name (Original Name)                                                                                                                                  4\n",
              "First Name                                                                                                                                                 4\n",
              "Last Name                                                                                                                                                 10\n",
              "Email                                                                                                                                                      4\n",
              "City                                                                                                                                                     147\n",
              "Country/Region                                                                                                                                           156\n",
              "Zip/Postal Code                                                                                                                                          323\n",
              "State/Province                                                                                                                                           156\n",
              "Industry                                                                                                                                                 156\n",
              "Organization                                                                                                                                             162\n",
              "Job Title                                                                                                                                                380\n",
              "Questions & Comments                                                                                                                                     830\n",
              "Registration Time                                                                                                                                        156\n",
              "Approval Status                                                                                                                                          156\n",
              "Join Time                                                                                                                                                 15\n",
              "Leave Time                                                                                                                                                15\n",
              "Time in Session (minutes)                                                                                                                                 15\n",
              "Is Guest                                                                                                                                                  15\n",
              "I agree that I may be video recorded and acknowledge that I am aware that the recording will be available to the public.                                 156\n",
              "I agree that 3DHEALS can share my information with this event's sponsor and partners (who made this event Free to me.) I can unsubscribe at any time.    156\n",
              "Country/Region Name                                                                                                                                       18\n",
              "Source Name                                                                                                                                              185\n",
              "webinar_name                                                                                                                                               0\n",
              "dtype: int64"
            ]
          },
          "metadata": {},
          "execution_count": 20
        }
      ],
      "source": [
        "#check out how many missing values we have\n",
        "df.isna().sum()"
      ]
    },
    {
      "cell_type": "code",
      "execution_count": 21,
      "metadata": {
        "colab": {
          "base_uri": "https://localhost:8080/"
        },
        "id": "AcIODe45yB14",
        "outputId": "91aad661-0afe-4d85-f1c8-c9c7bdd4e2e1"
      },
      "outputs": [
        {
          "output_type": "execute_result",
          "data": {
            "text/plain": [
              "Index(['Attended', 'User Name (Original Name)', 'First Name', 'Last Name',\n",
              "       'Email', 'City', 'Country/Region', 'Zip/Postal Code', 'State/Province',\n",
              "       'Industry', 'Organization', 'Job Title', 'Questions & Comments',\n",
              "       'Registration Time', 'Approval Status', 'Join Time', 'Leave Time',\n",
              "       'Time in Session (minutes)', 'Is Guest',\n",
              "       'I agree that I may be video recorded and acknowledge that I am aware that the recording will be available to the public.',\n",
              "       'I agree that 3DHEALS can share my information with this event's sponsor and partners (who made this event Free to me.) I can unsubscribe at any time.',\n",
              "       'Country/Region Name', 'Source Name', 'webinar_name'],\n",
              "      dtype='object')"
            ]
          },
          "metadata": {},
          "execution_count": 21
        }
      ],
      "source": [
        "df.columns"
      ]
    },
    {
      "cell_type": "code",
      "execution_count": 22,
      "metadata": {
        "id": "-5_YkT5TuXkz"
      },
      "outputs": [],
      "source": [
        "#dropping columns we don't need\n",
        "df.drop(labels=['First Name','Last Name', 'User Name (Original Name)','Zip/Postal Code','Is Guest','Approval Status', \n",
        "                'I agree that I may be video recorded and acknowledge that I am aware that the recording will be available to the public.', \n",
        "                \"I agree that 3DHEALS can share my information with this event's sponsor and partners (who made this event Free to me.) I can unsubscribe at any time.\"\n",
        "                ],axis=1, inplace=True)"
      ]
    },
    {
      "cell_type": "code",
      "execution_count": 23,
      "metadata": {
        "colab": {
          "base_uri": "https://localhost:8080/",
          "height": 461
        },
        "id": "vtVgefLAwEMI",
        "outputId": "56dd81a7-8b2d-4d53-a9c3-d3c0acab14e8"
      },
      "outputs": [
        {
          "output_type": "execute_result",
          "data": {
            "text/plain": [
              "  Attended       City Country/Region State/Province  \\\n",
              "0       No     Ankara             TR          Other   \n",
              "1      Yes  Abu Dhabi             AE          Other   \n",
              "2      Yes        NaN            NaN            NaN   \n",
              "3      Yes        NaN            NaN            NaN   \n",
              "4      Yes        NaN            NaN            NaN   \n",
              "\n",
              "                            Industry Job Title Questions & Comments  \\\n",
              "0                      Manufacturing       NaN                  NaN   \n",
              "1  Hospital,  Clinic,  Doctor Office       NaN                  NaN   \n",
              "2                                NaN       NaN                  NaN   \n",
              "3                                NaN       NaN                  NaN   \n",
              "4                                NaN       NaN                  NaN   \n",
              "\n",
              "     Registration Time            Join Time           Leave Time  \\\n",
              "0  2022-09-01 09:31:37                   --                   --   \n",
              "1  2022-09-01 10:07:48  2022-09-15 08:03:24  2022-09-15 08:23:06   \n",
              "2                  NaT  2022-09-15 08:24:20  2022-09-15 09:31:11   \n",
              "3                  NaT  2022-09-15 09:33:47  2022-09-15 09:35:53   \n",
              "4                  NaT  2022-09-15 09:36:10  2022-09-15 09:41:31   \n",
              "\n",
              "  Time in Session (minutes)   Country/Region Name Source Name  webinar_name  \n",
              "0                        --                Turkey     website  Biomaterials  \n",
              "1                        20  United Arab Emirates   mailchimp  Biomaterials  \n",
              "2                        67        United Kingdom         NaN  Biomaterials  \n",
              "3                         3        United Kingdom         NaN  Biomaterials  \n",
              "4                         6        United Kingdom         NaN  Biomaterials  "
            ],
            "text/html": [
              "\n",
              "  <div id=\"df-f5f90cbc-4933-48e9-b09e-c16bdaa8017f\">\n",
              "    <div class=\"colab-df-container\">\n",
              "      <div>\n",
              "<style scoped>\n",
              "    .dataframe tbody tr th:only-of-type {\n",
              "        vertical-align: middle;\n",
              "    }\n",
              "\n",
              "    .dataframe tbody tr th {\n",
              "        vertical-align: top;\n",
              "    }\n",
              "\n",
              "    .dataframe thead th {\n",
              "        text-align: right;\n",
              "    }\n",
              "</style>\n",
              "<table border=\"1\" class=\"dataframe\">\n",
              "  <thead>\n",
              "    <tr style=\"text-align: right;\">\n",
              "      <th></th>\n",
              "      <th>Attended</th>\n",
              "      <th>City</th>\n",
              "      <th>Country/Region</th>\n",
              "      <th>State/Province</th>\n",
              "      <th>Industry</th>\n",
              "      <th>Job Title</th>\n",
              "      <th>Questions &amp; Comments</th>\n",
              "      <th>Registration Time</th>\n",
              "      <th>Join Time</th>\n",
              "      <th>Leave Time</th>\n",
              "      <th>Time in Session (minutes)</th>\n",
              "      <th>Country/Region Name</th>\n",
              "      <th>Source Name</th>\n",
              "      <th>webinar_name</th>\n",
              "    </tr>\n",
              "  </thead>\n",
              "  <tbody>\n",
              "    <tr>\n",
              "      <th>0</th>\n",
              "      <td>No</td>\n",
              "      <td>Ankara</td>\n",
              "      <td>TR</td>\n",
              "      <td>Other</td>\n",
              "      <td>Manufacturing</td>\n",
              "      <td>NaN</td>\n",
              "      <td>NaN</td>\n",
              "      <td>2022-09-01 09:31:37</td>\n",
              "      <td>--</td>\n",
              "      <td>--</td>\n",
              "      <td>--</td>\n",
              "      <td>Turkey</td>\n",
              "      <td>website</td>\n",
              "      <td>Biomaterials</td>\n",
              "    </tr>\n",
              "    <tr>\n",
              "      <th>1</th>\n",
              "      <td>Yes</td>\n",
              "      <td>Abu Dhabi</td>\n",
              "      <td>AE</td>\n",
              "      <td>Other</td>\n",
              "      <td>Hospital,  Clinic,  Doctor Office</td>\n",
              "      <td>NaN</td>\n",
              "      <td>NaN</td>\n",
              "      <td>2022-09-01 10:07:48</td>\n",
              "      <td>2022-09-15 08:03:24</td>\n",
              "      <td>2022-09-15 08:23:06</td>\n",
              "      <td>20</td>\n",
              "      <td>United Arab Emirates</td>\n",
              "      <td>mailchimp</td>\n",
              "      <td>Biomaterials</td>\n",
              "    </tr>\n",
              "    <tr>\n",
              "      <th>2</th>\n",
              "      <td>Yes</td>\n",
              "      <td>NaN</td>\n",
              "      <td>NaN</td>\n",
              "      <td>NaN</td>\n",
              "      <td>NaN</td>\n",
              "      <td>NaN</td>\n",
              "      <td>NaN</td>\n",
              "      <td>NaT</td>\n",
              "      <td>2022-09-15 08:24:20</td>\n",
              "      <td>2022-09-15 09:31:11</td>\n",
              "      <td>67</td>\n",
              "      <td>United Kingdom</td>\n",
              "      <td>NaN</td>\n",
              "      <td>Biomaterials</td>\n",
              "    </tr>\n",
              "    <tr>\n",
              "      <th>3</th>\n",
              "      <td>Yes</td>\n",
              "      <td>NaN</td>\n",
              "      <td>NaN</td>\n",
              "      <td>NaN</td>\n",
              "      <td>NaN</td>\n",
              "      <td>NaN</td>\n",
              "      <td>NaN</td>\n",
              "      <td>NaT</td>\n",
              "      <td>2022-09-15 09:33:47</td>\n",
              "      <td>2022-09-15 09:35:53</td>\n",
              "      <td>3</td>\n",
              "      <td>United Kingdom</td>\n",
              "      <td>NaN</td>\n",
              "      <td>Biomaterials</td>\n",
              "    </tr>\n",
              "    <tr>\n",
              "      <th>4</th>\n",
              "      <td>Yes</td>\n",
              "      <td>NaN</td>\n",
              "      <td>NaN</td>\n",
              "      <td>NaN</td>\n",
              "      <td>NaN</td>\n",
              "      <td>NaN</td>\n",
              "      <td>NaN</td>\n",
              "      <td>NaT</td>\n",
              "      <td>2022-09-15 09:36:10</td>\n",
              "      <td>2022-09-15 09:41:31</td>\n",
              "      <td>6</td>\n",
              "      <td>United Kingdom</td>\n",
              "      <td>NaN</td>\n",
              "      <td>Biomaterials</td>\n",
              "    </tr>\n",
              "  </tbody>\n",
              "</table>\n",
              "</div>\n",
              "      <button class=\"colab-df-convert\" onclick=\"convertToInteractive('df-f5f90cbc-4933-48e9-b09e-c16bdaa8017f')\"\n",
              "              title=\"Convert this dataframe to an interactive table.\"\n",
              "              style=\"display:none;\">\n",
              "        \n",
              "  <svg xmlns=\"http://www.w3.org/2000/svg\" height=\"24px\"viewBox=\"0 0 24 24\"\n",
              "       width=\"24px\">\n",
              "    <path d=\"M0 0h24v24H0V0z\" fill=\"none\"/>\n",
              "    <path d=\"M18.56 5.44l.94 2.06.94-2.06 2.06-.94-2.06-.94-.94-2.06-.94 2.06-2.06.94zm-11 1L8.5 8.5l.94-2.06 2.06-.94-2.06-.94L8.5 2.5l-.94 2.06-2.06.94zm10 10l.94 2.06.94-2.06 2.06-.94-2.06-.94-.94-2.06-.94 2.06-2.06.94z\"/><path d=\"M17.41 7.96l-1.37-1.37c-.4-.4-.92-.59-1.43-.59-.52 0-1.04.2-1.43.59L10.3 9.45l-7.72 7.72c-.78.78-.78 2.05 0 2.83L4 21.41c.39.39.9.59 1.41.59.51 0 1.02-.2 1.41-.59l7.78-7.78 2.81-2.81c.8-.78.8-2.07 0-2.86zM5.41 20L4 18.59l7.72-7.72 1.47 1.35L5.41 20z\"/>\n",
              "  </svg>\n",
              "      </button>\n",
              "      \n",
              "  <style>\n",
              "    .colab-df-container {\n",
              "      display:flex;\n",
              "      flex-wrap:wrap;\n",
              "      gap: 12px;\n",
              "    }\n",
              "\n",
              "    .colab-df-convert {\n",
              "      background-color: #E8F0FE;\n",
              "      border: none;\n",
              "      border-radius: 50%;\n",
              "      cursor: pointer;\n",
              "      display: none;\n",
              "      fill: #1967D2;\n",
              "      height: 32px;\n",
              "      padding: 0 0 0 0;\n",
              "      width: 32px;\n",
              "    }\n",
              "\n",
              "    .colab-df-convert:hover {\n",
              "      background-color: #E2EBFA;\n",
              "      box-shadow: 0px 1px 2px rgba(60, 64, 67, 0.3), 0px 1px 3px 1px rgba(60, 64, 67, 0.15);\n",
              "      fill: #174EA6;\n",
              "    }\n",
              "\n",
              "    [theme=dark] .colab-df-convert {\n",
              "      background-color: #3B4455;\n",
              "      fill: #D2E3FC;\n",
              "    }\n",
              "\n",
              "    [theme=dark] .colab-df-convert:hover {\n",
              "      background-color: #434B5C;\n",
              "      box-shadow: 0px 1px 3px 1px rgba(0, 0, 0, 0.15);\n",
              "      filter: drop-shadow(0px 1px 2px rgba(0, 0, 0, 0.3));\n",
              "      fill: #FFFFFF;\n",
              "    }\n",
              "  </style>\n",
              "\n",
              "      <script>\n",
              "        const buttonEl =\n",
              "          document.querySelector('#df-f5f90cbc-4933-48e9-b09e-c16bdaa8017f button.colab-df-convert');\n",
              "        buttonEl.style.display =\n",
              "          google.colab.kernel.accessAllowed ? 'block' : 'none';\n",
              "\n",
              "        async function convertToInteractive(key) {\n",
              "          const element = document.querySelector('#df-f5f90cbc-4933-48e9-b09e-c16bdaa8017f');\n",
              "          const dataTable =\n",
              "            await google.colab.kernel.invokeFunction('convertToInteractive',\n",
              "                                                     [key], {});\n",
              "          if (!dataTable) return;\n",
              "\n",
              "          const docLinkHtml = 'Like what you see? Visit the ' +\n",
              "            '<a target=\"_blank\" href=https://colab.research.google.com/notebooks/data_table.ipynb>data table notebook</a>'\n",
              "            + ' to learn more about interactive tables.';\n",
              "          element.innerHTML = '';\n",
              "          dataTable['output_type'] = 'display_data';\n",
              "          await google.colab.output.renderOutput(dataTable, element);\n",
              "          const docLink = document.createElement('div');\n",
              "          docLink.innerHTML = docLinkHtml;\n",
              "          element.appendChild(docLink);\n",
              "        }\n",
              "      </script>\n",
              "    </div>\n",
              "  </div>\n",
              "  "
            ]
          },
          "metadata": {},
          "execution_count": 23
        }
      ],
      "source": [
        "#not sharing email and organization for privacy\n",
        "df.drop(labels=['Email','Organization'], axis=1).head()"
      ]
    },
    {
      "cell_type": "code",
      "execution_count": 24,
      "metadata": {
        "colab": {
          "base_uri": "https://localhost:8080/"
        },
        "id": "FHoDDl3zl9-p",
        "outputId": "c60fe9e4-2f7c-4a4a-db04-17663e3cb5a6"
      },
      "outputs": [
        {
          "output_type": "execute_result",
          "data": {
            "text/plain": [
              "webinar_name\n",
              "Indian Ecosystem    166\n",
              "Preprocessing       175\n",
              "3D Metal            247\n",
              "Biomaterials        253\n",
              "Name: Email, dtype: int64"
            ]
          },
          "metadata": {},
          "execution_count": 24
        }
      ],
      "source": [
        "df.groupby('webinar_name')['Email'].count().sort_values()"
      ]
    },
    {
      "cell_type": "code",
      "execution_count": 25,
      "metadata": {
        "colab": {
          "base_uri": "https://localhost:8080/"
        },
        "id": "ZRzLs1Q9NcZY",
        "outputId": "99776a81-7cb7-4967-b17d-6f779ce19ac6"
      },
      "outputs": [
        {
          "output_type": "stream",
          "name": "stdout",
          "text": [
            "<class 'pandas.core.frame.DataFrame'>\n",
            "Int64Index: 845 entries, 0 to 175\n",
            "Data columns (total 16 columns):\n",
            " #   Column                     Non-Null Count  Dtype \n",
            "---  ------                     --------------  ----- \n",
            " 0   Attended                   845 non-null    object\n",
            " 1   Email                      841 non-null    object\n",
            " 2   City                       698 non-null    object\n",
            " 3   Country/Region             689 non-null    object\n",
            " 4   State/Province             689 non-null    object\n",
            " 5   Industry                   689 non-null    object\n",
            " 6   Organization               683 non-null    object\n",
            " 7   Job Title                  465 non-null    object\n",
            " 8   Questions & Comments       15 non-null     object\n",
            " 9   Registration Time          689 non-null    object\n",
            " 10  Join Time                  830 non-null    object\n",
            " 11  Leave Time                 830 non-null    object\n",
            " 12  Time in Session (minutes)  830 non-null    object\n",
            " 13  Country/Region Name        827 non-null    object\n",
            " 14  Source Name                660 non-null    object\n",
            " 15  webinar_name               845 non-null    object\n",
            "dtypes: object(16)\n",
            "memory usage: 112.2+ KB\n"
          ]
        }
      ],
      "source": [
        "df.info()"
      ]
    },
    {
      "cell_type": "code",
      "execution_count": 26,
      "metadata": {
        "id": "eyNKu-2GOI65"
      },
      "outputs": [],
      "source": [
        "#making time the correct type\n",
        "df['Join Time'] = pd.to_datetime(df['Join Time'], errors='coerce') \n",
        "df['Leave Time'] = pd.to_datetime(df['Leave Time'], errors='coerce')\n",
        "df['Registration Time'] = pd.to_datetime(df['Registration Time'], errors='coerce')"
      ]
    },
    {
      "cell_type": "code",
      "execution_count": 27,
      "metadata": {
        "colab": {
          "base_uri": "https://localhost:8080/",
          "height": 713
        },
        "id": "SY5r_VJzypVh",
        "outputId": "7de2884b-1f94-4b99-f567-aa0bb1d85b2f"
      },
      "outputs": [
        {
          "output_type": "execute_result",
          "data": {
            "text/plain": [
              "           Attended                 City Country/Region State/Province  \\\n",
              "0                No               Ankara             TR          Other   \n",
              "5                No               Agadir             MA          Other   \n",
              "6                No           Gothenburg             SE          Other   \n",
              "7                No            Amsterdam             NL          Other   \n",
              "8                No             Melville             US             NY   \n",
              "..              ...                  ...            ...            ...   \n",
              "159              No             Montmelo             ES          Other   \n",
              "171              No  São Julião do Tojal             PT          Outra   \n",
              "173  Other Attended                  NaN            NaN            NaN   \n",
              "174       User Name                  NaN            NaN            NaN   \n",
              "175     15184664566                  NaN            NaN            NaN   \n",
              "\n",
              "                       Industry                   Job Title  \\\n",
              "0                 Manufacturing                         NaN   \n",
              "5    Medical,  Pharma,  Biotech                         Phd   \n",
              "6    Medical,  Pharma,  Biotech      Global Product Manager   \n",
              "7                 Manufacturing                         NaN   \n",
              "8                         Legal                     Partner   \n",
              "..                          ...                         ...   \n",
              "159               Manufacturing  Global 3DP Commercial Lead   \n",
              "171                       Other                  RA Manager   \n",
              "173                         NaN                         NaN   \n",
              "174                         NaN                         NaN   \n",
              "175                         NaN                         NaN   \n",
              "\n",
              "    Questions & Comments   Registration Time Join Time Leave Time  \\\n",
              "0                    NaN 2022-09-01 09:31:37       NaT        NaT   \n",
              "5                    NaN 2022-09-02 05:24:55       NaT        NaT   \n",
              "6                    NaN 2022-09-06 04:31:38       NaT        NaT   \n",
              "7                    NaN 2022-09-06 04:31:43       NaT        NaT   \n",
              "8                    NaN 2022-09-06 04:32:12       NaT        NaT   \n",
              "..                   ...                 ...       ...        ...   \n",
              "159                  NaN 2022-10-06 08:01:59       NaT        NaT   \n",
              "171                  NaN 2022-10-06 08:43:30       NaT        NaT   \n",
              "173                  NaN                 NaT       NaT        NaT   \n",
              "174                  NaN                 NaT       NaT        NaT   \n",
              "175                  NaN                 NaT       NaT        NaT   \n",
              "\n",
              "    Time in Session (minutes) Country/Region Name Source Name   webinar_name  \n",
              "0                          --              Turkey     website   Biomaterials  \n",
              "5                          --             Morocco   mailchimp   Biomaterials  \n",
              "6                          --              Sweden   mailchimp   Biomaterials  \n",
              "7                          --         Netherlands   mailchimp   Biomaterials  \n",
              "8                          --       United States   mailchimp   Biomaterials  \n",
              "..                        ...                 ...         ...            ...  \n",
              "159                        --               Spain    LinkedIn  Preprocessing  \n",
              "171                        --            Portugal    LinkedIn  Preprocessing  \n",
              "173                       NaN                 NaN         NaN  Preprocessing  \n",
              "174                       NaN                 NaN         NaN  Preprocessing  \n",
              "175                       NaN                 NaN         NaN  Preprocessing  \n",
              "\n",
              "[395 rows x 14 columns]"
            ],
            "text/html": [
              "\n",
              "  <div id=\"df-5ca96b55-679b-4d07-8f34-520b09839f22\">\n",
              "    <div class=\"colab-df-container\">\n",
              "      <div>\n",
              "<style scoped>\n",
              "    .dataframe tbody tr th:only-of-type {\n",
              "        vertical-align: middle;\n",
              "    }\n",
              "\n",
              "    .dataframe tbody tr th {\n",
              "        vertical-align: top;\n",
              "    }\n",
              "\n",
              "    .dataframe thead th {\n",
              "        text-align: right;\n",
              "    }\n",
              "</style>\n",
              "<table border=\"1\" class=\"dataframe\">\n",
              "  <thead>\n",
              "    <tr style=\"text-align: right;\">\n",
              "      <th></th>\n",
              "      <th>Attended</th>\n",
              "      <th>City</th>\n",
              "      <th>Country/Region</th>\n",
              "      <th>State/Province</th>\n",
              "      <th>Industry</th>\n",
              "      <th>Job Title</th>\n",
              "      <th>Questions &amp; Comments</th>\n",
              "      <th>Registration Time</th>\n",
              "      <th>Join Time</th>\n",
              "      <th>Leave Time</th>\n",
              "      <th>Time in Session (minutes)</th>\n",
              "      <th>Country/Region Name</th>\n",
              "      <th>Source Name</th>\n",
              "      <th>webinar_name</th>\n",
              "    </tr>\n",
              "  </thead>\n",
              "  <tbody>\n",
              "    <tr>\n",
              "      <th>0</th>\n",
              "      <td>No</td>\n",
              "      <td>Ankara</td>\n",
              "      <td>TR</td>\n",
              "      <td>Other</td>\n",
              "      <td>Manufacturing</td>\n",
              "      <td>NaN</td>\n",
              "      <td>NaN</td>\n",
              "      <td>2022-09-01 09:31:37</td>\n",
              "      <td>NaT</td>\n",
              "      <td>NaT</td>\n",
              "      <td>--</td>\n",
              "      <td>Turkey</td>\n",
              "      <td>website</td>\n",
              "      <td>Biomaterials</td>\n",
              "    </tr>\n",
              "    <tr>\n",
              "      <th>5</th>\n",
              "      <td>No</td>\n",
              "      <td>Agadir</td>\n",
              "      <td>MA</td>\n",
              "      <td>Other</td>\n",
              "      <td>Medical,  Pharma,  Biotech</td>\n",
              "      <td>Phd</td>\n",
              "      <td>NaN</td>\n",
              "      <td>2022-09-02 05:24:55</td>\n",
              "      <td>NaT</td>\n",
              "      <td>NaT</td>\n",
              "      <td>--</td>\n",
              "      <td>Morocco</td>\n",
              "      <td>mailchimp</td>\n",
              "      <td>Biomaterials</td>\n",
              "    </tr>\n",
              "    <tr>\n",
              "      <th>6</th>\n",
              "      <td>No</td>\n",
              "      <td>Gothenburg</td>\n",
              "      <td>SE</td>\n",
              "      <td>Other</td>\n",
              "      <td>Medical,  Pharma,  Biotech</td>\n",
              "      <td>Global Product Manager</td>\n",
              "      <td>NaN</td>\n",
              "      <td>2022-09-06 04:31:38</td>\n",
              "      <td>NaT</td>\n",
              "      <td>NaT</td>\n",
              "      <td>--</td>\n",
              "      <td>Sweden</td>\n",
              "      <td>mailchimp</td>\n",
              "      <td>Biomaterials</td>\n",
              "    </tr>\n",
              "    <tr>\n",
              "      <th>7</th>\n",
              "      <td>No</td>\n",
              "      <td>Amsterdam</td>\n",
              "      <td>NL</td>\n",
              "      <td>Other</td>\n",
              "      <td>Manufacturing</td>\n",
              "      <td>NaN</td>\n",
              "      <td>NaN</td>\n",
              "      <td>2022-09-06 04:31:43</td>\n",
              "      <td>NaT</td>\n",
              "      <td>NaT</td>\n",
              "      <td>--</td>\n",
              "      <td>Netherlands</td>\n",
              "      <td>mailchimp</td>\n",
              "      <td>Biomaterials</td>\n",
              "    </tr>\n",
              "    <tr>\n",
              "      <th>8</th>\n",
              "      <td>No</td>\n",
              "      <td>Melville</td>\n",
              "      <td>US</td>\n",
              "      <td>NY</td>\n",
              "      <td>Legal</td>\n",
              "      <td>Partner</td>\n",
              "      <td>NaN</td>\n",
              "      <td>2022-09-06 04:32:12</td>\n",
              "      <td>NaT</td>\n",
              "      <td>NaT</td>\n",
              "      <td>--</td>\n",
              "      <td>United States</td>\n",
              "      <td>mailchimp</td>\n",
              "      <td>Biomaterials</td>\n",
              "    </tr>\n",
              "    <tr>\n",
              "      <th>...</th>\n",
              "      <td>...</td>\n",
              "      <td>...</td>\n",
              "      <td>...</td>\n",
              "      <td>...</td>\n",
              "      <td>...</td>\n",
              "      <td>...</td>\n",
              "      <td>...</td>\n",
              "      <td>...</td>\n",
              "      <td>...</td>\n",
              "      <td>...</td>\n",
              "      <td>...</td>\n",
              "      <td>...</td>\n",
              "      <td>...</td>\n",
              "      <td>...</td>\n",
              "    </tr>\n",
              "    <tr>\n",
              "      <th>159</th>\n",
              "      <td>No</td>\n",
              "      <td>Montmelo</td>\n",
              "      <td>ES</td>\n",
              "      <td>Other</td>\n",
              "      <td>Manufacturing</td>\n",
              "      <td>Global 3DP Commercial Lead</td>\n",
              "      <td>NaN</td>\n",
              "      <td>2022-10-06 08:01:59</td>\n",
              "      <td>NaT</td>\n",
              "      <td>NaT</td>\n",
              "      <td>--</td>\n",
              "      <td>Spain</td>\n",
              "      <td>LinkedIn</td>\n",
              "      <td>Preprocessing</td>\n",
              "    </tr>\n",
              "    <tr>\n",
              "      <th>171</th>\n",
              "      <td>No</td>\n",
              "      <td>São Julião do Tojal</td>\n",
              "      <td>PT</td>\n",
              "      <td>Outra</td>\n",
              "      <td>Other</td>\n",
              "      <td>RA Manager</td>\n",
              "      <td>NaN</td>\n",
              "      <td>2022-10-06 08:43:30</td>\n",
              "      <td>NaT</td>\n",
              "      <td>NaT</td>\n",
              "      <td>--</td>\n",
              "      <td>Portugal</td>\n",
              "      <td>LinkedIn</td>\n",
              "      <td>Preprocessing</td>\n",
              "    </tr>\n",
              "    <tr>\n",
              "      <th>173</th>\n",
              "      <td>Other Attended</td>\n",
              "      <td>NaN</td>\n",
              "      <td>NaN</td>\n",
              "      <td>NaN</td>\n",
              "      <td>NaN</td>\n",
              "      <td>NaN</td>\n",
              "      <td>NaN</td>\n",
              "      <td>NaT</td>\n",
              "      <td>NaT</td>\n",
              "      <td>NaT</td>\n",
              "      <td>NaN</td>\n",
              "      <td>NaN</td>\n",
              "      <td>NaN</td>\n",
              "      <td>Preprocessing</td>\n",
              "    </tr>\n",
              "    <tr>\n",
              "      <th>174</th>\n",
              "      <td>User Name</td>\n",
              "      <td>NaN</td>\n",
              "      <td>NaN</td>\n",
              "      <td>NaN</td>\n",
              "      <td>NaN</td>\n",
              "      <td>NaN</td>\n",
              "      <td>NaN</td>\n",
              "      <td>NaT</td>\n",
              "      <td>NaT</td>\n",
              "      <td>NaT</td>\n",
              "      <td>NaN</td>\n",
              "      <td>NaN</td>\n",
              "      <td>NaN</td>\n",
              "      <td>Preprocessing</td>\n",
              "    </tr>\n",
              "    <tr>\n",
              "      <th>175</th>\n",
              "      <td>15184664566</td>\n",
              "      <td>NaN</td>\n",
              "      <td>NaN</td>\n",
              "      <td>NaN</td>\n",
              "      <td>NaN</td>\n",
              "      <td>NaN</td>\n",
              "      <td>NaN</td>\n",
              "      <td>NaT</td>\n",
              "      <td>NaT</td>\n",
              "      <td>NaT</td>\n",
              "      <td>NaN</td>\n",
              "      <td>NaN</td>\n",
              "      <td>NaN</td>\n",
              "      <td>Preprocessing</td>\n",
              "    </tr>\n",
              "  </tbody>\n",
              "</table>\n",
              "<p>395 rows × 14 columns</p>\n",
              "</div>\n",
              "      <button class=\"colab-df-convert\" onclick=\"convertToInteractive('df-5ca96b55-679b-4d07-8f34-520b09839f22')\"\n",
              "              title=\"Convert this dataframe to an interactive table.\"\n",
              "              style=\"display:none;\">\n",
              "        \n",
              "  <svg xmlns=\"http://www.w3.org/2000/svg\" height=\"24px\"viewBox=\"0 0 24 24\"\n",
              "       width=\"24px\">\n",
              "    <path d=\"M0 0h24v24H0V0z\" fill=\"none\"/>\n",
              "    <path d=\"M18.56 5.44l.94 2.06.94-2.06 2.06-.94-2.06-.94-.94-2.06-.94 2.06-2.06.94zm-11 1L8.5 8.5l.94-2.06 2.06-.94-2.06-.94L8.5 2.5l-.94 2.06-2.06.94zm10 10l.94 2.06.94-2.06 2.06-.94-2.06-.94-.94-2.06-.94 2.06-2.06.94z\"/><path d=\"M17.41 7.96l-1.37-1.37c-.4-.4-.92-.59-1.43-.59-.52 0-1.04.2-1.43.59L10.3 9.45l-7.72 7.72c-.78.78-.78 2.05 0 2.83L4 21.41c.39.39.9.59 1.41.59.51 0 1.02-.2 1.41-.59l7.78-7.78 2.81-2.81c.8-.78.8-2.07 0-2.86zM5.41 20L4 18.59l7.72-7.72 1.47 1.35L5.41 20z\"/>\n",
              "  </svg>\n",
              "      </button>\n",
              "      \n",
              "  <style>\n",
              "    .colab-df-container {\n",
              "      display:flex;\n",
              "      flex-wrap:wrap;\n",
              "      gap: 12px;\n",
              "    }\n",
              "\n",
              "    .colab-df-convert {\n",
              "      background-color: #E8F0FE;\n",
              "      border: none;\n",
              "      border-radius: 50%;\n",
              "      cursor: pointer;\n",
              "      display: none;\n",
              "      fill: #1967D2;\n",
              "      height: 32px;\n",
              "      padding: 0 0 0 0;\n",
              "      width: 32px;\n",
              "    }\n",
              "\n",
              "    .colab-df-convert:hover {\n",
              "      background-color: #E2EBFA;\n",
              "      box-shadow: 0px 1px 2px rgba(60, 64, 67, 0.3), 0px 1px 3px 1px rgba(60, 64, 67, 0.15);\n",
              "      fill: #174EA6;\n",
              "    }\n",
              "\n",
              "    [theme=dark] .colab-df-convert {\n",
              "      background-color: #3B4455;\n",
              "      fill: #D2E3FC;\n",
              "    }\n",
              "\n",
              "    [theme=dark] .colab-df-convert:hover {\n",
              "      background-color: #434B5C;\n",
              "      box-shadow: 0px 1px 3px 1px rgba(0, 0, 0, 0.15);\n",
              "      filter: drop-shadow(0px 1px 2px rgba(0, 0, 0, 0.3));\n",
              "      fill: #FFFFFF;\n",
              "    }\n",
              "  </style>\n",
              "\n",
              "      <script>\n",
              "        const buttonEl =\n",
              "          document.querySelector('#df-5ca96b55-679b-4d07-8f34-520b09839f22 button.colab-df-convert');\n",
              "        buttonEl.style.display =\n",
              "          google.colab.kernel.accessAllowed ? 'block' : 'none';\n",
              "\n",
              "        async function convertToInteractive(key) {\n",
              "          const element = document.querySelector('#df-5ca96b55-679b-4d07-8f34-520b09839f22');\n",
              "          const dataTable =\n",
              "            await google.colab.kernel.invokeFunction('convertToInteractive',\n",
              "                                                     [key], {});\n",
              "          if (!dataTable) return;\n",
              "\n",
              "          const docLinkHtml = 'Like what you see? Visit the ' +\n",
              "            '<a target=\"_blank\" href=https://colab.research.google.com/notebooks/data_table.ipynb>data table notebook</a>'\n",
              "            + ' to learn more about interactive tables.';\n",
              "          element.innerHTML = '';\n",
              "          dataTable['output_type'] = 'display_data';\n",
              "          await google.colab.output.renderOutput(dataTable, element);\n",
              "          const docLink = document.createElement('div');\n",
              "          docLink.innerHTML = docLinkHtml;\n",
              "          element.appendChild(docLink);\n",
              "        }\n",
              "      </script>\n",
              "    </div>\n",
              "  </div>\n",
              "  "
            ]
          },
          "metadata": {},
          "execution_count": 27
        }
      ],
      "source": [
        "df[(df['Time in Session (minutes)'].isna()) | (df['Time in Session (minutes)'] == '--')].drop(labels=['Email','Organization'], axis=1)"
      ]
    },
    {
      "cell_type": "code",
      "execution_count": 28,
      "metadata": {
        "colab": {
          "base_uri": "https://localhost:8080/"
        },
        "id": "ZSdZV3AWGdWv",
        "outputId": "ec5f2f40-2ced-44ed-c426-5769de040cc0"
      },
      "outputs": [
        {
          "output_type": "execute_result",
          "data": {
            "text/plain": [
              "array(['--'], dtype=object)"
            ]
          },
          "metadata": {},
          "execution_count": 28
        }
      ],
      "source": [
        "df[(df['Attended'] == 'No')]['Time in Session (minutes)'].unique()"
      ]
    },
    {
      "cell_type": "code",
      "execution_count": 29,
      "metadata": {
        "id": "NcTt0owuG4tJ"
      },
      "outputs": [],
      "source": [
        "#For those who didn't attend, their time in session should be 0 (instead of --)\n",
        "df.loc[(df['Attended'] == 'No'),'Time in Session (minutes)'] = 0"
      ]
    },
    {
      "cell_type": "code",
      "source": [
        "#missing times will be given 0 minutes\n",
        "df['Time in Session (minutes)'] = df['Time in Session (minutes)'].fillna(0)"
      ],
      "metadata": {
        "id": "eXJTPiOMArgQ"
      },
      "execution_count": 30,
      "outputs": []
    },
    {
      "cell_type": "code",
      "execution_count": 31,
      "metadata": {
        "id": "6himmXcXIVbx"
      },
      "outputs": [],
      "source": [
        "df['Time in Session (minutes)'] = df['Time in Session (minutes)'].astype('int')"
      ]
    },
    {
      "cell_type": "code",
      "execution_count": 32,
      "metadata": {
        "colab": {
          "base_uri": "https://localhost:8080/"
        },
        "id": "LiWkoAWMOLLa",
        "outputId": "2c4f66bf-3762-4707-9a16-b3220e3dc95f"
      },
      "outputs": [
        {
          "output_type": "stream",
          "name": "stdout",
          "text": [
            "<class 'pandas.core.frame.DataFrame'>\n",
            "Int64Index: 845 entries, 0 to 175\n",
            "Data columns (total 16 columns):\n",
            " #   Column                     Non-Null Count  Dtype         \n",
            "---  ------                     --------------  -----         \n",
            " 0   Attended                   845 non-null    object        \n",
            " 1   Email                      841 non-null    object        \n",
            " 2   City                       698 non-null    object        \n",
            " 3   Country/Region             689 non-null    object        \n",
            " 4   State/Province             689 non-null    object        \n",
            " 5   Industry                   689 non-null    object        \n",
            " 6   Organization               683 non-null    object        \n",
            " 7   Job Title                  465 non-null    object        \n",
            " 8   Questions & Comments       15 non-null     object        \n",
            " 9   Registration Time          689 non-null    datetime64[ns]\n",
            " 10  Join Time                  450 non-null    datetime64[ns]\n",
            " 11  Leave Time                 450 non-null    datetime64[ns]\n",
            " 12  Time in Session (minutes)  845 non-null    int64         \n",
            " 13  Country/Region Name        827 non-null    object        \n",
            " 14  Source Name                660 non-null    object        \n",
            " 15  webinar_name               845 non-null    object        \n",
            "dtypes: datetime64[ns](3), int64(1), object(12)\n",
            "memory usage: 112.2+ KB\n"
          ]
        }
      ],
      "source": [
        "df.info()"
      ]
    },
    {
      "cell_type": "code",
      "execution_count": 33,
      "metadata": {
        "colab": {
          "base_uri": "https://localhost:8080/"
        },
        "id": "EWpFDymVOKaE",
        "outputId": "1e08d613-d0ad-4d8d-abe3-e76f5775525d"
      },
      "outputs": [
        {
          "output_type": "execute_result",
          "data": {
            "text/plain": [
              "Index(['Attended', 'Email', 'City', 'Country/Region', 'State/Province',\n",
              "       'Industry', 'Organization', 'Job Title', 'Questions & Comments',\n",
              "       'Registration Time', 'Join Time', 'Leave Time',\n",
              "       'Time in Session (minutes)', 'Country/Region Name', 'Source Name',\n",
              "       'webinar_name'],\n",
              "      dtype='object')"
            ]
          },
          "metadata": {},
          "execution_count": 33
        }
      ],
      "source": [
        "df.columns"
      ]
    },
    {
      "cell_type": "code",
      "execution_count": 34,
      "metadata": {
        "colab": {
          "base_uri": "https://localhost:8080/",
          "height": 300
        },
        "id": "QQ6q2tIby1k5",
        "outputId": "ba1c4f18-fd41-4986-a3e4-35d6efd635da"
      },
      "outputs": [
        {
          "output_type": "execute_result",
          "data": {
            "text/plain": [
              "       Time in Session (minutes)\n",
              "count                 845.000000\n",
              "mean                   23.857988\n",
              "std                    35.087483\n",
              "min                     0.000000\n",
              "25%                     0.000000\n",
              "50%                     2.000000\n",
              "75%                    43.000000\n",
              "max                   129.000000"
            ],
            "text/html": [
              "\n",
              "  <div id=\"df-e406bb83-6811-4929-8d0f-d4dd29c09704\">\n",
              "    <div class=\"colab-df-container\">\n",
              "      <div>\n",
              "<style scoped>\n",
              "    .dataframe tbody tr th:only-of-type {\n",
              "        vertical-align: middle;\n",
              "    }\n",
              "\n",
              "    .dataframe tbody tr th {\n",
              "        vertical-align: top;\n",
              "    }\n",
              "\n",
              "    .dataframe thead th {\n",
              "        text-align: right;\n",
              "    }\n",
              "</style>\n",
              "<table border=\"1\" class=\"dataframe\">\n",
              "  <thead>\n",
              "    <tr style=\"text-align: right;\">\n",
              "      <th></th>\n",
              "      <th>Time in Session (minutes)</th>\n",
              "    </tr>\n",
              "  </thead>\n",
              "  <tbody>\n",
              "    <tr>\n",
              "      <th>count</th>\n",
              "      <td>845.000000</td>\n",
              "    </tr>\n",
              "    <tr>\n",
              "      <th>mean</th>\n",
              "      <td>23.857988</td>\n",
              "    </tr>\n",
              "    <tr>\n",
              "      <th>std</th>\n",
              "      <td>35.087483</td>\n",
              "    </tr>\n",
              "    <tr>\n",
              "      <th>min</th>\n",
              "      <td>0.000000</td>\n",
              "    </tr>\n",
              "    <tr>\n",
              "      <th>25%</th>\n",
              "      <td>0.000000</td>\n",
              "    </tr>\n",
              "    <tr>\n",
              "      <th>50%</th>\n",
              "      <td>2.000000</td>\n",
              "    </tr>\n",
              "    <tr>\n",
              "      <th>75%</th>\n",
              "      <td>43.000000</td>\n",
              "    </tr>\n",
              "    <tr>\n",
              "      <th>max</th>\n",
              "      <td>129.000000</td>\n",
              "    </tr>\n",
              "  </tbody>\n",
              "</table>\n",
              "</div>\n",
              "      <button class=\"colab-df-convert\" onclick=\"convertToInteractive('df-e406bb83-6811-4929-8d0f-d4dd29c09704')\"\n",
              "              title=\"Convert this dataframe to an interactive table.\"\n",
              "              style=\"display:none;\">\n",
              "        \n",
              "  <svg xmlns=\"http://www.w3.org/2000/svg\" height=\"24px\"viewBox=\"0 0 24 24\"\n",
              "       width=\"24px\">\n",
              "    <path d=\"M0 0h24v24H0V0z\" fill=\"none\"/>\n",
              "    <path d=\"M18.56 5.44l.94 2.06.94-2.06 2.06-.94-2.06-.94-.94-2.06-.94 2.06-2.06.94zm-11 1L8.5 8.5l.94-2.06 2.06-.94-2.06-.94L8.5 2.5l-.94 2.06-2.06.94zm10 10l.94 2.06.94-2.06 2.06-.94-2.06-.94-.94-2.06-.94 2.06-2.06.94z\"/><path d=\"M17.41 7.96l-1.37-1.37c-.4-.4-.92-.59-1.43-.59-.52 0-1.04.2-1.43.59L10.3 9.45l-7.72 7.72c-.78.78-.78 2.05 0 2.83L4 21.41c.39.39.9.59 1.41.59.51 0 1.02-.2 1.41-.59l7.78-7.78 2.81-2.81c.8-.78.8-2.07 0-2.86zM5.41 20L4 18.59l7.72-7.72 1.47 1.35L5.41 20z\"/>\n",
              "  </svg>\n",
              "      </button>\n",
              "      \n",
              "  <style>\n",
              "    .colab-df-container {\n",
              "      display:flex;\n",
              "      flex-wrap:wrap;\n",
              "      gap: 12px;\n",
              "    }\n",
              "\n",
              "    .colab-df-convert {\n",
              "      background-color: #E8F0FE;\n",
              "      border: none;\n",
              "      border-radius: 50%;\n",
              "      cursor: pointer;\n",
              "      display: none;\n",
              "      fill: #1967D2;\n",
              "      height: 32px;\n",
              "      padding: 0 0 0 0;\n",
              "      width: 32px;\n",
              "    }\n",
              "\n",
              "    .colab-df-convert:hover {\n",
              "      background-color: #E2EBFA;\n",
              "      box-shadow: 0px 1px 2px rgba(60, 64, 67, 0.3), 0px 1px 3px 1px rgba(60, 64, 67, 0.15);\n",
              "      fill: #174EA6;\n",
              "    }\n",
              "\n",
              "    [theme=dark] .colab-df-convert {\n",
              "      background-color: #3B4455;\n",
              "      fill: #D2E3FC;\n",
              "    }\n",
              "\n",
              "    [theme=dark] .colab-df-convert:hover {\n",
              "      background-color: #434B5C;\n",
              "      box-shadow: 0px 1px 3px 1px rgba(0, 0, 0, 0.15);\n",
              "      filter: drop-shadow(0px 1px 2px rgba(0, 0, 0, 0.3));\n",
              "      fill: #FFFFFF;\n",
              "    }\n",
              "  </style>\n",
              "\n",
              "      <script>\n",
              "        const buttonEl =\n",
              "          document.querySelector('#df-e406bb83-6811-4929-8d0f-d4dd29c09704 button.colab-df-convert');\n",
              "        buttonEl.style.display =\n",
              "          google.colab.kernel.accessAllowed ? 'block' : 'none';\n",
              "\n",
              "        async function convertToInteractive(key) {\n",
              "          const element = document.querySelector('#df-e406bb83-6811-4929-8d0f-d4dd29c09704');\n",
              "          const dataTable =\n",
              "            await google.colab.kernel.invokeFunction('convertToInteractive',\n",
              "                                                     [key], {});\n",
              "          if (!dataTable) return;\n",
              "\n",
              "          const docLinkHtml = 'Like what you see? Visit the ' +\n",
              "            '<a target=\"_blank\" href=https://colab.research.google.com/notebooks/data_table.ipynb>data table notebook</a>'\n",
              "            + ' to learn more about interactive tables.';\n",
              "          element.innerHTML = '';\n",
              "          dataTable['output_type'] = 'display_data';\n",
              "          await google.colab.output.renderOutput(dataTable, element);\n",
              "          const docLink = document.createElement('div');\n",
              "          docLink.innerHTML = docLinkHtml;\n",
              "          element.appendChild(docLink);\n",
              "        }\n",
              "      </script>\n",
              "    </div>\n",
              "  </div>\n",
              "  "
            ]
          },
          "metadata": {},
          "execution_count": 34
        }
      ],
      "source": [
        "df.describe()"
      ]
    },
    {
      "cell_type": "code",
      "execution_count": 35,
      "metadata": {
        "colab": {
          "base_uri": "https://localhost:8080/"
        },
        "id": "2O-ARFuRNrrl",
        "outputId": "05d5fd69-0ace-41ff-90f1-d121837ae89b"
      },
      "outputs": [
        {
          "output_type": "execute_result",
          "data": {
            "text/plain": [
              "array(['No', 'Yes', 'Other Attended', 'User Name', 19176429644,\n",
              "       12022514648, 14123599627, 18322983212, '0114915776295912',\n",
              "       '17142381131', '15184664566'], dtype=object)"
            ]
          },
          "metadata": {},
          "execution_count": 35
        }
      ],
      "source": [
        "df['Attended'].unique()"
      ]
    },
    {
      "cell_type": "markdown",
      "source": [
        "#Cleaning the Job Titles\n",
        "\n",
        "Job titles were typed in manually by the user.  I am going to group these into approximately 10 job titles.\n",
        "\n"
      ],
      "metadata": {
        "id": "r8zdjDiTXqkd"
      }
    },
    {
      "cell_type": "code",
      "execution_count": 36,
      "metadata": {
        "id": "hidFLCSj6J9u"
      },
      "outputs": [],
      "source": [
        "#replace missing job titles with \"Not Given\"\n",
        "df['Job Title'].fillna(value = \"Not Given\",inplace=True)"
      ]
    },
    {
      "cell_type": "code",
      "source": [
        "#lowercase all the job titles\n",
        "df['Job Title']=df['Job Title'].apply(str.lower)"
      ],
      "metadata": {
        "id": "tJHycV4XZ-y5"
      },
      "execution_count": 37,
      "outputs": []
    },
    {
      "cell_type": "code",
      "source": [
        "#remove punctuation\n",
        "df['Job Title'] = df['Job Title'].str.replace('[^\\w\\s]','')"
      ],
      "metadata": {
        "colab": {
          "base_uri": "https://localhost:8080/"
        },
        "id": "Rm4tZL1cxiNM",
        "outputId": "32c584bf-03bd-46b6-c3dd-7b138e028be0"
      },
      "execution_count": 38,
      "outputs": [
        {
          "output_type": "stream",
          "name": "stderr",
          "text": [
            "<ipython-input-38-4ffb9b2f9e06>:2: FutureWarning: The default value of regex will change from True to False in a future version.\n",
            "  df['Job Title'] = df['Job Title'].str.replace('[^\\w\\s]','')\n"
          ]
        }
      ]
    },
    {
      "cell_type": "code",
      "execution_count": 39,
      "metadata": {
        "id": "mauOauaXNusk"
      },
      "outputs": [],
      "source": [
        "unique_job_titles = df['Job Title'].unique().tolist()"
      ]
    },
    {
      "cell_type": "code",
      "execution_count": 40,
      "metadata": {
        "colab": {
          "base_uri": "https://localhost:8080/"
        },
        "id": "JpdYqWZ1g33Y",
        "outputId": "62452200-34c5-403e-b5bd-4a5ecd019bc4"
      },
      "outputs": [
        {
          "output_type": "stream",
          "name": "stdout",
          "text": [
            "We have 259 unique job titles\n"
          ]
        }
      ],
      "source": [
        "print(\"We have \" + str(len(unique_job_titles)) + \" unique job titles\")"
      ]
    },
    {
      "cell_type": "code",
      "execution_count": 41,
      "metadata": {
        "colab": {
          "base_uri": "https://localhost:8080/",
          "height": 206
        },
        "id": "54Tc3jGFgzqW",
        "outputId": "3274782f-5b54-4173-cda9-627716fad418"
      },
      "outputs": [
        {
          "output_type": "execute_result",
          "data": {
            "text/plain": [
              "                    Title\n",
              "0               not given\n",
              "1                     phd\n",
              "2  global product manager\n",
              "3                 partner\n",
              "4               professor"
            ],
            "text/html": [
              "\n",
              "  <div id=\"df-a930e06d-aea2-46d8-8433-cea8649d9ec7\">\n",
              "    <div class=\"colab-df-container\">\n",
              "      <div>\n",
              "<style scoped>\n",
              "    .dataframe tbody tr th:only-of-type {\n",
              "        vertical-align: middle;\n",
              "    }\n",
              "\n",
              "    .dataframe tbody tr th {\n",
              "        vertical-align: top;\n",
              "    }\n",
              "\n",
              "    .dataframe thead th {\n",
              "        text-align: right;\n",
              "    }\n",
              "</style>\n",
              "<table border=\"1\" class=\"dataframe\">\n",
              "  <thead>\n",
              "    <tr style=\"text-align: right;\">\n",
              "      <th></th>\n",
              "      <th>Title</th>\n",
              "    </tr>\n",
              "  </thead>\n",
              "  <tbody>\n",
              "    <tr>\n",
              "      <th>0</th>\n",
              "      <td>not given</td>\n",
              "    </tr>\n",
              "    <tr>\n",
              "      <th>1</th>\n",
              "      <td>phd</td>\n",
              "    </tr>\n",
              "    <tr>\n",
              "      <th>2</th>\n",
              "      <td>global product manager</td>\n",
              "    </tr>\n",
              "    <tr>\n",
              "      <th>3</th>\n",
              "      <td>partner</td>\n",
              "    </tr>\n",
              "    <tr>\n",
              "      <th>4</th>\n",
              "      <td>professor</td>\n",
              "    </tr>\n",
              "  </tbody>\n",
              "</table>\n",
              "</div>\n",
              "      <button class=\"colab-df-convert\" onclick=\"convertToInteractive('df-a930e06d-aea2-46d8-8433-cea8649d9ec7')\"\n",
              "              title=\"Convert this dataframe to an interactive table.\"\n",
              "              style=\"display:none;\">\n",
              "        \n",
              "  <svg xmlns=\"http://www.w3.org/2000/svg\" height=\"24px\"viewBox=\"0 0 24 24\"\n",
              "       width=\"24px\">\n",
              "    <path d=\"M0 0h24v24H0V0z\" fill=\"none\"/>\n",
              "    <path d=\"M18.56 5.44l.94 2.06.94-2.06 2.06-.94-2.06-.94-.94-2.06-.94 2.06-2.06.94zm-11 1L8.5 8.5l.94-2.06 2.06-.94-2.06-.94L8.5 2.5l-.94 2.06-2.06.94zm10 10l.94 2.06.94-2.06 2.06-.94-2.06-.94-.94-2.06-.94 2.06-2.06.94z\"/><path d=\"M17.41 7.96l-1.37-1.37c-.4-.4-.92-.59-1.43-.59-.52 0-1.04.2-1.43.59L10.3 9.45l-7.72 7.72c-.78.78-.78 2.05 0 2.83L4 21.41c.39.39.9.59 1.41.59.51 0 1.02-.2 1.41-.59l7.78-7.78 2.81-2.81c.8-.78.8-2.07 0-2.86zM5.41 20L4 18.59l7.72-7.72 1.47 1.35L5.41 20z\"/>\n",
              "  </svg>\n",
              "      </button>\n",
              "      \n",
              "  <style>\n",
              "    .colab-df-container {\n",
              "      display:flex;\n",
              "      flex-wrap:wrap;\n",
              "      gap: 12px;\n",
              "    }\n",
              "\n",
              "    .colab-df-convert {\n",
              "      background-color: #E8F0FE;\n",
              "      border: none;\n",
              "      border-radius: 50%;\n",
              "      cursor: pointer;\n",
              "      display: none;\n",
              "      fill: #1967D2;\n",
              "      height: 32px;\n",
              "      padding: 0 0 0 0;\n",
              "      width: 32px;\n",
              "    }\n",
              "\n",
              "    .colab-df-convert:hover {\n",
              "      background-color: #E2EBFA;\n",
              "      box-shadow: 0px 1px 2px rgba(60, 64, 67, 0.3), 0px 1px 3px 1px rgba(60, 64, 67, 0.15);\n",
              "      fill: #174EA6;\n",
              "    }\n",
              "\n",
              "    [theme=dark] .colab-df-convert {\n",
              "      background-color: #3B4455;\n",
              "      fill: #D2E3FC;\n",
              "    }\n",
              "\n",
              "    [theme=dark] .colab-df-convert:hover {\n",
              "      background-color: #434B5C;\n",
              "      box-shadow: 0px 1px 3px 1px rgba(0, 0, 0, 0.15);\n",
              "      filter: drop-shadow(0px 1px 2px rgba(0, 0, 0, 0.3));\n",
              "      fill: #FFFFFF;\n",
              "    }\n",
              "  </style>\n",
              "\n",
              "      <script>\n",
              "        const buttonEl =\n",
              "          document.querySelector('#df-a930e06d-aea2-46d8-8433-cea8649d9ec7 button.colab-df-convert');\n",
              "        buttonEl.style.display =\n",
              "          google.colab.kernel.accessAllowed ? 'block' : 'none';\n",
              "\n",
              "        async function convertToInteractive(key) {\n",
              "          const element = document.querySelector('#df-a930e06d-aea2-46d8-8433-cea8649d9ec7');\n",
              "          const dataTable =\n",
              "            await google.colab.kernel.invokeFunction('convertToInteractive',\n",
              "                                                     [key], {});\n",
              "          if (!dataTable) return;\n",
              "\n",
              "          const docLinkHtml = 'Like what you see? Visit the ' +\n",
              "            '<a target=\"_blank\" href=https://colab.research.google.com/notebooks/data_table.ipynb>data table notebook</a>'\n",
              "            + ' to learn more about interactive tables.';\n",
              "          element.innerHTML = '';\n",
              "          dataTable['output_type'] = 'display_data';\n",
              "          await google.colab.output.renderOutput(dataTable, element);\n",
              "          const docLink = document.createElement('div');\n",
              "          docLink.innerHTML = docLinkHtml;\n",
              "          element.appendChild(docLink);\n",
              "        }\n",
              "      </script>\n",
              "    </div>\n",
              "  </div>\n",
              "  "
            ]
          },
          "metadata": {},
          "execution_count": 41
        }
      ],
      "source": [
        "#convert the list to a dataframe\n",
        "df_unique_job_titles = pd.DataFrame(unique_job_titles, columns=[\"Title\"])\n",
        "df_unique_job_titles.head()"
      ]
    },
    {
      "cell_type": "code",
      "source": [
        "#currently there are no job titles called \"C-suite\"\n",
        "len(df[df['Job Title'] == \"C-suite\"])"
      ],
      "metadata": {
        "colab": {
          "base_uri": "https://localhost:8080/"
        },
        "id": "nAeLBboNPLjc",
        "outputId": "f0b07b6e-e534-4943-932d-244b82ad6dc9"
      },
      "execution_count": 42,
      "outputs": [
        {
          "output_type": "execute_result",
          "data": {
            "text/plain": [
              "0"
            ]
          },
          "metadata": {},
          "execution_count": 42
        }
      ]
    },
    {
      "cell_type": "code",
      "execution_count": 43,
      "metadata": {
        "colab": {
          "base_uri": "https://localhost:8080/"
        },
        "id": "Aw1U-CVHKyVz",
        "outputId": "ce495146-b320-412c-85bb-094773e117fa"
      },
      "outputs": [
        {
          "output_type": "execute_result",
          "data": {
            "text/plain": [
              "[('ceo', 100),\n",
              " ('coo', 67),\n",
              " ('cto', 67),\n",
              " ('cso', 67),\n",
              " ('coa', 67),\n",
              " ('cfo', 67),\n",
              " ('cpo', 67),\n",
              " ('cmo', 67),\n",
              " ('ceofounder', 46),\n",
              " ('fellow', 44)]"
            ]
          },
          "metadata": {},
          "execution_count": 43
        }
      ],
      "source": [
        "#The token sort ratio scorer tokenizes the strings and cleans them by returning these strings to lower cases, removing punctuations, and then sorting them alphabetically. \n",
        "#After that, it finds the Levenshtein distance and returns the similarity percentage.\n",
        "#https://towardsdatascience.com/fuzzywuzzy-find-similar-strings-within-one-column-in-a-pandas-data-frame-99f6c2a0c212\n",
        "process.extract('ceo', unique_job_titles, scorer=fuzz.token_sort_ratio, limit=10)"
      ]
    },
    {
      "cell_type": "markdown",
      "source": [
        "If we want to use thresholds instead of limits (less manual work, but more errors), we will use extractBests.  I have chosen  score cutoffs of 60-80 based on which cutoff gives the most accurate results.\n",
        "\n",
        "Also, the token set ratio is more flexible VS sort ratio.  So I will use that as well."
      ],
      "metadata": {
        "id": "7ywx4NdFPb4-"
      }
    },
    {
      "cell_type": "code",
      "source": [
        "#I grouped engineers\n",
        "engineer_matches = process.extractBests('engineer', unique_job_titles, scorer=fuzz.token_set_ratio, score_cutoff=65, limit=None) + \\\n",
        "                  process.extractBests('eng', unique_job_titles, scorer=fuzz.token_set_ratio, score_cutoff=65, limit=None) + \\\n",
        "                  process.extractBests('ingeniero', unique_job_titles, scorer=fuzz.token_set_ratio, score_cutoff=65, limit=None)\n",
        "\n",
        "\n",
        "engineer_matches"
      ],
      "metadata": {
        "colab": {
          "base_uri": "https://localhost:8080/"
        },
        "id": "yP5f6iiaODS3",
        "outputId": "808aa188-26b1-45bc-c046-e769ff6f06ba"
      },
      "execution_count": 44,
      "outputs": [
        {
          "output_type": "execute_result",
          "data": {
            "text/plain": [
              "[('research engineer consultant', 100),\n",
              " ('applications engineer', 100),\n",
              " ('biomedical engineer', 100),\n",
              " ('product development engineer', 100),\n",
              " ('principal engineer', 100),\n",
              " ('engineer  rd', 100),\n",
              " ('healthcare applications engineer', 100),\n",
              " ('operation engineer ', 100),\n",
              " ('senior design engineer', 100),\n",
              " ('fpga engineer', 100),\n",
              " ('biomedical design engineer', 100),\n",
              " ('rd mechanical engineer', 100),\n",
              " ('senior dev engineer', 100),\n",
              " ('design engineer', 100),\n",
              " ('senior engineer', 100),\n",
              " ('rd engineer', 100),\n",
              " ('application engineer', 100),\n",
              " ('quality assurance engineer', 100),\n",
              " ('medical device engineer', 100),\n",
              " ('biomechanical engineer', 100),\n",
              " ('research engineer', 100),\n",
              " ('cad cam engineer', 100),\n",
              " ('mechanical engineer', 100),\n",
              " ('sr engineer', 100),\n",
              " ('systems engineer', 100),\n",
              " ('development engineer', 100),\n",
              " ('staff engineer ', 100),\n",
              " ('application engineer manager', 100),\n",
              " ('manufacturing engineer', 100),\n",
              " ('rd engineer and owner of mr wus 3d printer corner', 100),\n",
              " ('manufacturing  process development engineer', 100),\n",
              " ('application engineer team lead', 100),\n",
              " ('manufacturing and process development engineer', 100),\n",
              " ('technical sales engineer', 100),\n",
              " ('engineer', 100),\n",
              " ('bioengineer', 84),\n",
              " ('msc bioengineer', 70),\n",
              " ('dir eng', 100),\n",
              " ('application eng', 100),\n",
              " ('eng', 100),\n",
              " ('ingeniero de diseño', 100),\n",
              " ('ingeniero biomedico', 100)]"
            ]
          },
          "metadata": {},
          "execution_count": 44
        }
      ]
    },
    {
      "cell_type": "code",
      "source": [
        "#I grouped c-suite titles, president, owner, and founders together\n",
        "CEO_matches = process.extractBests('ceo', unique_job_titles, scorer=fuzz.token_set_ratio, score_cutoff=65, limit=None) +\\\n",
        "          process.extractBests('chief', unique_job_titles, scorer=fuzz.token_set_ratio, score_cutoff=65, limit=None) + \\\n",
        "          process.extractBests('president', unique_job_titles, scorer=fuzz.token_set_ratio, score_cutoff=65, limit=None) + \\\n",
        "          process.extractBests('founder', unique_job_titles, scorer=fuzz.token_set_ratio, score_cutoff=65, limit=None) + \\\n",
        "          process.extractBests('owner', unique_job_titles, scorer=fuzz.token_set_ratio, score_cutoff=80, limit=None)\n",
        "CEO_matches"
      ],
      "metadata": {
        "colab": {
          "base_uri": "https://localhost:8080/"
        },
        "id": "pp1tdBxRueW3",
        "outputId": "f9bdf060-a784-459d-dbac-dd30d5018761"
      },
      "execution_count": 45,
      "outputs": [
        {
          "output_type": "execute_result",
          "data": {
            "text/plain": [
              "[('ceo', 100),\n",
              " ('president  ceo', 100),\n",
              " ('founder and ceo', 100),\n",
              " ('coo', 67),\n",
              " ('cto', 67),\n",
              " ('cso', 67),\n",
              " ('coa', 67),\n",
              " ('cfo', 67),\n",
              " ('cpo', 67),\n",
              " ('cmo', 67),\n",
              " ('chief researcher', 100),\n",
              " ('chief executive officer', 100),\n",
              " ('chief of operations', 100),\n",
              " ('president', 100),\n",
              " ('president  ceo', 100),\n",
              " ('presidente', 95),\n",
              " ('founder and managing member', 100),\n",
              " ('founder', 100),\n",
              " ('founder ', 100),\n",
              " ('founder and ceo', 100),\n",
              " ('founder  executive director', 100),\n",
              " ('cofounder', 88),\n",
              " ('ceofounder', 82),\n",
              " ('coo cofounder', 70),\n",
              " ('owner', 67),\n",
              " ('owner', 100),\n",
              " ('rd engineer and owner of mr wus 3d printer corner', 100),\n",
              " ('coowner', 83),\n",
              " ('owern', 80)]"
            ]
          },
          "metadata": {},
          "execution_count": 45
        }
      ]
    },
    {
      "cell_type": "code",
      "source": [
        "#I grouped student, phd, professor, teacher, lecturer, postdoc, and educator\n",
        "academic_matches = process.extractBests('professor', unique_job_titles, scorer=fuzz.token_set_ratio, score_cutoff=65, limit=None) + \\\n",
        "                    process.extractBests('teacher', unique_job_titles, scorer=fuzz.token_set_ratio, score_cutoff=80, limit=None) + \\\n",
        "                    process.extractBests('lecturer', unique_job_titles, scorer=fuzz.token_set_ratio, score_cutoff=65, limit=None) + \\\n",
        "                    process.extractBests('educator', unique_job_titles, scorer=fuzz.token_set_ratio, score_cutoff=80, limit=None) + \\\n",
        "                    process.extractBests('prof', unique_job_titles, scorer=fuzz.token_set_ratio, score_cutoff=80, limit=None) +\\\n",
        "                    process.extractBests('postdoctoral', unique_job_titles, scorer=fuzz.token_set_ratio, score_cutoff=70, limit=None) + \\\n",
        "                    process.extractBests('student', unique_job_titles, scorer=fuzz.token_set_ratio, score_cutoff=65, limit=None) + \\\n",
        "                    process.extractBests('phd', unique_job_titles, scorer=fuzz.token_set_ratio, score_cutoff=65, limit=None) \n",
        "academic_matches"
      ],
      "metadata": {
        "colab": {
          "base_uri": "https://localhost:8080/"
        },
        "id": "HRKlBvFxjz3i",
        "outputId": "9b7d0d6f-2b43-4b13-c85a-eccd82614eb8"
      },
      "execution_count": 46,
      "outputs": [
        {
          "output_type": "execute_result",
          "data": {
            "text/plain": [
              "[('professor', 100),\n",
              " ('associate professor', 100),\n",
              " ('assistant professor of mechanical and biomedical engineering', 100),\n",
              " ('assistant professor', 100),\n",
              " ('professor  pesquisador', 100),\n",
              " ('assistant professor ', 100),\n",
              " ('assistant professor in the department of mechanical engineering', 100),\n",
              " ('porfessor', 89),\n",
              " ('teacher', 100),\n",
              " ('lecturer', 100),\n",
              " ('leiter', 71),\n",
              " ('educator', 100),\n",
              " ('asst prof', 100),\n",
              " ('aprof', 89),\n",
              " ('postdoctoral researcher', 100),\n",
              " ('postdoctoral fellow', 100),\n",
              " ('postdoctoral research associate', 100),\n",
              " ('postdoc', 74),\n",
              " ('phd student', 100),\n",
              " ('student', 100),\n",
              " ('undergraduate student', 100),\n",
              " ('bsc student', 100),\n",
              " ('graduate student', 100),\n",
              " ('graduate student researcher', 100),\n",
              " ('student learning assistant', 100),\n",
              " ('student researcher', 100),\n",
              " ('medical student', 100),\n",
              " ('biomedical engineering student', 100),\n",
              " ('grad student', 100),\n",
              " ('raphd student', 100),\n",
              " ('phd studend', 67),\n",
              " ('phd', 100),\n",
              " ('phd student', 100),\n",
              " ('phd scholar', 100),\n",
              " ('phd studend', 100),\n",
              " ('phd research scholar', 100),\n",
              " ('phd candidate', 100),\n",
              " ('md phd', 100),\n",
              " ('phd graduate', 100)]"
            ]
          },
          "metadata": {},
          "execution_count": 46
        }
      ]
    },
    {
      "cell_type": "code",
      "source": [
        "#I grouped manager and director\n",
        "manager_matches = process.extractBests('manager', unique_job_titles, scorer=fuzz.token_set_ratio, score_cutoff=63, limit=None) +\\\n",
        "                  process.extractBests('director', unique_job_titles, scorer=fuzz.token_set_ratio, score_cutoff=80, limit=None)\n",
        "manager_matches"
      ],
      "metadata": {
        "colab": {
          "base_uri": "https://localhost:8080/"
        },
        "id": "AJ0-IV2ukjPM",
        "outputId": "a87ec265-15cb-4bb4-fb4c-950510c67539"
      },
      "execution_count": 47,
      "outputs": [
        {
          "output_type": "execute_result",
          "data": {
            "text/plain": [
              "[('global product manager', 100),\n",
              " ('project manager', 100),\n",
              " ('business manager', 100),\n",
              " ('senior engineering manager', 100),\n",
              " ('3d engineerprogram manager', 100),\n",
              " ('3d printing manager', 100),\n",
              " ('application manager', 100),\n",
              " ('client engagement manager', 100),\n",
              " ('business development manager', 100),\n",
              " ('engineering manager', 100),\n",
              " ('manager', 100),\n",
              " ('rd manager', 100),\n",
              " ('global marketing manager', 100),\n",
              " ('healthcare product manager', 100),\n",
              " ('clinical manager', 100),\n",
              " ('application engineer manager', 100),\n",
              " ('sales manager', 100),\n",
              " ('quality manager', 100),\n",
              " ('sales ops manager', 100),\n",
              " ('manager  sales and bd', 100),\n",
              " ('general manager', 100),\n",
              " ('ra manager', 100),\n",
              " ('plant manger', 63),\n",
              " ('plant manger ', 63),\n",
              " ('director of product', 100),\n",
              " ('director', 100),\n",
              " ('managing director', 100),\n",
              " ('strategy director', 100),\n",
              " ('3d lab program director', 100),\n",
              " ('director of preclinical research', 100),\n",
              " ('rd director', 100),\n",
              " ('director ingenieria  operaciones', 100),\n",
              " ('program director 3dlab', 100),\n",
              " ('qara director', 100),\n",
              " ('director of product  medical solutions', 100),\n",
              " ('director  operations additive manufacturing', 100),\n",
              " ('director of preclinical studies', 100),\n",
              " ('director of production', 100),\n",
              " ('founder  executive director', 100),\n",
              " ('director of product development', 100),\n",
              " ('diretor', 93)]"
            ]
          },
          "metadata": {},
          "execution_count": 47
        }
      ]
    },
    {
      "cell_type": "code",
      "source": [
        "not_given_matches = process.extractBests('not', unique_job_titles, scorer=fuzz.token_set_ratio, score_cutoff=57, limit=None)\n",
        "not_given_matches"
      ],
      "metadata": {
        "colab": {
          "base_uri": "https://localhost:8080/"
        },
        "id": "X2iB6-HYP7iC",
        "outputId": "1d2238fe-a032-46fb-8c58-739514cfad83"
      },
      "execution_count": 48,
      "outputs": [
        {
          "output_type": "execute_result",
          "data": {
            "text/plain": [
              "[('not given', 100), ('no', 80), ('none', 57)]"
            ]
          },
          "metadata": {},
          "execution_count": 48
        }
      ]
    },
    {
      "cell_type": "code",
      "source": [
        "#I grouped researcher, chemist and scientist\n",
        "researcher_matches = process.extractBests('chemist', unique_job_titles, scorer=fuzz.token_set_ratio, score_cutoff=62, limit=None) +\\\n",
        "                      process.extractBests('scientist', unique_job_titles, scorer=fuzz.token_set_ratio, score_cutoff=62, limit=None) +\\\n",
        "                      process.extractBests('research', unique_job_titles, scorer=fuzz.token_set_ratio, score_cutoff=62, limit=None) + \\\n",
        "                    process.extractBests('fellow', unique_job_titles, scorer=fuzz.token_set_ratio, score_cutoff=65, limit=None) + \\\n",
        "                    process.extractBests('rd', unique_job_titles, scorer=fuzz.token_sort_ratio, score_cutoff=65, limit=None)\n",
        "                      \n",
        "researcher_matches"
      ],
      "metadata": {
        "colab": {
          "base_uri": "https://localhost:8080/"
        },
        "outputId": "8b2acf6c-57eb-43cd-95dc-393cff03895a",
        "id": "i9eJr41NP7-P"
      },
      "execution_count": 49,
      "outputs": [
        {
          "output_type": "execute_result",
          "data": {
            "text/plain": [
              "[('organic chemist synthesis department leader', 100),\n",
              " ('chemist', 100),\n",
              " ('scientist', 62),\n",
              " ('srrd scientist', 100),\n",
              " ('rd scientist', 100),\n",
              " ('sr principal scientist', 100),\n",
              " ('research scientist', 100),\n",
              " ('sr rd scientist', 100),\n",
              " ('scientist', 100),\n",
              " ('biomaterials research scientist', 100),\n",
              " ('specialist', 63),\n",
              " ('chemist', 62),\n",
              " ('research engineer consultant', 100),\n",
              " ('research scholar', 100),\n",
              " ('research fellow', 100),\n",
              " ('phd research scholar', 100),\n",
              " ('junior research fellow', 100),\n",
              " ('research associate', 100),\n",
              " ('research assistant', 100),\n",
              " ('research scientist', 100),\n",
              " ('senior research fellow ji', 100),\n",
              " ('postdoctoral research associate', 100),\n",
              " ('director of preclinical research', 100),\n",
              " ('research intern', 100),\n",
              " ('assistant research fellow', 100),\n",
              " ('research specialist', 100),\n",
              " ('senior research fellow', 100),\n",
              " ('research engineer', 100),\n",
              " ('biomaterials research scientist', 100),\n",
              " ('researcher', 89),\n",
              " ('resercher', 82),\n",
              " ('chief researcher', 67),\n",
              " ('senior researcher', 64),\n",
              " ('student researcher', 62),\n",
              " ('research fellow', 100),\n",
              " ('junior research fellow', 100),\n",
              " ('postdoctoral fellow', 100),\n",
              " ('fellow', 100),\n",
              " ('senior research fellow ji', 100),\n",
              " ('assistant research fellow', 100),\n",
              " ('senior research fellow', 100),\n",
              " ('rd', 100)]"
            ]
          },
          "metadata": {},
          "execution_count": 49
        }
      ]
    },
    {
      "cell_type": "code",
      "source": [
        "#I grouped doctor, md, surgeon, orthodontist, veterinarian, and radiology\n",
        "medicine_matches = process.extractBests('medicine', unique_job_titles, scorer=fuzz.token_set_ratio, score_cutoff=65, limit=None) + \\\n",
        "  process.extractBests('md', unique_job_titles, scorer=fuzz.token_set_ratio, score_cutoff=65, limit=None) + \\\n",
        "  process.extractBests('doctor', unique_job_titles, scorer=fuzz.token_set_ratio, score_cutoff=80, limit=None) + \\\n",
        "  process.extractBests('dr', unique_job_titles, scorer=fuzz.token_set_ratio, score_cutoff=80, limit=None) + \\\n",
        "  process.extractBests('radiology', unique_job_titles, scorer=fuzz.token_set_ratio, score_cutoff=65, limit=None) +\\\n",
        "  process.extractBests('surgeon', unique_job_titles, scorer=fuzz.token_set_ratio, score_cutoff=65, limit=None) +\\\n",
        "  process.extractBests('surgery', unique_job_titles, scorer=fuzz.token_set_ratio, score_cutoff=65, limit=None) +\\\n",
        "  process.extractBests('orthodontist', unique_job_titles, scorer=fuzz.token_set_ratio, score_cutoff=65, limit=None) +\\\n",
        "  process.extractBests('veterinarian', unique_job_titles, scorer=fuzz.token_set_ratio, score_cutoff=65, limit=None)\n",
        "  \n",
        "medicine_matches"
      ],
      "metadata": {
        "colab": {
          "base_uri": "https://localhost:8080/"
        },
        "id": "wgJ9nP4R_SWX",
        "outputId": "0310d562-ed95-4111-f529-43c6670abbc4"
      },
      "execution_count": 50,
      "outputs": [
        {
          "output_type": "execute_result",
          "data": {
            "text/plain": [
              "[('head of aesthetic medicine and exploratory products', 100),\n",
              " ('medicine', 100),\n",
              " ('doctor of medicine', 100),\n",
              " ('md phd', 100),\n",
              " ('md', 100),\n",
              " ('doctor of medicine', 100),\n",
              " ('doctor', 100),\n",
              " ('dr', 100),\n",
              " ('radiología', 89),\n",
              " ('radiologist', 80),\n",
              " ('craniofacialplastic surgeon', 100),\n",
              " ('endoscopic spine surgery specialist', 100),\n",
              " ('orthodontist', 100),\n",
              " ('veterinarian ', 100)]"
            ]
          },
          "metadata": {},
          "execution_count": 50
        }
      ]
    },
    {
      "cell_type": "code",
      "source": [
        "#I grouped marketing, ae, and sales\n",
        "marketing_matches = process.extractBests('marketing', unique_job_titles, scorer=fuzz.token_set_ratio, score_cutoff=65, limit=None) + \\\n",
        "                    process.extractBests('sales', unique_job_titles, scorer=fuzz.token_set_ratio, score_cutoff=65, limit=None) + \\\n",
        "                    process.extractBests('ae', unique_job_titles, scorer=fuzz.token_set_ratio, score_cutoff=65, limit=None)\n",
        "marketing_matches"
      ],
      "metadata": {
        "colab": {
          "base_uri": "https://localhost:8080/"
        },
        "id": "y30CwnlLAoSh",
        "outputId": "320414f5-b9e5-45cc-fe9f-6d45a2e057b6"
      },
      "execution_count": 51,
      "outputs": [
        {
          "output_type": "execute_result",
          "data": {
            "text/plain": [
              "[('marketing and strategy', 100),\n",
              " ('global marketing manager', 100),\n",
              " ('svp  marketing', 100),\n",
              " ('content  marketing specialist', 100),\n",
              " ('global marketing', 100),\n",
              " ('marketing', 100),\n",
              " ('sales executive', 100),\n",
              " ('sales manager', 100),\n",
              " ('sales', 100),\n",
              " ('technical sales engineer', 100),\n",
              " ('sales ops manager', 100),\n",
              " ('manager  sales and bd', 100),\n",
              " ('ae', 100)]"
            ]
          },
          "metadata": {},
          "execution_count": 51
        }
      ]
    },
    {
      "cell_type": "code",
      "source": [
        "designer_matches = process.extractBests('design', unique_job_titles, scorer=fuzz.token_set_ratio, score_cutoff=65, limit=None) + \\\n",
        "                  process.extractBests('designer', unique_job_titles, scorer=fuzz.token_set_ratio, score_cutoff=65, limit=None)\n",
        "designer_matches"
      ],
      "metadata": {
        "colab": {
          "base_uri": "https://localhost:8080/"
        },
        "id": "FM7lSCgzCY7u",
        "outputId": "e7ad33aa-96e4-4b7e-ed2f-d56652bad8cd"
      },
      "execution_count": 52,
      "outputs": [
        {
          "output_type": "execute_result",
          "data": {
            "text/plain": [
              "[('senior design engineer', 100),\n",
              " ('biomedical design engineer', 100),\n",
              " ('production  design lead', 100),\n",
              " ('design engineer', 100),\n",
              " ('production  design', 100),\n",
              " ('designer', 86),\n",
              " ('3d designer', 71),\n",
              " ('cad designer', 67),\n",
              " ('product designer', 100),\n",
              " ('3d designer', 100),\n",
              " ('cad designer', 100),\n",
              " ('designer', 100),\n",
              " ('design engineer', 70)]"
            ]
          },
          "metadata": {},
          "execution_count": 52
        }
      ]
    },
    {
      "cell_type": "code",
      "source": [
        "#I add a consultant/freelancer category\n",
        "consultant_matches = process.extractBests('consultant', unique_job_titles, scorer=fuzz.token_set_ratio, score_cutoff=65, limit=None) +\\\n",
        "                      process.extractBests('free lance', unique_job_titles, scorer=fuzz.token_set_ratio, score_cutoff=65, limit=None)\n",
        "consultant_matches"
      ],
      "metadata": {
        "colab": {
          "base_uri": "https://localhost:8080/"
        },
        "id": "ALRWKdepM4Vx",
        "outputId": "94bc4d71-a2cf-41f6-fa80-32cc2ddfc12a"
      },
      "execution_count": 53,
      "outputs": [
        {
          "output_type": "execute_result",
          "data": {
            "text/plain": [
              "[('research engineer consultant', 100),\n",
              " ('principal consultant', 100),\n",
              " ('consultant', 100),\n",
              " ('consultant ', 100),\n",
              " ('freelancer', 90)]"
            ]
          },
          "metadata": {},
          "execution_count": 53
        }
      ]
    },
    {
      "cell_type": "code",
      "source": [
        "investor_matches = process.extractBests('investor', unique_job_titles, scorer=fuzz.token_set_ratio, score_cutoff=65, limit=None)\n",
        "investor_matches"
      ],
      "metadata": {
        "colab": {
          "base_uri": "https://localhost:8080/"
        },
        "id": "o1NPudChFIKs",
        "outputId": "ff2e2fb4-7cca-4e48-b8d7-97b907d7a0f5"
      },
      "execution_count": 54,
      "outputs": [
        {
          "output_type": "execute_result",
          "data": {
            "text/plain": [
              "[('diretor', 67)]"
            ]
          },
          "metadata": {},
          "execution_count": 54
        }
      ]
    },
    {
      "cell_type": "code",
      "source": [
        "# I added an operator category\n",
        "operator_matches = process.extractBests('operator', unique_job_titles, scorer=fuzz.token_set_ratio, score_cutoff=65, limit=None)\n",
        "operator_matches"
      ],
      "metadata": {
        "colab": {
          "base_uri": "https://localhost:8080/"
        },
        "id": "ATGGdWwBFSHF",
        "outputId": "84732e2e-9a09-4cc3-99e7-112eea12110c"
      },
      "execution_count": 55,
      "outputs": [
        {
          "output_type": "execute_result",
          "data": {
            "text/plain": [
              "[('operator', 100), ('operations', 78)]"
            ]
          },
          "metadata": {},
          "execution_count": 55
        }
      ]
    },
    {
      "cell_type": "code",
      "source": [
        "# I added a business developer category\n",
        "business_matches = process.extractBests('business develop', unique_job_titles, scorer=fuzz.token_set_ratio, score_cutoff=70, limit=None)\n",
        "business_matches"
      ],
      "metadata": {
        "colab": {
          "base_uri": "https://localhost:8080/"
        },
        "id": "UVPC5TSlFZUl",
        "outputId": "1493feca-e2f4-43a3-ca5d-a88fff7d0f1d"
      },
      "execution_count": 56,
      "outputs": [
        {
          "output_type": "execute_result",
          "data": {
            "text/plain": [
              "[('business development', 89),\n",
              " ('new business development', 80),\n",
              " ('business development lead', 78),\n",
              " ('business development manager', 73),\n",
              " ('new business development mgr', 73)]"
            ]
          },
          "metadata": {},
          "execution_count": 56
        }
      ]
    },
    {
      "cell_type": "code",
      "source": [
        "#assign all the matches to a Job Title Category\n",
        "df.loc[(df['Job Title'].isin(list(zip(*CEO_matches))[0])),'Job Title Category'] = 'C-Suite'\n",
        "df.loc[(df['Job Title'].isin(list(zip(*engineer_matches))[0])),'Job Title Category'] = 'Engineer'\n",
        "df.loc[(df['Job Title'].isin(list(zip(*academic_matches))[0])),'Job Title Category'] = 'Academic'\n",
        "df.loc[(df['Job Title'].isin(list(zip(*manager_matches))[0])),'Job Title Category'] = 'Manager, Director'\n",
        "df.loc[(df['Job Title'].isin(list(zip(*researcher_matches))[0])),'Job Title Category'] = 'Researcher'\n",
        "df.loc[(df['Job Title'].isin(list(zip(*not_given_matches))[0])),'Job Title Category'] = 'None'\n",
        "df.loc[(df['Job Title'].isin(list(zip(*medicine_matches))[0])),'Job Title Category'] = 'Clinician'\n",
        "df.loc[(df['Job Title'].isin(list(zip(*marketing_matches))[0])),'Job Title Category'] = 'Marketer, Salesperson'\n",
        "df.loc[(df['Job Title'].isin(list(zip(*designer_matches))[0])),'Job Title Category'] = 'Designer'\n",
        "df.loc[(df['Job Title'].isin(list(zip(*consultant_matches))[0])),'Job Title Category'] = 'Consultant'\n",
        "df.loc[(df['Job Title'].isin(list(zip(*operator_matches))[0])),'Job Title Category'] = 'Operator'\n",
        "df.loc[(df['Job Title'].isin(list(zip(*business_matches))[0])),'Job Title Category'] = 'Business Developer'"
      ],
      "metadata": {
        "id": "1U7vOYNsTnM5"
      },
      "execution_count": 57,
      "outputs": []
    },
    {
      "cell_type": "code",
      "source": [
        "#how many job titles in each category\n",
        "df['Job Title Category'].value_counts()"
      ],
      "metadata": {
        "colab": {
          "base_uri": "https://localhost:8080/"
        },
        "id": "e503D7OQCrkB",
        "outputId": "9c299db6-b33b-4c80-d63b-6b2ac4a0485c"
      },
      "execution_count": 58,
      "outputs": [
        {
          "output_type": "execute_result",
          "data": {
            "text/plain": [
              "None                     382\n",
              "Academic                  93\n",
              "C-Suite                   68\n",
              "Researcher                62\n",
              "Manager, Director         57\n",
              "Engineer                  49\n",
              "Clinician                 22\n",
              "Marketer, Salesperson     16\n",
              "Designer                  12\n",
              "Business Developer        11\n",
              "Consultant                 9\n",
              "Operator                   2\n",
              "Name: Job Title Category, dtype: int64"
            ]
          },
          "metadata": {},
          "execution_count": 58
        }
      ]
    },
    {
      "cell_type": "code",
      "source": [
        "#the total number of job titles with a category\n",
        "df['Job Title Category'].value_counts().sum()"
      ],
      "metadata": {
        "colab": {
          "base_uri": "https://localhost:8080/"
        },
        "id": "HoQJSNnzCyoN",
        "outputId": "c43c0687-03a3-4561-843a-7794401be30c"
      },
      "execution_count": 59,
      "outputs": [
        {
          "output_type": "execute_result",
          "data": {
            "text/plain": [
              "783"
            ]
          },
          "metadata": {},
          "execution_count": 59
        }
      ]
    },
    {
      "cell_type": "code",
      "source": [
        "#the percentage of job titles with a category\n",
        "df['Job Title Category'].value_counts().sum()/df['Job Title'].value_counts().sum()"
      ],
      "metadata": {
        "colab": {
          "base_uri": "https://localhost:8080/"
        },
        "id": "BBmay4f8DByp",
        "outputId": "3177175a-70be-4e2f-8751-8da2fc8a64f0"
      },
      "execution_count": 60,
      "outputs": [
        {
          "output_type": "execute_result",
          "data": {
            "text/plain": [
              "0.9266272189349113"
            ]
          },
          "metadata": {},
          "execution_count": 60
        }
      ]
    },
    {
      "cell_type": "markdown",
      "source": [
        "Questions to consider:\n",
        "\n",
        "\n",
        "*   Are these appropriate categories?\n",
        "*   Are they too overlapping?\n",
        "*   What else should be added?\n",
        "*   Can any be combined?\n",
        "*   What about all the 'None'?\n",
        "*   What categories are most important? (Should trump the others - IE engineer and founder will only be labeled as whatever category is run most recently)\n",
        "\n",
        "\n",
        "\n"
      ],
      "metadata": {
        "id": "mKHEkMudjDmu"
      }
    },
    {
      "cell_type": "code",
      "source": [
        "#original data now with an additional column called \"Job Title Category\"\n",
        "df.drop(labels=['Email','Organization'], axis=1).head(20)"
      ],
      "metadata": {
        "colab": {
          "base_uri": "https://localhost:8080/",
          "height": 1000
        },
        "id": "jTFZhJM-RNUd",
        "outputId": "bcd617ca-957e-4d6d-9e4d-2a6e2f969561"
      },
      "execution_count": 61,
      "outputs": [
        {
          "output_type": "execute_result",
          "data": {
            "text/plain": [
              "   Attended          City Country/Region State/Province  \\\n",
              "0        No        Ankara             TR          Other   \n",
              "1       Yes     Abu Dhabi             AE          Other   \n",
              "2       Yes           NaN            NaN            NaN   \n",
              "3       Yes           NaN            NaN            NaN   \n",
              "4       Yes           NaN            NaN            NaN   \n",
              "5        No        Agadir             MA          Other   \n",
              "6        No    Gothenburg             SE          Other   \n",
              "7        No     Amsterdam             NL          Other   \n",
              "8        No      Melville             US             NY   \n",
              "9        No        Szeged             HU          Other   \n",
              "10      Yes        Jeddah             SA          Other   \n",
              "11      Yes      Garching             DE          Other   \n",
              "12       No       Dresden             DE          Other   \n",
              "13       No         Minna             NG          Other   \n",
              "14      Yes     Santpedor             ES           Otro   \n",
              "15       No       Vellore             IN          Other   \n",
              "16      Yes      Fairborn             US             OH   \n",
              "17       No       Vellore             IN          Other   \n",
              "18      Yes         Odesa             UA         Другое   \n",
              "19       No  Thessaloniki             GR          Other   \n",
              "\n",
              "                             Industry               Job Title  \\\n",
              "0                       Manufacturing               not given   \n",
              "1   Hospital,  Clinic,  Doctor Office               not given   \n",
              "2                                 NaN               not given   \n",
              "3                                 NaN               not given   \n",
              "4                                 NaN               not given   \n",
              "5          Medical,  Pharma,  Biotech                     phd   \n",
              "6          Medical,  Pharma,  Biotech  global product manager   \n",
              "7                       Manufacturing               not given   \n",
              "8                               Legal                 partner   \n",
              "9                           Education               not given   \n",
              "10                          Education               not given   \n",
              "11                              Other               professor   \n",
              "12                      Manufacturing               not given   \n",
              "13                          Education              researcher   \n",
              "14         Medical,  Pharma,  Biotech                      rd   \n",
              "15                          Education               not given   \n",
              "16                      Manufacturing                     coo   \n",
              "17                          Education     associate professor   \n",
              "18         Medical,  Pharma,  Biotech                     cto   \n",
              "19                          Education             phd student   \n",
              "\n",
              "   Questions & Comments   Registration Time           Join Time  \\\n",
              "0                   NaN 2022-09-01 09:31:37                 NaT   \n",
              "1                   NaN 2022-09-01 10:07:48 2022-09-15 08:03:24   \n",
              "2                   NaN                 NaT 2022-09-15 08:24:20   \n",
              "3                   NaN                 NaT 2022-09-15 09:33:47   \n",
              "4                   NaN                 NaT 2022-09-15 09:36:10   \n",
              "5                   NaN 2022-09-02 05:24:55                 NaT   \n",
              "6                   NaN 2022-09-06 04:31:38                 NaT   \n",
              "7                   NaN 2022-09-06 04:31:43                 NaT   \n",
              "8                   NaN 2022-09-06 04:32:12                 NaT   \n",
              "9                   NaN 2022-09-06 04:32:56                 NaT   \n",
              "10                  NaN 2022-09-06 04:35:33 2022-09-15 08:00:34   \n",
              "11                  NaN 2022-09-06 04:35:44 2022-09-15 08:00:48   \n",
              "12                  NaN 2022-09-06 04:37:33                 NaT   \n",
              "13                 None 2022-09-06 04:45:11                 NaT   \n",
              "14                  NaN 2022-09-06 04:47:13 2022-09-15 08:00:29   \n",
              "15                  NaN 2022-09-06 04:53:59                 NaT   \n",
              "16                  NaN 2022-09-06 04:57:23 2022-09-15 09:17:07   \n",
              "17                  NaN 2022-09-06 05:03:50                 NaT   \n",
              "18                  NaN 2022-09-06 05:05:43 2022-09-15 08:38:52   \n",
              "19                  NaN 2022-09-06 05:08:55                 NaT   \n",
              "\n",
              "            Leave Time  Time in Session (minutes)   Country/Region Name  \\\n",
              "0                  NaT                          0                Turkey   \n",
              "1  2022-09-15 08:23:06                         20  United Arab Emirates   \n",
              "2  2022-09-15 09:31:11                         67        United Kingdom   \n",
              "3  2022-09-15 09:35:53                          3        United Kingdom   \n",
              "4  2022-09-15 09:41:31                          6        United Kingdom   \n",
              "5                  NaT                          0               Morocco   \n",
              "6                  NaT                          0                Sweden   \n",
              "7                  NaT                          0           Netherlands   \n",
              "8                  NaT                          0         United States   \n",
              "9                  NaT                          0               Hungary   \n",
              "10 2022-09-15 09:41:30                        101          Saudi Arabia   \n",
              "11 2022-09-15 08:52:57                         53               Germany   \n",
              "12                 NaT                          0               Germany   \n",
              "13                 NaT                          0               Nigeria   \n",
              "14 2022-09-15 09:12:47                         73                 Spain   \n",
              "15                 NaT                          0                 India   \n",
              "16 2022-09-15 09:40:56                         24         United States   \n",
              "17                 NaT                          0                 India   \n",
              "18 2022-09-15 09:41:30                         63               Ukraine   \n",
              "19                 NaT                          0                Greece   \n",
              "\n",
              "   Source Name  webinar_name Job Title Category  \n",
              "0      website  Biomaterials               None  \n",
              "1    mailchimp  Biomaterials               None  \n",
              "2          NaN  Biomaterials               None  \n",
              "3          NaN  Biomaterials               None  \n",
              "4          NaN  Biomaterials               None  \n",
              "5    mailchimp  Biomaterials           Academic  \n",
              "6    mailchimp  Biomaterials  Manager, Director  \n",
              "7    mailchimp  Biomaterials               None  \n",
              "8    mailchimp  Biomaterials                NaN  \n",
              "9    mailchimp  Biomaterials               None  \n",
              "10   mailchimp  Biomaterials               None  \n",
              "11   mailchimp  Biomaterials           Academic  \n",
              "12     website  Biomaterials               None  \n",
              "13   mailchimp  Biomaterials         Researcher  \n",
              "14   mailchimp  Biomaterials         Researcher  \n",
              "15   mailchimp  Biomaterials               None  \n",
              "16   mailchimp  Biomaterials            C-Suite  \n",
              "17   mailchimp  Biomaterials           Academic  \n",
              "18   mailchimp  Biomaterials            C-Suite  \n",
              "19   mailchimp  Biomaterials           Academic  "
            ],
            "text/html": [
              "\n",
              "  <div id=\"df-d15d2960-fbc4-45a1-ac0f-e83ff3d3f5df\">\n",
              "    <div class=\"colab-df-container\">\n",
              "      <div>\n",
              "<style scoped>\n",
              "    .dataframe tbody tr th:only-of-type {\n",
              "        vertical-align: middle;\n",
              "    }\n",
              "\n",
              "    .dataframe tbody tr th {\n",
              "        vertical-align: top;\n",
              "    }\n",
              "\n",
              "    .dataframe thead th {\n",
              "        text-align: right;\n",
              "    }\n",
              "</style>\n",
              "<table border=\"1\" class=\"dataframe\">\n",
              "  <thead>\n",
              "    <tr style=\"text-align: right;\">\n",
              "      <th></th>\n",
              "      <th>Attended</th>\n",
              "      <th>City</th>\n",
              "      <th>Country/Region</th>\n",
              "      <th>State/Province</th>\n",
              "      <th>Industry</th>\n",
              "      <th>Job Title</th>\n",
              "      <th>Questions &amp; Comments</th>\n",
              "      <th>Registration Time</th>\n",
              "      <th>Join Time</th>\n",
              "      <th>Leave Time</th>\n",
              "      <th>Time in Session (minutes)</th>\n",
              "      <th>Country/Region Name</th>\n",
              "      <th>Source Name</th>\n",
              "      <th>webinar_name</th>\n",
              "      <th>Job Title Category</th>\n",
              "    </tr>\n",
              "  </thead>\n",
              "  <tbody>\n",
              "    <tr>\n",
              "      <th>0</th>\n",
              "      <td>No</td>\n",
              "      <td>Ankara</td>\n",
              "      <td>TR</td>\n",
              "      <td>Other</td>\n",
              "      <td>Manufacturing</td>\n",
              "      <td>not given</td>\n",
              "      <td>NaN</td>\n",
              "      <td>2022-09-01 09:31:37</td>\n",
              "      <td>NaT</td>\n",
              "      <td>NaT</td>\n",
              "      <td>0</td>\n",
              "      <td>Turkey</td>\n",
              "      <td>website</td>\n",
              "      <td>Biomaterials</td>\n",
              "      <td>None</td>\n",
              "    </tr>\n",
              "    <tr>\n",
              "      <th>1</th>\n",
              "      <td>Yes</td>\n",
              "      <td>Abu Dhabi</td>\n",
              "      <td>AE</td>\n",
              "      <td>Other</td>\n",
              "      <td>Hospital,  Clinic,  Doctor Office</td>\n",
              "      <td>not given</td>\n",
              "      <td>NaN</td>\n",
              "      <td>2022-09-01 10:07:48</td>\n",
              "      <td>2022-09-15 08:03:24</td>\n",
              "      <td>2022-09-15 08:23:06</td>\n",
              "      <td>20</td>\n",
              "      <td>United Arab Emirates</td>\n",
              "      <td>mailchimp</td>\n",
              "      <td>Biomaterials</td>\n",
              "      <td>None</td>\n",
              "    </tr>\n",
              "    <tr>\n",
              "      <th>2</th>\n",
              "      <td>Yes</td>\n",
              "      <td>NaN</td>\n",
              "      <td>NaN</td>\n",
              "      <td>NaN</td>\n",
              "      <td>NaN</td>\n",
              "      <td>not given</td>\n",
              "      <td>NaN</td>\n",
              "      <td>NaT</td>\n",
              "      <td>2022-09-15 08:24:20</td>\n",
              "      <td>2022-09-15 09:31:11</td>\n",
              "      <td>67</td>\n",
              "      <td>United Kingdom</td>\n",
              "      <td>NaN</td>\n",
              "      <td>Biomaterials</td>\n",
              "      <td>None</td>\n",
              "    </tr>\n",
              "    <tr>\n",
              "      <th>3</th>\n",
              "      <td>Yes</td>\n",
              "      <td>NaN</td>\n",
              "      <td>NaN</td>\n",
              "      <td>NaN</td>\n",
              "      <td>NaN</td>\n",
              "      <td>not given</td>\n",
              "      <td>NaN</td>\n",
              "      <td>NaT</td>\n",
              "      <td>2022-09-15 09:33:47</td>\n",
              "      <td>2022-09-15 09:35:53</td>\n",
              "      <td>3</td>\n",
              "      <td>United Kingdom</td>\n",
              "      <td>NaN</td>\n",
              "      <td>Biomaterials</td>\n",
              "      <td>None</td>\n",
              "    </tr>\n",
              "    <tr>\n",
              "      <th>4</th>\n",
              "      <td>Yes</td>\n",
              "      <td>NaN</td>\n",
              "      <td>NaN</td>\n",
              "      <td>NaN</td>\n",
              "      <td>NaN</td>\n",
              "      <td>not given</td>\n",
              "      <td>NaN</td>\n",
              "      <td>NaT</td>\n",
              "      <td>2022-09-15 09:36:10</td>\n",
              "      <td>2022-09-15 09:41:31</td>\n",
              "      <td>6</td>\n",
              "      <td>United Kingdom</td>\n",
              "      <td>NaN</td>\n",
              "      <td>Biomaterials</td>\n",
              "      <td>None</td>\n",
              "    </tr>\n",
              "    <tr>\n",
              "      <th>5</th>\n",
              "      <td>No</td>\n",
              "      <td>Agadir</td>\n",
              "      <td>MA</td>\n",
              "      <td>Other</td>\n",
              "      <td>Medical,  Pharma,  Biotech</td>\n",
              "      <td>phd</td>\n",
              "      <td>NaN</td>\n",
              "      <td>2022-09-02 05:24:55</td>\n",
              "      <td>NaT</td>\n",
              "      <td>NaT</td>\n",
              "      <td>0</td>\n",
              "      <td>Morocco</td>\n",
              "      <td>mailchimp</td>\n",
              "      <td>Biomaterials</td>\n",
              "      <td>Academic</td>\n",
              "    </tr>\n",
              "    <tr>\n",
              "      <th>6</th>\n",
              "      <td>No</td>\n",
              "      <td>Gothenburg</td>\n",
              "      <td>SE</td>\n",
              "      <td>Other</td>\n",
              "      <td>Medical,  Pharma,  Biotech</td>\n",
              "      <td>global product manager</td>\n",
              "      <td>NaN</td>\n",
              "      <td>2022-09-06 04:31:38</td>\n",
              "      <td>NaT</td>\n",
              "      <td>NaT</td>\n",
              "      <td>0</td>\n",
              "      <td>Sweden</td>\n",
              "      <td>mailchimp</td>\n",
              "      <td>Biomaterials</td>\n",
              "      <td>Manager, Director</td>\n",
              "    </tr>\n",
              "    <tr>\n",
              "      <th>7</th>\n",
              "      <td>No</td>\n",
              "      <td>Amsterdam</td>\n",
              "      <td>NL</td>\n",
              "      <td>Other</td>\n",
              "      <td>Manufacturing</td>\n",
              "      <td>not given</td>\n",
              "      <td>NaN</td>\n",
              "      <td>2022-09-06 04:31:43</td>\n",
              "      <td>NaT</td>\n",
              "      <td>NaT</td>\n",
              "      <td>0</td>\n",
              "      <td>Netherlands</td>\n",
              "      <td>mailchimp</td>\n",
              "      <td>Biomaterials</td>\n",
              "      <td>None</td>\n",
              "    </tr>\n",
              "    <tr>\n",
              "      <th>8</th>\n",
              "      <td>No</td>\n",
              "      <td>Melville</td>\n",
              "      <td>US</td>\n",
              "      <td>NY</td>\n",
              "      <td>Legal</td>\n",
              "      <td>partner</td>\n",
              "      <td>NaN</td>\n",
              "      <td>2022-09-06 04:32:12</td>\n",
              "      <td>NaT</td>\n",
              "      <td>NaT</td>\n",
              "      <td>0</td>\n",
              "      <td>United States</td>\n",
              "      <td>mailchimp</td>\n",
              "      <td>Biomaterials</td>\n",
              "      <td>NaN</td>\n",
              "    </tr>\n",
              "    <tr>\n",
              "      <th>9</th>\n",
              "      <td>No</td>\n",
              "      <td>Szeged</td>\n",
              "      <td>HU</td>\n",
              "      <td>Other</td>\n",
              "      <td>Education</td>\n",
              "      <td>not given</td>\n",
              "      <td>NaN</td>\n",
              "      <td>2022-09-06 04:32:56</td>\n",
              "      <td>NaT</td>\n",
              "      <td>NaT</td>\n",
              "      <td>0</td>\n",
              "      <td>Hungary</td>\n",
              "      <td>mailchimp</td>\n",
              "      <td>Biomaterials</td>\n",
              "      <td>None</td>\n",
              "    </tr>\n",
              "    <tr>\n",
              "      <th>10</th>\n",
              "      <td>Yes</td>\n",
              "      <td>Jeddah</td>\n",
              "      <td>SA</td>\n",
              "      <td>Other</td>\n",
              "      <td>Education</td>\n",
              "      <td>not given</td>\n",
              "      <td>NaN</td>\n",
              "      <td>2022-09-06 04:35:33</td>\n",
              "      <td>2022-09-15 08:00:34</td>\n",
              "      <td>2022-09-15 09:41:30</td>\n",
              "      <td>101</td>\n",
              "      <td>Saudi Arabia</td>\n",
              "      <td>mailchimp</td>\n",
              "      <td>Biomaterials</td>\n",
              "      <td>None</td>\n",
              "    </tr>\n",
              "    <tr>\n",
              "      <th>11</th>\n",
              "      <td>Yes</td>\n",
              "      <td>Garching</td>\n",
              "      <td>DE</td>\n",
              "      <td>Other</td>\n",
              "      <td>Other</td>\n",
              "      <td>professor</td>\n",
              "      <td>NaN</td>\n",
              "      <td>2022-09-06 04:35:44</td>\n",
              "      <td>2022-09-15 08:00:48</td>\n",
              "      <td>2022-09-15 08:52:57</td>\n",
              "      <td>53</td>\n",
              "      <td>Germany</td>\n",
              "      <td>mailchimp</td>\n",
              "      <td>Biomaterials</td>\n",
              "      <td>Academic</td>\n",
              "    </tr>\n",
              "    <tr>\n",
              "      <th>12</th>\n",
              "      <td>No</td>\n",
              "      <td>Dresden</td>\n",
              "      <td>DE</td>\n",
              "      <td>Other</td>\n",
              "      <td>Manufacturing</td>\n",
              "      <td>not given</td>\n",
              "      <td>NaN</td>\n",
              "      <td>2022-09-06 04:37:33</td>\n",
              "      <td>NaT</td>\n",
              "      <td>NaT</td>\n",
              "      <td>0</td>\n",
              "      <td>Germany</td>\n",
              "      <td>website</td>\n",
              "      <td>Biomaterials</td>\n",
              "      <td>None</td>\n",
              "    </tr>\n",
              "    <tr>\n",
              "      <th>13</th>\n",
              "      <td>No</td>\n",
              "      <td>Minna</td>\n",
              "      <td>NG</td>\n",
              "      <td>Other</td>\n",
              "      <td>Education</td>\n",
              "      <td>researcher</td>\n",
              "      <td>None</td>\n",
              "      <td>2022-09-06 04:45:11</td>\n",
              "      <td>NaT</td>\n",
              "      <td>NaT</td>\n",
              "      <td>0</td>\n",
              "      <td>Nigeria</td>\n",
              "      <td>mailchimp</td>\n",
              "      <td>Biomaterials</td>\n",
              "      <td>Researcher</td>\n",
              "    </tr>\n",
              "    <tr>\n",
              "      <th>14</th>\n",
              "      <td>Yes</td>\n",
              "      <td>Santpedor</td>\n",
              "      <td>ES</td>\n",
              "      <td>Otro</td>\n",
              "      <td>Medical,  Pharma,  Biotech</td>\n",
              "      <td>rd</td>\n",
              "      <td>NaN</td>\n",
              "      <td>2022-09-06 04:47:13</td>\n",
              "      <td>2022-09-15 08:00:29</td>\n",
              "      <td>2022-09-15 09:12:47</td>\n",
              "      <td>73</td>\n",
              "      <td>Spain</td>\n",
              "      <td>mailchimp</td>\n",
              "      <td>Biomaterials</td>\n",
              "      <td>Researcher</td>\n",
              "    </tr>\n",
              "    <tr>\n",
              "      <th>15</th>\n",
              "      <td>No</td>\n",
              "      <td>Vellore</td>\n",
              "      <td>IN</td>\n",
              "      <td>Other</td>\n",
              "      <td>Education</td>\n",
              "      <td>not given</td>\n",
              "      <td>NaN</td>\n",
              "      <td>2022-09-06 04:53:59</td>\n",
              "      <td>NaT</td>\n",
              "      <td>NaT</td>\n",
              "      <td>0</td>\n",
              "      <td>India</td>\n",
              "      <td>mailchimp</td>\n",
              "      <td>Biomaterials</td>\n",
              "      <td>None</td>\n",
              "    </tr>\n",
              "    <tr>\n",
              "      <th>16</th>\n",
              "      <td>Yes</td>\n",
              "      <td>Fairborn</td>\n",
              "      <td>US</td>\n",
              "      <td>OH</td>\n",
              "      <td>Manufacturing</td>\n",
              "      <td>coo</td>\n",
              "      <td>NaN</td>\n",
              "      <td>2022-09-06 04:57:23</td>\n",
              "      <td>2022-09-15 09:17:07</td>\n",
              "      <td>2022-09-15 09:40:56</td>\n",
              "      <td>24</td>\n",
              "      <td>United States</td>\n",
              "      <td>mailchimp</td>\n",
              "      <td>Biomaterials</td>\n",
              "      <td>C-Suite</td>\n",
              "    </tr>\n",
              "    <tr>\n",
              "      <th>17</th>\n",
              "      <td>No</td>\n",
              "      <td>Vellore</td>\n",
              "      <td>IN</td>\n",
              "      <td>Other</td>\n",
              "      <td>Education</td>\n",
              "      <td>associate professor</td>\n",
              "      <td>NaN</td>\n",
              "      <td>2022-09-06 05:03:50</td>\n",
              "      <td>NaT</td>\n",
              "      <td>NaT</td>\n",
              "      <td>0</td>\n",
              "      <td>India</td>\n",
              "      <td>mailchimp</td>\n",
              "      <td>Biomaterials</td>\n",
              "      <td>Academic</td>\n",
              "    </tr>\n",
              "    <tr>\n",
              "      <th>18</th>\n",
              "      <td>Yes</td>\n",
              "      <td>Odesa</td>\n",
              "      <td>UA</td>\n",
              "      <td>Другое</td>\n",
              "      <td>Medical,  Pharma,  Biotech</td>\n",
              "      <td>cto</td>\n",
              "      <td>NaN</td>\n",
              "      <td>2022-09-06 05:05:43</td>\n",
              "      <td>2022-09-15 08:38:52</td>\n",
              "      <td>2022-09-15 09:41:30</td>\n",
              "      <td>63</td>\n",
              "      <td>Ukraine</td>\n",
              "      <td>mailchimp</td>\n",
              "      <td>Biomaterials</td>\n",
              "      <td>C-Suite</td>\n",
              "    </tr>\n",
              "    <tr>\n",
              "      <th>19</th>\n",
              "      <td>No</td>\n",
              "      <td>Thessaloniki</td>\n",
              "      <td>GR</td>\n",
              "      <td>Other</td>\n",
              "      <td>Education</td>\n",
              "      <td>phd student</td>\n",
              "      <td>NaN</td>\n",
              "      <td>2022-09-06 05:08:55</td>\n",
              "      <td>NaT</td>\n",
              "      <td>NaT</td>\n",
              "      <td>0</td>\n",
              "      <td>Greece</td>\n",
              "      <td>mailchimp</td>\n",
              "      <td>Biomaterials</td>\n",
              "      <td>Academic</td>\n",
              "    </tr>\n",
              "  </tbody>\n",
              "</table>\n",
              "</div>\n",
              "      <button class=\"colab-df-convert\" onclick=\"convertToInteractive('df-d15d2960-fbc4-45a1-ac0f-e83ff3d3f5df')\"\n",
              "              title=\"Convert this dataframe to an interactive table.\"\n",
              "              style=\"display:none;\">\n",
              "        \n",
              "  <svg xmlns=\"http://www.w3.org/2000/svg\" height=\"24px\"viewBox=\"0 0 24 24\"\n",
              "       width=\"24px\">\n",
              "    <path d=\"M0 0h24v24H0V0z\" fill=\"none\"/>\n",
              "    <path d=\"M18.56 5.44l.94 2.06.94-2.06 2.06-.94-2.06-.94-.94-2.06-.94 2.06-2.06.94zm-11 1L8.5 8.5l.94-2.06 2.06-.94-2.06-.94L8.5 2.5l-.94 2.06-2.06.94zm10 10l.94 2.06.94-2.06 2.06-.94-2.06-.94-.94-2.06-.94 2.06-2.06.94z\"/><path d=\"M17.41 7.96l-1.37-1.37c-.4-.4-.92-.59-1.43-.59-.52 0-1.04.2-1.43.59L10.3 9.45l-7.72 7.72c-.78.78-.78 2.05 0 2.83L4 21.41c.39.39.9.59 1.41.59.51 0 1.02-.2 1.41-.59l7.78-7.78 2.81-2.81c.8-.78.8-2.07 0-2.86zM5.41 20L4 18.59l7.72-7.72 1.47 1.35L5.41 20z\"/>\n",
              "  </svg>\n",
              "      </button>\n",
              "      \n",
              "  <style>\n",
              "    .colab-df-container {\n",
              "      display:flex;\n",
              "      flex-wrap:wrap;\n",
              "      gap: 12px;\n",
              "    }\n",
              "\n",
              "    .colab-df-convert {\n",
              "      background-color: #E8F0FE;\n",
              "      border: none;\n",
              "      border-radius: 50%;\n",
              "      cursor: pointer;\n",
              "      display: none;\n",
              "      fill: #1967D2;\n",
              "      height: 32px;\n",
              "      padding: 0 0 0 0;\n",
              "      width: 32px;\n",
              "    }\n",
              "\n",
              "    .colab-df-convert:hover {\n",
              "      background-color: #E2EBFA;\n",
              "      box-shadow: 0px 1px 2px rgba(60, 64, 67, 0.3), 0px 1px 3px 1px rgba(60, 64, 67, 0.15);\n",
              "      fill: #174EA6;\n",
              "    }\n",
              "\n",
              "    [theme=dark] .colab-df-convert {\n",
              "      background-color: #3B4455;\n",
              "      fill: #D2E3FC;\n",
              "    }\n",
              "\n",
              "    [theme=dark] .colab-df-convert:hover {\n",
              "      background-color: #434B5C;\n",
              "      box-shadow: 0px 1px 3px 1px rgba(0, 0, 0, 0.15);\n",
              "      filter: drop-shadow(0px 1px 2px rgba(0, 0, 0, 0.3));\n",
              "      fill: #FFFFFF;\n",
              "    }\n",
              "  </style>\n",
              "\n",
              "      <script>\n",
              "        const buttonEl =\n",
              "          document.querySelector('#df-d15d2960-fbc4-45a1-ac0f-e83ff3d3f5df button.colab-df-convert');\n",
              "        buttonEl.style.display =\n",
              "          google.colab.kernel.accessAllowed ? 'block' : 'none';\n",
              "\n",
              "        async function convertToInteractive(key) {\n",
              "          const element = document.querySelector('#df-d15d2960-fbc4-45a1-ac0f-e83ff3d3f5df');\n",
              "          const dataTable =\n",
              "            await google.colab.kernel.invokeFunction('convertToInteractive',\n",
              "                                                     [key], {});\n",
              "          if (!dataTable) return;\n",
              "\n",
              "          const docLinkHtml = 'Like what you see? Visit the ' +\n",
              "            '<a target=\"_blank\" href=https://colab.research.google.com/notebooks/data_table.ipynb>data table notebook</a>'\n",
              "            + ' to learn more about interactive tables.';\n",
              "          element.innerHTML = '';\n",
              "          dataTable['output_type'] = 'display_data';\n",
              "          await google.colab.output.renderOutput(dataTable, element);\n",
              "          const docLink = document.createElement('div');\n",
              "          docLink.innerHTML = docLinkHtml;\n",
              "          element.appendChild(docLink);\n",
              "        }\n",
              "      </script>\n",
              "    </div>\n",
              "  </div>\n",
              "  "
            ]
          },
          "metadata": {},
          "execution_count": 61
        }
      ]
    },
    {
      "cell_type": "code",
      "source": [
        "#Who is left without a category?\n",
        "jobs_without_category = df[df['Job Title Category'].isna()]['Job Title'].tolist()\n",
        "jobs_without_category"
      ],
      "metadata": {
        "colab": {
          "base_uri": "https://localhost:8080/"
        },
        "id": "lZT3Uk17J6Fy",
        "outputId": "3bcfd777-c37e-424e-9694-61ddd25d2786"
      },
      "execution_count": 62,
      "outputs": [
        {
          "output_type": "execute_result",
          "data": {
            "text/plain": [
              "['partner',\n",
              " 'dental techichan',\n",
              " 'develer',\n",
              " 'rd engineering associate',\n",
              " 'sr dir clin ops',\n",
              " 'vp  technology  innovation ',\n",
              " 'partner',\n",
              " 'analista de produto',\n",
              " 'bme',\n",
              " 'dvsc',\n",
              " 'öğrenci',\n",
              " 'head of materials development 3d printing',\n",
              " 'business analyst',\n",
              " 'vp of biomaterials and innovation',\n",
              " 'sr',\n",
              " 'educador y coach',\n",
              " 'bdm',\n",
              " 'partner',\n",
              " 'simulation technology technician',\n",
              " 'product management',\n",
              " 'hp mjf 3d print services ',\n",
              " 'intern',\n",
              " 'global dental lead',\n",
              " 'associate',\n",
              " 'hr head',\n",
              " 'partner',\n",
              " 'arketing  strategy',\n",
              " '3d incubation ',\n",
              " 'private',\n",
              " 'developer',\n",
              " 'orthotistprosthetist',\n",
              " 'plant head',\n",
              " 'vp quality and regulatory',\n",
              " 'impresión 3d',\n",
              " 'lisans öğrencisi',\n",
              " '3d uygulama mühendisi',\n",
              " 'managing partner',\n",
              " 'coordinador general',\n",
              " 'analista de projetos ',\n",
              " 'öğrenci',\n",
              " 'additive manufacturing coordinator',\n",
              " 'researchdevelopment leader',\n",
              " 'senior assessor',\n",
              " 'dvsc',\n",
              " 'öğrenci',\n",
              " 'client partner',\n",
              " 'employee',\n",
              " 'partner',\n",
              " 'coordinadora de diseño',\n",
              " 'retired',\n",
              " 'partner',\n",
              " 'fpm',\n",
              " 'dvm',\n",
              " 'biomédica',\n",
              " 'rd engineering associate',\n",
              " 'head of additive manufacturing',\n",
              " 'senior lecurer',\n",
              " 'gruppenleiter',\n",
              " 'engineering technician',\n",
              " 'tsid',\n",
              " 'retired',\n",
              " 'global 3dp commercial lead']"
            ]
          },
          "metadata": {},
          "execution_count": 62
        }
      ]
    },
    {
      "cell_type": "code",
      "source": [
        "len(jobs_without_category)"
      ],
      "metadata": {
        "colab": {
          "base_uri": "https://localhost:8080/"
        },
        "id": "0QYyOHf6I_bP",
        "outputId": "d33db5d2-98ad-45f1-c8da-f1bb6e6b511c"
      },
      "execution_count": 63,
      "outputs": [
        {
          "output_type": "execute_result",
          "data": {
            "text/plain": [
              "62"
            ]
          },
          "metadata": {},
          "execution_count": 63
        }
      ]
    },
    {
      "cell_type": "markdown",
      "source": [
        "## Save the data to a new csv"
      ],
      "metadata": {
        "id": "B-VrdoWE--Dl"
      }
    },
    {
      "cell_type": "code",
      "source": [
        "\n",
        "os.makedirs('/content/gdrive/MyDrive/Springboard/3D_Heals_Project/Riipen_Springboard/', exist_ok=True)  \n",
        "df.to_csv('/content/gdrive/MyDrive/Springboard/3D_Heals_Project/Riipen_Springboard/combined_webinars.csv')\n"
      ],
      "metadata": {
        "id": "MUyci0O5JDTW"
      },
      "execution_count": 64,
      "outputs": []
    },
    {
      "cell_type": "markdown",
      "source": [
        "#Cleaning Duplicated Values"
      ],
      "metadata": {
        "id": "MiueSi-k3VTi"
      }
    },
    {
      "cell_type": "code",
      "source": [
        "df.isna().sum()"
      ],
      "metadata": {
        "colab": {
          "base_uri": "https://localhost:8080/"
        },
        "id": "lOG66W9g3-6B",
        "outputId": "398ffa2e-ce03-4717-b8a1-be49b09a36ed"
      },
      "execution_count": 65,
      "outputs": [
        {
          "output_type": "execute_result",
          "data": {
            "text/plain": [
              "Attended                       0\n",
              "Email                          4\n",
              "City                         147\n",
              "Country/Region               156\n",
              "State/Province               156\n",
              "Industry                     156\n",
              "Organization                 162\n",
              "Job Title                      0\n",
              "Questions & Comments         830\n",
              "Registration Time            156\n",
              "Join Time                    395\n",
              "Leave Time                   395\n",
              "Time in Session (minutes)      0\n",
              "Country/Region Name           18\n",
              "Source Name                  185\n",
              "webinar_name                   0\n",
              "Job Title Category            62\n",
              "dtype: int64"
            ]
          },
          "metadata": {},
          "execution_count": 65
        }
      ]
    },
    {
      "cell_type": "code",
      "source": [
        "df.isna().sum()"
      ],
      "metadata": {
        "colab": {
          "base_uri": "https://localhost:8080/"
        },
        "id": "nPjaBU2z4GwU",
        "outputId": "1cde7395-0d04-4834-b91c-e5c805b4ab28"
      },
      "execution_count": 66,
      "outputs": [
        {
          "output_type": "execute_result",
          "data": {
            "text/plain": [
              "Attended                       0\n",
              "Email                          4\n",
              "City                         147\n",
              "Country/Region               156\n",
              "State/Province               156\n",
              "Industry                     156\n",
              "Organization                 162\n",
              "Job Title                      0\n",
              "Questions & Comments         830\n",
              "Registration Time            156\n",
              "Join Time                    395\n",
              "Leave Time                   395\n",
              "Time in Session (minutes)      0\n",
              "Country/Region Name           18\n",
              "Source Name                  185\n",
              "webinar_name                   0\n",
              "Job Title Category            62\n",
              "dtype: int64"
            ]
          },
          "metadata": {},
          "execution_count": 66
        }
      ]
    },
    {
      "cell_type": "code",
      "execution_count": 67,
      "metadata": {
        "colab": {
          "base_uri": "https://localhost:8080/"
        },
        "id": "OPCKUDXk6IsK",
        "outputId": "979e40dd-ab8f-40ac-89c7-1721787dac07"
      },
      "outputs": [
        {
          "output_type": "execute_result",
          "data": {
            "text/plain": [
              "0"
            ]
          },
          "metadata": {},
          "execution_count": 67
        }
      ],
      "source": [
        "df.duplicated().sum()"
      ]
    },
    {
      "cell_type": "code",
      "execution_count": 68,
      "metadata": {
        "colab": {
          "base_uri": "https://localhost:8080/",
          "height": 809
        },
        "id": "sqhm9YE75FlB",
        "outputId": "da1e3f8b-b0db-4ac3-be8b-3845da11f0cd"
      },
      "outputs": [
        {
          "output_type": "execute_result",
          "data": {
            "text/plain": [
              "    Attended City Country/Region State/Province Industry  Job Title  \\\n",
              "2        Yes  NaN            NaN            NaN      NaN  not given   \n",
              "3        Yes  NaN            NaN            NaN      NaN  not given   \n",
              "4        Yes  NaN            NaN            NaN      NaN  not given   \n",
              "31       Yes  NaN            NaN            NaN      NaN  not given   \n",
              "32       Yes  NaN            NaN            NaN      NaN  not given   \n",
              "50       Yes  NaN            NaN            NaN      NaN  not given   \n",
              "57       Yes  NaN            NaN            NaN      NaN  not given   \n",
              "111      Yes  NaN            NaN            NaN      NaN  not given   \n",
              "125      Yes  NaN            NaN            NaN      NaN  not given   \n",
              "153      Yes  NaN            NaN            NaN      NaN  not given   \n",
              "\n",
              "    Questions & Comments Registration Time           Join Time  \\\n",
              "2                    NaN               NaT 2022-09-15 08:24:20   \n",
              "3                    NaN               NaT 2022-09-15 09:33:47   \n",
              "4                    NaN               NaT 2022-09-15 09:36:10   \n",
              "31                   NaN               NaT 2022-09-15 08:40:15   \n",
              "32                   NaN               NaT 2022-09-15 09:27:34   \n",
              "50                   NaN               NaT 2022-09-15 09:12:04   \n",
              "57                   NaN               NaT 2022-09-15 08:10:28   \n",
              "111                  NaN               NaT 2022-09-15 08:25:24   \n",
              "125                  NaN               NaT 2022-09-15 08:52:34   \n",
              "153                  NaN               NaT 2022-09-15 08:46:15   \n",
              "\n",
              "             Leave Time  Time in Session (minutes) Country/Region Name  \\\n",
              "2   2022-09-15 09:31:11                         67      United Kingdom   \n",
              "3   2022-09-15 09:35:53                          3      United Kingdom   \n",
              "4   2022-09-15 09:41:31                          6      United Kingdom   \n",
              "31  2022-09-15 09:26:50                         47               India   \n",
              "32  2022-09-15 09:41:32                         14               India   \n",
              "50  2022-09-15 09:41:31                         30               India   \n",
              "57  2022-09-15 09:10:12                         60               India   \n",
              "111 2022-09-15 09:41:30                         77       United States   \n",
              "125 2022-09-15 09:19:26                         27              Israel   \n",
              "153 2022-09-15 09:23:28                         38       United States   \n",
              "\n",
              "    Source Name  webinar_name Job Title Category  \n",
              "2           NaN  Biomaterials               None  \n",
              "3           NaN  Biomaterials               None  \n",
              "4           NaN  Biomaterials               None  \n",
              "31          NaN  Biomaterials               None  \n",
              "32          NaN  Biomaterials               None  \n",
              "50          NaN  Biomaterials               None  \n",
              "57          NaN  Biomaterials               None  \n",
              "111         NaN  Biomaterials               None  \n",
              "125         NaN  Biomaterials               None  \n",
              "153         NaN  Biomaterials               None  "
            ],
            "text/html": [
              "\n",
              "  <div id=\"df-44011980-708d-4545-a995-bb221efe7389\">\n",
              "    <div class=\"colab-df-container\">\n",
              "      <div>\n",
              "<style scoped>\n",
              "    .dataframe tbody tr th:only-of-type {\n",
              "        vertical-align: middle;\n",
              "    }\n",
              "\n",
              "    .dataframe tbody tr th {\n",
              "        vertical-align: top;\n",
              "    }\n",
              "\n",
              "    .dataframe thead th {\n",
              "        text-align: right;\n",
              "    }\n",
              "</style>\n",
              "<table border=\"1\" class=\"dataframe\">\n",
              "  <thead>\n",
              "    <tr style=\"text-align: right;\">\n",
              "      <th></th>\n",
              "      <th>Attended</th>\n",
              "      <th>City</th>\n",
              "      <th>Country/Region</th>\n",
              "      <th>State/Province</th>\n",
              "      <th>Industry</th>\n",
              "      <th>Job Title</th>\n",
              "      <th>Questions &amp; Comments</th>\n",
              "      <th>Registration Time</th>\n",
              "      <th>Join Time</th>\n",
              "      <th>Leave Time</th>\n",
              "      <th>Time in Session (minutes)</th>\n",
              "      <th>Country/Region Name</th>\n",
              "      <th>Source Name</th>\n",
              "      <th>webinar_name</th>\n",
              "      <th>Job Title Category</th>\n",
              "    </tr>\n",
              "  </thead>\n",
              "  <tbody>\n",
              "    <tr>\n",
              "      <th>2</th>\n",
              "      <td>Yes</td>\n",
              "      <td>NaN</td>\n",
              "      <td>NaN</td>\n",
              "      <td>NaN</td>\n",
              "      <td>NaN</td>\n",
              "      <td>not given</td>\n",
              "      <td>NaN</td>\n",
              "      <td>NaT</td>\n",
              "      <td>2022-09-15 08:24:20</td>\n",
              "      <td>2022-09-15 09:31:11</td>\n",
              "      <td>67</td>\n",
              "      <td>United Kingdom</td>\n",
              "      <td>NaN</td>\n",
              "      <td>Biomaterials</td>\n",
              "      <td>None</td>\n",
              "    </tr>\n",
              "    <tr>\n",
              "      <th>3</th>\n",
              "      <td>Yes</td>\n",
              "      <td>NaN</td>\n",
              "      <td>NaN</td>\n",
              "      <td>NaN</td>\n",
              "      <td>NaN</td>\n",
              "      <td>not given</td>\n",
              "      <td>NaN</td>\n",
              "      <td>NaT</td>\n",
              "      <td>2022-09-15 09:33:47</td>\n",
              "      <td>2022-09-15 09:35:53</td>\n",
              "      <td>3</td>\n",
              "      <td>United Kingdom</td>\n",
              "      <td>NaN</td>\n",
              "      <td>Biomaterials</td>\n",
              "      <td>None</td>\n",
              "    </tr>\n",
              "    <tr>\n",
              "      <th>4</th>\n",
              "      <td>Yes</td>\n",
              "      <td>NaN</td>\n",
              "      <td>NaN</td>\n",
              "      <td>NaN</td>\n",
              "      <td>NaN</td>\n",
              "      <td>not given</td>\n",
              "      <td>NaN</td>\n",
              "      <td>NaT</td>\n",
              "      <td>2022-09-15 09:36:10</td>\n",
              "      <td>2022-09-15 09:41:31</td>\n",
              "      <td>6</td>\n",
              "      <td>United Kingdom</td>\n",
              "      <td>NaN</td>\n",
              "      <td>Biomaterials</td>\n",
              "      <td>None</td>\n",
              "    </tr>\n",
              "    <tr>\n",
              "      <th>31</th>\n",
              "      <td>Yes</td>\n",
              "      <td>NaN</td>\n",
              "      <td>NaN</td>\n",
              "      <td>NaN</td>\n",
              "      <td>NaN</td>\n",
              "      <td>not given</td>\n",
              "      <td>NaN</td>\n",
              "      <td>NaT</td>\n",
              "      <td>2022-09-15 08:40:15</td>\n",
              "      <td>2022-09-15 09:26:50</td>\n",
              "      <td>47</td>\n",
              "      <td>India</td>\n",
              "      <td>NaN</td>\n",
              "      <td>Biomaterials</td>\n",
              "      <td>None</td>\n",
              "    </tr>\n",
              "    <tr>\n",
              "      <th>32</th>\n",
              "      <td>Yes</td>\n",
              "      <td>NaN</td>\n",
              "      <td>NaN</td>\n",
              "      <td>NaN</td>\n",
              "      <td>NaN</td>\n",
              "      <td>not given</td>\n",
              "      <td>NaN</td>\n",
              "      <td>NaT</td>\n",
              "      <td>2022-09-15 09:27:34</td>\n",
              "      <td>2022-09-15 09:41:32</td>\n",
              "      <td>14</td>\n",
              "      <td>India</td>\n",
              "      <td>NaN</td>\n",
              "      <td>Biomaterials</td>\n",
              "      <td>None</td>\n",
              "    </tr>\n",
              "    <tr>\n",
              "      <th>50</th>\n",
              "      <td>Yes</td>\n",
              "      <td>NaN</td>\n",
              "      <td>NaN</td>\n",
              "      <td>NaN</td>\n",
              "      <td>NaN</td>\n",
              "      <td>not given</td>\n",
              "      <td>NaN</td>\n",
              "      <td>NaT</td>\n",
              "      <td>2022-09-15 09:12:04</td>\n",
              "      <td>2022-09-15 09:41:31</td>\n",
              "      <td>30</td>\n",
              "      <td>India</td>\n",
              "      <td>NaN</td>\n",
              "      <td>Biomaterials</td>\n",
              "      <td>None</td>\n",
              "    </tr>\n",
              "    <tr>\n",
              "      <th>57</th>\n",
              "      <td>Yes</td>\n",
              "      <td>NaN</td>\n",
              "      <td>NaN</td>\n",
              "      <td>NaN</td>\n",
              "      <td>NaN</td>\n",
              "      <td>not given</td>\n",
              "      <td>NaN</td>\n",
              "      <td>NaT</td>\n",
              "      <td>2022-09-15 08:10:28</td>\n",
              "      <td>2022-09-15 09:10:12</td>\n",
              "      <td>60</td>\n",
              "      <td>India</td>\n",
              "      <td>NaN</td>\n",
              "      <td>Biomaterials</td>\n",
              "      <td>None</td>\n",
              "    </tr>\n",
              "    <tr>\n",
              "      <th>111</th>\n",
              "      <td>Yes</td>\n",
              "      <td>NaN</td>\n",
              "      <td>NaN</td>\n",
              "      <td>NaN</td>\n",
              "      <td>NaN</td>\n",
              "      <td>not given</td>\n",
              "      <td>NaN</td>\n",
              "      <td>NaT</td>\n",
              "      <td>2022-09-15 08:25:24</td>\n",
              "      <td>2022-09-15 09:41:30</td>\n",
              "      <td>77</td>\n",
              "      <td>United States</td>\n",
              "      <td>NaN</td>\n",
              "      <td>Biomaterials</td>\n",
              "      <td>None</td>\n",
              "    </tr>\n",
              "    <tr>\n",
              "      <th>125</th>\n",
              "      <td>Yes</td>\n",
              "      <td>NaN</td>\n",
              "      <td>NaN</td>\n",
              "      <td>NaN</td>\n",
              "      <td>NaN</td>\n",
              "      <td>not given</td>\n",
              "      <td>NaN</td>\n",
              "      <td>NaT</td>\n",
              "      <td>2022-09-15 08:52:34</td>\n",
              "      <td>2022-09-15 09:19:26</td>\n",
              "      <td>27</td>\n",
              "      <td>Israel</td>\n",
              "      <td>NaN</td>\n",
              "      <td>Biomaterials</td>\n",
              "      <td>None</td>\n",
              "    </tr>\n",
              "    <tr>\n",
              "      <th>153</th>\n",
              "      <td>Yes</td>\n",
              "      <td>NaN</td>\n",
              "      <td>NaN</td>\n",
              "      <td>NaN</td>\n",
              "      <td>NaN</td>\n",
              "      <td>not given</td>\n",
              "      <td>NaN</td>\n",
              "      <td>NaT</td>\n",
              "      <td>2022-09-15 08:46:15</td>\n",
              "      <td>2022-09-15 09:23:28</td>\n",
              "      <td>38</td>\n",
              "      <td>United States</td>\n",
              "      <td>NaN</td>\n",
              "      <td>Biomaterials</td>\n",
              "      <td>None</td>\n",
              "    </tr>\n",
              "  </tbody>\n",
              "</table>\n",
              "</div>\n",
              "      <button class=\"colab-df-convert\" onclick=\"convertToInteractive('df-44011980-708d-4545-a995-bb221efe7389')\"\n",
              "              title=\"Convert this dataframe to an interactive table.\"\n",
              "              style=\"display:none;\">\n",
              "        \n",
              "  <svg xmlns=\"http://www.w3.org/2000/svg\" height=\"24px\"viewBox=\"0 0 24 24\"\n",
              "       width=\"24px\">\n",
              "    <path d=\"M0 0h24v24H0V0z\" fill=\"none\"/>\n",
              "    <path d=\"M18.56 5.44l.94 2.06.94-2.06 2.06-.94-2.06-.94-.94-2.06-.94 2.06-2.06.94zm-11 1L8.5 8.5l.94-2.06 2.06-.94-2.06-.94L8.5 2.5l-.94 2.06-2.06.94zm10 10l.94 2.06.94-2.06 2.06-.94-2.06-.94-.94-2.06-.94 2.06-2.06.94z\"/><path d=\"M17.41 7.96l-1.37-1.37c-.4-.4-.92-.59-1.43-.59-.52 0-1.04.2-1.43.59L10.3 9.45l-7.72 7.72c-.78.78-.78 2.05 0 2.83L4 21.41c.39.39.9.59 1.41.59.51 0 1.02-.2 1.41-.59l7.78-7.78 2.81-2.81c.8-.78.8-2.07 0-2.86zM5.41 20L4 18.59l7.72-7.72 1.47 1.35L5.41 20z\"/>\n",
              "  </svg>\n",
              "      </button>\n",
              "      \n",
              "  <style>\n",
              "    .colab-df-container {\n",
              "      display:flex;\n",
              "      flex-wrap:wrap;\n",
              "      gap: 12px;\n",
              "    }\n",
              "\n",
              "    .colab-df-convert {\n",
              "      background-color: #E8F0FE;\n",
              "      border: none;\n",
              "      border-radius: 50%;\n",
              "      cursor: pointer;\n",
              "      display: none;\n",
              "      fill: #1967D2;\n",
              "      height: 32px;\n",
              "      padding: 0 0 0 0;\n",
              "      width: 32px;\n",
              "    }\n",
              "\n",
              "    .colab-df-convert:hover {\n",
              "      background-color: #E2EBFA;\n",
              "      box-shadow: 0px 1px 2px rgba(60, 64, 67, 0.3), 0px 1px 3px 1px rgba(60, 64, 67, 0.15);\n",
              "      fill: #174EA6;\n",
              "    }\n",
              "\n",
              "    [theme=dark] .colab-df-convert {\n",
              "      background-color: #3B4455;\n",
              "      fill: #D2E3FC;\n",
              "    }\n",
              "\n",
              "    [theme=dark] .colab-df-convert:hover {\n",
              "      background-color: #434B5C;\n",
              "      box-shadow: 0px 1px 3px 1px rgba(0, 0, 0, 0.15);\n",
              "      filter: drop-shadow(0px 1px 2px rgba(0, 0, 0, 0.3));\n",
              "      fill: #FFFFFF;\n",
              "    }\n",
              "  </style>\n",
              "\n",
              "      <script>\n",
              "        const buttonEl =\n",
              "          document.querySelector('#df-44011980-708d-4545-a995-bb221efe7389 button.colab-df-convert');\n",
              "        buttonEl.style.display =\n",
              "          google.colab.kernel.accessAllowed ? 'block' : 'none';\n",
              "\n",
              "        async function convertToInteractive(key) {\n",
              "          const element = document.querySelector('#df-44011980-708d-4545-a995-bb221efe7389');\n",
              "          const dataTable =\n",
              "            await google.colab.kernel.invokeFunction('convertToInteractive',\n",
              "                                                     [key], {});\n",
              "          if (!dataTable) return;\n",
              "\n",
              "          const docLinkHtml = 'Like what you see? Visit the ' +\n",
              "            '<a target=\"_blank\" href=https://colab.research.google.com/notebooks/data_table.ipynb>data table notebook</a>'\n",
              "            + ' to learn more about interactive tables.';\n",
              "          element.innerHTML = '';\n",
              "          dataTable['output_type'] = 'display_data';\n",
              "          await google.colab.output.renderOutput(dataTable, element);\n",
              "          const docLink = document.createElement('div');\n",
              "          docLink.innerHTML = docLinkHtml;\n",
              "          element.appendChild(docLink);\n",
              "        }\n",
              "      </script>\n",
              "    </div>\n",
              "  </div>\n",
              "  "
            ]
          },
          "metadata": {},
          "execution_count": 68
        }
      ],
      "source": [
        "#all the duplicated rows based on email and webinar name\n",
        "df[df.duplicated(subset=['Email','webinar_name'])].drop(labels=['Email','Organization'], axis=1).head(10)"
      ]
    },
    {
      "cell_type": "code",
      "source": [
        "#list of duplicated email addresses\n",
        "multiple_logins = df[df.duplicated(subset=['Email','webinar_name'])]['Email'].tolist()"
      ],
      "metadata": {
        "id": "UY38QmKCIM_D"
      },
      "execution_count": 69,
      "outputs": []
    },
    {
      "cell_type": "code",
      "source": [
        "#number of times an email address logged in AFTER the first attempt for all webinars\n",
        "dictionary_of_logins = {} \n",
        "for email in multiple_logins: \n",
        "    if email in dictionary_of_logins: \n",
        "         dictionary_of_logins[email] += 1 \n",
        "    else: \n",
        "         dictionary_of_logins[email] = 1\n",
        "plt.hist(dictionary_of_logins.values())\n",
        "plt.title('Number of times an email address logged in AFTER the first attempt for all webinars')\n",
        "plt.xlabel('Number of Logins')\n",
        "plt.ylabel('Frequency')"
      ],
      "metadata": {
        "colab": {
          "base_uri": "https://localhost:8080/",
          "height": 489
        },
        "id": "u5KwwATPKWFx",
        "outputId": "08bb8bf5-d5c6-4419-a867-d6e375f7656b"
      },
      "execution_count": 70,
      "outputs": [
        {
          "output_type": "execute_result",
          "data": {
            "text/plain": [
              "Text(0, 0.5, 'Frequency')"
            ]
          },
          "metadata": {},
          "execution_count": 70
        },
        {
          "output_type": "display_data",
          "data": {
            "text/plain": [
              "<Figure size 640x480 with 1 Axes>"
            ],
            "image/png": "[encoded data removed]"
          },
          "metadata": {}
        }
      ]
    },
    {
      "cell_type": "code",
      "source": [
        "#create a total time column\n",
        "df['Total_time'] = df.groupby(['Email','webinar_name'])['Time in Session (minutes)'].transform('sum')"
      ],
      "metadata": {
        "id": "OVFgeNYY6eqD"
      },
      "execution_count": 71,
      "outputs": []
    },
    {
      "cell_type": "code",
      "source": [
        "#create a column for the number of times a participant logged in\n",
        "df['Number_of_Logins'] = df.groupby(['Email','webinar_name'])['Join Time'].transform('count')"
      ],
      "metadata": {
        "id": "YOc5FU8XylFr"
      },
      "execution_count": 72,
      "outputs": []
    },
    {
      "cell_type": "code",
      "source": [
        "#Example of a participant that logged in multiple times\n",
        "#df[df['Email']=='']"
      ],
      "metadata": {
        "id": "8efGvLv095Mp"
      },
      "execution_count": 73,
      "outputs": []
    },
    {
      "cell_type": "code",
      "source": [
        "df.columns"
      ],
      "metadata": {
        "colab": {
          "base_uri": "https://localhost:8080/"
        },
        "id": "-yprn8yIHK-Y",
        "outputId": "26f2c23b-e25d-4fbf-83c3-54a3bab81730"
      },
      "execution_count": 74,
      "outputs": [
        {
          "output_type": "execute_result",
          "data": {
            "text/plain": [
              "Index(['Attended', 'Email', 'City', 'Country/Region', 'State/Province',\n",
              "       'Industry', 'Organization', 'Job Title', 'Questions & Comments',\n",
              "       'Registration Time', 'Join Time', 'Leave Time',\n",
              "       'Time in Session (minutes)', 'Country/Region Name', 'Source Name',\n",
              "       'webinar_name', 'Job Title Category', 'Total_time', 'Number_of_Logins'],\n",
              "      dtype='object')"
            ]
          },
          "metadata": {},
          "execution_count": 74
        }
      ]
    },
    {
      "cell_type": "code",
      "source": [
        "#define how to aggregate various fields\n",
        "#inspiration: https://www.statology.org/pandas-combine-rows-with-same-column-value/\n",
        "agg_functions = {\n",
        "              'Attended':'first', \n",
        "              'Email':'first', \n",
        "              'City':'first', \n",
        "              'Country/Region':'first',\n",
        "              'State/Province':'first', \n",
        "              'Industry':'first', \n",
        "              'Organization':'first', \n",
        "              'Job Title':'first',\n",
        "              'Questions & Comments':'first', \n",
        "              'Registration Time':'first', \n",
        "              'Join Time':'first', \n",
        "              'Leave Time':'last',\n",
        "              'Time in Session (minutes)':'sum', \n",
        "              'Country/Region Name':'first', \n",
        "              'Source Name':'first',\n",
        "              'webinar_name':'first', \n",
        "              'Job Title Category':'first', \n",
        "              'Total_time':'first',\n",
        "              'Number_of_Logins':'first'\n",
        "}\n",
        "\n",
        "#create new DataFrame by combining rows with same id values\n",
        "df_no_duplicates = df.groupby(['Email','webinar_name']).aggregate(agg_functions)"
      ],
      "metadata": {
        "id": "ApiSbZNOG1j0"
      },
      "execution_count": 75,
      "outputs": []
    },
    {
      "cell_type": "code",
      "source": [
        "#df_no_duplicates.head(10)"
      ],
      "metadata": {
        "id": "zUbOpyxGIdtw"
      },
      "execution_count": 76,
      "outputs": []
    },
    {
      "cell_type": "code",
      "source": [
        "df_no_duplicates = df_no_duplicates.set_index('Email').reset_index()"
      ],
      "metadata": {
        "id": "ZUhwuUOtv0MG"
      },
      "execution_count": 77,
      "outputs": []
    },
    {
      "cell_type": "code",
      "source": [
        "df_no_duplicates.drop(labels=['Email','Organization'], axis=1).head()"
      ],
      "metadata": {
        "colab": {
          "base_uri": "https://localhost:8080/",
          "height": 409
        },
        "id": "0DpsZTTt0GTW",
        "outputId": "b6c07444-43dc-40e3-a917-c568f0b98fd4"
      },
      "execution_count": 78,
      "outputs": [
        {
          "output_type": "execute_result",
          "data": {
            "text/plain": [
              "  Attended     City Country/Region State/Province           Industry  \\\n",
              "0       No     Pune             IN          Other   Software - Other   \n",
              "1       No     Pune             IN          Other              Other   \n",
              "2      Yes   bazpur             IN          Other          Education   \n",
              "3       No  Kayseri             TR          Other  High Tech - Other   \n",
              "4       No  Nairobi             KE          Other  High Tech - Other   \n",
              "\n",
              "     Job Title Questions & Comments   Registration Time           Join Time  \\\n",
              "0    developer                 None 2022-08-29 12:32:37                 NaT   \n",
              "1      develer                 None 2022-09-06 12:48:32                 NaT   \n",
              "2    not given                 None 2022-08-22 23:43:21 2022-09-01 08:00:52   \n",
              "3  phd student                 None 2022-09-06 22:29:58                 NaT   \n",
              "4      founder                 None 2022-09-29 01:19:43                 NaT   \n",
              "\n",
              "           Leave Time  Time in Session (minutes) Country/Region Name  \\\n",
              "0                 NaT                          0               India   \n",
              "1                 NaT                          0               India   \n",
              "2 2022-09-01 10:09:13                        141               India   \n",
              "3                 NaT                          0              Turkey   \n",
              "4                 NaT                          0               Kenya   \n",
              "\n",
              "  Source Name      webinar_name Job Title Category  Total_time  \\\n",
              "0   mailchimp          3D Metal               None         0.0   \n",
              "1   mailchimp      Biomaterials               None         0.0   \n",
              "2   mailchimp  Indian Ecosystem               None       141.0   \n",
              "3    Linkedin      Biomaterials           Academic         0.0   \n",
              "4     Website     Preprocessing            C-Suite         0.0   \n",
              "\n",
              "   Number_of_Logins  \n",
              "0               0.0  \n",
              "1               0.0  \n",
              "2               5.0  \n",
              "3               0.0  \n",
              "4               0.0  "
            ],
            "text/html": [
              "\n",
              "  <div id=\"df-7817ae23-67af-4788-a277-92c8b19e235e\">\n",
              "    <div class=\"colab-df-container\">\n",
              "      <div>\n",
              "<style scoped>\n",
              "    .dataframe tbody tr th:only-of-type {\n",
              "        vertical-align: middle;\n",
              "    }\n",
              "\n",
              "    .dataframe tbody tr th {\n",
              "        vertical-align: top;\n",
              "    }\n",
              "\n",
              "    .dataframe thead th {\n",
              "        text-align: right;\n",
              "    }\n",
              "</style>\n",
              "<table border=\"1\" class=\"dataframe\">\n",
              "  <thead>\n",
              "    <tr style=\"text-align: right;\">\n",
              "      <th></th>\n",
              "      <th>Attended</th>\n",
              "      <th>City</th>\n",
              "      <th>Country/Region</th>\n",
              "      <th>State/Province</th>\n",
              "      <th>Industry</th>\n",
              "      <th>Job Title</th>\n",
              "      <th>Questions &amp; Comments</th>\n",
              "      <th>Registration Time</th>\n",
              "      <th>Join Time</th>\n",
              "      <th>Leave Time</th>\n",
              "      <th>Time in Session (minutes)</th>\n",
              "      <th>Country/Region Name</th>\n",
              "      <th>Source Name</th>\n",
              "      <th>webinar_name</th>\n",
              "      <th>Job Title Category</th>\n",
              "      <th>Total_time</th>\n",
              "      <th>Number_of_Logins</th>\n",
              "    </tr>\n",
              "  </thead>\n",
              "  <tbody>\n",
              "    <tr>\n",
              "      <th>0</th>\n",
              "      <td>No</td>\n",
              "      <td>Pune</td>\n",
              "      <td>IN</td>\n",
              "      <td>Other</td>\n",
              "      <td>Software - Other</td>\n",
              "      <td>developer</td>\n",
              "      <td>None</td>\n",
              "      <td>2022-08-29 12:32:37</td>\n",
              "      <td>NaT</td>\n",
              "      <td>NaT</td>\n",
              "      <td>0</td>\n",
              "      <td>India</td>\n",
              "      <td>mailchimp</td>\n",
              "      <td>3D Metal</td>\n",
              "      <td>None</td>\n",
              "      <td>0.0</td>\n",
              "      <td>0.0</td>\n",
              "    </tr>\n",
              "    <tr>\n",
              "      <th>1</th>\n",
              "      <td>No</td>\n",
              "      <td>Pune</td>\n",
              "      <td>IN</td>\n",
              "      <td>Other</td>\n",
              "      <td>Other</td>\n",
              "      <td>develer</td>\n",
              "      <td>None</td>\n",
              "      <td>2022-09-06 12:48:32</td>\n",
              "      <td>NaT</td>\n",
              "      <td>NaT</td>\n",
              "      <td>0</td>\n",
              "      <td>India</td>\n",
              "      <td>mailchimp</td>\n",
              "      <td>Biomaterials</td>\n",
              "      <td>None</td>\n",
              "      <td>0.0</td>\n",
              "      <td>0.0</td>\n",
              "    </tr>\n",
              "    <tr>\n",
              "      <th>2</th>\n",
              "      <td>Yes</td>\n",
              "      <td>bazpur</td>\n",
              "      <td>IN</td>\n",
              "      <td>Other</td>\n",
              "      <td>Education</td>\n",
              "      <td>not given</td>\n",
              "      <td>None</td>\n",
              "      <td>2022-08-22 23:43:21</td>\n",
              "      <td>2022-09-01 08:00:52</td>\n",
              "      <td>2022-09-01 10:09:13</td>\n",
              "      <td>141</td>\n",
              "      <td>India</td>\n",
              "      <td>mailchimp</td>\n",
              "      <td>Indian Ecosystem</td>\n",
              "      <td>None</td>\n",
              "      <td>141.0</td>\n",
              "      <td>5.0</td>\n",
              "    </tr>\n",
              "    <tr>\n",
              "      <th>3</th>\n",
              "      <td>No</td>\n",
              "      <td>Kayseri</td>\n",
              "      <td>TR</td>\n",
              "      <td>Other</td>\n",
              "      <td>High Tech - Other</td>\n",
              "      <td>phd student</td>\n",
              "      <td>None</td>\n",
              "      <td>2022-09-06 22:29:58</td>\n",
              "      <td>NaT</td>\n",
              "      <td>NaT</td>\n",
              "      <td>0</td>\n",
              "      <td>Turkey</td>\n",
              "      <td>Linkedin</td>\n",
              "      <td>Biomaterials</td>\n",
              "      <td>Academic</td>\n",
              "      <td>0.0</td>\n",
              "      <td>0.0</td>\n",
              "    </tr>\n",
              "    <tr>\n",
              "      <th>4</th>\n",
              "      <td>No</td>\n",
              "      <td>Nairobi</td>\n",
              "      <td>KE</td>\n",
              "      <td>Other</td>\n",
              "      <td>High Tech - Other</td>\n",
              "      <td>founder</td>\n",
              "      <td>None</td>\n",
              "      <td>2022-09-29 01:19:43</td>\n",
              "      <td>NaT</td>\n",
              "      <td>NaT</td>\n",
              "      <td>0</td>\n",
              "      <td>Kenya</td>\n",
              "      <td>Website</td>\n",
              "      <td>Preprocessing</td>\n",
              "      <td>C-Suite</td>\n",
              "      <td>0.0</td>\n",
              "      <td>0.0</td>\n",
              "    </tr>\n",
              "  </tbody>\n",
              "</table>\n",
              "</div>\n",
              "      <button class=\"colab-df-convert\" onclick=\"convertToInteractive('df-7817ae23-67af-4788-a277-92c8b19e235e')\"\n",
              "              title=\"Convert this dataframe to an interactive table.\"\n",
              "              style=\"display:none;\">\n",
              "        \n",
              "  <svg xmlns=\"http://www.w3.org/2000/svg\" height=\"24px\"viewBox=\"0 0 24 24\"\n",
              "       width=\"24px\">\n",
              "    <path d=\"M0 0h24v24H0V0z\" fill=\"none\"/>\n",
              "    <path d=\"M18.56 5.44l.94 2.06.94-2.06 2.06-.94-2.06-.94-.94-2.06-.94 2.06-2.06.94zm-11 1L8.5 8.5l.94-2.06 2.06-.94-2.06-.94L8.5 2.5l-.94 2.06-2.06.94zm10 10l.94 2.06.94-2.06 2.06-.94-2.06-.94-.94-2.06-.94 2.06-2.06.94z\"/><path d=\"M17.41 7.96l-1.37-1.37c-.4-.4-.92-.59-1.43-.59-.52 0-1.04.2-1.43.59L10.3 9.45l-7.72 7.72c-.78.78-.78 2.05 0 2.83L4 21.41c.39.39.9.59 1.41.59.51 0 1.02-.2 1.41-.59l7.78-7.78 2.81-2.81c.8-.78.8-2.07 0-2.86zM5.41 20L4 18.59l7.72-7.72 1.47 1.35L5.41 20z\"/>\n",
              "  </svg>\n",
              "      </button>\n",
              "      \n",
              "  <style>\n",
              "    .colab-df-container {\n",
              "      display:flex;\n",
              "      flex-wrap:wrap;\n",
              "      gap: 12px;\n",
              "    }\n",
              "\n",
              "    .colab-df-convert {\n",
              "      background-color: #E8F0FE;\n",
              "      border: none;\n",
              "      border-radius: 50%;\n",
              "      cursor: pointer;\n",
              "      display: none;\n",
              "      fill: #1967D2;\n",
              "      height: 32px;\n",
              "      padding: 0 0 0 0;\n",
              "      width: 32px;\n",
              "    }\n",
              "\n",
              "    .colab-df-convert:hover {\n",
              "      background-color: #E2EBFA;\n",
              "      box-shadow: 0px 1px 2px rgba(60, 64, 67, 0.3), 0px 1px 3px 1px rgba(60, 64, 67, 0.15);\n",
              "      fill: #174EA6;\n",
              "    }\n",
              "\n",
              "    [theme=dark] .colab-df-convert {\n",
              "      background-color: #3B4455;\n",
              "      fill: #D2E3FC;\n",
              "    }\n",
              "\n",
              "    [theme=dark] .colab-df-convert:hover {\n",
              "      background-color: #434B5C;\n",
              "      box-shadow: 0px 1px 3px 1px rgba(0, 0, 0, 0.15);\n",
              "      filter: drop-shadow(0px 1px 2px rgba(0, 0, 0, 0.3));\n",
              "      fill: #FFFFFF;\n",
              "    }\n",
              "  </style>\n",
              "\n",
              "      <script>\n",
              "        const buttonEl =\n",
              "          document.querySelector('#df-7817ae23-67af-4788-a277-92c8b19e235e button.colab-df-convert');\n",
              "        buttonEl.style.display =\n",
              "          google.colab.kernel.accessAllowed ? 'block' : 'none';\n",
              "\n",
              "        async function convertToInteractive(key) {\n",
              "          const element = document.querySelector('#df-7817ae23-67af-4788-a277-92c8b19e235e');\n",
              "          const dataTable =\n",
              "            await google.colab.kernel.invokeFunction('convertToInteractive',\n",
              "                                                     [key], {});\n",
              "          if (!dataTable) return;\n",
              "\n",
              "          const docLinkHtml = 'Like what you see? Visit the ' +\n",
              "            '<a target=\"_blank\" href=https://colab.research.google.com/notebooks/data_table.ipynb>data table notebook</a>'\n",
              "            + ' to learn more about interactive tables.';\n",
              "          element.innerHTML = '';\n",
              "          dataTable['output_type'] = 'display_data';\n",
              "          await google.colab.output.renderOutput(dataTable, element);\n",
              "          const docLink = document.createElement('div');\n",
              "          docLink.innerHTML = docLinkHtml;\n",
              "          element.appendChild(docLink);\n",
              "        }\n",
              "      </script>\n",
              "    </div>\n",
              "  </div>\n",
              "  "
            ]
          },
          "metadata": {},
          "execution_count": 78
        }
      ]
    },
    {
      "cell_type": "markdown",
      "source": [
        "#Cleaning Missing Values"
      ],
      "metadata": {
        "id": "fbggxfoi3a_D"
      }
    },
    {
      "cell_type": "code",
      "source": [
        "df_no_duplicates['Attended'].value_counts(normalize=True)"
      ],
      "metadata": {
        "colab": {
          "base_uri": "https://localhost:8080/"
        },
        "id": "Vq9XN9XSGVLz",
        "outputId": "edf26969-2bc1-41f8-b5b0-c6d9d7ba5b55"
      },
      "execution_count": 79,
      "outputs": [
        {
          "output_type": "execute_result",
          "data": {
            "text/plain": [
              "No                  0.545194\n",
              "Yes                 0.443329\n",
              "User Name           0.005739\n",
              "17142381131         0.001435\n",
              "19176429644         0.001435\n",
              "0114915776295912    0.001435\n",
              "15184664566         0.001435\n",
              "Name: Attended, dtype: float64"
            ]
          },
          "metadata": {},
          "execution_count": 79
        }
      ]
    },
    {
      "cell_type": "code",
      "source": [
        "df_no_duplicates.info()"
      ],
      "metadata": {
        "colab": {
          "base_uri": "https://localhost:8080/"
        },
        "id": "cdU3jrYKBGa4",
        "outputId": "60d509c2-5889-4209-96d2-a65a4b0a67f1"
      },
      "execution_count": 80,
      "outputs": [
        {
          "output_type": "stream",
          "name": "stdout",
          "text": [
            "<class 'pandas.core.frame.DataFrame'>\n",
            "RangeIndex: 697 entries, 0 to 696\n",
            "Data columns (total 19 columns):\n",
            " #   Column                     Non-Null Count  Dtype         \n",
            "---  ------                     --------------  -----         \n",
            " 0   Email                      697 non-null    object        \n",
            " 1   Attended                   697 non-null    object        \n",
            " 2   City                       695 non-null    object        \n",
            " 3   Country/Region             689 non-null    object        \n",
            " 4   State/Province             689 non-null    object        \n",
            " 5   Industry                   689 non-null    object        \n",
            " 6   Organization               683 non-null    object        \n",
            " 7   Job Title                  697 non-null    object        \n",
            " 8   Questions & Comments       15 non-null     object        \n",
            " 9   Registration Time          689 non-null    datetime64[ns]\n",
            " 10  Join Time                  309 non-null    datetime64[ns]\n",
            " 11  Leave Time                 309 non-null    datetime64[ns]\n",
            " 12  Time in Session (minutes)  697 non-null    int64         \n",
            " 13  Country/Region Name        687 non-null    object        \n",
            " 14  Source Name                660 non-null    object        \n",
            " 15  webinar_name               697 non-null    object        \n",
            " 16  Job Title Category         636 non-null    object        \n",
            " 17  Total_time                 697 non-null    float64       \n",
            " 18  Number_of_Logins           697 non-null    float64       \n",
            "dtypes: datetime64[ns](3), float64(2), int64(1), object(13)\n",
            "memory usage: 103.6+ KB\n"
          ]
        }
      ]
    },
    {
      "cell_type": "code",
      "source": [
        "df_no_duplicates.isna().sum()"
      ],
      "metadata": {
        "colab": {
          "base_uri": "https://localhost:8080/"
        },
        "id": "jwdKje_YbKjo",
        "outputId": "944c9a27-4804-4c00-a069-f125f23b9db3"
      },
      "execution_count": 81,
      "outputs": [
        {
          "output_type": "execute_result",
          "data": {
            "text/plain": [
              "Email                          0\n",
              "Attended                       0\n",
              "City                           2\n",
              "Country/Region                 8\n",
              "State/Province                 8\n",
              "Industry                       8\n",
              "Organization                  14\n",
              "Job Title                      0\n",
              "Questions & Comments         682\n",
              "Registration Time              8\n",
              "Join Time                    388\n",
              "Leave Time                   388\n",
              "Time in Session (minutes)      0\n",
              "Country/Region Name           10\n",
              "Source Name                   37\n",
              "webinar_name                   0\n",
              "Job Title Category            61\n",
              "Total_time                     0\n",
              "Number_of_Logins               0\n",
              "dtype: int64"
            ]
          },
          "metadata": {},
          "execution_count": 81
        }
      ]
    },
    {
      "cell_type": "code",
      "source": [
        "#drop rows if it does not have at least 50% values that are **not** NaN\n",
        "without_missing_rows = df_no_duplicates.dropna(thresh=.5*len(df_no_duplicates.columns))\n",
        "\n",
        "len(without_missing_rows)/len(df_no_duplicates)"
      ],
      "metadata": {
        "id": "EAuGz4Sb31Qy",
        "colab": {
          "base_uri": "https://localhost:8080/"
        },
        "outputId": "dd4dd0c9-72d8-4b43-bc0a-d9a746758dd5"
      },
      "execution_count": 82,
      "outputs": [
        {
          "output_type": "execute_result",
          "data": {
            "text/plain": [
              "0.9885222381635581"
            ]
          },
          "metadata": {},
          "execution_count": 82
        }
      ]
    },
    {
      "cell_type": "code",
      "source": [
        "#we would still have 99% of our data, so we will drop the missing rows\n",
        "df_no_duplicates.dropna(thresh=.5*len(df_no_duplicates.columns), inplace=True)"
      ],
      "metadata": {
        "id": "C6Et3uDBZKfG"
      },
      "execution_count": 83,
      "outputs": []
    },
    {
      "cell_type": "code",
      "source": [
        "df_no_duplicates.isna().sum()"
      ],
      "metadata": {
        "colab": {
          "base_uri": "https://localhost:8080/"
        },
        "id": "TiTfzfq9__JN",
        "outputId": "e8f257d0-daf9-4f71-ea8f-d11b84543aaa"
      },
      "execution_count": 84,
      "outputs": [
        {
          "output_type": "execute_result",
          "data": {
            "text/plain": [
              "Email                          0\n",
              "Attended                       0\n",
              "City                           0\n",
              "Country/Region                 0\n",
              "State/Province                 0\n",
              "Industry                       0\n",
              "Organization                   6\n",
              "Job Title                      0\n",
              "Questions & Comments         674\n",
              "Registration Time              0\n",
              "Join Time                    380\n",
              "Leave Time                   380\n",
              "Time in Session (minutes)      0\n",
              "Country/Region Name            2\n",
              "Source Name                   29\n",
              "webinar_name                   0\n",
              "Job Title Category            61\n",
              "Total_time                     0\n",
              "Number_of_Logins               0\n",
              "dtype: int64"
            ]
          },
          "metadata": {},
          "execution_count": 84
        }
      ]
    },
    {
      "cell_type": "code",
      "source": [
        "df_no_duplicates.info()"
      ],
      "metadata": {
        "colab": {
          "base_uri": "https://localhost:8080/"
        },
        "id": "PtM3vbSqcAZl",
        "outputId": "b4777397-d059-47c6-8f17-0d19bac336bb"
      },
      "execution_count": 85,
      "outputs": [
        {
          "output_type": "stream",
          "name": "stdout",
          "text": [
            "<class 'pandas.core.frame.DataFrame'>\n",
            "Int64Index: 689 entries, 0 to 696\n",
            "Data columns (total 19 columns):\n",
            " #   Column                     Non-Null Count  Dtype         \n",
            "---  ------                     --------------  -----         \n",
            " 0   Email                      689 non-null    object        \n",
            " 1   Attended                   689 non-null    object        \n",
            " 2   City                       689 non-null    object        \n",
            " 3   Country/Region             689 non-null    object        \n",
            " 4   State/Province             689 non-null    object        \n",
            " 5   Industry                   689 non-null    object        \n",
            " 6   Organization               683 non-null    object        \n",
            " 7   Job Title                  689 non-null    object        \n",
            " 8   Questions & Comments       15 non-null     object        \n",
            " 9   Registration Time          689 non-null    datetime64[ns]\n",
            " 10  Join Time                  309 non-null    datetime64[ns]\n",
            " 11  Leave Time                 309 non-null    datetime64[ns]\n",
            " 12  Time in Session (minutes)  689 non-null    int64         \n",
            " 13  Country/Region Name        687 non-null    object        \n",
            " 14  Source Name                660 non-null    object        \n",
            " 15  webinar_name               689 non-null    object        \n",
            " 16  Job Title Category         628 non-null    object        \n",
            " 17  Total_time                 689 non-null    float64       \n",
            " 18  Number_of_Logins           689 non-null    float64       \n",
            "dtypes: datetime64[ns](3), float64(2), int64(1), object(13)\n",
            "memory usage: 107.7+ KB\n"
          ]
        }
      ]
    },
    {
      "cell_type": "code",
      "source": [
        "# fill no questions with 0\n",
        "df_no_duplicates['Questions & Comments'] = df_no_duplicates['Questions & Comments'].fillna(0)"
      ],
      "metadata": {
        "id": "Yhd5oySv6m41"
      },
      "execution_count": 86,
      "outputs": []
    },
    {
      "cell_type": "code",
      "source": [
        "# what questions/comments are left?\n",
        "comments = df_no_duplicates['Questions & Comments'].unique().tolist()\n",
        "comments"
      ],
      "metadata": {
        "colab": {
          "base_uri": "https://localhost:8080/"
        },
        "id": "zjVtqAa7ca8x",
        "outputId": "41a8249b-6c2b-4041-cf9d-094039218c47"
      },
      "execution_count": 87,
      "outputs": [
        {
          "output_type": "execute_result",
          "data": {
            "text/plain": [
              "[0,\n",
              " 'No',\n",
              " '4D Printing applications in medical metal 3d printing?',\n",
              " 'What level of precision and tolerance do you achieve with your prints?  \\nWhat are the biggest technical challenges in achieving desired precision and tolerances? \\nWhat could be improved in the source segmentation software that would aid in printing desired quality and precision?\\nthank you!\\n',\n",
              " \"During that time I will take part in a conference in another city. I don't know the exact period of my presentation but I hope that it will not cross this presentation.\",\n",
              " 'None',\n",
              " 'no',\n",
              " 'Are there any volatile organic compounds (VOC) in post-processing?  What is the OSHA regulation regarding this? ',\n",
              " 'How do you see Binder Jet printing fitting in for medical solutions?',\n",
              " 'May I get the video of this event?',\n",
              " 'Not at this moment',\n",
              " 'Need info',\n",
              " 'No comments',\n",
              " 'In the \"Industry\" list,  I\\'m also wondering which category of Industry that I\\'ll select.']"
            ]
          },
          "metadata": {},
          "execution_count": 87
        }
      ]
    },
    {
      "cell_type": "code",
      "source": [
        "no_comment_matches = process.extractBests('no', comments, scorer=fuzz.token_set_ratio, score_cutoff=65, limit=None) +\\\n",
        "                      process.extractBests('not at this moment', comments, scorer=fuzz.token_sort_ratio, score_cutoff=65, limit=None)\n",
        "no_comment_matches"
      ],
      "metadata": {
        "colab": {
          "base_uri": "https://localhost:8080/"
        },
        "id": "lDXIOHms9ddy",
        "outputId": "ce68c1e1-ff85-4c0e-8f36-83197933db1a"
      },
      "execution_count": 88,
      "outputs": [
        {
          "output_type": "execute_result",
          "data": {
            "text/plain": [
              "[('No', 100),\n",
              " ('no', 100),\n",
              " ('No comments', 100),\n",
              " ('None', 67),\n",
              " ('Not at this moment', 100)]"
            ]
          },
          "metadata": {},
          "execution_count": 88
        }
      ]
    },
    {
      "cell_type": "code",
      "source": [
        "# assign no comments to 0\n",
        "df_no_duplicates.loc[(df_no_duplicates['Questions & Comments'].isin(list(zip(*no_comment_matches))[0])),'Questions & Comments'] = 0"
      ],
      "metadata": {
        "id": "s855G5sY-ps8"
      },
      "execution_count": 89,
      "outputs": []
    },
    {
      "cell_type": "code",
      "source": [
        "#assign comments to 1\n",
        "df_no_duplicates.loc[(df_no_duplicates['Questions & Comments'] != 0),'Questions & Comments'] = 1"
      ],
      "metadata": {
        "id": "s8wiaF4n_BYL"
      },
      "execution_count": 90,
      "outputs": []
    },
    {
      "cell_type": "code",
      "source": [
        "df_no_duplicates['Questions & Comments'].value_counts()"
      ],
      "metadata": {
        "colab": {
          "base_uri": "https://localhost:8080/"
        },
        "id": "rSizAJIhACsG",
        "outputId": "4c41cd5e-301b-498f-ae8d-f7ad3c9c2e6f"
      },
      "execution_count": 91,
      "outputs": [
        {
          "output_type": "execute_result",
          "data": {
            "text/plain": [
              "0    681\n",
              "1      8\n",
              "Name: Questions & Comments, dtype: int64"
            ]
          },
          "metadata": {},
          "execution_count": 91
        }
      ]
    },
    {
      "cell_type": "code",
      "source": [
        "df_no_duplicates['Source Name'].value_counts(normalize=True)"
      ],
      "metadata": {
        "colab": {
          "base_uri": "https://localhost:8080/"
        },
        "id": "d9UR8LuieQpC",
        "outputId": "13dcda68-5165-4701-bf0d-903a3d966fb1"
      },
      "execution_count": 92,
      "outputs": [
        {
          "output_type": "execute_result",
          "data": {
            "text/plain": [
              "mailchimp    0.421212\n",
              "Mailchimp    0.156061\n",
              "Linkedin     0.143939\n",
              "website      0.125758\n",
              "linkedin     0.065152\n",
              "LinkedIn     0.042424\n",
              "Website      0.039394\n",
              "Instagram    0.006061\n",
              "Name: Source Name, dtype: float64"
            ]
          },
          "metadata": {},
          "execution_count": 92
        }
      ]
    },
    {
      "cell_type": "code",
      "source": [
        "#Fill missing source name with the mode\n",
        "df_no_duplicates['Source Name'].fillna(df_no_duplicates['Source Name'].mode()[0], inplace=True)"
      ],
      "metadata": {
        "id": "ojJaAV_ND6jX"
      },
      "execution_count": 93,
      "outputs": []
    },
    {
      "cell_type": "code",
      "source": [
        "#lowercase all the sources\n",
        "df_no_duplicates['Source Name']=df_no_duplicates['Source Name'].apply(str.lower)"
      ],
      "metadata": {
        "id": "0sxT4FG2c6qx"
      },
      "execution_count": 94,
      "outputs": []
    },
    {
      "cell_type": "code",
      "source": [
        "#Fill missing job title category with 'Other'\n",
        "df_no_duplicates['Job Title Category'].fillna('Other', inplace=True)"
      ],
      "metadata": {
        "id": "zNiabA2PE070"
      },
      "execution_count": 95,
      "outputs": []
    },
    {
      "cell_type": "code",
      "source": [
        "df_no_duplicates.isna().sum()"
      ],
      "metadata": {
        "colab": {
          "base_uri": "https://localhost:8080/"
        },
        "id": "J_HyWwYEEhqX",
        "outputId": "0367b12a-862f-4d50-cebf-972025ca48e0"
      },
      "execution_count": 96,
      "outputs": [
        {
          "output_type": "execute_result",
          "data": {
            "text/plain": [
              "Email                          0\n",
              "Attended                       0\n",
              "City                           0\n",
              "Country/Region                 0\n",
              "State/Province                 0\n",
              "Industry                       0\n",
              "Organization                   6\n",
              "Job Title                      0\n",
              "Questions & Comments           0\n",
              "Registration Time              0\n",
              "Join Time                    380\n",
              "Leave Time                   380\n",
              "Time in Session (minutes)      0\n",
              "Country/Region Name            2\n",
              "Source Name                    0\n",
              "webinar_name                   0\n",
              "Job Title Category             0\n",
              "Total_time                     0\n",
              "Number_of_Logins               0\n",
              "dtype: int64"
            ]
          },
          "metadata": {},
          "execution_count": 96
        }
      ]
    },
    {
      "cell_type": "code",
      "source": [
        "df_no_duplicates[df_no_duplicates['Country/Region Name'].isna()].drop(labels=['Email','Organization'], axis=1)"
      ],
      "metadata": {
        "colab": {
          "base_uri": "https://localhost:8080/",
          "height": 263
        },
        "id": "bhKAhJpgECNb",
        "outputId": "e7646dc9-0156-474c-8253-9b6168b922c5"
      },
      "execution_count": 97,
      "outputs": [
        {
          "output_type": "execute_result",
          "data": {
            "text/plain": [
              "    Attended    City Country/Region State/Province   Industry  Job Title  \\\n",
              "562      Yes  Tehran          Other          Other      Other  not given   \n",
              "622       No   Karaj          Other          Other  Education       dvsc   \n",
              "\n",
              "    Questions & Comments   Registration Time           Join Time  \\\n",
              "562                    0 2022-09-15 08:08:11 2022-09-15 08:08:48   \n",
              "622                    0 2022-09-25 20:44:23                 NaT   \n",
              "\n",
              "             Leave Time  Time in Session (minutes) Country/Region Name  \\\n",
              "562 2022-09-15 08:44:12                         36                None   \n",
              "622                 NaT                          0                None   \n",
              "\n",
              "    Source Name   webinar_name Job Title Category  Total_time  \\\n",
              "562    linkedin   Biomaterials               None        36.0   \n",
              "622   instagram  Preprocessing              Other         0.0   \n",
              "\n",
              "     Number_of_Logins  \n",
              "562               2.0  \n",
              "622               0.0  "
            ],
            "text/html": [
              "\n",
              "  <div id=\"df-1a4cb9bc-0f85-48a6-8c03-c16ead9682e6\">\n",
              "    <div class=\"colab-df-container\">\n",
              "      <div>\n",
              "<style scoped>\n",
              "    .dataframe tbody tr th:only-of-type {\n",
              "        vertical-align: middle;\n",
              "    }\n",
              "\n",
              "    .dataframe tbody tr th {\n",
              "        vertical-align: top;\n",
              "    }\n",
              "\n",
              "    .dataframe thead th {\n",
              "        text-align: right;\n",
              "    }\n",
              "</style>\n",
              "<table border=\"1\" class=\"dataframe\">\n",
              "  <thead>\n",
              "    <tr style=\"text-align: right;\">\n",
              "      <th></th>\n",
              "      <th>Attended</th>\n",
              "      <th>City</th>\n",
              "      <th>Country/Region</th>\n",
              "      <th>State/Province</th>\n",
              "      <th>Industry</th>\n",
              "      <th>Job Title</th>\n",
              "      <th>Questions &amp; Comments</th>\n",
              "      <th>Registration Time</th>\n",
              "      <th>Join Time</th>\n",
              "      <th>Leave Time</th>\n",
              "      <th>Time in Session (minutes)</th>\n",
              "      <th>Country/Region Name</th>\n",
              "      <th>Source Name</th>\n",
              "      <th>webinar_name</th>\n",
              "      <th>Job Title Category</th>\n",
              "      <th>Total_time</th>\n",
              "      <th>Number_of_Logins</th>\n",
              "    </tr>\n",
              "  </thead>\n",
              "  <tbody>\n",
              "    <tr>\n",
              "      <th>562</th>\n",
              "      <td>Yes</td>\n",
              "      <td>Tehran</td>\n",
              "      <td>Other</td>\n",
              "      <td>Other</td>\n",
              "      <td>Other</td>\n",
              "      <td>not given</td>\n",
              "      <td>0</td>\n",
              "      <td>2022-09-15 08:08:11</td>\n",
              "      <td>2022-09-15 08:08:48</td>\n",
              "      <td>2022-09-15 08:44:12</td>\n",
              "      <td>36</td>\n",
              "      <td>None</td>\n",
              "      <td>linkedin</td>\n",
              "      <td>Biomaterials</td>\n",
              "      <td>None</td>\n",
              "      <td>36.0</td>\n",
              "      <td>2.0</td>\n",
              "    </tr>\n",
              "    <tr>\n",
              "      <th>622</th>\n",
              "      <td>No</td>\n",
              "      <td>Karaj</td>\n",
              "      <td>Other</td>\n",
              "      <td>Other</td>\n",
              "      <td>Education</td>\n",
              "      <td>dvsc</td>\n",
              "      <td>0</td>\n",
              "      <td>2022-09-25 20:44:23</td>\n",
              "      <td>NaT</td>\n",
              "      <td>NaT</td>\n",
              "      <td>0</td>\n",
              "      <td>None</td>\n",
              "      <td>instagram</td>\n",
              "      <td>Preprocessing</td>\n",
              "      <td>Other</td>\n",
              "      <td>0.0</td>\n",
              "      <td>0.0</td>\n",
              "    </tr>\n",
              "  </tbody>\n",
              "</table>\n",
              "</div>\n",
              "      <button class=\"colab-df-convert\" onclick=\"convertToInteractive('df-1a4cb9bc-0f85-48a6-8c03-c16ead9682e6')\"\n",
              "              title=\"Convert this dataframe to an interactive table.\"\n",
              "              style=\"display:none;\">\n",
              "        \n",
              "  <svg xmlns=\"http://www.w3.org/2000/svg\" height=\"24px\"viewBox=\"0 0 24 24\"\n",
              "       width=\"24px\">\n",
              "    <path d=\"M0 0h24v24H0V0z\" fill=\"none\"/>\n",
              "    <path d=\"M18.56 5.44l.94 2.06.94-2.06 2.06-.94-2.06-.94-.94-2.06-.94 2.06-2.06.94zm-11 1L8.5 8.5l.94-2.06 2.06-.94-2.06-.94L8.5 2.5l-.94 2.06-2.06.94zm10 10l.94 2.06.94-2.06 2.06-.94-2.06-.94-.94-2.06-.94 2.06-2.06.94z\"/><path d=\"M17.41 7.96l-1.37-1.37c-.4-.4-.92-.59-1.43-.59-.52 0-1.04.2-1.43.59L10.3 9.45l-7.72 7.72c-.78.78-.78 2.05 0 2.83L4 21.41c.39.39.9.59 1.41.59.51 0 1.02-.2 1.41-.59l7.78-7.78 2.81-2.81c.8-.78.8-2.07 0-2.86zM5.41 20L4 18.59l7.72-7.72 1.47 1.35L5.41 20z\"/>\n",
              "  </svg>\n",
              "      </button>\n",
              "      \n",
              "  <style>\n",
              "    .colab-df-container {\n",
              "      display:flex;\n",
              "      flex-wrap:wrap;\n",
              "      gap: 12px;\n",
              "    }\n",
              "\n",
              "    .colab-df-convert {\n",
              "      background-color: #E8F0FE;\n",
              "      border: none;\n",
              "      border-radius: 50%;\n",
              "      cursor: pointer;\n",
              "      display: none;\n",
              "      fill: #1967D2;\n",
              "      height: 32px;\n",
              "      padding: 0 0 0 0;\n",
              "      width: 32px;\n",
              "    }\n",
              "\n",
              "    .colab-df-convert:hover {\n",
              "      background-color: #E2EBFA;\n",
              "      box-shadow: 0px 1px 2px rgba(60, 64, 67, 0.3), 0px 1px 3px 1px rgba(60, 64, 67, 0.15);\n",
              "      fill: #174EA6;\n",
              "    }\n",
              "\n",
              "    [theme=dark] .colab-df-convert {\n",
              "      background-color: #3B4455;\n",
              "      fill: #D2E3FC;\n",
              "    }\n",
              "\n",
              "    [theme=dark] .colab-df-convert:hover {\n",
              "      background-color: #434B5C;\n",
              "      box-shadow: 0px 1px 3px 1px rgba(0, 0, 0, 0.15);\n",
              "      filter: drop-shadow(0px 1px 2px rgba(0, 0, 0, 0.3));\n",
              "      fill: #FFFFFF;\n",
              "    }\n",
              "  </style>\n",
              "\n",
              "      <script>\n",
              "        const buttonEl =\n",
              "          document.querySelector('#df-1a4cb9bc-0f85-48a6-8c03-c16ead9682e6 button.colab-df-convert');\n",
              "        buttonEl.style.display =\n",
              "          google.colab.kernel.accessAllowed ? 'block' : 'none';\n",
              "\n",
              "        async function convertToInteractive(key) {\n",
              "          const element = document.querySelector('#df-1a4cb9bc-0f85-48a6-8c03-c16ead9682e6');\n",
              "          const dataTable =\n",
              "            await google.colab.kernel.invokeFunction('convertToInteractive',\n",
              "                                                     [key], {});\n",
              "          if (!dataTable) return;\n",
              "\n",
              "          const docLinkHtml = 'Like what you see? Visit the ' +\n",
              "            '<a target=\"_blank\" href=https://colab.research.google.com/notebooks/data_table.ipynb>data table notebook</a>'\n",
              "            + ' to learn more about interactive tables.';\n",
              "          element.innerHTML = '';\n",
              "          dataTable['output_type'] = 'display_data';\n",
              "          await google.colab.output.renderOutput(dataTable, element);\n",
              "          const docLink = document.createElement('div');\n",
              "          docLink.innerHTML = docLinkHtml;\n",
              "          element.appendChild(docLink);\n",
              "        }\n",
              "      </script>\n",
              "    </div>\n",
              "  </div>\n",
              "  "
            ]
          },
          "metadata": {},
          "execution_count": 97
        }
      ]
    },
    {
      "cell_type": "code",
      "source": [
        "# Fill missing Country/Region with 'Other'\n",
        "df_no_duplicates.loc[(df_no_duplicates['Country/Region Name'].isna()),'Country/Region Name'] = 'Other'"
      ],
      "metadata": {
        "id": "X4LOl_6AEUyR"
      },
      "execution_count": 98,
      "outputs": []
    },
    {
      "cell_type": "code",
      "source": [
        "df_no_duplicates[df_no_duplicates['Organization'].isna()].drop(labels=['Email','Organization'], axis=1)"
      ],
      "metadata": {
        "colab": {
          "base_uri": "https://localhost:8080/",
          "height": 492
        },
        "id": "YsSKmnqFWRaS",
        "outputId": "f1a56326-0ea7-48c8-eff4-5f3616428589"
      },
      "execution_count": 99,
      "outputs": [
        {
          "output_type": "execute_result",
          "data": {
            "text/plain": [
              "    Attended           City Country/Region State/Province  \\\n",
              "167      Yes     Manchester             US             NH   \n",
              "429       No       Uluberia             IN          Other   \n",
              "497       No      Melbourne             AU            VIC   \n",
              "606       No      Fort Mill             US             SC   \n",
              "633      Yes  Richmond Hill             US             GA   \n",
              "672       No       Belgrade             RS          Other   \n",
              "\n",
              "                       Industry           Job Title Questions & Comments  \\\n",
              "167                  Accounting            director                    0   \n",
              "429                       Other           not given                    0   \n",
              "497                   Education        phd graduate                    0   \n",
              "606               Manufacturing           not given                    0   \n",
              "633  Medical,  Pharma,  Biotech       veterinarian                     0   \n",
              "672  Medical,  Pharma,  Biotech  doctor of medicine                    0   \n",
              "\n",
              "      Registration Time           Join Time          Leave Time  \\\n",
              "167 2022-09-15 08:26:08 2022-09-15 08:26:14 2022-09-15 09:10:08   \n",
              "429 2022-09-26 04:46:05                 NaT                 NaT   \n",
              "497 2022-09-28 17:08:47                 NaT                 NaT   \n",
              "606 2022-09-14 12:45:23                 NaT                 NaT   \n",
              "633 2022-08-29 06:12:02 2022-09-08 08:04:29 2022-09-08 09:40:13   \n",
              "672 2022-09-26 05:04:54                 NaT                 NaT   \n",
              "\n",
              "     Time in Session (minutes) Country/Region Name Source Name   webinar_name  \\\n",
              "167                         44       United States   mailchimp   Biomaterials   \n",
              "429                          0               India   mailchimp  Preprocessing   \n",
              "497                          0           Australia   mailchimp  Preprocessing   \n",
              "606                          0       United States    linkedin   Biomaterials   \n",
              "633                         96       United States   mailchimp       3D Metal   \n",
              "672                          0              Serbia   mailchimp  Preprocessing   \n",
              "\n",
              "    Job Title Category  Total_time  Number_of_Logins  \n",
              "167  Manager, Director        44.0               1.0  \n",
              "429               None         0.0               0.0  \n",
              "497           Academic         0.0               0.0  \n",
              "606               None         0.0               0.0  \n",
              "633          Clinician        96.0               1.0  \n",
              "672          Clinician         0.0               0.0  "
            ],
            "text/html": [
              "\n",
              "  <div id=\"df-a4def534-eab9-48c9-86a7-395e0cce1264\">\n",
              "    <div class=\"colab-df-container\">\n",
              "      <div>\n",
              "<style scoped>\n",
              "    .dataframe tbody tr th:only-of-type {\n",
              "        vertical-align: middle;\n",
              "    }\n",
              "\n",
              "    .dataframe tbody tr th {\n",
              "        vertical-align: top;\n",
              "    }\n",
              "\n",
              "    .dataframe thead th {\n",
              "        text-align: right;\n",
              "    }\n",
              "</style>\n",
              "<table border=\"1\" class=\"dataframe\">\n",
              "  <thead>\n",
              "    <tr style=\"text-align: right;\">\n",
              "      <th></th>\n",
              "      <th>Attended</th>\n",
              "      <th>City</th>\n",
              "      <th>Country/Region</th>\n",
              "      <th>State/Province</th>\n",
              "      <th>Industry</th>\n",
              "      <th>Job Title</th>\n",
              "      <th>Questions &amp; Comments</th>\n",
              "      <th>Registration Time</th>\n",
              "      <th>Join Time</th>\n",
              "      <th>Leave Time</th>\n",
              "      <th>Time in Session (minutes)</th>\n",
              "      <th>Country/Region Name</th>\n",
              "      <th>Source Name</th>\n",
              "      <th>webinar_name</th>\n",
              "      <th>Job Title Category</th>\n",
              "      <th>Total_time</th>\n",
              "      <th>Number_of_Logins</th>\n",
              "    </tr>\n",
              "  </thead>\n",
              "  <tbody>\n",
              "    <tr>\n",
              "      <th>167</th>\n",
              "      <td>Yes</td>\n",
              "      <td>Manchester</td>\n",
              "      <td>US</td>\n",
              "      <td>NH</td>\n",
              "      <td>Accounting</td>\n",
              "      <td>director</td>\n",
              "      <td>0</td>\n",
              "      <td>2022-09-15 08:26:08</td>\n",
              "      <td>2022-09-15 08:26:14</td>\n",
              "      <td>2022-09-15 09:10:08</td>\n",
              "      <td>44</td>\n",
              "      <td>United States</td>\n",
              "      <td>mailchimp</td>\n",
              "      <td>Biomaterials</td>\n",
              "      <td>Manager, Director</td>\n",
              "      <td>44.0</td>\n",
              "      <td>1.0</td>\n",
              "    </tr>\n",
              "    <tr>\n",
              "      <th>429</th>\n",
              "      <td>No</td>\n",
              "      <td>Uluberia</td>\n",
              "      <td>IN</td>\n",
              "      <td>Other</td>\n",
              "      <td>Other</td>\n",
              "      <td>not given</td>\n",
              "      <td>0</td>\n",
              "      <td>2022-09-26 04:46:05</td>\n",
              "      <td>NaT</td>\n",
              "      <td>NaT</td>\n",
              "      <td>0</td>\n",
              "      <td>India</td>\n",
              "      <td>mailchimp</td>\n",
              "      <td>Preprocessing</td>\n",
              "      <td>None</td>\n",
              "      <td>0.0</td>\n",
              "      <td>0.0</td>\n",
              "    </tr>\n",
              "    <tr>\n",
              "      <th>497</th>\n",
              "      <td>No</td>\n",
              "      <td>Melbourne</td>\n",
              "      <td>AU</td>\n",
              "      <td>VIC</td>\n",
              "      <td>Education</td>\n",
              "      <td>phd graduate</td>\n",
              "      <td>0</td>\n",
              "      <td>2022-09-28 17:08:47</td>\n",
              "      <td>NaT</td>\n",
              "      <td>NaT</td>\n",
              "      <td>0</td>\n",
              "      <td>Australia</td>\n",
              "      <td>mailchimp</td>\n",
              "      <td>Preprocessing</td>\n",
              "      <td>Academic</td>\n",
              "      <td>0.0</td>\n",
              "      <td>0.0</td>\n",
              "    </tr>\n",
              "    <tr>\n",
              "      <th>606</th>\n",
              "      <td>No</td>\n",
              "      <td>Fort Mill</td>\n",
              "      <td>US</td>\n",
              "      <td>SC</td>\n",
              "      <td>Manufacturing</td>\n",
              "      <td>not given</td>\n",
              "      <td>0</td>\n",
              "      <td>2022-09-14 12:45:23</td>\n",
              "      <td>NaT</td>\n",
              "      <td>NaT</td>\n",
              "      <td>0</td>\n",
              "      <td>United States</td>\n",
              "      <td>linkedin</td>\n",
              "      <td>Biomaterials</td>\n",
              "      <td>None</td>\n",
              "      <td>0.0</td>\n",
              "      <td>0.0</td>\n",
              "    </tr>\n",
              "    <tr>\n",
              "      <th>633</th>\n",
              "      <td>Yes</td>\n",
              "      <td>Richmond Hill</td>\n",
              "      <td>US</td>\n",
              "      <td>GA</td>\n",
              "      <td>Medical,  Pharma,  Biotech</td>\n",
              "      <td>veterinarian</td>\n",
              "      <td>0</td>\n",
              "      <td>2022-08-29 06:12:02</td>\n",
              "      <td>2022-09-08 08:04:29</td>\n",
              "      <td>2022-09-08 09:40:13</td>\n",
              "      <td>96</td>\n",
              "      <td>United States</td>\n",
              "      <td>mailchimp</td>\n",
              "      <td>3D Metal</td>\n",
              "      <td>Clinician</td>\n",
              "      <td>96.0</td>\n",
              "      <td>1.0</td>\n",
              "    </tr>\n",
              "    <tr>\n",
              "      <th>672</th>\n",
              "      <td>No</td>\n",
              "      <td>Belgrade</td>\n",
              "      <td>RS</td>\n",
              "      <td>Other</td>\n",
              "      <td>Medical,  Pharma,  Biotech</td>\n",
              "      <td>doctor of medicine</td>\n",
              "      <td>0</td>\n",
              "      <td>2022-09-26 05:04:54</td>\n",
              "      <td>NaT</td>\n",
              "      <td>NaT</td>\n",
              "      <td>0</td>\n",
              "      <td>Serbia</td>\n",
              "      <td>mailchimp</td>\n",
              "      <td>Preprocessing</td>\n",
              "      <td>Clinician</td>\n",
              "      <td>0.0</td>\n",
              "      <td>0.0</td>\n",
              "    </tr>\n",
              "  </tbody>\n",
              "</table>\n",
              "</div>\n",
              "      <button class=\"colab-df-convert\" onclick=\"convertToInteractive('df-a4def534-eab9-48c9-86a7-395e0cce1264')\"\n",
              "              title=\"Convert this dataframe to an interactive table.\"\n",
              "              style=\"display:none;\">\n",
              "        \n",
              "  <svg xmlns=\"http://www.w3.org/2000/svg\" height=\"24px\"viewBox=\"0 0 24 24\"\n",
              "       width=\"24px\">\n",
              "    <path d=\"M0 0h24v24H0V0z\" fill=\"none\"/>\n",
              "    <path d=\"M18.56 5.44l.94 2.06.94-2.06 2.06-.94-2.06-.94-.94-2.06-.94 2.06-2.06.94zm-11 1L8.5 8.5l.94-2.06 2.06-.94-2.06-.94L8.5 2.5l-.94 2.06-2.06.94zm10 10l.94 2.06.94-2.06 2.06-.94-2.06-.94-.94-2.06-.94 2.06-2.06.94z\"/><path d=\"M17.41 7.96l-1.37-1.37c-.4-.4-.92-.59-1.43-.59-.52 0-1.04.2-1.43.59L10.3 9.45l-7.72 7.72c-.78.78-.78 2.05 0 2.83L4 21.41c.39.39.9.59 1.41.59.51 0 1.02-.2 1.41-.59l7.78-7.78 2.81-2.81c.8-.78.8-2.07 0-2.86zM5.41 20L4 18.59l7.72-7.72 1.47 1.35L5.41 20z\"/>\n",
              "  </svg>\n",
              "      </button>\n",
              "      \n",
              "  <style>\n",
              "    .colab-df-container {\n",
              "      display:flex;\n",
              "      flex-wrap:wrap;\n",
              "      gap: 12px;\n",
              "    }\n",
              "\n",
              "    .colab-df-convert {\n",
              "      background-color: #E8F0FE;\n",
              "      border: none;\n",
              "      border-radius: 50%;\n",
              "      cursor: pointer;\n",
              "      display: none;\n",
              "      fill: #1967D2;\n",
              "      height: 32px;\n",
              "      padding: 0 0 0 0;\n",
              "      width: 32px;\n",
              "    }\n",
              "\n",
              "    .colab-df-convert:hover {\n",
              "      background-color: #E2EBFA;\n",
              "      box-shadow: 0px 1px 2px rgba(60, 64, 67, 0.3), 0px 1px 3px 1px rgba(60, 64, 67, 0.15);\n",
              "      fill: #174EA6;\n",
              "    }\n",
              "\n",
              "    [theme=dark] .colab-df-convert {\n",
              "      background-color: #3B4455;\n",
              "      fill: #D2E3FC;\n",
              "    }\n",
              "\n",
              "    [theme=dark] .colab-df-convert:hover {\n",
              "      background-color: #434B5C;\n",
              "      box-shadow: 0px 1px 3px 1px rgba(0, 0, 0, 0.15);\n",
              "      filter: drop-shadow(0px 1px 2px rgba(0, 0, 0, 0.3));\n",
              "      fill: #FFFFFF;\n",
              "    }\n",
              "  </style>\n",
              "\n",
              "      <script>\n",
              "        const buttonEl =\n",
              "          document.querySelector('#df-a4def534-eab9-48c9-86a7-395e0cce1264 button.colab-df-convert');\n",
              "        buttonEl.style.display =\n",
              "          google.colab.kernel.accessAllowed ? 'block' : 'none';\n",
              "\n",
              "        async function convertToInteractive(key) {\n",
              "          const element = document.querySelector('#df-a4def534-eab9-48c9-86a7-395e0cce1264');\n",
              "          const dataTable =\n",
              "            await google.colab.kernel.invokeFunction('convertToInteractive',\n",
              "                                                     [key], {});\n",
              "          if (!dataTable) return;\n",
              "\n",
              "          const docLinkHtml = 'Like what you see? Visit the ' +\n",
              "            '<a target=\"_blank\" href=https://colab.research.google.com/notebooks/data_table.ipynb>data table notebook</a>'\n",
              "            + ' to learn more about interactive tables.';\n",
              "          element.innerHTML = '';\n",
              "          dataTable['output_type'] = 'display_data';\n",
              "          await google.colab.output.renderOutput(dataTable, element);\n",
              "          const docLink = document.createElement('div');\n",
              "          docLink.innerHTML = docLinkHtml;\n",
              "          element.appendChild(docLink);\n",
              "        }\n",
              "      </script>\n",
              "    </div>\n",
              "  </div>\n",
              "  "
            ]
          },
          "metadata": {},
          "execution_count": 99
        }
      ]
    },
    {
      "cell_type": "code",
      "source": [
        "#Fill missing Organization with 'Other'\n",
        "df_no_duplicates.loc[(df_no_duplicates['Organization'].isna()),'Organization'] = 'Other'"
      ],
      "metadata": {
        "id": "NFPGOYiMXIRo"
      },
      "execution_count": 100,
      "outputs": []
    },
    {
      "cell_type": "code",
      "source": [
        "df_no_duplicates.isna().sum()"
      ],
      "metadata": {
        "colab": {
          "base_uri": "https://localhost:8080/"
        },
        "id": "kDs_D-dAE2if",
        "outputId": "da9a2614-e7a3-4921-bfa9-ca1d5446822b"
      },
      "execution_count": 101,
      "outputs": [
        {
          "output_type": "execute_result",
          "data": {
            "text/plain": [
              "Email                          0\n",
              "Attended                       0\n",
              "City                           0\n",
              "Country/Region                 0\n",
              "State/Province                 0\n",
              "Industry                       0\n",
              "Organization                   0\n",
              "Job Title                      0\n",
              "Questions & Comments           0\n",
              "Registration Time              0\n",
              "Join Time                    380\n",
              "Leave Time                   380\n",
              "Time in Session (minutes)      0\n",
              "Country/Region Name            0\n",
              "Source Name                    0\n",
              "webinar_name                   0\n",
              "Job Title Category             0\n",
              "Total_time                     0\n",
              "Number_of_Logins               0\n",
              "dtype: int64"
            ]
          },
          "metadata": {},
          "execution_count": 101
        }
      ]
    },
    {
      "cell_type": "markdown",
      "source": [
        "#More Feature Engineering"
      ],
      "metadata": {
        "id": "EPtjAA4LCLWa"
      }
    },
    {
      "cell_type": "code",
      "source": [
        "#create a column for the number of webinars a participant registered for\n",
        "df_no_duplicates['Registered_Webinars'] = df_no_duplicates.groupby('Email')['webinar_name'].transform('count')"
      ],
      "metadata": {
        "id": "DQl5YiL75YUY"
      },
      "execution_count": 102,
      "outputs": []
    },
    {
      "cell_type": "code",
      "source": [
        "#map Yes to 1 and No to 0 for the 'Attended' column\n",
        "df_no_duplicates['Attended'] = df_no_duplicates['Attended'].map(dict(Yes=1, No=0))"
      ],
      "metadata": {
        "id": "xLzAHSgu7FRt"
      },
      "execution_count": 103,
      "outputs": []
    },
    {
      "cell_type": "code",
      "source": [
        "#create a column for the total number of webinars a participant attended\n",
        "df_no_duplicates['Attended_Webinars'] = df_no_duplicates.groupby('Email')['Attended'].transform('sum')"
      ],
      "metadata": {
        "id": "mqP2uC165I7l"
      },
      "execution_count": 104,
      "outputs": []
    },
    {
      "cell_type": "code",
      "source": [
        "#create a column for the percentage of webinars a participant attended out of the number registered for\n",
        "df_no_duplicates['Attended_Percent'] = df_no_duplicates['Attended_Webinars'] / df_no_duplicates['Registered_Webinars']"
      ],
      "metadata": {
        "id": "-mCbgRm4Bhwb"
      },
      "execution_count": 105,
      "outputs": []
    },
    {
      "cell_type": "code",
      "source": [
        "df_no_duplicates.drop(labels=['Email','Organization'], axis=1).head(10)"
      ],
      "metadata": {
        "colab": {
          "base_uri": "https://localhost:8080/",
          "height": 722
        },
        "id": "jnB89rCb8Hk6",
        "outputId": "beae5b78-fada-408f-fd08-449c388158c1"
      },
      "execution_count": 106,
      "outputs": [
        {
          "output_type": "execute_result",
          "data": {
            "text/plain": [
              "   Attended       City Country/Region State/Province  \\\n",
              "0         0       Pune             IN          Other   \n",
              "1         0       Pune             IN          Other   \n",
              "2         1     bazpur             IN          Other   \n",
              "3         0    Kayseri             TR          Other   \n",
              "4         0    Nairobi             KE          Other   \n",
              "5         0    Chciago             US             IL   \n",
              "6         0    Yonkers             US             NY   \n",
              "7         1       Omer             IL          Other   \n",
              "8         1  Littleton             US             CO   \n",
              "9         1     Riyadh             SA          Other   \n",
              "\n",
              "                            Industry               Job Title  \\\n",
              "0                   Software - Other               developer   \n",
              "1                              Other                 develer   \n",
              "2                          Education               not given   \n",
              "3                  High Tech - Other             phd student   \n",
              "4                  High Tech - Other                 founder   \n",
              "5  Hospital,  Clinic,  Doctor Office     assistant professor   \n",
              "6                              Other   undergraduate student   \n",
              "7         Medical,  Pharma,  Biotech                     ceo   \n",
              "8                      Manufacturing  manufacturing engineer   \n",
              "9                      Manufacturing                      rd   \n",
              "\n",
              "  Questions & Comments   Registration Time           Join Time  \\\n",
              "0                    0 2022-08-29 12:32:37                 NaT   \n",
              "1                    0 2022-09-06 12:48:32                 NaT   \n",
              "2                    0 2022-08-22 23:43:21 2022-09-01 08:00:52   \n",
              "3                    0 2022-09-06 22:29:58                 NaT   \n",
              "4                    0 2022-09-29 01:19:43                 NaT   \n",
              "5                    0 2022-09-26 07:15:53                 NaT   \n",
              "6                    0 2022-09-06 11:04:45                 NaT   \n",
              "7                    0 2022-09-26 18:02:55 2022-10-06 08:04:09   \n",
              "8                    0 2022-09-29 10:18:27 2022-10-06 08:03:49   \n",
              "9                    0 2022-09-15 08:58:22 2022-09-15 09:10:16   \n",
              "\n",
              "           Leave Time  Time in Session (minutes) Country/Region Name  \\\n",
              "0                 NaT                          0               India   \n",
              "1                 NaT                          0               India   \n",
              "2 2022-09-01 10:09:13                        141               India   \n",
              "3                 NaT                          0              Turkey   \n",
              "4                 NaT                          0               Kenya   \n",
              "5                 NaT                          0       United States   \n",
              "6                 NaT                          0       United States   \n",
              "7 2022-10-06 08:41:56                         38              Israel   \n",
              "8 2022-10-06 09:08:51                         66       United States   \n",
              "9 2022-09-15 09:41:30                         32        Saudi Arabia   \n",
              "\n",
              "  Source Name      webinar_name Job Title Category  Total_time  \\\n",
              "0   mailchimp          3D Metal              Other         0.0   \n",
              "1   mailchimp      Biomaterials              Other         0.0   \n",
              "2   mailchimp  Indian Ecosystem               None       141.0   \n",
              "3    linkedin      Biomaterials           Academic         0.0   \n",
              "4     website     Preprocessing            C-Suite         0.0   \n",
              "5   mailchimp     Preprocessing           Academic         0.0   \n",
              "6     website      Biomaterials           Academic         0.0   \n",
              "7   mailchimp     Preprocessing            C-Suite        38.0   \n",
              "8    linkedin     Preprocessing           Engineer        66.0   \n",
              "9    linkedin      Biomaterials         Researcher        32.0   \n",
              "\n",
              "   Number_of_Logins  Registered_Webinars  Attended_Webinars  Attended_Percent  \n",
              "0               0.0                    3                  1          0.333333  \n",
              "1               0.0                    3                  1          0.333333  \n",
              "2               5.0                    3                  1          0.333333  \n",
              "3               0.0                    1                  0          0.000000  \n",
              "4               0.0                    1                  0          0.000000  \n",
              "5               0.0                    1                  0          0.000000  \n",
              "6               0.0                    1                  0          0.000000  \n",
              "7               1.0                    1                  1          1.000000  \n",
              "8               1.0                    1                  1          1.000000  \n",
              "9               1.0                    1                  1          1.000000  "
            ],
            "text/html": [
              "\n",
              "  <div id=\"df-b579a7b1-3918-465e-bd74-6bb23e6e31d5\">\n",
              "    <div class=\"colab-df-container\">\n",
              "      <div>\n",
              "<style scoped>\n",
              "    .dataframe tbody tr th:only-of-type {\n",
              "        vertical-align: middle;\n",
              "    }\n",
              "\n",
              "    .dataframe tbody tr th {\n",
              "        vertical-align: top;\n",
              "    }\n",
              "\n",
              "    .dataframe thead th {\n",
              "        text-align: right;\n",
              "    }\n",
              "</style>\n",
              "<table border=\"1\" class=\"dataframe\">\n",
              "  <thead>\n",
              "    <tr style=\"text-align: right;\">\n",
              "      <th></th>\n",
              "      <th>Attended</th>\n",
              "      <th>City</th>\n",
              "      <th>Country/Region</th>\n",
              "      <th>State/Province</th>\n",
              "      <th>Industry</th>\n",
              "      <th>Job Title</th>\n",
              "      <th>Questions &amp; Comments</th>\n",
              "      <th>Registration Time</th>\n",
              "      <th>Join Time</th>\n",
              "      <th>Leave Time</th>\n",
              "      <th>Time in Session (minutes)</th>\n",
              "      <th>Country/Region Name</th>\n",
              "      <th>Source Name</th>\n",
              "      <th>webinar_name</th>\n",
              "      <th>Job Title Category</th>\n",
              "      <th>Total_time</th>\n",
              "      <th>Number_of_Logins</th>\n",
              "      <th>Registered_Webinars</th>\n",
              "      <th>Attended_Webinars</th>\n",
              "      <th>Attended_Percent</th>\n",
              "    </tr>\n",
              "  </thead>\n",
              "  <tbody>\n",
              "    <tr>\n",
              "      <th>0</th>\n",
              "      <td>0</td>\n",
              "      <td>Pune</td>\n",
              "      <td>IN</td>\n",
              "      <td>Other</td>\n",
              "      <td>Software - Other</td>\n",
              "      <td>developer</td>\n",
              "      <td>0</td>\n",
              "      <td>2022-08-29 12:32:37</td>\n",
              "      <td>NaT</td>\n",
              "      <td>NaT</td>\n",
              "      <td>0</td>\n",
              "      <td>India</td>\n",
              "      <td>mailchimp</td>\n",
              "      <td>3D Metal</td>\n",
              "      <td>Other</td>\n",
              "      <td>0.0</td>\n",
              "      <td>0.0</td>\n",
              "      <td>3</td>\n",
              "      <td>1</td>\n",
              "      <td>0.333333</td>\n",
              "    </tr>\n",
              "    <tr>\n",
              "      <th>1</th>\n",
              "      <td>0</td>\n",
              "      <td>Pune</td>\n",
              "      <td>IN</td>\n",
              "      <td>Other</td>\n",
              "      <td>Other</td>\n",
              "      <td>develer</td>\n",
              "      <td>0</td>\n",
              "      <td>2022-09-06 12:48:32</td>\n",
              "      <td>NaT</td>\n",
              "      <td>NaT</td>\n",
              "      <td>0</td>\n",
              "      <td>India</td>\n",
              "      <td>mailchimp</td>\n",
              "      <td>Biomaterials</td>\n",
              "      <td>Other</td>\n",
              "      <td>0.0</td>\n",
              "      <td>0.0</td>\n",
              "      <td>3</td>\n",
              "      <td>1</td>\n",
              "      <td>0.333333</td>\n",
              "    </tr>\n",
              "    <tr>\n",
              "      <th>2</th>\n",
              "      <td>1</td>\n",
              "      <td>bazpur</td>\n",
              "      <td>IN</td>\n",
              "      <td>Other</td>\n",
              "      <td>Education</td>\n",
              "      <td>not given</td>\n",
              "      <td>0</td>\n",
              "      <td>2022-08-22 23:43:21</td>\n",
              "      <td>2022-09-01 08:00:52</td>\n",
              "      <td>2022-09-01 10:09:13</td>\n",
              "      <td>141</td>\n",
              "      <td>India</td>\n",
              "      <td>mailchimp</td>\n",
              "      <td>Indian Ecosystem</td>\n",
              "      <td>None</td>\n",
              "      <td>141.0</td>\n",
              "      <td>5.0</td>\n",
              "      <td>3</td>\n",
              "      <td>1</td>\n",
              "      <td>0.333333</td>\n",
              "    </tr>\n",
              "    <tr>\n",
              "      <th>3</th>\n",
              "      <td>0</td>\n",
              "      <td>Kayseri</td>\n",
              "      <td>TR</td>\n",
              "      <td>Other</td>\n",
              "      <td>High Tech - Other</td>\n",
              "      <td>phd student</td>\n",
              "      <td>0</td>\n",
              "      <td>2022-09-06 22:29:58</td>\n",
              "      <td>NaT</td>\n",
              "      <td>NaT</td>\n",
              "      <td>0</td>\n",
              "      <td>Turkey</td>\n",
              "      <td>linkedin</td>\n",
              "      <td>Biomaterials</td>\n",
              "      <td>Academic</td>\n",
              "      <td>0.0</td>\n",
              "      <td>0.0</td>\n",
              "      <td>1</td>\n",
              "      <td>0</td>\n",
              "      <td>0.000000</td>\n",
              "    </tr>\n",
              "    <tr>\n",
              "      <th>4</th>\n",
              "      <td>0</td>\n",
              "      <td>Nairobi</td>\n",
              "      <td>KE</td>\n",
              "      <td>Other</td>\n",
              "      <td>High Tech - Other</td>\n",
              "      <td>founder</td>\n",
              "      <td>0</td>\n",
              "      <td>2022-09-29 01:19:43</td>\n",
              "      <td>NaT</td>\n",
              "      <td>NaT</td>\n",
              "      <td>0</td>\n",
              "      <td>Kenya</td>\n",
              "      <td>website</td>\n",
              "      <td>Preprocessing</td>\n",
              "      <td>C-Suite</td>\n",
              "      <td>0.0</td>\n",
              "      <td>0.0</td>\n",
              "      <td>1</td>\n",
              "      <td>0</td>\n",
              "      <td>0.000000</td>\n",
              "    </tr>\n",
              "    <tr>\n",
              "      <th>5</th>\n",
              "      <td>0</td>\n",
              "      <td>Chciago</td>\n",
              "      <td>US</td>\n",
              "      <td>IL</td>\n",
              "      <td>Hospital,  Clinic,  Doctor Office</td>\n",
              "      <td>assistant professor</td>\n",
              "      <td>0</td>\n",
              "      <td>2022-09-26 07:15:53</td>\n",
              "      <td>NaT</td>\n",
              "      <td>NaT</td>\n",
              "      <td>0</td>\n",
              "      <td>United States</td>\n",
              "      <td>mailchimp</td>\n",
              "      <td>Preprocessing</td>\n",
              "      <td>Academic</td>\n",
              "      <td>0.0</td>\n",
              "      <td>0.0</td>\n",
              "      <td>1</td>\n",
              "      <td>0</td>\n",
              "      <td>0.000000</td>\n",
              "    </tr>\n",
              "    <tr>\n",
              "      <th>6</th>\n",
              "      <td>0</td>\n",
              "      <td>Yonkers</td>\n",
              "      <td>US</td>\n",
              "      <td>NY</td>\n",
              "      <td>Other</td>\n",
              "      <td>undergraduate student</td>\n",
              "      <td>0</td>\n",
              "      <td>2022-09-06 11:04:45</td>\n",
              "      <td>NaT</td>\n",
              "      <td>NaT</td>\n",
              "      <td>0</td>\n",
              "      <td>United States</td>\n",
              "      <td>website</td>\n",
              "      <td>Biomaterials</td>\n",
              "      <td>Academic</td>\n",
              "      <td>0.0</td>\n",
              "      <td>0.0</td>\n",
              "      <td>1</td>\n",
              "      <td>0</td>\n",
              "      <td>0.000000</td>\n",
              "    </tr>\n",
              "    <tr>\n",
              "      <th>7</th>\n",
              "      <td>1</td>\n",
              "      <td>Omer</td>\n",
              "      <td>IL</td>\n",
              "      <td>Other</td>\n",
              "      <td>Medical,  Pharma,  Biotech</td>\n",
              "      <td>ceo</td>\n",
              "      <td>0</td>\n",
              "      <td>2022-09-26 18:02:55</td>\n",
              "      <td>2022-10-06 08:04:09</td>\n",
              "      <td>2022-10-06 08:41:56</td>\n",
              "      <td>38</td>\n",
              "      <td>Israel</td>\n",
              "      <td>mailchimp</td>\n",
              "      <td>Preprocessing</td>\n",
              "      <td>C-Suite</td>\n",
              "      <td>38.0</td>\n",
              "      <td>1.0</td>\n",
              "      <td>1</td>\n",
              "      <td>1</td>\n",
              "      <td>1.000000</td>\n",
              "    </tr>\n",
              "    <tr>\n",
              "      <th>8</th>\n",
              "      <td>1</td>\n",
              "      <td>Littleton</td>\n",
              "      <td>US</td>\n",
              "      <td>CO</td>\n",
              "      <td>Manufacturing</td>\n",
              "      <td>manufacturing engineer</td>\n",
              "      <td>0</td>\n",
              "      <td>2022-09-29 10:18:27</td>\n",
              "      <td>2022-10-06 08:03:49</td>\n",
              "      <td>2022-10-06 09:08:51</td>\n",
              "      <td>66</td>\n",
              "      <td>United States</td>\n",
              "      <td>linkedin</td>\n",
              "      <td>Preprocessing</td>\n",
              "      <td>Engineer</td>\n",
              "      <td>66.0</td>\n",
              "      <td>1.0</td>\n",
              "      <td>1</td>\n",
              "      <td>1</td>\n",
              "      <td>1.000000</td>\n",
              "    </tr>\n",
              "    <tr>\n",
              "      <th>9</th>\n",
              "      <td>1</td>\n",
              "      <td>Riyadh</td>\n",
              "      <td>SA</td>\n",
              "      <td>Other</td>\n",
              "      <td>Manufacturing</td>\n",
              "      <td>rd</td>\n",
              "      <td>0</td>\n",
              "      <td>2022-09-15 08:58:22</td>\n",
              "      <td>2022-09-15 09:10:16</td>\n",
              "      <td>2022-09-15 09:41:30</td>\n",
              "      <td>32</td>\n",
              "      <td>Saudi Arabia</td>\n",
              "      <td>linkedin</td>\n",
              "      <td>Biomaterials</td>\n",
              "      <td>Researcher</td>\n",
              "      <td>32.0</td>\n",
              "      <td>1.0</td>\n",
              "      <td>1</td>\n",
              "      <td>1</td>\n",
              "      <td>1.000000</td>\n",
              "    </tr>\n",
              "  </tbody>\n",
              "</table>\n",
              "</div>\n",
              "      <button class=\"colab-df-convert\" onclick=\"convertToInteractive('df-b579a7b1-3918-465e-bd74-6bb23e6e31d5')\"\n",
              "              title=\"Convert this dataframe to an interactive table.\"\n",
              "              style=\"display:none;\">\n",
              "        \n",
              "  <svg xmlns=\"http://www.w3.org/2000/svg\" height=\"24px\"viewBox=\"0 0 24 24\"\n",
              "       width=\"24px\">\n",
              "    <path d=\"M0 0h24v24H0V0z\" fill=\"none\"/>\n",
              "    <path d=\"M18.56 5.44l.94 2.06.94-2.06 2.06-.94-2.06-.94-.94-2.06-.94 2.06-2.06.94zm-11 1L8.5 8.5l.94-2.06 2.06-.94-2.06-.94L8.5 2.5l-.94 2.06-2.06.94zm10 10l.94 2.06.94-2.06 2.06-.94-2.06-.94-.94-2.06-.94 2.06-2.06.94z\"/><path d=\"M17.41 7.96l-1.37-1.37c-.4-.4-.92-.59-1.43-.59-.52 0-1.04.2-1.43.59L10.3 9.45l-7.72 7.72c-.78.78-.78 2.05 0 2.83L4 21.41c.39.39.9.59 1.41.59.51 0 1.02-.2 1.41-.59l7.78-7.78 2.81-2.81c.8-.78.8-2.07 0-2.86zM5.41 20L4 18.59l7.72-7.72 1.47 1.35L5.41 20z\"/>\n",
              "  </svg>\n",
              "      </button>\n",
              "      \n",
              "  <style>\n",
              "    .colab-df-container {\n",
              "      display:flex;\n",
              "      flex-wrap:wrap;\n",
              "      gap: 12px;\n",
              "    }\n",
              "\n",
              "    .colab-df-convert {\n",
              "      background-color: #E8F0FE;\n",
              "      border: none;\n",
              "      border-radius: 50%;\n",
              "      cursor: pointer;\n",
              "      display: none;\n",
              "      fill: #1967D2;\n",
              "      height: 32px;\n",
              "      padding: 0 0 0 0;\n",
              "      width: 32px;\n",
              "    }\n",
              "\n",
              "    .colab-df-convert:hover {\n",
              "      background-color: #E2EBFA;\n",
              "      box-shadow: 0px 1px 2px rgba(60, 64, 67, 0.3), 0px 1px 3px 1px rgba(60, 64, 67, 0.15);\n",
              "      fill: #174EA6;\n",
              "    }\n",
              "\n",
              "    [theme=dark] .colab-df-convert {\n",
              "      background-color: #3B4455;\n",
              "      fill: #D2E3FC;\n",
              "    }\n",
              "\n",
              "    [theme=dark] .colab-df-convert:hover {\n",
              "      background-color: #434B5C;\n",
              "      box-shadow: 0px 1px 3px 1px rgba(0, 0, 0, 0.15);\n",
              "      filter: drop-shadow(0px 1px 2px rgba(0, 0, 0, 0.3));\n",
              "      fill: #FFFFFF;\n",
              "    }\n",
              "  </style>\n",
              "\n",
              "      <script>\n",
              "        const buttonEl =\n",
              "          document.querySelector('#df-b579a7b1-3918-465e-bd74-6bb23e6e31d5 button.colab-df-convert');\n",
              "        buttonEl.style.display =\n",
              "          google.colab.kernel.accessAllowed ? 'block' : 'none';\n",
              "\n",
              "        async function convertToInteractive(key) {\n",
              "          const element = document.querySelector('#df-b579a7b1-3918-465e-bd74-6bb23e6e31d5');\n",
              "          const dataTable =\n",
              "            await google.colab.kernel.invokeFunction('convertToInteractive',\n",
              "                                                     [key], {});\n",
              "          if (!dataTable) return;\n",
              "\n",
              "          const docLinkHtml = 'Like what you see? Visit the ' +\n",
              "            '<a target=\"_blank\" href=https://colab.research.google.com/notebooks/data_table.ipynb>data table notebook</a>'\n",
              "            + ' to learn more about interactive tables.';\n",
              "          element.innerHTML = '';\n",
              "          dataTable['output_type'] = 'display_data';\n",
              "          await google.colab.output.renderOutput(dataTable, element);\n",
              "          const docLink = document.createElement('div');\n",
              "          docLink.innerHTML = docLinkHtml;\n",
              "          element.appendChild(docLink);\n",
              "        }\n",
              "      </script>\n",
              "    </div>\n",
              "  </div>\n",
              "  "
            ]
          },
          "metadata": {},
          "execution_count": 106
        }
      ]
    },
    {
      "cell_type": "markdown",
      "source": [
        "#Save the data to a new csv"
      ],
      "metadata": {
        "id": "C9fN8_YC9sQM"
      }
    },
    {
      "cell_type": "code",
      "source": [
        "df_no_duplicates.to_csv('/content/gdrive/MyDrive/Springboard/3D_Heals_Project/Riipen_Springboard/combined_webinars_no_duplicates.csv')"
      ],
      "metadata": {
        "id": "iC0Bfsy162Ip"
      },
      "execution_count": 107,
      "outputs": []
    }
  ],
  "metadata": {
    "colab": {
      "provenance": [],
      "toc_visible": true,
      "include_colab_link": true
    },
    "kernelspec": {
      "display_name": "Python 3",
      "name": "python3"
    },
    "language_info": {
      "name": "python"
    }
  },
  "nbformat": 4,
  "nbformat_minor": 0
}